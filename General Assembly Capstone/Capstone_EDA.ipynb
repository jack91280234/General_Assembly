{
 "cells": [
  {
   "cell_type": "markdown",
   "metadata": {},
   "source": [
    "# Capstone EDA\n",
    "---\n",
    "\n",
    "### Capstone,  EDA + Preliminary Analysis"
   ]
  },
  {
   "cell_type": "markdown",
   "metadata": {},
   "source": [
    "# Dataset URLS\n",
    "***\n",
    "### Dataset Origin\n",
    "URL : https://wwwn.cdc.gov/nchs/nhanes/continuousnhanes/default.aspx?BeginYear=2015\n",
    "\n",
    "### Dataset Data Dictionary\n",
    "\n",
    "__Demographics URL :__ \n",
    "* [Demographic Variables and Sample Weights](https://wwwn.cdc.gov/Nchs/Nhanes/2015-2016/DEMO_I.htm) \n",
    "\n",
    "__Examination URLS :__ \n",
    "* [Blood Pressure](https://wwwn.cdc.gov/Nchs/Nhanes/2015-2016/BPX_I.htm)\n",
    "* [Body Measures](https://wwwn.cdc.gov/Nchs/Nhanes/2015-2016/BMX_I.htm)\n",
    "\n",
    "\n",
    "__Labs URLS :__\n",
    "* [Albumin & Creatinine - Urine](https://wwwn.cdc.gov/Nchs/Nhanes/2015-2016/ALB_CR_I.htm)\n",
    "* [Cholesterol - High-Density Lipoprotein (HDL)](https://wwwn.cdc.gov/Nchs/Nhanes/2015-2016/HDL_I.htm)\n",
    "* [Cholesterol - Total](https://wwwn.cdc.gov/Nchs/Nhanes/2015-2016/TCHOL_I.htm)\n",
    "* [Chromium & Cobalt](https://wwwn.cdc.gov/Nchs/Nhanes/2015-2016/CRCO_I.htm)\n",
    "* [Complete Blood Count with 5-Part Differential - Whole Blood](https://wwwn.cdc.gov/Nchs/Nhanes/2015-2016/CBC_I.htm)\n",
    "* [Fasting Questionnaire](https://wwwn.cdc.gov/Nchs/Nhanes/2015-2016/FASTQX_I.htm)\n",
    "* [Fluoride - Plasma](https://wwwn.cdc.gov/Nchs/Nhanes/2015-2016/FLDEP_I.htm)\n",
    "* [Fluoride - Water](https://wwwn.cdc.gov/Nchs/Nhanes/2015-2016/FLDEW_I.htm)\n",
    "* [Glycohemoglobin](https://wwwn.cdc.gov/Nchs/Nhanes/2015-2016/GHB_I.htm)\n",
    "* [Hepatitis A](https://wwwn.cdc.gov/Nchs/Nhanes/2015-2016/HEPA_I.htm)\n",
    "* [Hepatitis B: Core antibody, Surface antigen, and Hepatitis D antibody](https://wwwn.cdc.gov/Nchs/Nhanes/2015-2016/HEPBD_I.htm)\n",
    "* [Hepatitis B: Surface Antibody](https://wwwn.cdc.gov/Nchs/Nhanes/2015-2016/HEPB_S_I.htm)\n",
    "* [Hepatitis C: RNA (HCV-RNA) and Hepatitis C Genotype](https://wwwn.cdc.gov/Nchs/Nhanes/2015-2016/HEPC_I.htm)\n",
    "* [Hepatitis E: IgG & IgM Antibodies](https://wwwn.cdc.gov/Nchs/Nhanes/2015-2016/HEPE_I.htm)\n",
    "* [Herpes Simplex Virus Type-1 & Type-2](https://wwwn.cdc.gov/Nchs/Nhanes/2015-2016/HSV_I.htm)\n",
    "* [HIV Antibody Test](https://wwwn.cdc.gov/Nchs/Nhanes/2015-2016/HIV_I.htm)\n",
    "* [Standard Biochemistry Profile](https://wwwn.cdc.gov/Nchs/Nhanes/2015-2016/BIOPRO_I.htm)\n",
    "* [Trichomonas - Urine](https://wwwn.cdc.gov/Nchs/Nhanes/2015-2016/TRICH_I.htm)\n",
    "* [Urinary Chlamydia](https://wwwn.cdc.gov/Nchs/Nhanes/2015-2016/CHLMDA_I.htm)\n",
    "* [Urine Flow Rate](https://wwwn.cdc.gov/Nchs/Nhanes/2015-2016/UCFLOW_I.htm)\n",
    "* [Urine Pregnancy Test](https://wwwn.cdc.gov/Nchs/Nhanes/2015-2016/UCPREG_I.htm)\n",
    "\n",
    "__Questionaire URLS :__ \n",
    "* [Acculturation](https://wwwn.cdc.gov/Nchs/Nhanes/2015-2016/ACQ_I.htm)\n",
    "* [Blood Pressure & Cholesterol](https://wwwn.cdc.gov/Nchs/Nhanes/2015-2016/BPQ_I.htm)\n",
    "* [Cardiovascular Health](https://wwwn.cdc.gov/Nchs/Nhanes/2015-2016/CDQ_I.htm)\n",
    "* [Current Health Status](https://wwwn.cdc.gov/Nchs/Nhanes/2015-2016/HSQ_I.htm)\n",
    "* [Dermatology](https://wwwn.cdc.gov/Nchs/Nhanes/2015-2016/DEQ_I.htm)\n",
    "* [Diabetes](https://wwwn.cdc.gov/Nchs/Nhanes/2015-2016/DIQ_I.htm)\n",
    "* [Disability](https://wwwn.cdc.gov/Nchs/Nhanes/2015-2016/DLQ_I.htm)\n",
    "* [Early Childhood](https://wwwn.cdc.gov/Nchs/Nhanes/2015-2016/ECQ_I.htm)\n",
    "* [Health Insurance](https://wwwn.cdc.gov/Nchs/Nhanes/2015-2016/HIQ_I.htm)\n",
    "* [Hepatitis](https://wwwn.cdc.gov/Nchs/Nhanes/2015-2016/HEQ_I.htm)\n",
    "* [Hospital Utilization & Access to Care](https://wwwn.cdc.gov/Nchs/Nhanes/2015-2016/HUQ_I.htm)\n",
    "* [Housing Characteristics](https://wwwn.cdc.gov/Nchs/Nhanes/2015-2016/HOQ_I.htm)\n",
    "* [Immunization](https://wwwn.cdc.gov/Nchs/Nhanes/2015-2016/IMQ_I.htm)\n",
    "* [Income](https://wwwn.cdc.gov/Nchs/Nhanes/2015-2016/INQ_I.htm)\n",
    "* [Medical Conditions](https://wwwn.cdc.gov/Nchs/Nhanes/2015-2016/MCQ_I.htm)\n",
    "* [Mental Health - Depression Screener](https://wwwn.cdc.gov/Nchs/Nhanes/2015-2016/DPQ_I.htm)\n",
    "* [Oral Health](https://wwwn.cdc.gov/Nchs/Nhanes/2015-2016/OHQ_I.htm)\n",
    "* [Physical Activity](https://wwwn.cdc.gov/Nchs/Nhanes/2015-2016/PAQ_I.htm)\n",
    "* [Physical Functioning](https://wwwn.cdc.gov/Nchs/Nhanes/2015-2016/PFQ_I.htm)\n",
    "* [Sexual Behavior](https://wwwn.cdc.gov/Nchs/Nhanes/2015-2016/SXQ_I.htm)\n",
    "* [Smoking - Cigarette Use](https://wwwn.cdc.gov/Nchs/Nhanes/2015-2016/SMQ_I.htm)\n",
    "* [Smoking - Household Smokers](https://wwwn.cdc.gov/Nchs/Nhanes/2015-2016/SMQFAM_I.htm)\n",
    "* [Smoking - Recent Tobacco Use](https://wwwn.cdc.gov/Nchs/Nhanes/2015-2016/SMQRTU_I.htm)\n",
    "* [Smoking - Secondhand Smoke Exposure](https://wwwn.cdc.gov/Nchs/Nhanes/2015-2016/SMQSHS_I.htm)"
   ]
  },
  {
   "cell_type": "markdown",
   "metadata": {},
   "source": [
    "### Questions\n",
    "\n",
    "* What are the health dynamics of different ages, genders, and races\n",
    "* How does sugar affect health\n",
    "* How are cholesterol levels across these dymanics? What about in conjunction with sugar?\n",
    "* How do these dynamics affect mental health?\n",
    "* Household members vs income?"
   ]
  },
  {
   "cell_type": "code",
   "execution_count": null,
   "metadata": {
    "collapsed": true
   },
   "outputs": [],
   "source": []
  },
  {
   "cell_type": "code",
   "execution_count": 1,
   "metadata": {
    "collapsed": true
   },
   "outputs": [],
   "source": [
    "# Importing tools for data cleaning and analysis\n",
    "import numpy as np\n",
    "import pandas as pd\n",
    "import matplotlib.pyplot as plt\n",
    "import seaborn as sns\n",
    "%matplotlib inline"
   ]
  },
  {
   "cell_type": "markdown",
   "metadata": {},
   "source": [
    "## Loading xpt files into pandas"
   ]
  },
  {
   "cell_type": "markdown",
   "metadata": {},
   "source": [
    "### Demographic dataset and shape"
   ]
  },
  {
   "cell_type": "code",
   "execution_count": 2,
   "metadata": {
    "scrolled": true
   },
   "outputs": [
    {
     "name": "stdout",
     "output_type": "stream",
     "text": [
      "demographic (9971, 47)\n"
     ]
    }
   ],
   "source": [
    "demographic = pd.read_sas('./health_dataset/national_health_and_nutrition_examination_survey_2015_2016/demographics/DEMO_I.XPT')\n",
    "print 'demographic {0}'.format(demographic.shape)"
   ]
  },
  {
   "cell_type": "markdown",
   "metadata": {},
   "source": [
    "###  Demographic data dictionary \n",
    "\n",
    "* SEQN - Respondent sequence number\n",
    "* SDDSRVYR - Data release cycle\n",
    "* RIDSTATR - Interview/Examination status\n",
    "* RIAGENDR - Gender\n",
    "* RIDAGEYR - Age in years at screening\n",
    "* RIDAGEMN - Age in months at screening - 0 to 24 mos\n",
    "* RIDRETH1 - Race/Hispanic origin\n",
    "* RIDRETH3 - Race/Hispanic origin w/ NH Asian\n",
    "* RIDEXMON - Six month time period\n",
    "* RIDEXAGM - Age in months at exam - 0 to 19 years\n",
    "* DMQMILIZ - Served active duty in US Armed Forces\n",
    "* DMQADFC - Served in a foreign country\n",
    "* DMDBORN4 - Country of birth\n",
    "* DMDCITZN - Citizenship status\n",
    "* DMDYRSUS - Length of time in US\n",
    "* DMDEDUC3 - Education level - Children/Youth 6-19\n",
    "* DMDEDUC2 - Education level - Adults 20+\n",
    "* DMDMARTL - Marital status\n",
    "* RIDEXPRG - Pregnancy status at exam\n",
    "* SIALANG - Language of SP Interview\n",
    "* SIAPROXY - Proxy used in SP Interview?\n",
    "* SIAINTRP - Interpreter used in SP Interview?\n",
    "* FIALANG - Language of Family Interview\n",
    "* FIAPROXY - Proxy used in Family Interview?\n",
    "* FIAINTRP - Interpreter used in Family Interview?\n",
    "* MIALANG - Language of MEC Interview\n",
    "* MIAPROXY - Proxy used in MEC Interview?\n",
    "* MIAINTRP - Interpreter used in MEC Interview?\n",
    "* AIALANGA - Language of ACASI Interview\n",
    "* DMDHHSIZ - Total number of people in the Household\n",
    "* DMDFMSIZ - Total number of people in the Family\n",
    "* DMDHHSZA - # of children 5 years or younger in HH\n",
    "* DMDHHSZB - # of children 6-17 years old in HH\n",
    "* DMDHHSZE - # of adults 60 years or older in HH\n",
    "* DMDHRGND - HH ref person's gender\n",
    "* DMDHRAGE - HH ref person's age in years\n",
    "* DMDHRBR4 - HH ref person's country of birth\n",
    "* DMDHREDU - HH ref person's education level\n",
    "* DMDHRMAR - HH ref person's marital status\n",
    "* DMDHSEDU - HH ref person's spouse's education level\n",
    "* WTINT2YR - Full sample 2 year interview weight\n",
    "* WTMEC2YR - Full sample 2 year MEC exam weight\n",
    "* SDMVPSU - Masked variance pseudo-PSU\n",
    "* SDMVSTRA - Masked variance pseudo-stratum\n",
    "* INDHHIN2 - Annual household income\n",
    "* INDFMIN2 - Annual family income\n",
    "* INDFMPIR - Ratio of family income to poverty"
   ]
  },
  {
   "cell_type": "markdown",
   "metadata": {},
   "source": [
    "---"
   ]
  },
  {
   "cell_type": "markdown",
   "metadata": {},
   "source": [
    "### Examination datasets and shape"
   ]
  },
  {
   "cell_type": "code",
   "execution_count": 3,
   "metadata": {},
   "outputs": [
    {
     "name": "stdout",
     "output_type": "stream",
     "text": [
      "blood_pressure (9544, 21)\n",
      "body_measures (9544, 26)\n"
     ]
    }
   ],
   "source": [
    "blood_pressure = pd.read_sas('./health_dataset/national_health_and_nutrition_examination_survey_2015_2016/examination_data/BPX_I.XPT')\n",
    "body_measures = pd.read_sas('./health_dataset/national_health_and_nutrition_examination_survey_2015_2016/examination_data/BMX_I.XPT')\n",
    "\n",
    "print 'blood_pressure {0}'.format(blood_pressure.shape)\n",
    "print 'body_measures {0}'.format(body_measures.shape)"
   ]
  },
  {
   "cell_type": "markdown",
   "metadata": {},
   "source": [
    "### Lab datasets and shapes"
   ]
  },
  {
   "cell_type": "code",
   "execution_count": 4,
   "metadata": {
    "collapsed": true
   },
   "outputs": [],
   "source": [
    "albumin_and_creatinine_urine = pd.read_sas('./health_dataset/national_health_and_nutrition_examination_survey_2015_2016/lab_data/ALB_CR_I.XPT')\n",
    "high_density_lipoprotein = pd.read_sas('./health_dataset/national_health_and_nutrition_examination_survey_2015_2016/lab_data/HDL_I.XPT')\n",
    "cholesterol_total = pd.read_sas('./health_dataset/national_health_and_nutrition_examination_survey_2015_2016/lab_data/TCHOL_I.XPT')\n",
    "chromium_and_cobalt = pd.read_sas('./health_dataset/national_health_and_nutrition_examination_survey_2015_2016/lab_data/CRCO_I.XPT')\n",
    "complete_blood_count = pd.read_sas('./health_dataset/national_health_and_nutrition_examination_survey_2015_2016/lab_data/CBC_I.XPT')\n",
    "fasting_questionnaire = pd.read_sas('./health_dataset/national_health_and_nutrition_examination_survey_2015_2016/lab_data/FASTQX_I.XPT')\n",
    "fluoride_plasma = pd.read_sas('./health_dataset/national_health_and_nutrition_examination_survey_2015_2016/lab_data/FLDEP_I.XPT')\n",
    "fluoride_water = pd.read_sas('./health_dataset/national_health_and_nutrition_examination_survey_2015_2016/lab_data/FLDEW_I.XPT')\n",
    "glycohemoglobin = pd.read_sas('./health_dataset/national_health_and_nutrition_examination_survey_2015_2016/lab_data/GHB_I.XPT')\n",
    "hepatitis_A = pd.read_sas('./health_dataset/national_health_and_nutrition_examination_survey_2015_2016/lab_data/HEPA_I.XPT')\n",
    "hepatitis_B_core_antibody_and_hepatitis_D_antibody = pd.read_sas('./health_dataset/national_health_and_nutrition_examination_survey_2015_2016/lab_data/HEPBD_I.XPT')\n",
    "hepatitis_B_surface_antibody = pd.read_sas('./health_dataset/national_health_and_nutrition_examination_survey_2015_2016/lab_data/HEPB_S_I.XPT')\n",
    "hepatitis_C = pd.read_sas('./health_dataset/national_health_and_nutrition_examination_survey_2015_2016/lab_data/HEPC_I.XPT')\n",
    "hepatitis_E = pd.read_sas('./health_dataset/national_health_and_nutrition_examination_survey_2015_2016/lab_data/HEPE_I.XPT')\n",
    "herpes_simplex_virus = pd.read_sas('./health_dataset/national_health_and_nutrition_examination_survey_2015_2016/lab_data/HSV_I.XPT')\n",
    "hiv_antibody_test = pd.read_sas('./health_dataset/national_health_and_nutrition_examination_survey_2015_2016/lab_data/HIV_I.XPT')\n",
    "standard_biochemistry_profile = pd.read_sas('./health_dataset/national_health_and_nutrition_examination_survey_2015_2016/lab_data/BIOPRO_I.XPT')\n",
    "trichomonas_urine = pd.read_sas('./health_dataset/national_health_and_nutrition_examination_survey_2015_2016/lab_data/TRICH_I.XPT')\n",
    "urinary_chlamydia = pd.read_sas('./health_dataset/national_health_and_nutrition_examination_survey_2015_2016/lab_data/CHLMDA_I.XPT')\n",
    "urine_flow_rate = pd.read_sas('./health_dataset/national_health_and_nutrition_examination_survey_2015_2016/lab_data/UCFLOW_I.XPT')\n",
    "urine_pregnancy_test = pd.read_sas('./health_dataset/national_health_and_nutrition_examination_survey_2015_2016/lab_data/UCPREG_I.XPT')"
   ]
  },
  {
   "cell_type": "code",
   "execution_count": 5,
   "metadata": {},
   "outputs": [
    {
     "name": "stdout",
     "output_type": "stream",
     "text": [
      "albumin_and_creatinine_urine (8608, 8)\n",
      "high_density_lipoprotein (8021, 3)\n",
      "cholesterol_total (8021, 3)\n",
      "chromium_and_cobalt (3610, 7)\n",
      "complete_blood_count (9165, 21)\n",
      "fasting_questionnaire (9165, 19)\n",
      "fluoride_plasma (2547, 2)\n",
      "fluoride_water (4070, 2)\n",
      "glycohemoglobin (6744, 2)\n",
      "hepatitis_A (8887, 2)\n",
      "hepatitis_B_core_antibody_and_hepatitis_D_antibody (8021, 4)\n",
      "hepatitis_B_surface_antibody (8887, 2)\n",
      "hepatitis_C (8021, 3)\n",
      "hepatitis_E (8021, 3)\n",
      "herpes_simplex_virus (3710, 3)\n",
      "hiv_antibody_test (3926, 5)\n",
      "standard_biochemistry_profile (6744, 38)\n",
      "trichomonas_urine (3926, 2)\n",
      "urinary_chlamydia (2125, 2)\n",
      "urine_flow_rate (8608, 10)\n",
      "urine_pregnancy_test (1240, 2)\n"
     ]
    }
   ],
   "source": [
    "print 'albumin_and_creatinine_urine {0}'.format(albumin_and_creatinine_urine.shape) \n",
    "print 'high_density_lipoprotein {0}'.format(high_density_lipoprotein.shape)\n",
    "print 'cholesterol_total {0}'.format(cholesterol_total.shape)\n",
    "print 'chromium_and_cobalt {0}'.format(chromium_and_cobalt.shape)\n",
    "print 'complete_blood_count {0}'.format(complete_blood_count.shape)\n",
    "print 'fasting_questionnaire {0}'.format(fasting_questionnaire.shape)\n",
    "print 'fluoride_plasma {0}'.format(fluoride_plasma.shape)\n",
    "print 'fluoride_water {0}'.format(fluoride_water.shape)\n",
    "print 'glycohemoglobin {0}'.format(glycohemoglobin.shape)\n",
    "print 'hepatitis_A {0}'.format(hepatitis_A.shape)\n",
    "print 'hepatitis_B_core_antibody_and_hepatitis_D_antibody {0}'.format(hepatitis_B_core_antibody_and_hepatitis_D_antibody.shape)\n",
    "print 'hepatitis_B_surface_antibody {0}'.format(hepatitis_B_surface_antibody.shape)\n",
    "print 'hepatitis_C {0}'.format(hepatitis_C.shape)\n",
    "print 'hepatitis_E {0}'.format(hepatitis_E.shape)\n",
    "print 'herpes_simplex_virus {0}'.format(herpes_simplex_virus.shape)\n",
    "print 'hiv_antibody_test {0}'.format(hiv_antibody_test.shape)\n",
    "print 'standard_biochemistry_profile {0}'.format(standard_biochemistry_profile.shape)\n",
    "print 'trichomonas_urine {0}'.format(trichomonas_urine.shape)\n",
    "print 'urinary_chlamydia {0}'.format(urinary_chlamydia.shape)\n",
    "print 'urine_flow_rate {0}'.format(urine_flow_rate.shape)\n",
    "print 'urine_pregnancy_test {0}'.format(urine_pregnancy_test.shape)\n"
   ]
  },
  {
   "cell_type": "markdown",
   "metadata": {},
   "source": [
    "### Questionaire Datasets"
   ]
  },
  {
   "cell_type": "code",
   "execution_count": 6,
   "metadata": {
    "collapsed": true
   },
   "outputs": [],
   "source": [
    "acculturation = pd.read_sas('./health_dataset/national_health_and_nutrition_examination_survey_2015_2016/questionaire/ACQ_I.XPT')\n",
    "blood_pressure_and_cholesterol = pd.read_sas('./health_dataset/national_health_and_nutrition_examination_survey_2015_2016/questionaire/BPQ_I.XPT')\n",
    "cardiovascular_health = pd.read_sas('./health_dataset/national_health_and_nutrition_examination_survey_2015_2016/questionaire/CDQ_I.XPT')\n",
    "current_health_status = pd.read_sas('./health_dataset/national_health_and_nutrition_examination_survey_2015_2016/questionaire/HSQ_I.XPT')\n",
    "dermatology\t = pd.read_sas('./health_dataset/national_health_and_nutrition_examination_survey_2015_2016/questionaire/DEQ_I.XPT')\n",
    "diabetes = pd.read_sas('./health_dataset/national_health_and_nutrition_examination_survey_2015_2016/questionaire/DIQ_I.XPT')\n",
    "disability = pd.read_sas('./health_dataset/national_health_and_nutrition_examination_survey_2015_2016/questionaire/DLQ_I.XPT')\n",
    "early_childhood = pd.read_sas('./health_dataset/national_health_and_nutrition_examination_survey_2015_2016/questionaire/ECQ_I.XPT')\n",
    "health_insurance = pd.read_sas('./health_dataset/national_health_and_nutrition_examination_survey_2015_2016/questionaire/HIQ_I.XPT')\n",
    "hepatitis = pd.read_sas('./health_dataset/national_health_and_nutrition_examination_survey_2015_2016/questionaire/HEQ_I.XPT')\n",
    "hospital_utilization_and_access_to_care = pd.read_sas('./health_dataset/national_health_and_nutrition_examination_survey_2015_2016/questionaire/HUQ_I.XPT')\n",
    "housing_characteristics = pd.read_sas('./health_dataset/national_health_and_nutrition_examination_survey_2015_2016/questionaire/HOQ_I.XPT')\n",
    "immunization = pd.read_sas('./health_dataset/national_health_and_nutrition_examination_survey_2015_2016/questionaire/IMQ_I.XPT')\n",
    "income = pd.read_sas('./health_dataset/national_health_and_nutrition_examination_survey_2015_2016/questionaire/INQ_I.XPT')\n",
    "medical_conditions = pd.read_sas('./health_dataset/national_health_and_nutrition_examination_survey_2015_2016/questionaire/MCQ_I.XPT')\n",
    "mental_health_depression_screener = pd.read_sas('./health_dataset/national_health_and_nutrition_examination_survey_2015_2016/questionaire/DPQ_I.XPT')\n",
    "oral_health = pd.read_sas('./health_dataset/national_health_and_nutrition_examination_survey_2015_2016/questionaire/OHQ_I.XPT')\n",
    "physical_activity = pd.read_sas('./health_dataset/national_health_and_nutrition_examination_survey_2015_2016/questionaire/PAQ_I.XPT')\n",
    "physical_functioning = pd.read_sas('./health_dataset/national_health_and_nutrition_examination_survey_2015_2016/questionaire/PFQ_I.XPT')\n",
    "sexual_behavior = pd.read_sas('./health_dataset/national_health_and_nutrition_examination_survey_2015_2016/questionaire/SXQ_I.XPT')\n",
    "smoking_cigarette_use = pd.read_sas('./health_dataset/national_health_and_nutrition_examination_survey_2015_2016/questionaire/SMQ_I.XPT')\n",
    "smoking_household_smokers = pd.read_sas('./health_dataset/national_health_and_nutrition_examination_survey_2015_2016/questionaire/SMQFAM_I.XPT')\n",
    "smoking_recent_tobacco_use = pd.read_sas('./health_dataset/national_health_and_nutrition_examination_survey_2015_2016/questionaire/SMQRTU_I.XPT')\n",
    "smoking_secondhand_smoke_exposure = pd.read_sas('./health_dataset/national_health_and_nutrition_examination_survey_2015_2016/questionaire/SMQSHS_I.XPT')\n"
   ]
  },
  {
   "cell_type": "code",
   "execution_count": null,
   "metadata": {
    "collapsed": true
   },
   "outputs": [],
   "source": []
  },
  {
   "cell_type": "markdown",
   "metadata": {},
   "source": [
    "# EDA"
   ]
  },
  {
   "cell_type": "code",
   "execution_count": 7,
   "metadata": {
    "scrolled": true
   },
   "outputs": [
    {
     "data": {
      "text/html": [
       "<div>\n",
       "<style>\n",
       "    .dataframe thead tr:only-child th {\n",
       "        text-align: right;\n",
       "    }\n",
       "\n",
       "    .dataframe thead th {\n",
       "        text-align: left;\n",
       "    }\n",
       "\n",
       "    .dataframe tbody tr th {\n",
       "        vertical-align: top;\n",
       "    }\n",
       "</style>\n",
       "<table border=\"1\" class=\"dataframe\">\n",
       "  <thead>\n",
       "    <tr style=\"text-align: right;\">\n",
       "      <th></th>\n",
       "      <th>SEQN</th>\n",
       "      <th>SDDSRVYR</th>\n",
       "      <th>RIDSTATR</th>\n",
       "      <th>RIAGENDR</th>\n",
       "      <th>RIDAGEYR</th>\n",
       "      <th>RIDAGEMN</th>\n",
       "      <th>RIDRETH1</th>\n",
       "      <th>RIDRETH3</th>\n",
       "      <th>RIDEXMON</th>\n",
       "      <th>RIDEXAGM</th>\n",
       "      <th>...</th>\n",
       "      <th>DMDHREDU</th>\n",
       "      <th>DMDHRMAR</th>\n",
       "      <th>DMDHSEDU</th>\n",
       "      <th>WTINT2YR</th>\n",
       "      <th>WTMEC2YR</th>\n",
       "      <th>SDMVPSU</th>\n",
       "      <th>SDMVSTRA</th>\n",
       "      <th>INDHHIN2</th>\n",
       "      <th>INDFMIN2</th>\n",
       "      <th>INDFMPIR</th>\n",
       "    </tr>\n",
       "  </thead>\n",
       "  <tbody>\n",
       "    <tr>\n",
       "      <th>0</th>\n",
       "      <td>83732.0</td>\n",
       "      <td>9.0</td>\n",
       "      <td>2.0</td>\n",
       "      <td>1.0</td>\n",
       "      <td>62.0</td>\n",
       "      <td>NaN</td>\n",
       "      <td>3.0</td>\n",
       "      <td>3.0</td>\n",
       "      <td>1.0</td>\n",
       "      <td>NaN</td>\n",
       "      <td>...</td>\n",
       "      <td>5.0</td>\n",
       "      <td>1.0</td>\n",
       "      <td>3.0</td>\n",
       "      <td>134671.370419</td>\n",
       "      <td>135629.507405</td>\n",
       "      <td>1.0</td>\n",
       "      <td>125.0</td>\n",
       "      <td>10.0</td>\n",
       "      <td>10.0</td>\n",
       "      <td>4.39</td>\n",
       "    </tr>\n",
       "    <tr>\n",
       "      <th>1</th>\n",
       "      <td>83733.0</td>\n",
       "      <td>9.0</td>\n",
       "      <td>2.0</td>\n",
       "      <td>1.0</td>\n",
       "      <td>53.0</td>\n",
       "      <td>NaN</td>\n",
       "      <td>3.0</td>\n",
       "      <td>3.0</td>\n",
       "      <td>1.0</td>\n",
       "      <td>NaN</td>\n",
       "      <td>...</td>\n",
       "      <td>3.0</td>\n",
       "      <td>3.0</td>\n",
       "      <td>NaN</td>\n",
       "      <td>24328.560239</td>\n",
       "      <td>25282.425927</td>\n",
       "      <td>1.0</td>\n",
       "      <td>125.0</td>\n",
       "      <td>4.0</td>\n",
       "      <td>4.0</td>\n",
       "      <td>1.32</td>\n",
       "    </tr>\n",
       "    <tr>\n",
       "      <th>2</th>\n",
       "      <td>83734.0</td>\n",
       "      <td>9.0</td>\n",
       "      <td>2.0</td>\n",
       "      <td>1.0</td>\n",
       "      <td>78.0</td>\n",
       "      <td>NaN</td>\n",
       "      <td>3.0</td>\n",
       "      <td>3.0</td>\n",
       "      <td>2.0</td>\n",
       "      <td>NaN</td>\n",
       "      <td>...</td>\n",
       "      <td>3.0</td>\n",
       "      <td>1.0</td>\n",
       "      <td>3.0</td>\n",
       "      <td>12400.008522</td>\n",
       "      <td>12575.838818</td>\n",
       "      <td>1.0</td>\n",
       "      <td>131.0</td>\n",
       "      <td>5.0</td>\n",
       "      <td>5.0</td>\n",
       "      <td>1.51</td>\n",
       "    </tr>\n",
       "    <tr>\n",
       "      <th>3</th>\n",
       "      <td>83735.0</td>\n",
       "      <td>9.0</td>\n",
       "      <td>2.0</td>\n",
       "      <td>2.0</td>\n",
       "      <td>56.0</td>\n",
       "      <td>NaN</td>\n",
       "      <td>3.0</td>\n",
       "      <td>3.0</td>\n",
       "      <td>2.0</td>\n",
       "      <td>NaN</td>\n",
       "      <td>...</td>\n",
       "      <td>5.0</td>\n",
       "      <td>6.0</td>\n",
       "      <td>NaN</td>\n",
       "      <td>102717.995647</td>\n",
       "      <td>102078.634508</td>\n",
       "      <td>1.0</td>\n",
       "      <td>131.0</td>\n",
       "      <td>10.0</td>\n",
       "      <td>10.0</td>\n",
       "      <td>5.00</td>\n",
       "    </tr>\n",
       "    <tr>\n",
       "      <th>4</th>\n",
       "      <td>83736.0</td>\n",
       "      <td>9.0</td>\n",
       "      <td>2.0</td>\n",
       "      <td>2.0</td>\n",
       "      <td>42.0</td>\n",
       "      <td>NaN</td>\n",
       "      <td>4.0</td>\n",
       "      <td>4.0</td>\n",
       "      <td>2.0</td>\n",
       "      <td>NaN</td>\n",
       "      <td>...</td>\n",
       "      <td>4.0</td>\n",
       "      <td>3.0</td>\n",
       "      <td>NaN</td>\n",
       "      <td>17627.674984</td>\n",
       "      <td>18234.736219</td>\n",
       "      <td>2.0</td>\n",
       "      <td>126.0</td>\n",
       "      <td>7.0</td>\n",
       "      <td>7.0</td>\n",
       "      <td>1.23</td>\n",
       "    </tr>\n",
       "  </tbody>\n",
       "</table>\n",
       "<p>5 rows × 47 columns</p>\n",
       "</div>"
      ],
      "text/plain": [
       "      SEQN  SDDSRVYR  RIDSTATR  RIAGENDR  RIDAGEYR  RIDAGEMN  RIDRETH1  \\\n",
       "0  83732.0       9.0       2.0       1.0      62.0       NaN       3.0   \n",
       "1  83733.0       9.0       2.0       1.0      53.0       NaN       3.0   \n",
       "2  83734.0       9.0       2.0       1.0      78.0       NaN       3.0   \n",
       "3  83735.0       9.0       2.0       2.0      56.0       NaN       3.0   \n",
       "4  83736.0       9.0       2.0       2.0      42.0       NaN       4.0   \n",
       "\n",
       "   RIDRETH3  RIDEXMON  RIDEXAGM    ...     DMDHREDU  DMDHRMAR  DMDHSEDU  \\\n",
       "0       3.0       1.0       NaN    ...          5.0       1.0       3.0   \n",
       "1       3.0       1.0       NaN    ...          3.0       3.0       NaN   \n",
       "2       3.0       2.0       NaN    ...          3.0       1.0       3.0   \n",
       "3       3.0       2.0       NaN    ...          5.0       6.0       NaN   \n",
       "4       4.0       2.0       NaN    ...          4.0       3.0       NaN   \n",
       "\n",
       "        WTINT2YR       WTMEC2YR  SDMVPSU  SDMVSTRA  INDHHIN2  INDFMIN2  \\\n",
       "0  134671.370419  135629.507405      1.0     125.0      10.0      10.0   \n",
       "1   24328.560239   25282.425927      1.0     125.0       4.0       4.0   \n",
       "2   12400.008522   12575.838818      1.0     131.0       5.0       5.0   \n",
       "3  102717.995647  102078.634508      1.0     131.0      10.0      10.0   \n",
       "4   17627.674984   18234.736219      2.0     126.0       7.0       7.0   \n",
       "\n",
       "   INDFMPIR  \n",
       "0      4.39  \n",
       "1      1.32  \n",
       "2      1.51  \n",
       "3      5.00  \n",
       "4      1.23  \n",
       "\n",
       "[5 rows x 47 columns]"
      ]
     },
     "execution_count": 7,
     "metadata": {},
     "output_type": "execute_result"
    }
   ],
   "source": [
    "demographic.head()"
   ]
  },
  {
   "cell_type": "markdown",
   "metadata": {},
   "source": [
    "###  Demographic data dictionary (The important and not important features will be explained below)\n",
    "\n",
    "* **SEQN - Respondent sequence number** (Needed to identify patients) **(No Nulls)**\n",
    "* ~~SDDSRVYR - Data release cycle~~ (Not neccessary since the whole dataset is only years 2015-2016)\n",
    "* ~~RIDSTATR - Interview/Examination status~~ (Tells us who has med records and who was just interviewed, not needed)\n",
    "* **RIAGENDR - Gender** (Male or Female) **(No Nulls)**\n",
    "* **RIDAGEYR - Age in years at screening** (Age of patients) **(No Nulls)**\n",
    "* ~~RIDAGEMN - Age in months at screening - 0 to 24 mos~~ (Important but will be combined with RIDAGEYR)\n",
    "* ~~RIDRETH1 - Race/Hispanic origin~~ (RIDRETH3 has more extensive list of races)\n",
    "* **RIDRETH3 - Race/Hispanic origin w/ NH Asian** (Will be used over RIDRETH1) **(No Nulls)**\n",
    "* ~~RIDEXMON - Six month time period** (May hold because range is between winter, spring and summer, fall)~~ (No Need) (427 Nulls)\n",
    "* ~~RIDEXAGM - Age in months at exam - 0 to 19 years~~ (Important but will be combined with RIDAGEYR)\n",
    "* **DMQMILIZ - Served active duty in US Armed Forces** (Potentially useful but has 3822 missing values) **(3822 Nulls)**\n",
    "* ~~DMQADFC - Served in a foreign country~~ (Likely wont be useful because it has 9444 missing values)\n",
    "* **DMDBORN4 - Country of birth** (Useful) **(No Nulls)**\n",
    "* **DMDCITZN - Citizenship status** (Useful) **(2 Nulls)**\n",
    "* ~~DMDYRSUS - Length of time in US~~ (Potentially useful but has 7735 missing values, may review later)\n",
    "* **DMDEDUC3 - Education level - Children/Youth 6-19** (Useful even though there are 7324 missing values since its ages 6-19 **(7324 Nulls)**\n",
    "* **DMDEDUC2 - Education level - Adults 20+** (Useful with only 4252 missing values for adults 20+) **(4252 Nulls)**\n",
    "* **DMDMARTL - Marital status** (Useful though with 4252 missing values) **(4252 Nulls)**\n",
    "* ~~RIDEXPRG - Pregnancy status at exam (age 20 - 44)~~ (Possibly useful but 8683 missing values)\n",
    "* ~~SIALANG - Language of SP Interview~~ (English and Spanish Only, may revisit) **(No Nulls)**\n",
    "* ~~SIAPROXY - Proxy used in SP Interview?~~ (May revisit) **(1 Null)**\n",
    "* ~~SIAINTRP - Interpreter used in SP Interview?~~ (May revisit) **(No Nulls)**\n",
    "* ~~FIALANG - Language of Family Interview~~ (English and Spanish Only, may revisit) **(329 Nulls)** \n",
    "* ~~FIAPROXY - Proxy used in Family Interview?~~ (May revisit) **(329 Nulls)**\n",
    "* ~~FIAINTRP - Interpreter used in Family Interview?~~ (May revisit) **(329 Nulls)**\n",
    "* ~~MIALANG - Language of MEC Interview~~ (Not certain what this feature is, may revisit)\n",
    "* ~~MIAPROXY - Proxy used in MEC Interview?~~ (Not certain what this feature is, may revisit)\n",
    "* ~~MIAINTRP - Interpreter used in MEC Interview?~~ (Not certain what this feature is, may revisit)\n",
    "* ~~AIALANGA - Language of ACASI Interview~~ (Not certain what this feature is, may revisit)\n",
    "* ~~DMDHHSIZ - Total number of people in the Household~~ (Potentially Useful but is too highly correlated with 3 of the other household features so will not be included) **(No Nulls)**\n",
    "* ~~DMDFMSIZ - Total number of people in the Family~~ (Potentially Useful but the focus is the household) **(No Nulls)**\n",
    "* **DMDHHSZA - # of children 5 years or younger in HH** (Useful) **(No Nulls)**\n",
    "* **DMDHHSZB - # of children 6-17 years old in HH** (Useful) **(No Nulls)**\n",
    "* **DMDHHSZE - # of adults 60 years or older in HH** (Useful) **(No Nulls)**\n",
    "* ~~DMDHRGND - HH ref person's gender~~ (Potentially Useful but the focus is on the individual and family) **(No Nulls)**\n",
    "* ~~DMDHRAGE - HH ref person's age in years~~ (Potentially Useful but the focus is on the individual and family) **(No Nulls)**\n",
    "* ~~DMDHRBR4 - HH ref person's country of birth~~ (Potentially Useful but the focus is on the individual and family) **(396 Nulls)**\n",
    "* ~~DMDHREDU - HH ref person's education level~~ (Potentially Useful but the focus is on the individual and family) **(396 Nulls)**\n",
    "* ~~DMDHRMAR - HH ref person's marital status~~ (Potentially Useful but the focus is on the individual and family) **(62 Nulls)**\n",
    "* ~~DMDHSEDU - HH ref person's spouse's education level~~ (Potentially Useful but the focus is on the individual and family) **(4745 Nulls)**\n",
    "* ~~WTINT2YR - Full sample 2 year interview weight~~ (Not certain what this feature is, may revisit)\n",
    "* ~~WTMEC2YR - Full sample 2 year MEC exam weight~~ (Not certain what this feature is, may revisit)\n",
    "* ~~SDMVPSU - Masked variance pseudo-PSU~~ (Not certain what this feature is, may revisit)\n",
    "* ~~SDMVSTRA - Masked variance pseudo-stratum~~ (Not certain what this feature is, may revisit)\n",
    "* **INDHHIN2 - Annual household income** (Useful) **(345 Nulls)**\n",
    "* ~~INDFMIN2 - Annual family income~~ (Household family income used instead) **(329 Nulls)**\n",
    "* ~~INDFMPIR - Ratio of family income to poverty~~ (Have annual income, can calculate ratio manually) **(1052 Nulls)**"
   ]
  },
  {
   "cell_type": "code",
   "execution_count": 8,
   "metadata": {},
   "outputs": [
    {
     "data": {
      "text/html": [
       "<div>\n",
       "<style>\n",
       "    .dataframe thead tr:only-child th {\n",
       "        text-align: right;\n",
       "    }\n",
       "\n",
       "    .dataframe thead th {\n",
       "        text-align: left;\n",
       "    }\n",
       "\n",
       "    .dataframe tbody tr th {\n",
       "        vertical-align: top;\n",
       "    }\n",
       "</style>\n",
       "<table border=\"1\" class=\"dataframe\">\n",
       "  <thead>\n",
       "    <tr style=\"text-align: right;\">\n",
       "      <th></th>\n",
       "      <th>SEQN</th>\n",
       "      <th>SDDSRVYR</th>\n",
       "      <th>RIDSTATR</th>\n",
       "      <th>RIAGENDR</th>\n",
       "      <th>RIDAGEYR</th>\n",
       "      <th>RIDAGEMN</th>\n",
       "      <th>RIDRETH1</th>\n",
       "      <th>RIDRETH3</th>\n",
       "      <th>RIDEXMON</th>\n",
       "      <th>RIDEXAGM</th>\n",
       "      <th>...</th>\n",
       "      <th>DMDHREDU</th>\n",
       "      <th>DMDHRMAR</th>\n",
       "      <th>DMDHSEDU</th>\n",
       "      <th>WTINT2YR</th>\n",
       "      <th>WTMEC2YR</th>\n",
       "      <th>SDMVPSU</th>\n",
       "      <th>SDMVSTRA</th>\n",
       "      <th>INDHHIN2</th>\n",
       "      <th>INDFMIN2</th>\n",
       "      <th>INDFMPIR</th>\n",
       "    </tr>\n",
       "  </thead>\n",
       "  <tbody>\n",
       "    <tr>\n",
       "      <th>0</th>\n",
       "      <td>83732.0</td>\n",
       "      <td>9.0</td>\n",
       "      <td>2.0</td>\n",
       "      <td>1.0</td>\n",
       "      <td>62.0</td>\n",
       "      <td>NaN</td>\n",
       "      <td>3.0</td>\n",
       "      <td>3.0</td>\n",
       "      <td>1.0</td>\n",
       "      <td>NaN</td>\n",
       "      <td>...</td>\n",
       "      <td>5.0</td>\n",
       "      <td>1.0</td>\n",
       "      <td>3.0</td>\n",
       "      <td>134671.370419</td>\n",
       "      <td>135629.507405</td>\n",
       "      <td>1.0</td>\n",
       "      <td>125.0</td>\n",
       "      <td>10.0</td>\n",
       "      <td>10.0</td>\n",
       "      <td>4.39</td>\n",
       "    </tr>\n",
       "    <tr>\n",
       "      <th>1</th>\n",
       "      <td>83733.0</td>\n",
       "      <td>9.0</td>\n",
       "      <td>2.0</td>\n",
       "      <td>1.0</td>\n",
       "      <td>53.0</td>\n",
       "      <td>NaN</td>\n",
       "      <td>3.0</td>\n",
       "      <td>3.0</td>\n",
       "      <td>1.0</td>\n",
       "      <td>NaN</td>\n",
       "      <td>...</td>\n",
       "      <td>3.0</td>\n",
       "      <td>3.0</td>\n",
       "      <td>NaN</td>\n",
       "      <td>24328.560239</td>\n",
       "      <td>25282.425927</td>\n",
       "      <td>1.0</td>\n",
       "      <td>125.0</td>\n",
       "      <td>4.0</td>\n",
       "      <td>4.0</td>\n",
       "      <td>1.32</td>\n",
       "    </tr>\n",
       "    <tr>\n",
       "      <th>2</th>\n",
       "      <td>83734.0</td>\n",
       "      <td>9.0</td>\n",
       "      <td>2.0</td>\n",
       "      <td>1.0</td>\n",
       "      <td>78.0</td>\n",
       "      <td>NaN</td>\n",
       "      <td>3.0</td>\n",
       "      <td>3.0</td>\n",
       "      <td>2.0</td>\n",
       "      <td>NaN</td>\n",
       "      <td>...</td>\n",
       "      <td>3.0</td>\n",
       "      <td>1.0</td>\n",
       "      <td>3.0</td>\n",
       "      <td>12400.008522</td>\n",
       "      <td>12575.838818</td>\n",
       "      <td>1.0</td>\n",
       "      <td>131.0</td>\n",
       "      <td>5.0</td>\n",
       "      <td>5.0</td>\n",
       "      <td>1.51</td>\n",
       "    </tr>\n",
       "    <tr>\n",
       "      <th>3</th>\n",
       "      <td>83735.0</td>\n",
       "      <td>9.0</td>\n",
       "      <td>2.0</td>\n",
       "      <td>2.0</td>\n",
       "      <td>56.0</td>\n",
       "      <td>NaN</td>\n",
       "      <td>3.0</td>\n",
       "      <td>3.0</td>\n",
       "      <td>2.0</td>\n",
       "      <td>NaN</td>\n",
       "      <td>...</td>\n",
       "      <td>5.0</td>\n",
       "      <td>6.0</td>\n",
       "      <td>NaN</td>\n",
       "      <td>102717.995647</td>\n",
       "      <td>102078.634508</td>\n",
       "      <td>1.0</td>\n",
       "      <td>131.0</td>\n",
       "      <td>10.0</td>\n",
       "      <td>10.0</td>\n",
       "      <td>5.00</td>\n",
       "    </tr>\n",
       "    <tr>\n",
       "      <th>4</th>\n",
       "      <td>83736.0</td>\n",
       "      <td>9.0</td>\n",
       "      <td>2.0</td>\n",
       "      <td>2.0</td>\n",
       "      <td>42.0</td>\n",
       "      <td>NaN</td>\n",
       "      <td>4.0</td>\n",
       "      <td>4.0</td>\n",
       "      <td>2.0</td>\n",
       "      <td>NaN</td>\n",
       "      <td>...</td>\n",
       "      <td>4.0</td>\n",
       "      <td>3.0</td>\n",
       "      <td>NaN</td>\n",
       "      <td>17627.674984</td>\n",
       "      <td>18234.736219</td>\n",
       "      <td>2.0</td>\n",
       "      <td>126.0</td>\n",
       "      <td>7.0</td>\n",
       "      <td>7.0</td>\n",
       "      <td>1.23</td>\n",
       "    </tr>\n",
       "  </tbody>\n",
       "</table>\n",
       "<p>5 rows × 47 columns</p>\n",
       "</div>"
      ],
      "text/plain": [
       "      SEQN  SDDSRVYR  RIDSTATR  RIAGENDR  RIDAGEYR  RIDAGEMN  RIDRETH1  \\\n",
       "0  83732.0       9.0       2.0       1.0      62.0       NaN       3.0   \n",
       "1  83733.0       9.0       2.0       1.0      53.0       NaN       3.0   \n",
       "2  83734.0       9.0       2.0       1.0      78.0       NaN       3.0   \n",
       "3  83735.0       9.0       2.0       2.0      56.0       NaN       3.0   \n",
       "4  83736.0       9.0       2.0       2.0      42.0       NaN       4.0   \n",
       "\n",
       "   RIDRETH3  RIDEXMON  RIDEXAGM    ...     DMDHREDU  DMDHRMAR  DMDHSEDU  \\\n",
       "0       3.0       1.0       NaN    ...          5.0       1.0       3.0   \n",
       "1       3.0       1.0       NaN    ...          3.0       3.0       NaN   \n",
       "2       3.0       2.0       NaN    ...          3.0       1.0       3.0   \n",
       "3       3.0       2.0       NaN    ...          5.0       6.0       NaN   \n",
       "4       4.0       2.0       NaN    ...          4.0       3.0       NaN   \n",
       "\n",
       "        WTINT2YR       WTMEC2YR  SDMVPSU  SDMVSTRA  INDHHIN2  INDFMIN2  \\\n",
       "0  134671.370419  135629.507405      1.0     125.0      10.0      10.0   \n",
       "1   24328.560239   25282.425927      1.0     125.0       4.0       4.0   \n",
       "2   12400.008522   12575.838818      1.0     131.0       5.0       5.0   \n",
       "3  102717.995647  102078.634508      1.0     131.0      10.0      10.0   \n",
       "4   17627.674984   18234.736219      2.0     126.0       7.0       7.0   \n",
       "\n",
       "   INDFMPIR  \n",
       "0      4.39  \n",
       "1      1.32  \n",
       "2      1.51  \n",
       "3      5.00  \n",
       "4      1.23  \n",
       "\n",
       "[5 rows x 47 columns]"
      ]
     },
     "execution_count": 8,
     "metadata": {},
     "output_type": "execute_result"
    }
   ],
   "source": [
    "demographic.head()"
   ]
  },
  {
   "cell_type": "markdown",
   "metadata": {},
   "source": [
    "### Changed values encoded 5.397605e-79\tback to 0's \n",
    "\n",
    "The value 5.397605e-79 seems to be used instead of 0's in the value cells. This was adjusted and compared to the data dictionary values for accuracy.\t"
   ]
  },
  {
   "cell_type": "code",
   "execution_count": 9,
   "metadata": {
    "collapsed": true
   },
   "outputs": [],
   "source": [
    "demographic = demographic.applymap(lambda x: 0 if x < .0005 else x)"
   ]
  },
  {
   "cell_type": "code",
   "execution_count": 10,
   "metadata": {
    "scrolled": true
   },
   "outputs": [
    {
     "data": {
      "text/plain": [
       "SEQN        0.000000\n",
       "SDDSRVYR    0.000000\n",
       "RIDSTATR    0.000000\n",
       "RIAGENDR    0.000000\n",
       "RIDAGEYR    0.000000\n",
       "RIDAGEMN    0.930298\n",
       "RIDRETH1    0.000000\n",
       "RIDRETH3    0.000000\n",
       "RIDEXMON    0.042824\n",
       "RIDEXAGM    0.592819\n",
       "DMQMILIZ    0.383312\n",
       "DMQADFC     0.947147\n",
       "DMDBORN4    0.000000\n",
       "DMDCITZN    0.000201\n",
       "DMDYRSUS    0.775750\n",
       "DMDEDUC3    0.734530\n",
       "DMDEDUC2    0.426437\n",
       "DMDMARTL    0.426437\n",
       "RIDEXPRG    0.870825\n",
       "SIALANG     0.000000\n",
       "SIAPROXY    0.000100\n",
       "SIAINTRP    0.000000\n",
       "FIALANG     0.032996\n",
       "FIAPROXY    0.032996\n",
       "FIAINTRP    0.032996\n",
       "MIALANG     0.300271\n",
       "MIAPROXY    0.300170\n",
       "MIAINTRP    0.300170\n",
       "AIALANGA    0.402066\n",
       "DMDHHSIZ    0.000000\n",
       "DMDFMSIZ    0.000000\n",
       "DMDHHSZA    0.000000\n",
       "DMDHHSZB    0.000000\n",
       "DMDHHSZE    0.000000\n",
       "DMDHRGND    0.000000\n",
       "DMDHRAGE    0.000000\n",
       "DMDHRBR4    0.039715\n",
       "DMDHREDU    0.039715\n",
       "DMDHRMAR    0.006218\n",
       "DMDHSEDU    0.475880\n",
       "WTINT2YR    0.000000\n",
       "WTMEC2YR    0.000000\n",
       "SDMVPSU     0.000000\n",
       "SDMVSTRA    0.000000\n",
       "INDHHIN2    0.034600\n",
       "INDFMIN2    0.032996\n",
       "INDFMPIR    0.105506\n",
       "dtype: float64"
      ]
     },
     "execution_count": 10,
     "metadata": {},
     "output_type": "execute_result"
    }
   ],
   "source": [
    "# Looking at the null values of the dataframe\n",
    "\n",
    "demographic.isnull().sum()/len(demographic)"
   ]
  },
  {
   "cell_type": "code",
   "execution_count": 11,
   "metadata": {
    "scrolled": true
   },
   "outputs": [
    {
     "data": {
      "text/plain": [
       "SEQN        float64\n",
       "SDDSRVYR    float64\n",
       "RIDSTATR    float64\n",
       "RIAGENDR    float64\n",
       "RIDAGEYR    float64\n",
       "RIDAGEMN    float64\n",
       "RIDRETH1    float64\n",
       "RIDRETH3    float64\n",
       "RIDEXMON    float64\n",
       "RIDEXAGM    float64\n",
       "DMQMILIZ    float64\n",
       "DMQADFC     float64\n",
       "DMDBORN4    float64\n",
       "DMDCITZN    float64\n",
       "DMDYRSUS    float64\n",
       "DMDEDUC3    float64\n",
       "DMDEDUC2    float64\n",
       "DMDMARTL    float64\n",
       "RIDEXPRG    float64\n",
       "SIALANG     float64\n",
       "SIAPROXY    float64\n",
       "SIAINTRP    float64\n",
       "FIALANG     float64\n",
       "FIAPROXY    float64\n",
       "FIAINTRP    float64\n",
       "MIALANG     float64\n",
       "MIAPROXY    float64\n",
       "MIAINTRP    float64\n",
       "AIALANGA    float64\n",
       "DMDHHSIZ    float64\n",
       "DMDFMSIZ    float64\n",
       "DMDHHSZA    float64\n",
       "DMDHHSZB    float64\n",
       "DMDHHSZE    float64\n",
       "DMDHRGND    float64\n",
       "DMDHRAGE    float64\n",
       "DMDHRBR4    float64\n",
       "DMDHREDU    float64\n",
       "DMDHRMAR    float64\n",
       "DMDHSEDU    float64\n",
       "WTINT2YR    float64\n",
       "WTMEC2YR    float64\n",
       "SDMVPSU     float64\n",
       "SDMVSTRA    float64\n",
       "INDHHIN2    float64\n",
       "INDFMIN2    float64\n",
       "INDFMPIR    float64\n",
       "dtype: object"
      ]
     },
     "execution_count": 11,
     "metadata": {},
     "output_type": "execute_result"
    }
   ],
   "source": [
    "demographic.dtypes"
   ]
  },
  {
   "cell_type": "markdown",
   "metadata": {},
   "source": [
    "### Replacing specific values in RIDAGEYR column that are either missing or 0's\n",
    "\n",
    "Both RIDEXAMGM and RIDAGEMN columns have many of the missing and 0's values in RIDAGEYR with exact values in months. I converted the months into years and replaced values into RIDAGEYR"
   ]
  },
  {
   "cell_type": "code",
   "execution_count": 12,
   "metadata": {
    "collapsed": true
   },
   "outputs": [],
   "source": [
    "# Took RIDEXAGM (age in months under 20) and divided by 12 to have values in years instead of months.\n",
    "\n",
    "demographic.RIDEXAGM = demographic.RIDEXAGM.apply(lambda x: x/12.0 if x != np.nan else x)"
   ]
  },
  {
   "cell_type": "code",
   "execution_count": 13,
   "metadata": {
    "collapsed": true
   },
   "outputs": [],
   "source": [
    "# Took RIDAGEMN (age in months between 0 - 24 months) and divided by 12 to have values in years instead of months.\n",
    "\n",
    "demographic.RIDAGEMN = demographic.RIDAGEMN.apply(lambda x: x/12.0 if x != np.nan else x)"
   ]
  },
  {
   "cell_type": "code",
   "execution_count": 14,
   "metadata": {
    "collapsed": true
   },
   "outputs": [],
   "source": [
    "# Taking the indicies of column RIDAGEMN that arent nulls (this will allow me to later merge\n",
    "# specific values of one column's cell values to another)\n",
    "\n",
    "index_1 = demographic[demographic['RIDAGEMN'].notnull()].index"
   ]
  },
  {
   "cell_type": "code",
   "execution_count": 15,
   "metadata": {
    "collapsed": true,
    "scrolled": true
   },
   "outputs": [],
   "source": [
    "# Doing the same as above but with column RIDEXAMGM\n",
    "\n",
    "\n",
    "index_2 = demographic[demographic['RIDEXAGM'].notnull()].index"
   ]
  },
  {
   "cell_type": "code",
   "execution_count": 16,
   "metadata": {},
   "outputs": [
    {
     "data": {
      "text/plain": [
       "0"
      ]
     },
     "execution_count": 16,
     "metadata": {},
     "output_type": "execute_result"
    }
   ],
   "source": [
    "demographic['RIDAGEYR'].isnull().sum()"
   ]
  },
  {
   "cell_type": "code",
   "execution_count": 17,
   "metadata": {
    "collapsed": true
   },
   "outputs": [],
   "source": [
    "# Overwriting RIDAGEYR column values with RIDAGEMN values based on indicies\n",
    "\n",
    "demographic['RIDAGEYR'].iloc[index_1] = demographic['RIDAGEMN'].iloc[index_1]"
   ]
  },
  {
   "cell_type": "code",
   "execution_count": 18,
   "metadata": {
    "collapsed": true
   },
   "outputs": [],
   "source": [
    "# Overwriting RIDAGEYR column values with RIDEXAMGM values based on indicies\n",
    "\n",
    "demographic['RIDAGEYR'].iloc[index_2] = demographic['RIDEXAGM'].iloc[index_2]"
   ]
  },
  {
   "cell_type": "code",
   "execution_count": 19,
   "metadata": {},
   "outputs": [
    {
     "data": {
      "text/html": [
       "<div>\n",
       "<style>\n",
       "    .dataframe thead tr:only-child th {\n",
       "        text-align: right;\n",
       "    }\n",
       "\n",
       "    .dataframe thead th {\n",
       "        text-align: left;\n",
       "    }\n",
       "\n",
       "    .dataframe tbody tr th {\n",
       "        vertical-align: top;\n",
       "    }\n",
       "</style>\n",
       "<table border=\"1\" class=\"dataframe\">\n",
       "  <thead>\n",
       "    <tr style=\"text-align: right;\">\n",
       "      <th></th>\n",
       "      <th>SEQN</th>\n",
       "      <th>SDDSRVYR</th>\n",
       "      <th>RIDSTATR</th>\n",
       "      <th>RIAGENDR</th>\n",
       "      <th>RIDAGEYR</th>\n",
       "      <th>RIDAGEMN</th>\n",
       "      <th>RIDRETH1</th>\n",
       "      <th>RIDRETH3</th>\n",
       "      <th>RIDEXMON</th>\n",
       "      <th>RIDEXAGM</th>\n",
       "      <th>...</th>\n",
       "      <th>DMDHREDU</th>\n",
       "      <th>DMDHRMAR</th>\n",
       "      <th>DMDHSEDU</th>\n",
       "      <th>WTINT2YR</th>\n",
       "      <th>WTMEC2YR</th>\n",
       "      <th>SDMVPSU</th>\n",
       "      <th>SDMVSTRA</th>\n",
       "      <th>INDHHIN2</th>\n",
       "      <th>INDFMIN2</th>\n",
       "      <th>INDFMPIR</th>\n",
       "    </tr>\n",
       "  </thead>\n",
       "  <tbody>\n",
       "    <tr>\n",
       "      <th>311</th>\n",
       "      <td>84043.0</td>\n",
       "      <td>9.0</td>\n",
       "      <td>2.0</td>\n",
       "      <td>2.0</td>\n",
       "      <td>0.0</td>\n",
       "      <td>0.0</td>\n",
       "      <td>1.0</td>\n",
       "      <td>1.0</td>\n",
       "      <td>2.0</td>\n",
       "      <td>0.0</td>\n",
       "      <td>...</td>\n",
       "      <td>1.0</td>\n",
       "      <td>6.0</td>\n",
       "      <td>NaN</td>\n",
       "      <td>5813.173248</td>\n",
       "      <td>6034.358927</td>\n",
       "      <td>1.0</td>\n",
       "      <td>132.0</td>\n",
       "      <td>4.0</td>\n",
       "      <td>4.0</td>\n",
       "      <td>0.65</td>\n",
       "    </tr>\n",
       "    <tr>\n",
       "      <th>1822</th>\n",
       "      <td>85554.0</td>\n",
       "      <td>9.0</td>\n",
       "      <td>2.0</td>\n",
       "      <td>2.0</td>\n",
       "      <td>0.0</td>\n",
       "      <td>0.0</td>\n",
       "      <td>4.0</td>\n",
       "      <td>4.0</td>\n",
       "      <td>2.0</td>\n",
       "      <td>0.0</td>\n",
       "      <td>...</td>\n",
       "      <td>4.0</td>\n",
       "      <td>5.0</td>\n",
       "      <td>NaN</td>\n",
       "      <td>5666.338837</td>\n",
       "      <td>5942.262498</td>\n",
       "      <td>1.0</td>\n",
       "      <td>132.0</td>\n",
       "      <td>4.0</td>\n",
       "      <td>4.0</td>\n",
       "      <td>0.53</td>\n",
       "    </tr>\n",
       "    <tr>\n",
       "      <th>1840</th>\n",
       "      <td>85572.0</td>\n",
       "      <td>9.0</td>\n",
       "      <td>2.0</td>\n",
       "      <td>1.0</td>\n",
       "      <td>0.0</td>\n",
       "      <td>0.0</td>\n",
       "      <td>3.0</td>\n",
       "      <td>3.0</td>\n",
       "      <td>2.0</td>\n",
       "      <td>0.0</td>\n",
       "      <td>...</td>\n",
       "      <td>5.0</td>\n",
       "      <td>2.0</td>\n",
       "      <td>NaN</td>\n",
       "      <td>11244.661089</td>\n",
       "      <td>12075.283857</td>\n",
       "      <td>1.0</td>\n",
       "      <td>131.0</td>\n",
       "      <td>14.0</td>\n",
       "      <td>14.0</td>\n",
       "      <td>3.20</td>\n",
       "    </tr>\n",
       "    <tr>\n",
       "      <th>2968</th>\n",
       "      <td>86700.0</td>\n",
       "      <td>9.0</td>\n",
       "      <td>2.0</td>\n",
       "      <td>1.0</td>\n",
       "      <td>0.0</td>\n",
       "      <td>0.0</td>\n",
       "      <td>3.0</td>\n",
       "      <td>3.0</td>\n",
       "      <td>2.0</td>\n",
       "      <td>0.0</td>\n",
       "      <td>...</td>\n",
       "      <td>4.0</td>\n",
       "      <td>1.0</td>\n",
       "      <td>4.0</td>\n",
       "      <td>11012.991948</td>\n",
       "      <td>11932.657850</td>\n",
       "      <td>2.0</td>\n",
       "      <td>126.0</td>\n",
       "      <td>14.0</td>\n",
       "      <td>14.0</td>\n",
       "      <td>3.13</td>\n",
       "    </tr>\n",
       "    <tr>\n",
       "      <th>3805</th>\n",
       "      <td>87537.0</td>\n",
       "      <td>9.0</td>\n",
       "      <td>2.0</td>\n",
       "      <td>1.0</td>\n",
       "      <td>0.0</td>\n",
       "      <td>0.0</td>\n",
       "      <td>3.0</td>\n",
       "      <td>3.0</td>\n",
       "      <td>1.0</td>\n",
       "      <td>0.0</td>\n",
       "      <td>...</td>\n",
       "      <td>5.0</td>\n",
       "      <td>1.0</td>\n",
       "      <td>5.0</td>\n",
       "      <td>11958.908242</td>\n",
       "      <td>11735.104029</td>\n",
       "      <td>1.0</td>\n",
       "      <td>133.0</td>\n",
       "      <td>1.0</td>\n",
       "      <td>1.0</td>\n",
       "      <td>0.00</td>\n",
       "    </tr>\n",
       "    <tr>\n",
       "      <th>5487</th>\n",
       "      <td>89219.0</td>\n",
       "      <td>9.0</td>\n",
       "      <td>2.0</td>\n",
       "      <td>1.0</td>\n",
       "      <td>0.0</td>\n",
       "      <td>0.0</td>\n",
       "      <td>3.0</td>\n",
       "      <td>3.0</td>\n",
       "      <td>1.0</td>\n",
       "      <td>0.0</td>\n",
       "      <td>...</td>\n",
       "      <td>3.0</td>\n",
       "      <td>1.0</td>\n",
       "      <td>5.0</td>\n",
       "      <td>10520.267300</td>\n",
       "      <td>10534.030047</td>\n",
       "      <td>1.0</td>\n",
       "      <td>125.0</td>\n",
       "      <td>7.0</td>\n",
       "      <td>7.0</td>\n",
       "      <td>1.48</td>\n",
       "    </tr>\n",
       "    <tr>\n",
       "      <th>5760</th>\n",
       "      <td>89492.0</td>\n",
       "      <td>9.0</td>\n",
       "      <td>2.0</td>\n",
       "      <td>2.0</td>\n",
       "      <td>0.0</td>\n",
       "      <td>0.0</td>\n",
       "      <td>3.0</td>\n",
       "      <td>3.0</td>\n",
       "      <td>2.0</td>\n",
       "      <td>0.0</td>\n",
       "      <td>...</td>\n",
       "      <td>3.0</td>\n",
       "      <td>6.0</td>\n",
       "      <td>NaN</td>\n",
       "      <td>13647.840169</td>\n",
       "      <td>13881.276251</td>\n",
       "      <td>2.0</td>\n",
       "      <td>123.0</td>\n",
       "      <td>10.0</td>\n",
       "      <td>10.0</td>\n",
       "      <td>1.85</td>\n",
       "    </tr>\n",
       "    <tr>\n",
       "      <th>6907</th>\n",
       "      <td>90639.0</td>\n",
       "      <td>9.0</td>\n",
       "      <td>1.0</td>\n",
       "      <td>2.0</td>\n",
       "      <td>0.0</td>\n",
       "      <td>0.0</td>\n",
       "      <td>3.0</td>\n",
       "      <td>3.0</td>\n",
       "      <td>NaN</td>\n",
       "      <td>NaN</td>\n",
       "      <td>...</td>\n",
       "      <td>4.0</td>\n",
       "      <td>1.0</td>\n",
       "      <td>5.0</td>\n",
       "      <td>10991.771723</td>\n",
       "      <td>0.000000</td>\n",
       "      <td>2.0</td>\n",
       "      <td>126.0</td>\n",
       "      <td>15.0</td>\n",
       "      <td>15.0</td>\n",
       "      <td>4.57</td>\n",
       "    </tr>\n",
       "    <tr>\n",
       "      <th>7538</th>\n",
       "      <td>91270.0</td>\n",
       "      <td>9.0</td>\n",
       "      <td>2.0</td>\n",
       "      <td>2.0</td>\n",
       "      <td>0.0</td>\n",
       "      <td>0.0</td>\n",
       "      <td>2.0</td>\n",
       "      <td>2.0</td>\n",
       "      <td>1.0</td>\n",
       "      <td>0.0</td>\n",
       "      <td>...</td>\n",
       "      <td>2.0</td>\n",
       "      <td>1.0</td>\n",
       "      <td>2.0</td>\n",
       "      <td>5839.766431</td>\n",
       "      <td>6061.963956</td>\n",
       "      <td>1.0</td>\n",
       "      <td>127.0</td>\n",
       "      <td>14.0</td>\n",
       "      <td>14.0</td>\n",
       "      <td>3.45</td>\n",
       "    </tr>\n",
       "    <tr>\n",
       "      <th>8693</th>\n",
       "      <td>92425.0</td>\n",
       "      <td>9.0</td>\n",
       "      <td>2.0</td>\n",
       "      <td>1.0</td>\n",
       "      <td>0.0</td>\n",
       "      <td>0.0</td>\n",
       "      <td>3.0</td>\n",
       "      <td>3.0</td>\n",
       "      <td>2.0</td>\n",
       "      <td>0.0</td>\n",
       "      <td>...</td>\n",
       "      <td>5.0</td>\n",
       "      <td>1.0</td>\n",
       "      <td>5.0</td>\n",
       "      <td>20337.046293</td>\n",
       "      <td>20363.651475</td>\n",
       "      <td>1.0</td>\n",
       "      <td>122.0</td>\n",
       "      <td>14.0</td>\n",
       "      <td>14.0</td>\n",
       "      <td>4.83</td>\n",
       "    </tr>\n",
       "    <tr>\n",
       "      <th>9569</th>\n",
       "      <td>93301.0</td>\n",
       "      <td>9.0</td>\n",
       "      <td>2.0</td>\n",
       "      <td>1.0</td>\n",
       "      <td>0.0</td>\n",
       "      <td>0.0</td>\n",
       "      <td>1.0</td>\n",
       "      <td>1.0</td>\n",
       "      <td>1.0</td>\n",
       "      <td>0.0</td>\n",
       "      <td>...</td>\n",
       "      <td>1.0</td>\n",
       "      <td>1.0</td>\n",
       "      <td>1.0</td>\n",
       "      <td>7338.808821</td>\n",
       "      <td>7187.519305</td>\n",
       "      <td>1.0</td>\n",
       "      <td>121.0</td>\n",
       "      <td>7.0</td>\n",
       "      <td>7.0</td>\n",
       "      <td>1.02</td>\n",
       "    </tr>\n",
       "  </tbody>\n",
       "</table>\n",
       "<p>11 rows × 47 columns</p>\n",
       "</div>"
      ],
      "text/plain": [
       "         SEQN  SDDSRVYR  RIDSTATR  RIAGENDR  RIDAGEYR  RIDAGEMN  RIDRETH1  \\\n",
       "311   84043.0       9.0       2.0       2.0       0.0       0.0       1.0   \n",
       "1822  85554.0       9.0       2.0       2.0       0.0       0.0       4.0   \n",
       "1840  85572.0       9.0       2.0       1.0       0.0       0.0       3.0   \n",
       "2968  86700.0       9.0       2.0       1.0       0.0       0.0       3.0   \n",
       "3805  87537.0       9.0       2.0       1.0       0.0       0.0       3.0   \n",
       "5487  89219.0       9.0       2.0       1.0       0.0       0.0       3.0   \n",
       "5760  89492.0       9.0       2.0       2.0       0.0       0.0       3.0   \n",
       "6907  90639.0       9.0       1.0       2.0       0.0       0.0       3.0   \n",
       "7538  91270.0       9.0       2.0       2.0       0.0       0.0       2.0   \n",
       "8693  92425.0       9.0       2.0       1.0       0.0       0.0       3.0   \n",
       "9569  93301.0       9.0       2.0       1.0       0.0       0.0       1.0   \n",
       "\n",
       "      RIDRETH3  RIDEXMON  RIDEXAGM    ...     DMDHREDU  DMDHRMAR  DMDHSEDU  \\\n",
       "311        1.0       2.0       0.0    ...          1.0       6.0       NaN   \n",
       "1822       4.0       2.0       0.0    ...          4.0       5.0       NaN   \n",
       "1840       3.0       2.0       0.0    ...          5.0       2.0       NaN   \n",
       "2968       3.0       2.0       0.0    ...          4.0       1.0       4.0   \n",
       "3805       3.0       1.0       0.0    ...          5.0       1.0       5.0   \n",
       "5487       3.0       1.0       0.0    ...          3.0       1.0       5.0   \n",
       "5760       3.0       2.0       0.0    ...          3.0       6.0       NaN   \n",
       "6907       3.0       NaN       NaN    ...          4.0       1.0       5.0   \n",
       "7538       2.0       1.0       0.0    ...          2.0       1.0       2.0   \n",
       "8693       3.0       2.0       0.0    ...          5.0       1.0       5.0   \n",
       "9569       1.0       1.0       0.0    ...          1.0       1.0       1.0   \n",
       "\n",
       "          WTINT2YR      WTMEC2YR  SDMVPSU  SDMVSTRA  INDHHIN2  INDFMIN2  \\\n",
       "311    5813.173248   6034.358927      1.0     132.0       4.0       4.0   \n",
       "1822   5666.338837   5942.262498      1.0     132.0       4.0       4.0   \n",
       "1840  11244.661089  12075.283857      1.0     131.0      14.0      14.0   \n",
       "2968  11012.991948  11932.657850      2.0     126.0      14.0      14.0   \n",
       "3805  11958.908242  11735.104029      1.0     133.0       1.0       1.0   \n",
       "5487  10520.267300  10534.030047      1.0     125.0       7.0       7.0   \n",
       "5760  13647.840169  13881.276251      2.0     123.0      10.0      10.0   \n",
       "6907  10991.771723      0.000000      2.0     126.0      15.0      15.0   \n",
       "7538   5839.766431   6061.963956      1.0     127.0      14.0      14.0   \n",
       "8693  20337.046293  20363.651475      1.0     122.0      14.0      14.0   \n",
       "9569   7338.808821   7187.519305      1.0     121.0       7.0       7.0   \n",
       "\n",
       "      INDFMPIR  \n",
       "311       0.65  \n",
       "1822      0.53  \n",
       "1840      3.20  \n",
       "2968      3.13  \n",
       "3805      0.00  \n",
       "5487      1.48  \n",
       "5760      1.85  \n",
       "6907      4.57  \n",
       "7538      3.45  \n",
       "8693      4.83  \n",
       "9569      1.02  \n",
       "\n",
       "[11 rows x 47 columns]"
      ]
     },
     "execution_count": 19,
     "metadata": {},
     "output_type": "execute_result"
    }
   ],
   "source": [
    "demographic[demographic['RIDAGEYR'] == 0]"
   ]
  },
  {
   "cell_type": "markdown",
   "metadata": {},
   "source": [
    "### Dropping features not being used and renaming columns"
   ]
  },
  {
   "cell_type": "code",
   "execution_count": 20,
   "metadata": {
    "collapsed": true
   },
   "outputs": [],
   "source": [
    "demographic = demographic.drop(['SDDSRVYR', 'RIDSTATR', 'RIDAGEMN', 'RIDRETH1', 'RIDEXMON', \n",
    "                                'RIDEXAGM', 'DMQADFC', 'DMDYRSUS', 'RIDEXPRG', 'SIALANG', 'SIAPROXY', \n",
    "                                'SIAINTRP', 'FIALANG', 'FIAPROXY', 'FIAINTRP', 'MIALANG', 'MIAPROXY', \n",
    "                                'MIAINTRP','AIALANGA', 'DMDHHSIZ', 'DMDFMSIZ', 'DMDHRGND', 'DMDHRAGE',\n",
    "                                'DMDHRBR4', 'DMDHREDU', 'DMDHRMAR', 'DMDHSEDU', 'WTINT2YR','WTMEC2YR',\n",
    "                                'SDMVPSU', 'SDMVSTRA', 'INDFMIN2', 'INDFMPIR'], axis = 1)"
   ]
  },
  {
   "cell_type": "code",
   "execution_count": 21,
   "metadata": {
    "collapsed": true
   },
   "outputs": [],
   "source": [
    "demographic = demographic.astype(float)"
   ]
  },
  {
   "cell_type": "code",
   "execution_count": 22,
   "metadata": {
    "collapsed": true
   },
   "outputs": [],
   "source": [
    "demographic.columns = ['SEQN', 'gender', 'age', 'ethnicity', 'veteran_status', 'country_of_birth', \n",
    "                       'citizenship_status', 'education_age6to19', 'education_age20plus', 'marital_status', \n",
    "                       'household_under5', 'household_6to17','household_over60',\n",
    "                       'household_income']"
   ]
  },
  {
   "cell_type": "markdown",
   "metadata": {},
   "source": [
    "## Looking at Feature Distributions"
   ]
  },
  {
   "cell_type": "markdown",
   "metadata": {},
   "source": [
    "### Distribution of Ages\n",
    "---"
   ]
  },
  {
   "cell_type": "code",
   "execution_count": 23,
   "metadata": {
    "collapsed": true
   },
   "outputs": [],
   "source": [
    "# Looking at the distribution of ages\n",
    "\n",
    "df_age = demographic[['SEQN', 'age']]"
   ]
  },
  {
   "cell_type": "code",
   "execution_count": 24,
   "metadata": {
    "scrolled": false
   },
   "outputs": [
    {
     "data": {
      "image/png": "[encoded data removed]",
      "text/plain": [
       "<matplotlib.figure.Figure at 0x10ac92d90>"
      ]
     },
     "metadata": {},
     "output_type": "display_data"
    }
   ],
   "source": [
    "fig, ax = plt.subplots(figsize = (15,5))\n",
    "ax.hist(df_age['age'], bins = 40, edgecolor='black', linewidth = 1, color = '#006699')\n",
    "\n",
    "ax.set_title('Age Distribution', fontsize=30)\n",
    "\n",
    "ax.set_xlabel('Ages', fontsize=15)\n",
    "ax.set_ylabel('Number of Individuals', fontsize=15);\n"
   ]
  },
  {
   "cell_type": "markdown",
   "metadata": {},
   "source": [
    "### Distribution of Races\n",
    "----\n",
    "\n",
    "The encoded values are shown below:\n",
    "* 1\tMexican American\t\n",
    "* 2\tOther Hispanic\t\n",
    "* 3\tNon-Hispanic White\n",
    "* 4\tNon-Hispanic Black\n",
    "* 5\tNon-Hispanic Asian\t\n",
    "* 6\tOther Race - Including Multi-Racial\t\n"
   ]
  },
  {
   "cell_type": "code",
   "execution_count": 25,
   "metadata": {
    "collapsed": true
   },
   "outputs": [],
   "source": [
    "demographic.ethnicity = demographic.ethnicity.apply(lambda x: 5 if x == 6 else 6 if x == 7 else x)"
   ]
  },
  {
   "cell_type": "code",
   "execution_count": 26,
   "metadata": {
    "collapsed": true
   },
   "outputs": [],
   "source": [
    "df_ethnicity = demographic[['SEQN', 'ethnicity']]"
   ]
  },
  {
   "cell_type": "code",
   "execution_count": 27,
   "metadata": {},
   "outputs": [
    {
     "data": {
      "text/plain": [
       "3.0    3066\n",
       "4.0    2129\n",
       "1.0    1921\n",
       "2.0    1308\n",
       "5.0    1042\n",
       "6.0     505\n",
       "Name: ethnicity, dtype: int64"
      ]
     },
     "execution_count": 27,
     "metadata": {},
     "output_type": "execute_result"
    }
   ],
   "source": [
    "df_ethnicity.ethnicity.value_counts()"
   ]
  },
  {
   "cell_type": "code",
   "execution_count": 28,
   "metadata": {
    "collapsed": true
   },
   "outputs": [],
   "source": [
    "# [plt.cm.Paired(range(len(df_ethnicity['RIDRETH3'].value_counts())))]"
   ]
  },
  {
   "cell_type": "code",
   "execution_count": 29,
   "metadata": {
    "scrolled": false
   },
   "outputs": [
    {
     "data": {
      "image/png": "[encoded data removed]",
      "text/plain": [
       "<matplotlib.figure.Figure at 0x10c162450>"
      ]
     },
     "metadata": {},
     "output_type": "display_data"
    }
   ],
   "source": [
    "fig, ax = plt.subplots(figsize = (10,5))\n",
    "\n",
    "ax = df_ethnicity['ethnicity'].value_counts().plot(kind='bar', \n",
    "                                                  edgecolor = ['black','black','black','black','black','black'], \n",
    "                                                  linewidth = 1, \n",
    "                                                  color = '#006699')\n",
    "\n",
    "\n",
    "ax.set_title('Ethnicity Distribution', fontsize=30)\n",
    "\n",
    "ax.set_xlabel('Race', fontsize=15)\n",
    "ax.set_ylabel('Number of Individuals', fontsize=15)\n",
    "\n",
    "labels = ['3 - Non-Hispanic White', '4 - Non-Hispanic Black', \n",
    "'1 - Mexican American', '2 - Other Hispanic', '5 - Non-Hispanic Asian', \n",
    "'6 - Other Race - Including Multi-Racial']\n",
    "\n",
    "ax.set_xticklabels(labels, rotation = 45, ha = 'right');"
   ]
  },
  {
   "cell_type": "markdown",
   "metadata": {},
   "source": [
    "### Distribution of Genders\n",
    "---\n",
    "\n",
    "Originally males were encoded as 1 and females were encoded as 2, I had to binarize the values so males are now encoded as 0 and females are encoded as 1"
   ]
  },
  {
   "cell_type": "code",
   "execution_count": 30,
   "metadata": {
    "collapsed": true
   },
   "outputs": [],
   "source": [
    "demographic.gender = demographic.gender.apply(lambda x: 0 if x == 1 else 1)"
   ]
  },
  {
   "cell_type": "code",
   "execution_count": 31,
   "metadata": {
    "collapsed": true
   },
   "outputs": [],
   "source": [
    "df_gender = demographic[['SEQN', 'gender']]"
   ]
  },
  {
   "cell_type": "code",
   "execution_count": 32,
   "metadata": {},
   "outputs": [
    {
     "data": {
      "text/plain": [
       "1    5079\n",
       "0    4892\n",
       "Name: gender, dtype: int64"
      ]
     },
     "execution_count": 32,
     "metadata": {},
     "output_type": "execute_result"
    }
   ],
   "source": [
    "# Females are 0, Males are 1\n",
    "df_gender.gender.value_counts()"
   ]
  },
  {
   "cell_type": "code",
   "execution_count": 33,
   "metadata": {},
   "outputs": [
    {
     "data": {
      "image/png": "[encoded data removed]",
      "text/plain": [
       "<matplotlib.figure.Figure at 0x10f036110>"
      ]
     },
     "metadata": {},
     "output_type": "display_data"
    }
   ],
   "source": [
    "fig, ax = plt.subplots(figsize = (10,5))\n",
    "\n",
    "ax = df_gender['gender'].value_counts().plot(kind='bar', \n",
    "                                                  edgecolor = ['black','black'], \n",
    "                                                  linewidth = 1, color = '#006699')\n",
    "\n",
    "\n",
    "ax.set_title('Gender Distribution', fontsize=30)\n",
    "\n",
    "ax.set_xlabel('Genders', fontsize=15)\n",
    "ax.set_ylabel('Number of Individuals', fontsize=15)\n",
    "\n",
    "labels = ['0 - Female', '1 - Male']\n",
    "\n",
    "ax.set_xticklabels(labels, rotation = 45, ha = 'right', fontsize = 10);"
   ]
  },
  {
   "cell_type": "markdown",
   "metadata": {},
   "source": [
    "### Distribution of Marital Status\n",
    "---\n",
    "\n",
    "The encoded values are shown below:\n",
    "* 1 - Married\n",
    "* 2\t- Widowed\n",
    "* 3\t- Divorced\n",
    "* 4\t- Separated\t\n",
    "* 5\t- Never married\n",
    "* 6\t- Living with partner"
   ]
  },
  {
   "cell_type": "markdown",
   "metadata": {},
   "source": [
    "### Are the nan values really nan's?\n",
    "\n",
    "Looking at the data for the marital status column, I noticed the data to have nan for individuals that were under the age of 20. The data dictionary mentions that those under 20 that were married were not included but according to the US Cencus Bureau the median marriage age for men is 28 and 25 for women so I believe the majority of individuals under the age of 20 are unmarried. Assuming this, those with nan's are replaced with the never married label."
   ]
  },
  {
   "cell_type": "code",
   "execution_count": 34,
   "metadata": {},
   "outputs": [
    {
     "data": {
      "text/plain": [
       "(4252, 14)"
      ]
     },
     "execution_count": 34,
     "metadata": {},
     "output_type": "execute_result"
    }
   ],
   "source": [
    "demographic[demographic.marital_status.isnull()].shape"
   ]
  },
  {
   "cell_type": "code",
   "execution_count": 35,
   "metadata": {},
   "outputs": [
    {
     "data": {
      "text/plain": [
       "(4111, 14)"
      ]
     },
     "execution_count": 35,
     "metadata": {},
     "output_type": "execute_result"
    }
   ],
   "source": [
    "demographic[(demographic.marital_status.isnull()) & (demographic.age<19)].shape"
   ]
  },
  {
   "cell_type": "code",
   "execution_count": 36,
   "metadata": {},
   "outputs": [
    {
     "data": {
      "text/plain": [
       "array([  1.,   3.,   6.,   4.,  nan,   5.,   2.,  77.,  99.])"
      ]
     },
     "execution_count": 36,
     "metadata": {},
     "output_type": "execute_result"
    }
   ],
   "source": [
    "pd.unique(demographic.marital_status)"
   ]
  },
  {
   "cell_type": "markdown",
   "metadata": {},
   "source": [
    "#### Replaced the columns Refused and Dont Know with value 5 - never married and also replaced Nan's with value 5 - never married"
   ]
  },
  {
   "cell_type": "code",
   "execution_count": 37,
   "metadata": {
    "collapsed": true
   },
   "outputs": [],
   "source": [
    "demographic.marital_status = demographic.marital_status.apply(lambda x: 5 if x > 10 else x)"
   ]
  },
  {
   "cell_type": "code",
   "execution_count": 38,
   "metadata": {
    "collapsed": true
   },
   "outputs": [],
   "source": [
    "demographic.marital_status = demographic.marital_status.fillna(5)"
   ]
  },
  {
   "cell_type": "code",
   "execution_count": 39,
   "metadata": {},
   "outputs": [
    {
     "data": {
      "text/plain": [
       "array([ 1.,  3.,  6.,  4.,  5.,  2.])"
      ]
     },
     "execution_count": 39,
     "metadata": {},
     "output_type": "execute_result"
    }
   ],
   "source": [
    "pd.unique(demographic.marital_status)"
   ]
  },
  {
   "cell_type": "code",
   "execution_count": 40,
   "metadata": {
    "collapsed": true
   },
   "outputs": [],
   "source": [
    "df_maritalstatus = demographic[['SEQN', 'marital_status']]"
   ]
  },
  {
   "cell_type": "code",
   "execution_count": 41,
   "metadata": {
    "scrolled": false
   },
   "outputs": [
    {
     "data": {
      "image/png": "[encoded data removed]",
      "text/plain": [
       "<matplotlib.figure.Figure at 0x10c17c650>"
      ]
     },
     "metadata": {},
     "output_type": "display_data"
    }
   ],
   "source": [
    "fig, ax = plt.subplots(figsize = (10,5))\n",
    "\n",
    "ax = df_maritalstatus['marital_status'].value_counts().plot(kind='bar', \n",
    "                                                  edgecolor = ['black','black','black',\n",
    "                                                               'black','black','black'], \n",
    "                                                  linewidth= 1, \n",
    "                                                  color = '#006699')\n",
    "\n",
    "ax.set_title('Marital Status', fontsize=30)\n",
    "\n",
    "ax.set_xlabel('Status', fontsize=15)\n",
    "ax.set_ylabel('Number of Individuals', fontsize=15)\n",
    "\n",
    "labels = ['5 - Never married', '1 - Married', '3 - Divorced',\n",
    "          '6 - Living with partner', '2 - Widowed',  '4 - Separated']\n",
    "\n",
    "ax.set_xticklabels(labels, rotation = 45, ha = 'right');"
   ]
  },
  {
   "cell_type": "markdown",
   "metadata": {},
   "source": [
    "### Education Distribution\n",
    "---"
   ]
  },
  {
   "cell_type": "markdown",
   "metadata": {},
   "source": [
    "#### Combining education columns together\n",
    "\n",
    "Columns **education_age6to19** and **education_age20plus** are both columns on educations. Before combining the columns, I have to check the indicies that match. Luckily, shown below, the non null values in both columns dont intersect so we can easily combine the columns together without fear of overwriting cells with incorrect data. I also had to bucket certain binary values in column **education_age6to19** to conform with the **education_age20plus** column shown below:\n",
    "\n",
    "    Code 1 - Less than 9th grade\n",
    "    Code 2 - 9-11th grade (Includes 12th grade with no diploma)\t\n",
    "    Code 3 - High school graduate/GED or equivalent\t\t\n",
    "    Code 4 - Some college or AA degree\t\n",
    "    Code 5 - College graduate or above"
   ]
  },
  {
   "cell_type": "code",
   "execution_count": 42,
   "metadata": {
    "collapsed": true
   },
   "outputs": [],
   "source": [
    "# Indicies of only non null values in column\n",
    "\n",
    "inx = demographic[demographic.education_age6to19.notnull()].index"
   ]
  },
  {
   "cell_type": "code",
   "execution_count": 43,
   "metadata": {
    "collapsed": true
   },
   "outputs": [],
   "source": [
    "# Indicies of only non null values in column\n",
    "\n",
    "iny = demographic[demographic.education_age20plus.notnull()].index"
   ]
  },
  {
   "cell_type": "code",
   "execution_count": 44,
   "metadata": {},
   "outputs": [
    {
     "data": {
      "text/plain": [
       "2647"
      ]
     },
     "execution_count": 44,
     "metadata": {},
     "output_type": "execute_result"
    }
   ],
   "source": [
    "len(inx)"
   ]
  },
  {
   "cell_type": "code",
   "execution_count": 45,
   "metadata": {},
   "outputs": [
    {
     "data": {
      "text/plain": [
       "5719"
      ]
     },
     "execution_count": 45,
     "metadata": {},
     "output_type": "execute_result"
    }
   ],
   "source": [
    "len(iny)"
   ]
  },
  {
   "cell_type": "code",
   "execution_count": 46,
   "metadata": {},
   "outputs": [
    {
     "data": {
      "text/plain": [
       "5719"
      ]
     },
     "execution_count": 46,
     "metadata": {},
     "output_type": "execute_result"
    }
   ],
   "source": [
    "# Checks each set and removes two of the same sets values if any of the unique values comes up\n",
    "\n",
    "len(list(set(iny) - set(inx)))"
   ]
  },
  {
   "cell_type": "code",
   "execution_count": 47,
   "metadata": {},
   "outputs": [
    {
     "data": {
      "text/plain": [
       "2647"
      ]
     },
     "execution_count": 47,
     "metadata": {},
     "output_type": "execute_result"
    }
   ],
   "source": [
    "# Did this for both arrays to make sure\n",
    "\n",
    "len(list(set(inx) - set(iny)))"
   ]
  },
  {
   "cell_type": "code",
   "execution_count": 48,
   "metadata": {
    "collapsed": true
   },
   "outputs": [],
   "source": [
    "demographic.education_age6to19 = demographic.education_age6to19.apply(lambda x: \n",
    "                                                                   1 if x in [0, 1, 2, 3, 4, 5, 6, 7, 8, 55, 66]\\\n",
    "                                                                   else 2 if x in [9, 10, 11, 12]\\\n",
    "                                                                   else 3 if x in [13, 14]\\\n",
    "                                                                   else 4 if x == 15\\\n",
    "                                                                   else x)"
   ]
  },
  {
   "cell_type": "code",
   "execution_count": 49,
   "metadata": {},
   "outputs": [
    {
     "name": "stderr",
     "output_type": "stream",
     "text": [
      "/Users/jack/anaconda2/lib/python2.7/site-packages/pandas/core/indexing.py:179: SettingWithCopyWarning: \n",
      "A value is trying to be set on a copy of a slice from a DataFrame\n",
      "\n",
      "See the caveats in the documentation: http://pandas.pydata.org/pandas-docs/stable/indexing.html#indexing-view-versus-copy\n",
      "  self._setitem_with_indexer(indexer, value)\n"
     ]
    }
   ],
   "source": [
    "demographic.education_age20plus.iloc[demographic[demographic.education_age6to19.notnull()].index] = \\\n",
    "demographic.education_age6to19.iloc[demographic[demographic.education_age6to19.notnull()].index]"
   ]
  },
  {
   "cell_type": "code",
   "execution_count": 50,
   "metadata": {},
   "outputs": [
    {
     "data": {
      "text/plain": [
       "'The total number of row values for education should be 8366'"
      ]
     },
     "execution_count": 50,
     "metadata": {},
     "output_type": "execute_result"
    }
   ],
   "source": [
    "'The total number of row values for education should be ' + str(5719 + 2647)"
   ]
  },
  {
   "cell_type": "code",
   "execution_count": 51,
   "metadata": {},
   "outputs": [
    {
     "data": {
      "text/plain": [
       "(8366, 14)"
      ]
     },
     "execution_count": 51,
     "metadata": {},
     "output_type": "execute_result"
    }
   ],
   "source": [
    "demographic[demographic.education_age20plus.notnull()].shape"
   ]
  },
  {
   "cell_type": "markdown",
   "metadata": {},
   "source": [
    "#### Setting values that were assigned \"Don't Know\" (9 and 99) to Nan's\t"
   ]
  },
  {
   "cell_type": "code",
   "execution_count": 52,
   "metadata": {
    "collapsed": true
   },
   "outputs": [],
   "source": [
    "demographic.education_age20plus = demographic.education_age20plus.apply(lambda x: np.nan if x > 8 else x)"
   ]
  },
  {
   "cell_type": "code",
   "execution_count": 53,
   "metadata": {},
   "outputs": [
    {
     "data": {
      "text/plain": [
       "8360"
      ]
     },
     "execution_count": 53,
     "metadata": {},
     "output_type": "execute_result"
    }
   ],
   "source": [
    "demographic.education_age20plus.notnull().sum()"
   ]
  },
  {
   "cell_type": "markdown",
   "metadata": {},
   "source": [
    "#### Changing education column name and dropping education_age6to19 column"
   ]
  },
  {
   "cell_type": "code",
   "execution_count": 54,
   "metadata": {
    "collapsed": true
   },
   "outputs": [],
   "source": [
    "demographic = demographic.rename(columns = {'education_age20plus':'education'})"
   ]
  },
  {
   "cell_type": "code",
   "execution_count": 55,
   "metadata": {
    "collapsed": true,
    "scrolled": true
   },
   "outputs": [],
   "source": [
    "demographic= demographic.drop('education_age6to19', axis = 1)"
   ]
  },
  {
   "cell_type": "code",
   "execution_count": 56,
   "metadata": {},
   "outputs": [
    {
     "data": {
      "text/plain": [
       "Index([u'SEQN', u'gender', u'age', u'ethnicity', u'veteran_status',\n",
       "       u'country_of_birth', u'citizenship_status', u'education',\n",
       "       u'marital_status', u'household_under5', u'household_6to17',\n",
       "       u'household_over60', u'household_income'],\n",
       "      dtype='object')"
      ]
     },
     "execution_count": 56,
     "metadata": {},
     "output_type": "execute_result"
    }
   ],
   "source": [
    "demographic.columns"
   ]
  },
  {
   "cell_type": "markdown",
   "metadata": {},
   "source": [
    "#### Lets look at nan's for education\n",
    "\n",
    "Looking at the missing values, I wanted to see what were the age values for the those without an education value. The mean age for individuals with missing education values was 2.9 which leads me to believe their education level has to be below 9th grade. To validate this, I rounded the ages and looked at all the age groupings and saw all but 5 values were below the age of 13-14, the generally accepted age for those below 9th grade. Of the 5 values with ages above the 9th grade standard, they were of age 72 and 80+. I just applied them to the less than 9th grade education value, I dont believe this will affect our model in extensively."
   ]
  },
  {
   "cell_type": "code",
   "execution_count": 57,
   "metadata": {},
   "outputs": [
    {
     "data": {
      "text/plain": [
       "2.860749017173594"
      ]
     },
     "execution_count": 57,
     "metadata": {},
     "output_type": "execute_result"
    }
   ],
   "source": [
    "demographic[demographic.education.isnull()]['age'].mean()"
   ]
  },
  {
   "cell_type": "code",
   "execution_count": 58,
   "metadata": {},
   "outputs": [
    {
     "data": {
      "text/plain": [
       "2.0     327\n",
       "1.0     309\n",
       "3.0     234\n",
       "4.0     224\n",
       "0.0     207\n",
       "5.0     201\n",
       "6.0     103\n",
       "80.0      4\n",
       "12.0      1\n",
       "72.0      1\n",
       "Name: age, dtype: int64"
      ]
     },
     "execution_count": 58,
     "metadata": {},
     "output_type": "execute_result"
    }
   ],
   "source": [
    "demographic[demographic.education.isnull()]['age'].apply(lambda x: np.round(x)).value_counts()"
   ]
  },
  {
   "cell_type": "code",
   "execution_count": 59,
   "metadata": {},
   "outputs": [
    {
     "data": {
      "image/png": "[encoded data removed]",
      "text/plain": [
       "<matplotlib.figure.Figure at 0x10eff3350>"
      ]
     },
     "metadata": {},
     "output_type": "display_data"
    }
   ],
   "source": [
    "fig, ax = plt.subplots(figsize = (10,5))\n",
    "\n",
    "ax = demographic[demographic.education.isnull()]['age'].apply(lambda x: np.round(x)).value_counts().plot(kind = 'bar')\n"
   ]
  },
  {
   "cell_type": "code",
   "execution_count": 60,
   "metadata": {
    "collapsed": true
   },
   "outputs": [],
   "source": [
    "demographic.education = demographic.education.fillna(1)"
   ]
  },
  {
   "cell_type": "code",
   "execution_count": 61,
   "metadata": {
    "collapsed": true
   },
   "outputs": [],
   "source": [
    "df_education = demographic[['SEQN', 'education']]"
   ]
  },
  {
   "cell_type": "code",
   "execution_count": 62,
   "metadata": {},
   "outputs": [
    {
     "data": {
      "image/png": "[encoded data removed]",
      "text/plain": [
       "<matplotlib.figure.Figure at 0x10eff3050>"
      ]
     },
     "metadata": {},
     "output_type": "display_data"
    }
   ],
   "source": [
    "fig, ax = plt.subplots(figsize = (10,5))\n",
    "\n",
    "ax = df_education['education'].value_counts().plot(kind='bar', \n",
    "                                                  edgecolor = ['black','black','black','black','black'], \n",
    "                                                  linewidth = 1, \n",
    "                                                  color = '#006699')\n",
    "\n",
    "\n",
    "ax.set_title('Education Level', fontsize=30)\n",
    "\n",
    "ax.set_xlabel('Education', fontsize=15)\n",
    "ax.set_ylabel('Number of Individuals', fontsize=15)\n",
    "\n",
    "\n",
    "labels = ['1 - Less than 9th grade', '4 - Some college or AA degree', \n",
    "          '5 - College graduate or above', '3 - High school graduate/ GED', \n",
    "          '2 - 9-11th grade (Includes 12th w/o diploma)']\n",
    "\n",
    "ax.set_xticklabels(labels, rotation = 45, ha = 'right');"
   ]
  },
  {
   "cell_type": "markdown",
   "metadata": {},
   "source": [
    "### Veteran Status Distribution\n",
    "---\n",
    "\n",
    "The encoded values are shown below:\n",
    "* 0 - Yes\n",
    "* 1 - No\n",
    "\n",
    "Had to binarize these features so Yes is set as 0 and No is set as 1"
   ]
  },
  {
   "cell_type": "markdown",
   "metadata": {},
   "source": [
    "#### Veteran Nan's\n",
    "\n",
    "Like the education column, I wanted to see what were the age values for the those whole didnt serve in the military. The mean age for individuals with missing veteran status values was 7.6 which leads me to believe the age group of the missing nan's are quite low. To validate this, I rounded the ages and looked at all the age groupings and saw all the values below the age of 18. The minimum age to serve in the military is 18 (17 with parental consent) so I am making the assumption that the individuals with nan values are not part of the military. "
   ]
  },
  {
   "cell_type": "code",
   "execution_count": 63,
   "metadata": {},
   "outputs": [
    {
     "data": {
      "text/plain": [
       "7.585644514215951"
      ]
     },
     "execution_count": 63,
     "metadata": {},
     "output_type": "execute_result"
    }
   ],
   "source": [
    "demographic[demographic.veteran_status.isnull()]['age'].mean()"
   ]
  },
  {
   "cell_type": "code",
   "execution_count": 64,
   "metadata": {},
   "outputs": [
    {
     "data": {
      "text/plain": [
       "2.0     327\n",
       "1.0     309\n",
       "8.0     259\n",
       "3.0     234\n",
       "4.0     224\n",
       "10.0    222\n",
       "6.0     218\n",
       "12.0    212\n",
       "9.0     211\n",
       "0.0     207\n",
       "7.0     203\n",
       "11.0    201\n",
       "5.0     201\n",
       "14.0    193\n",
       "15.0    182\n",
       "13.0    167\n",
       "16.0    164\n",
       "17.0     88\n",
       "Name: age, dtype: int64"
      ]
     },
     "execution_count": 64,
     "metadata": {},
     "output_type": "execute_result"
    }
   ],
   "source": [
    "demographic[demographic.veteran_status.isnull()]['age'].round().value_counts()"
   ]
  },
  {
   "cell_type": "code",
   "execution_count": 65,
   "metadata": {
    "scrolled": true
   },
   "outputs": [
    {
     "data": {
      "text/plain": [
       "(3822, 13)"
      ]
     },
     "execution_count": 65,
     "metadata": {},
     "output_type": "execute_result"
    }
   ],
   "source": [
    "demographic[demographic.veteran_status.isnull()].shape"
   ]
  },
  {
   "cell_type": "code",
   "execution_count": 66,
   "metadata": {
    "collapsed": true
   },
   "outputs": [],
   "source": [
    "demographic.veteran_status = demographic.veteran_status.fillna(2)"
   ]
  },
  {
   "cell_type": "code",
   "execution_count": 67,
   "metadata": {
    "collapsed": true
   },
   "outputs": [],
   "source": [
    "demographic.veteran_status = demographic.veteran_status.apply(lambda x: 0 if x == 1 else 1)"
   ]
  },
  {
   "cell_type": "code",
   "execution_count": 68,
   "metadata": {
    "collapsed": true
   },
   "outputs": [],
   "source": [
    "df_veteran = demographic[['SEQN', 'veteran_status']]"
   ]
  },
  {
   "cell_type": "code",
   "execution_count": 69,
   "metadata": {},
   "outputs": [
    {
     "data": {
      "image/png": "[encoded data removed]",
      "text/plain": [
       "<matplotlib.figure.Figure at 0x10ac921d0>"
      ]
     },
     "metadata": {},
     "output_type": "display_data"
    }
   ],
   "source": [
    "fig, ax = plt.subplots(figsize = (10,5))\n",
    "\n",
    "ax = df_veteran['veteran_status'].value_counts().plot(kind='bar', \n",
    "                                                  edgecolor = ['black','black'], \n",
    "                                                  linewidth = 1, \n",
    "                                                  color = '#006699')\n",
    "\n",
    "\n",
    "ax.set_title('Veteran Status', fontsize=30)\n",
    "\n",
    "ax.set_xlabel('Veteran', fontsize=15)\n",
    "ax.set_ylabel('Number of Individuals', fontsize=15)\n",
    "\n",
    "\n",
    "labels = ['No', 'Yes']\n",
    "\n",
    "ax.set_xticklabels(labels, rotation = 45, ha = 'right');\n"
   ]
  },
  {
   "cell_type": "markdown",
   "metadata": {},
   "source": [
    "### Distribution of Country of Birth and Citizenship\n",
    "---\n",
    "\n",
    "Encoded values for country of birth:\n",
    "* 0\t- Born in 50 US states or Washington, DC\t\n",
    "* 1\t- Others\n",
    "* 99 - Unknown (Getting dropped)\n",
    "\n",
    "Encoded values for Citizenship:\n",
    "* 0\t- Citizen by birth or naturalization\t\n",
    "* 1\t- Not a citizen of the US"
   ]
  },
  {
   "cell_type": "markdown",
   "metadata": {},
   "source": [
    "#### Dropping missing values in these columns\n",
    "\n",
    "For both the country of birth and citizenship column, only 2 individuals didnt know what country they were born in and were missing values in the citizenship column so I decided to drop these rows. Also, 16 individuals either refused or didnt know their citizenship status so I also dropped these rows."
   ]
  },
  {
   "cell_type": "code",
   "execution_count": 70,
   "metadata": {},
   "outputs": [
    {
     "data": {
      "text/html": [
       "<div>\n",
       "<style>\n",
       "    .dataframe thead tr:only-child th {\n",
       "        text-align: right;\n",
       "    }\n",
       "\n",
       "    .dataframe thead th {\n",
       "        text-align: left;\n",
       "    }\n",
       "\n",
       "    .dataframe tbody tr th {\n",
       "        vertical-align: top;\n",
       "    }\n",
       "</style>\n",
       "<table border=\"1\" class=\"dataframe\">\n",
       "  <thead>\n",
       "    <tr style=\"text-align: right;\">\n",
       "      <th></th>\n",
       "      <th>SEQN</th>\n",
       "      <th>gender</th>\n",
       "      <th>age</th>\n",
       "      <th>ethnicity</th>\n",
       "      <th>veteran_status</th>\n",
       "      <th>country_of_birth</th>\n",
       "      <th>citizenship_status</th>\n",
       "      <th>education</th>\n",
       "      <th>marital_status</th>\n",
       "      <th>household_under5</th>\n",
       "      <th>household_6to17</th>\n",
       "      <th>household_over60</th>\n",
       "      <th>household_income</th>\n",
       "    </tr>\n",
       "  </thead>\n",
       "  <tbody>\n",
       "    <tr>\n",
       "      <th>3061</th>\n",
       "      <td>86793.0</td>\n",
       "      <td>1</td>\n",
       "      <td>16.5</td>\n",
       "      <td>4.0</td>\n",
       "      <td>1</td>\n",
       "      <td>99.0</td>\n",
       "      <td>NaN</td>\n",
       "      <td>2.0</td>\n",
       "      <td>5.0</td>\n",
       "      <td>0.0</td>\n",
       "      <td>3.0</td>\n",
       "      <td>0.0</td>\n",
       "      <td>77.0</td>\n",
       "    </tr>\n",
       "    <tr>\n",
       "      <th>8801</th>\n",
       "      <td>92533.0</td>\n",
       "      <td>1</td>\n",
       "      <td>52.0</td>\n",
       "      <td>1.0</td>\n",
       "      <td>1</td>\n",
       "      <td>99.0</td>\n",
       "      <td>NaN</td>\n",
       "      <td>2.0</td>\n",
       "      <td>6.0</td>\n",
       "      <td>0.0</td>\n",
       "      <td>1.0</td>\n",
       "      <td>0.0</td>\n",
       "      <td>3.0</td>\n",
       "    </tr>\n",
       "  </tbody>\n",
       "</table>\n",
       "</div>"
      ],
      "text/plain": [
       "         SEQN  gender   age  ethnicity  veteran_status  country_of_birth  \\\n",
       "3061  86793.0       1  16.5        4.0               1              99.0   \n",
       "8801  92533.0       1  52.0        1.0               1              99.0   \n",
       "\n",
       "      citizenship_status  education  marital_status  household_under5  \\\n",
       "3061                 NaN        2.0             5.0               0.0   \n",
       "8801                 NaN        2.0             6.0               0.0   \n",
       "\n",
       "      household_6to17  household_over60  household_income  \n",
       "3061              3.0               0.0              77.0  \n",
       "8801              1.0               0.0               3.0  "
      ]
     },
     "execution_count": 70,
     "metadata": {},
     "output_type": "execute_result"
    }
   ],
   "source": [
    "# The same rows missing in both columns, look at index\n",
    "\n",
    "demographic[demographic.country_of_birth == 99]"
   ]
  },
  {
   "cell_type": "code",
   "execution_count": 71,
   "metadata": {},
   "outputs": [
    {
     "data": {
      "text/html": [
       "<div>\n",
       "<style>\n",
       "    .dataframe thead tr:only-child th {\n",
       "        text-align: right;\n",
       "    }\n",
       "\n",
       "    .dataframe thead th {\n",
       "        text-align: left;\n",
       "    }\n",
       "\n",
       "    .dataframe tbody tr th {\n",
       "        vertical-align: top;\n",
       "    }\n",
       "</style>\n",
       "<table border=\"1\" class=\"dataframe\">\n",
       "  <thead>\n",
       "    <tr style=\"text-align: right;\">\n",
       "      <th></th>\n",
       "      <th>SEQN</th>\n",
       "      <th>gender</th>\n",
       "      <th>age</th>\n",
       "      <th>ethnicity</th>\n",
       "      <th>veteran_status</th>\n",
       "      <th>country_of_birth</th>\n",
       "      <th>citizenship_status</th>\n",
       "      <th>education</th>\n",
       "      <th>marital_status</th>\n",
       "      <th>household_under5</th>\n",
       "      <th>household_6to17</th>\n",
       "      <th>household_over60</th>\n",
       "      <th>household_income</th>\n",
       "    </tr>\n",
       "  </thead>\n",
       "  <tbody>\n",
       "    <tr>\n",
       "      <th>3061</th>\n",
       "      <td>86793.0</td>\n",
       "      <td>1</td>\n",
       "      <td>16.5</td>\n",
       "      <td>4.0</td>\n",
       "      <td>1</td>\n",
       "      <td>99.0</td>\n",
       "      <td>NaN</td>\n",
       "      <td>2.0</td>\n",
       "      <td>5.0</td>\n",
       "      <td>0.0</td>\n",
       "      <td>3.0</td>\n",
       "      <td>0.0</td>\n",
       "      <td>77.0</td>\n",
       "    </tr>\n",
       "    <tr>\n",
       "      <th>8801</th>\n",
       "      <td>92533.0</td>\n",
       "      <td>1</td>\n",
       "      <td>52.0</td>\n",
       "      <td>1.0</td>\n",
       "      <td>1</td>\n",
       "      <td>99.0</td>\n",
       "      <td>NaN</td>\n",
       "      <td>2.0</td>\n",
       "      <td>6.0</td>\n",
       "      <td>0.0</td>\n",
       "      <td>1.0</td>\n",
       "      <td>0.0</td>\n",
       "      <td>3.0</td>\n",
       "    </tr>\n",
       "  </tbody>\n",
       "</table>\n",
       "</div>"
      ],
      "text/plain": [
       "         SEQN  gender   age  ethnicity  veteran_status  country_of_birth  \\\n",
       "3061  86793.0       1  16.5        4.0               1              99.0   \n",
       "8801  92533.0       1  52.0        1.0               1              99.0   \n",
       "\n",
       "      citizenship_status  education  marital_status  household_under5  \\\n",
       "3061                 NaN        2.0             5.0               0.0   \n",
       "8801                 NaN        2.0             6.0               0.0   \n",
       "\n",
       "      household_6to17  household_over60  household_income  \n",
       "3061              3.0               0.0              77.0  \n",
       "8801              1.0               0.0               3.0  "
      ]
     },
     "execution_count": 71,
     "metadata": {},
     "output_type": "execute_result"
    }
   ],
   "source": [
    "# The same rows missing in both columns, look at index\n",
    "\n",
    "demographic[demographic.citizenship_status.isnull()]"
   ]
  },
  {
   "cell_type": "markdown",
   "metadata": {},
   "source": [
    "#### Going to drop rows with index 3061 and 8801 so I didnt change values in column country_of_birth"
   ]
  },
  {
   "cell_type": "code",
   "execution_count": 72,
   "metadata": {
    "collapsed": true
   },
   "outputs": [],
   "source": [
    "demographic.citizenship_status = demographic.citizenship_status.apply(lambda x: np.nan if x > 5 else x)"
   ]
  },
  {
   "cell_type": "code",
   "execution_count": 73,
   "metadata": {},
   "outputs": [
    {
     "data": {
      "text/plain": [
       "18"
      ]
     },
     "execution_count": 73,
     "metadata": {},
     "output_type": "execute_result"
    }
   ],
   "source": [
    "demographic.citizenship_status.isnull().sum()"
   ]
  },
  {
   "cell_type": "code",
   "execution_count": 74,
   "metadata": {
    "collapsed": true
   },
   "outputs": [],
   "source": [
    "demographic.country_of_birth = demographic.country_of_birth.apply(lambda x: 0 if x == 1 else 1 if x == 2 else x )"
   ]
  },
  {
   "cell_type": "code",
   "execution_count": 75,
   "metadata": {
    "collapsed": true
   },
   "outputs": [],
   "source": [
    "demographic.citizenship_status = demographic.citizenship_status.apply(lambda x: 0 if x == 1 else 1 if x == 2 else x)"
   ]
  },
  {
   "cell_type": "code",
   "execution_count": 76,
   "metadata": {
    "collapsed": true
   },
   "outputs": [],
   "source": [
    "df_birth = demographic[['SEQN', 'country_of_birth']]\n",
    "df_citizen = demographic[['SEQN', 'citizenship_status']]"
   ]
  },
  {
   "cell_type": "code",
   "execution_count": 77,
   "metadata": {},
   "outputs": [
    {
     "data": {
      "image/png": "[encoded data removed]",
      "text/plain": [
       "<matplotlib.figure.Figure at 0x10c150990>"
      ]
     },
     "metadata": {},
     "output_type": "display_data"
    }
   ],
   "source": [
    "fig, ax = plt.subplots(ncols = 2, figsize = (20,5))\n",
    "\n",
    "# Country of Birth graph\n",
    "\n",
    "df_birth['country_of_birth'].value_counts().plot(kind='bar',\n",
    "                                                 edgecolor = ['black','black'],\n",
    "                                                 linewidth=.5,\n",
    "                                                 color = '#006699', ax = ax[0])\n",
    "\n",
    "\n",
    "ax[0].set_title('Country of Birth', fontsize=30)\n",
    "\n",
    "ax[0].set_xlabel('U.S. or Not', fontsize=15)\n",
    "ax[0].set_ylabel('Number of Individuals', fontsize=15)\n",
    "\n",
    "\n",
    "labels = ['0 - Born in 50 US states or Washington, DC', '1 - Others', '99 - Unknown (Getting Dropped)']\n",
    "\n",
    "ax[0].set_xticklabels(labels, rotation = 45, ha = 'right');\n",
    "\n",
    "# Citizenship graph\n",
    "\n",
    "df_citizen['citizenship_status'].value_counts().plot(kind='bar',\n",
    "                                                     edgecolor = ['black','black'],\n",
    "                                                     linewidth = 1, \n",
    "                                                     color = '#006699', ax = ax[1])\n",
    "\n",
    "\n",
    "ax[1].set_title('Citizenship Status', fontsize=30)\n",
    "\n",
    "ax[1].set_xlabel('Citizenship', fontsize=15)\n",
    "ax[1].set_ylabel('Number of Individuals', fontsize=15)\n",
    "\n",
    "labels = ['0 - Citizen by birth or naturalization', '1 - Not a citizen of the US']\n",
    "\n",
    "ax[1].set_xticklabels(labels, rotation = 45, ha = 'right');\n"
   ]
  },
  {
   "cell_type": "markdown",
   "metadata": {},
   "source": [
    "### Household Members under 0 - 5, 6 - 17, and 60+\n",
    "---\n",
    "\n",
    "Household 5 years and younger:\n",
    "* 0 - 0\tNumber of children\n",
    "* 1 - 1\tNumber of children\n",
    "* 2 - 2\tNumber of children\t\n",
    "* 3 - 3 or more\tNumber of children\n",
    "\n",
    "Household 6 through 17 years:\n",
    "* 0\t- 0\tNumber of children\n",
    "* 1\t- 1\tNumber of children\n",
    "* 2\t- 2\tNumber of children\n",
    "* 3\t- 3\tNumber of children\n",
    "* 4\t- 4 or more Number of children\n",
    "\n",
    "Household 60 years and older:\n",
    "* 0\t- 0\tNumber of adults\n",
    "* 1\t- 1 Number of adults\n",
    "* 2\t- 2\tNumber of adults\n",
    "* 3\t- 3 or more\tNumber of adults"
   ]
  },
  {
   "cell_type": "code",
   "execution_count": 78,
   "metadata": {},
   "outputs": [
    {
     "data": {
      "text/plain": [
       "0.0    6298\n",
       "1.0    2147\n",
       "2.0    1199\n",
       "3.0     327\n",
       "Name: household_under5, dtype: int64"
      ]
     },
     "execution_count": 78,
     "metadata": {},
     "output_type": "execute_result"
    }
   ],
   "source": [
    "demographic.household_under5.value_counts()"
   ]
  },
  {
   "cell_type": "code",
   "execution_count": 79,
   "metadata": {},
   "outputs": [
    {
     "data": {
      "text/plain": [
       "0.0    4715\n",
       "1.0    1990\n",
       "2.0    1833\n",
       "3.0     822\n",
       "4.0     611\n",
       "Name: household_6to17, dtype: int64"
      ]
     },
     "execution_count": 79,
     "metadata": {},
     "output_type": "execute_result"
    }
   ],
   "source": [
    "demographic.household_6to17.value_counts()"
   ]
  },
  {
   "cell_type": "code",
   "execution_count": 80,
   "metadata": {},
   "outputs": [
    {
     "data": {
      "text/plain": [
       "0.0    7151\n",
       "1.0    1663\n",
       "2.0    1099\n",
       "3.0      58\n",
       "Name: household_over60, dtype: int64"
      ]
     },
     "execution_count": 80,
     "metadata": {},
     "output_type": "execute_result"
    }
   ],
   "source": [
    "demographic.household_over60.value_counts()"
   ]
  },
  {
   "cell_type": "markdown",
   "metadata": {},
   "source": [
    "### Household Income Distribution\n",
    "---\n",
    "I combined household incomes under 20,000 and consolidated those values. I also applied nan values for incomes over 20,000 because those values dont fall under a specific category. \n",
    "\n",
    "Encoded values are shown below:\n",
    "\n",
    "* 1 - Under 20,000\n",
    "* 2\t- 20,000 to 24,999\n",
    "* 3\t- 25,000 to 34,999\t\n",
    "* 4 - 35,000 to 44,999\n",
    "* 5 - 45,000 to 54,999\t\n",
    "* 6 - 55,000 to 64,999\t\n",
    "* 7 - 65,000 to 74,999\n",
    "* 8 - 75,000 to 99,999\n",
    "* 9 - 100,000 and Over\t"
   ]
  },
  {
   "cell_type": "code",
   "execution_count": 81,
   "metadata": {
    "collapsed": true
   },
   "outputs": [],
   "source": [
    "demographic.household_income = demographic.household_income.apply(lambda x: 1 if x in [1, 2, 3, 4, 13]\n",
    "                                   else 2 if x == 5 else 3 if x == 6\n",
    "                                   else 4 if x == 7 else 5 if x == 8\n",
    "                                   else 6 if x == 9 else 7 if x == 10\n",
    "                                   else 8 if x == 14 else 9 if x == 15\n",
    "                                   else np.nan)"
   ]
  },
  {
   "cell_type": "code",
   "execution_count": 82,
   "metadata": {},
   "outputs": [
    {
     "data": {
      "image/png": "[encoded data removed]",
      "text/plain": [
       "<matplotlib.figure.Figure at 0x10f37eb10>"
      ]
     },
     "metadata": {},
     "output_type": "display_data"
    }
   ],
   "source": [
    "fig, ax = plt.subplots(figsize = (10,5))\n",
    "\n",
    "ax = demographic['household_income'].value_counts().plot(kind='bar', \n",
    "                                                  edgecolor = ['black','black','black',\n",
    "                                                               'black','black','black',\n",
    "                                                               'black','black','black'], \n",
    "                                                  linewidth = 1, \n",
    "                                                  color = '#006699')\n",
    "\n",
    "\n",
    "ax.set_title('Household Income', fontsize=30)\n",
    "\n",
    "ax.set_xlabel('Incomes', fontsize=15)\n",
    "ax.set_ylabel('Number of Individuals', fontsize=15)\n",
    "\n",
    "\n",
    "labels = ['1 - Under 20,000', '9 - 100,000 and Over', '3 - 25,000 to 34,999',\n",
    "'4 - 35,000 to 44,999', '8 - 75,000 to 99,999', '5 - 45,000 to 54,999',\n",
    "'6 - 55,000 to 64,999', '2 - 20,000 to 24,999', '7 - 65,000 to 74,999']\n",
    "\n",
    "ax.set_xticklabels(labels, rotation = 45, ha = 'right');\n"
   ]
  },
  {
   "cell_type": "code",
   "execution_count": 83,
   "metadata": {
    "scrolled": false
   },
   "outputs": [
    {
     "data": {
      "text/plain": [
       "<matplotlib.axes._subplots.AxesSubplot at 0x10f628a50>"
      ]
     },
     "execution_count": 83,
     "metadata": {},
     "output_type": "execute_result"
    },
    {
     "data": {
      "image/png": "[encoded data removed]",
      "text/plain": [
       "<matplotlib.figure.Figure at 0x10f01c8d0>"
      ]
     },
     "metadata": {},
     "output_type": "display_data"
    }
   ],
   "source": [
    "fig, ax = plt.subplots(figsize = (50,50))\n",
    "sns.heatmap(demographic.corr(), annot = True, annot_kws={\"size\": 20}, linewidths = .5)"
   ]
  },
  {
   "cell_type": "markdown",
   "metadata": {},
   "source": [
    "#### Dropping nan's in citizenship status but keeping household income for now"
   ]
  },
  {
   "cell_type": "code",
   "execution_count": 84,
   "metadata": {},
   "outputs": [
    {
     "data": {
      "text/plain": [
       "SEQN                    0\n",
       "gender                  0\n",
       "age                     0\n",
       "ethnicity               0\n",
       "veteran_status          0\n",
       "country_of_birth        0\n",
       "citizenship_status     18\n",
       "education               0\n",
       "marital_status          0\n",
       "household_under5        0\n",
       "household_6to17         0\n",
       "household_over60        0\n",
       "household_income      991\n",
       "dtype: int64"
      ]
     },
     "execution_count": 84,
     "metadata": {},
     "output_type": "execute_result"
    }
   ],
   "source": [
    "demographic.isnull().sum()"
   ]
  },
  {
   "cell_type": "code",
   "execution_count": 85,
   "metadata": {
    "collapsed": true
   },
   "outputs": [],
   "source": [
    "demographic.citizenship_status.dropna(inplace = True)"
   ]
  },
  {
   "cell_type": "code",
   "execution_count": 86,
   "metadata": {
    "collapsed": true
   },
   "outputs": [],
   "source": [
    "demographic.to_csv('demographic_df.csv', index = False)"
   ]
  },
  {
   "cell_type": "markdown",
   "metadata": {
    "collapsed": true
   },
   "source": [
    "### Body Measures Data Dictionary\n",
    "\n",
    "* **SEQN - Respondent sequence number**\n",
    "* BMDSTATS - Body Measures Component Status Code\n",
    "* **BMXWT - Weight (in kg)**\n",
    "* BMIWT - Weight Comment\n",
    "* **BMXRECUM - Recumbent Length (cm) (Laying down body length, both males and females 0 YEARS - 47 MONTHS)** \n",
    "* BMIRECUM - Recumbent Length Comment\n",
    "* BMXHEAD - Head Circumference (cm)\n",
    "* BMIHEAD - Head Circumference Comment\n",
    "* **BMXHT - Standing Height (cm) (Standing body height, both males and females 2 YEARS - 150 YEARS)**\n",
    "* BMIHT - Standing Height Comment\n",
    "* BMXBMI - Body Mass Index (kg/m^2)\n",
    "* BMDBMIC - BMI Category - Children/Youth\n",
    "* BMXLEG - Upper Leg Length (cm)\n",
    "* BMILEG - Upper Leg Length Comment\n",
    "* BMXARML - Upper Arm Length (cm)\n",
    "* BMIARML - Upper Arm Length Comment\n",
    "* BMXARMC - Arm Circumference (cm)\n",
    "* BMIARMC - Arm Circumference Comment\n",
    "* BMXWAIST - Waist Circumference (cm)\n",
    "* BMIWAIST - Waist Circumference Comment\n",
    "* BMXSAD1 - Sagittal Abdominal Diameter 1st (cm)\n",
    "* BMXSAD2 - Sagittal Abdominal Diameter 2nd (cm)\n",
    "* BMXSAD3 - Sagittal Abdominal Diameter 3rd (cm)\n",
    "* BMXSAD4 - Sagittal Abdominal Diameter 4th (cm)\n",
    "* BMDAVSAD - Average Sagittal Abdominal Diameter (cm)\n",
    "* BMDSADCM - Sagittal Abdominal Diameter Comment"
   ]
  },
  {
   "cell_type": "code",
   "execution_count": 87,
   "metadata": {
    "scrolled": false
   },
   "outputs": [
    {
     "data": {
      "text/plain": [
       "SEQN        0.000000\n",
       "BMDSTATS    0.000000\n",
       "BMXWT       0.010373\n",
       "BMIWT       0.953583\n",
       "BMXRECUM    0.887573\n",
       "BMIRECUM    0.996542\n",
       "BMXHEAD     0.977473\n",
       "BMIHEAD     1.000000\n",
       "BMXHT       0.081203\n",
       "BMIHT       0.988998\n",
       "BMXBMI      0.082565\n",
       "BMDBMIC     0.650042\n",
       "BMXLEG      0.255029\n",
       "BMILEG      0.957879\n",
       "BMXARML     0.059514\n",
       "BMIARML     0.955993\n",
       "BMXARMC     0.059514\n",
       "BMIARMC     0.955889\n",
       "BMXWAIST    0.128982\n",
       "BMIWAIST    0.948764\n",
       "BMXSAD1     0.268336\n",
       "BMXSAD2     0.268336\n",
       "BMXSAD3     0.963013\n",
       "BMXSAD4     0.963013\n",
       "BMDAVSAD    0.268336\n",
       "BMDSADCM    0.953269\n",
       "dtype: float64"
      ]
     },
     "execution_count": 87,
     "metadata": {},
     "output_type": "execute_result"
    }
   ],
   "source": [
    "body_measures.isnull().sum()/len(body_measures)"
   ]
  },
  {
   "cell_type": "markdown",
   "metadata": {},
   "source": [
    "### Replace Standing Height with Recumbent Height\n",
    "\n",
    "Many of the null values in standing height were available in recumbent height but recumbent heights had aproximately less than 1 cm difference. I believe this to be a slight accuracy from the difference in measurement methods but because the different I believe are minute, the replacement differences shouldnt impact the resulting model predictors at all."
   ]
  },
  {
   "cell_type": "code",
   "execution_count": 88,
   "metadata": {
    "collapsed": true
   },
   "outputs": [],
   "source": [
    "recumbent_length_index = body_measures[body_measures['BMXRECUM'].notnull()].index"
   ]
  },
  {
   "cell_type": "code",
   "execution_count": 89,
   "metadata": {
    "collapsed": true
   },
   "outputs": [],
   "source": [
    "body_measures['BMXHT'].iloc[recumbent_length_index] = body_measures['BMXRECUM'].iloc[recumbent_length_index]"
   ]
  },
  {
   "cell_type": "code",
   "execution_count": 90,
   "metadata": {
    "collapsed": true
   },
   "outputs": [],
   "source": [
    "body_df = body_measures[['SEQN', 'BMXWT', 'BMXHT', 'BMXWAIST', 'BMXARMC']]"
   ]
  },
  {
   "cell_type": "code",
   "execution_count": 91,
   "metadata": {
    "collapsed": true
   },
   "outputs": [],
   "source": [
    "body_df.columns = ['SEQN', 'weight_kg', 'standing_height', 'waist_circumference', 'arm_circumference']"
   ]
  },
  {
   "cell_type": "code",
   "execution_count": 92,
   "metadata": {},
   "outputs": [
    {
     "data": {
      "text/plain": [
       "SEQN                   0.000000\n",
       "weight_kg              0.010373\n",
       "standing_height        0.011002\n",
       "waist_circumference    0.128982\n",
       "arm_circumference      0.059514\n",
       "dtype: float64"
      ]
     },
     "execution_count": 92,
     "metadata": {},
     "output_type": "execute_result"
    }
   ],
   "source": [
    "body_df.isnull().sum()/len(body_df)"
   ]
  },
  {
   "cell_type": "code",
   "execution_count": 93,
   "metadata": {
    "collapsed": true
   },
   "outputs": [],
   "source": [
    "body_df.to_csv('body_measurements.csv', index = False)"
   ]
  },
  {
   "cell_type": "markdown",
   "metadata": {},
   "source": [
    "## Blood Pressure\n",
    "---"
   ]
  },
  {
   "cell_type": "markdown",
   "metadata": {},
   "source": [
    "### Chose Systolic and Diastolic First Reading\n",
    "\n",
    "I chose the systolic and diastolic first readings because blood pressure readings can change so I believe the first reading should be used."
   ]
  },
  {
   "cell_type": "code",
   "execution_count": 96,
   "metadata": {},
   "outputs": [
    {
     "data": {
      "text/html": [
       "<div>\n",
       "<style>\n",
       "    .dataframe thead tr:only-child th {\n",
       "        text-align: right;\n",
       "    }\n",
       "\n",
       "    .dataframe thead th {\n",
       "        text-align: left;\n",
       "    }\n",
       "\n",
       "    .dataframe tbody tr th {\n",
       "        vertical-align: top;\n",
       "    }\n",
       "</style>\n",
       "<table border=\"1\" class=\"dataframe\">\n",
       "  <thead>\n",
       "    <tr style=\"text-align: right;\">\n",
       "      <th></th>\n",
       "      <th>SEQN</th>\n",
       "      <th>PEASCCT1</th>\n",
       "      <th>BPXCHR</th>\n",
       "      <th>BPAARM</th>\n",
       "      <th>BPACSZ</th>\n",
       "      <th>BPXPLS</th>\n",
       "      <th>BPXPULS</th>\n",
       "      <th>BPXPTY</th>\n",
       "      <th>BPXML1</th>\n",
       "      <th>BPXSY1</th>\n",
       "      <th>...</th>\n",
       "      <th>BPAEN1</th>\n",
       "      <th>BPXSY2</th>\n",
       "      <th>BPXDI2</th>\n",
       "      <th>BPAEN2</th>\n",
       "      <th>BPXSY3</th>\n",
       "      <th>BPXDI3</th>\n",
       "      <th>BPAEN3</th>\n",
       "      <th>BPXSY4</th>\n",
       "      <th>BPXDI4</th>\n",
       "      <th>BPAEN4</th>\n",
       "    </tr>\n",
       "  </thead>\n",
       "  <tbody>\n",
       "    <tr>\n",
       "      <th>0</th>\n",
       "      <td>83732.0</td>\n",
       "      <td>NaN</td>\n",
       "      <td>NaN</td>\n",
       "      <td>1.0</td>\n",
       "      <td>4.0</td>\n",
       "      <td>76.0</td>\n",
       "      <td>1.0</td>\n",
       "      <td>1.0</td>\n",
       "      <td>150.0</td>\n",
       "      <td>128.0</td>\n",
       "      <td>...</td>\n",
       "      <td>2.0</td>\n",
       "      <td>124.0</td>\n",
       "      <td>64.0</td>\n",
       "      <td>2.0</td>\n",
       "      <td>116.0</td>\n",
       "      <td>62.0</td>\n",
       "      <td>2.0</td>\n",
       "      <td>NaN</td>\n",
       "      <td>NaN</td>\n",
       "      <td>NaN</td>\n",
       "    </tr>\n",
       "    <tr>\n",
       "      <th>1</th>\n",
       "      <td>83733.0</td>\n",
       "      <td>NaN</td>\n",
       "      <td>NaN</td>\n",
       "      <td>1.0</td>\n",
       "      <td>4.0</td>\n",
       "      <td>72.0</td>\n",
       "      <td>1.0</td>\n",
       "      <td>1.0</td>\n",
       "      <td>170.0</td>\n",
       "      <td>146.0</td>\n",
       "      <td>...</td>\n",
       "      <td>2.0</td>\n",
       "      <td>140.0</td>\n",
       "      <td>88.0</td>\n",
       "      <td>2.0</td>\n",
       "      <td>134.0</td>\n",
       "      <td>82.0</td>\n",
       "      <td>2.0</td>\n",
       "      <td>NaN</td>\n",
       "      <td>NaN</td>\n",
       "      <td>NaN</td>\n",
       "    </tr>\n",
       "    <tr>\n",
       "      <th>2</th>\n",
       "      <td>83734.0</td>\n",
       "      <td>NaN</td>\n",
       "      <td>NaN</td>\n",
       "      <td>1.0</td>\n",
       "      <td>4.0</td>\n",
       "      <td>56.0</td>\n",
       "      <td>1.0</td>\n",
       "      <td>1.0</td>\n",
       "      <td>160.0</td>\n",
       "      <td>138.0</td>\n",
       "      <td>...</td>\n",
       "      <td>2.0</td>\n",
       "      <td>132.0</td>\n",
       "      <td>44.0</td>\n",
       "      <td>2.0</td>\n",
       "      <td>136.0</td>\n",
       "      <td>46.0</td>\n",
       "      <td>2.0</td>\n",
       "      <td>NaN</td>\n",
       "      <td>NaN</td>\n",
       "      <td>NaN</td>\n",
       "    </tr>\n",
       "    <tr>\n",
       "      <th>3</th>\n",
       "      <td>83735.0</td>\n",
       "      <td>NaN</td>\n",
       "      <td>NaN</td>\n",
       "      <td>1.0</td>\n",
       "      <td>5.0</td>\n",
       "      <td>78.0</td>\n",
       "      <td>1.0</td>\n",
       "      <td>1.0</td>\n",
       "      <td>150.0</td>\n",
       "      <td>132.0</td>\n",
       "      <td>...</td>\n",
       "      <td>2.0</td>\n",
       "      <td>134.0</td>\n",
       "      <td>68.0</td>\n",
       "      <td>2.0</td>\n",
       "      <td>136.0</td>\n",
       "      <td>70.0</td>\n",
       "      <td>2.0</td>\n",
       "      <td>NaN</td>\n",
       "      <td>NaN</td>\n",
       "      <td>NaN</td>\n",
       "    </tr>\n",
       "    <tr>\n",
       "      <th>4</th>\n",
       "      <td>83736.0</td>\n",
       "      <td>NaN</td>\n",
       "      <td>NaN</td>\n",
       "      <td>1.0</td>\n",
       "      <td>3.0</td>\n",
       "      <td>76.0</td>\n",
       "      <td>1.0</td>\n",
       "      <td>1.0</td>\n",
       "      <td>130.0</td>\n",
       "      <td>100.0</td>\n",
       "      <td>...</td>\n",
       "      <td>2.0</td>\n",
       "      <td>114.0</td>\n",
       "      <td>54.0</td>\n",
       "      <td>2.0</td>\n",
       "      <td>98.0</td>\n",
       "      <td>56.0</td>\n",
       "      <td>2.0</td>\n",
       "      <td>NaN</td>\n",
       "      <td>NaN</td>\n",
       "      <td>NaN</td>\n",
       "    </tr>\n",
       "  </tbody>\n",
       "</table>\n",
       "<p>5 rows × 21 columns</p>\n",
       "</div>"
      ],
      "text/plain": [
       "      SEQN  PEASCCT1  BPXCHR  BPAARM  BPACSZ  BPXPLS  BPXPULS  BPXPTY  BPXML1  \\\n",
       "0  83732.0       NaN     NaN     1.0     4.0    76.0      1.0     1.0   150.0   \n",
       "1  83733.0       NaN     NaN     1.0     4.0    72.0      1.0     1.0   170.0   \n",
       "2  83734.0       NaN     NaN     1.0     4.0    56.0      1.0     1.0   160.0   \n",
       "3  83735.0       NaN     NaN     1.0     5.0    78.0      1.0     1.0   150.0   \n",
       "4  83736.0       NaN     NaN     1.0     3.0    76.0      1.0     1.0   130.0   \n",
       "\n",
       "   BPXSY1   ...    BPAEN1  BPXSY2  BPXDI2  BPAEN2  BPXSY3  BPXDI3  BPAEN3  \\\n",
       "0   128.0   ...       2.0   124.0    64.0     2.0   116.0    62.0     2.0   \n",
       "1   146.0   ...       2.0   140.0    88.0     2.0   134.0    82.0     2.0   \n",
       "2   138.0   ...       2.0   132.0    44.0     2.0   136.0    46.0     2.0   \n",
       "3   132.0   ...       2.0   134.0    68.0     2.0   136.0    70.0     2.0   \n",
       "4   100.0   ...       2.0   114.0    54.0     2.0    98.0    56.0     2.0   \n",
       "\n",
       "   BPXSY4  BPXDI4  BPAEN4  \n",
       "0     NaN     NaN     NaN  \n",
       "1     NaN     NaN     NaN  \n",
       "2     NaN     NaN     NaN  \n",
       "3     NaN     NaN     NaN  \n",
       "4     NaN     NaN     NaN  \n",
       "\n",
       "[5 rows x 21 columns]"
      ]
     },
     "execution_count": 96,
     "metadata": {},
     "output_type": "execute_result"
    }
   ],
   "source": [
    "blood_pressure.head()"
   ]
  },
  {
   "cell_type": "code",
   "execution_count": 97,
   "metadata": {
    "collapsed": true
   },
   "outputs": [],
   "source": [
    "blood_pressure_measurements = blood_pressure[['SEQN', 'BPXPLS', 'BPXSY1', 'BPXDI1']]"
   ]
  },
  {
   "cell_type": "code",
   "execution_count": 98,
   "metadata": {
    "collapsed": true
   },
   "outputs": [],
   "source": [
    "blood_pressure_measurements.columns = ['SEQN', '60_sec_pulse', 'systolic', 'diastolic']"
   ]
  },
  {
   "cell_type": "code",
   "execution_count": 99,
   "metadata": {},
   "outputs": [
    {
     "data": {
      "text/plain": [
       "SEQN            0.000000\n",
       "60_sec_pulse    0.227158\n",
       "systolic        0.251362\n",
       "diastolic       0.251362\n",
       "dtype: float64"
      ]
     },
     "execution_count": 99,
     "metadata": {},
     "output_type": "execute_result"
    }
   ],
   "source": [
    "blood_pressure_measurements.isnull().sum()/len(blood_pressure_measurements)"
   ]
  },
  {
   "cell_type": "code",
   "execution_count": 100,
   "metadata": {
    "collapsed": true
   },
   "outputs": [],
   "source": [
    "blood_pressure_measurements.to_csv('blood_pressure_measurements.csv', index = False)"
   ]
  },
  {
   "cell_type": "markdown",
   "metadata": {},
   "source": [
    "## Albumin and Creatinine\n",
    "---"
   ]
  },
  {
   "cell_type": "markdown",
   "metadata": {},
   "source": [
    "### Albumin and Creatinine Explination\n",
    "\n",
    "##### Low Albumin\n",
    "\n",
    "A low albumin level may be a warning and an indication that further investigation may be warranted. A low albumin may reflect a temporary condition that will resolve itself or may suggest an acute or chronic condition that requires medical intervention. A low albumin can suggest liver disease.\n",
    "\n",
    "##### High Albumin\n",
    "\n",
    "High albumin levels can be seen with dehydration, although the test is not typically used to monitor or detect this condition.\n",
    "\n",
    "##### Low Creatinine\n",
    "\n",
    "Low blood levels of creatinine are not common, but they are also not usually a cause for concern. They can be seen with conditions that result in decreased muscle mass.\n",
    "\n",
    "##### High Creatinine\n",
    "\n",
    "Elevated creatinine level signifies impaired kidney function or kidney disease. As the kidneys become impaired for any reason, the creatinine level in the blood will rise due to poor clearance of creatinine by the kidneys. Abnormally high levels of creatinine thus warn of possible malfunction or failure of the kidneys."
   ]
  },
  {
   "cell_type": "code",
   "execution_count": 101,
   "metadata": {
    "collapsed": true
   },
   "outputs": [],
   "source": [
    "albumin_and_creatinine_measurements = albumin_and_creatinine_urine[['SEQN', 'URXUMA', 'URXUCR']]"
   ]
  },
  {
   "cell_type": "code",
   "execution_count": 102,
   "metadata": {
    "collapsed": true
   },
   "outputs": [],
   "source": [
    "albumin_and_creatinine_measurements.columns = ['SEQN', 'Albumin(ug/mL)', 'creatinine(mg/dL)']"
   ]
  },
  {
   "cell_type": "code",
   "execution_count": 103,
   "metadata": {
    "collapsed": true
   },
   "outputs": [],
   "source": [
    "albumin_and_creatinine_measurements.to_csv('albumin_and_creatinine_measurements.csv', index = False)"
   ]
  },
  {
   "cell_type": "markdown",
   "metadata": {},
   "source": [
    "## Cholesterol \n",
    "---\n",
    "\n",
    "Had data on total cholesterol levels and HDL(Good Cholesterol) but I wanted to see total cholesterol effects. Is high cholesterol truely terrible for you?"
   ]
  },
  {
   "cell_type": "code",
   "execution_count": 104,
   "metadata": {
    "collapsed": true
   },
   "outputs": [],
   "source": [
    "cholesterol_measurements = cholesterol_total[['SEQN', 'LBXTC']]"
   ]
  },
  {
   "cell_type": "code",
   "execution_count": 105,
   "metadata": {
    "collapsed": true
   },
   "outputs": [],
   "source": [
    "cholesterol_measurements.columns = ['SEQN', 'total_cholesterol(mg/dL)']"
   ]
  },
  {
   "cell_type": "code",
   "execution_count": 106,
   "metadata": {
    "collapsed": true
   },
   "outputs": [],
   "source": [
    "cholesterol_measurements.to_csv('cholesterol_measurements.csv', index = False)"
   ]
  },
  {
   "cell_type": "markdown",
   "metadata": {},
   "source": [
    "## Blood Count\n",
    "---"
   ]
  },
  {
   "cell_type": "markdown",
   "metadata": {},
   "source": [
    "### Blood Count Explanation\n",
    "\n",
    "##### Low White Blood Cells\n",
    "\n",
    "A low white blood cell count usually is caused by: Viral infections that temporarily disrupt the work of bone marrow.\n",
    "\n",
    "##### High White Blood Cells\n",
    "\n",
    "A high white blood cell count isn't a specific disease, but it can indicate another problem, such as infection, stress, inflammation, trauma, allergy, or certain diseases.\n",
    "\n",
    "##### Low Red Blood Cells\n",
    "\n",
    "If the number of RBCs is lower than normal, it may be caused by: anemia. bone marrow failure. erythropoietin deficiency, which is the primary cause of anemia in patients with chronic kidney disease. hemolysis, or RBC destruction caused by transfusions and blood vessel injury.\n",
    "\n",
    "##### High Red Blood Cells\n",
    "\n",
    "High red blood cell count may be caused by low oxygen levels, kidney disease or other problems."
   ]
  },
  {
   "cell_type": "code",
   "execution_count": 107,
   "metadata": {
    "collapsed": true
   },
   "outputs": [],
   "source": [
    "blood_measurements = complete_blood_count[['SEQN', 'LBXWBCSI', 'LBXRBCSI']]"
   ]
  },
  {
   "cell_type": "code",
   "execution_count": 108,
   "metadata": {
    "collapsed": true
   },
   "outputs": [],
   "source": [
    "blood_measurements.columns = ['SEQN', 'wbc(1000 cells/uL)', 'rbc(million cells/uL)']"
   ]
  },
  {
   "cell_type": "code",
   "execution_count": 109,
   "metadata": {
    "collapsed": true
   },
   "outputs": [],
   "source": [
    "blood_measurements.to_csv('blood_measurements.csv', index = False)"
   ]
  },
  {
   "cell_type": "markdown",
   "metadata": {},
   "source": [
    "## Glycohemoglobin\n",
    "---"
   ]
  },
  {
   "cell_type": "markdown",
   "metadata": {},
   "source": [
    "### Glycohemoglobin Explanantion\n",
    "\n",
    "Glycohemoglobin(A1c) is a blood test that checks the amount of sugar (glucose) bound to the hemoglobin in the red blood cells."
   ]
  },
  {
   "cell_type": "code",
   "execution_count": 110,
   "metadata": {
    "collapsed": true
   },
   "outputs": [],
   "source": [
    "glycohemoglobin_measurements = glycohemoglobin[['SEQN', 'LBXGH']]"
   ]
  },
  {
   "cell_type": "code",
   "execution_count": 111,
   "metadata": {
    "collapsed": true
   },
   "outputs": [],
   "source": [
    "glycohemoglobin_measurements.columns = ['SEQN', 'glycohemoglobin']"
   ]
  },
  {
   "cell_type": "code",
   "execution_count": 112,
   "metadata": {
    "collapsed": true
   },
   "outputs": [],
   "source": [
    "glycohemoglobin_measurements.to_csv('glycohemoglobin_measurements.csv', index = False)"
   ]
  },
  {
   "cell_type": "markdown",
   "metadata": {},
   "source": [
    "## Hepatitis A\n",
    "---"
   ]
  },
  {
   "cell_type": "markdown",
   "metadata": {},
   "source": [
    "### Hepatitis A Explanation\n",
    "\n",
    "If you have this infection, you have inflammation in your liver that's caused by a virus.\n",
    "\n",
    "- 1 - Positive\t\n",
    "- 2 - Negative\t\n",
    "- 3 - Indeterminate"
   ]
  },
  {
   "cell_type": "code",
   "execution_count": 113,
   "metadata": {
    "collapsed": true
   },
   "outputs": [],
   "source": [
    "hepatitis_A_measurements = hepatitis_A[['SEQN', 'LBXHA']]"
   ]
  },
  {
   "cell_type": "code",
   "execution_count": 114,
   "metadata": {
    "collapsed": true
   },
   "outputs": [],
   "source": [
    "hepatitis_A_measurements.columns = ['SEQN', 'hepatitis_A']"
   ]
  },
  {
   "cell_type": "markdown",
   "metadata": {},
   "source": [
    "#### Removing indeterminate values"
   ]
  },
  {
   "cell_type": "code",
   "execution_count": 115,
   "metadata": {
    "collapsed": true
   },
   "outputs": [],
   "source": [
    "hepatitis_A_measurements.hepatitis_A = hepatitis_A_measurements.hepatitis_A.apply(lambda x: np.nan if x == 3 else x)"
   ]
  },
  {
   "cell_type": "code",
   "execution_count": 116,
   "metadata": {
    "collapsed": true
   },
   "outputs": [],
   "source": [
    "hepatitis_A_measurements.hepatitis_A = hepatitis_A_measurements.hepatitis_A.apply(lambda x:0 if x == 1 else 1 if x == 2 else x)"
   ]
  },
  {
   "cell_type": "code",
   "execution_count": 153,
   "metadata": {
    "collapsed": true
   },
   "outputs": [],
   "source": [
    "hepatitis_A_measurements.hepatitis_A = hepatitis_A_measurements.hepatitis_A.apply(lambda x: 1 if x == 0 else 0 if x == 1 else x)"
   ]
  },
  {
   "cell_type": "code",
   "execution_count": 154,
   "metadata": {
    "collapsed": true
   },
   "outputs": [],
   "source": [
    "hepatitis_A_measurements.to_csv('hepatitis_A_measurements.csv', index = False)"
   ]
  },
  {
   "cell_type": "code",
   "execution_count": 158,
   "metadata": {},
   "outputs": [
    {
     "data": {
      "image/png": "[encoded data removed]",
      "text/plain": [
       "<matplotlib.figure.Figure at 0x1a1bc63650>"
      ]
     },
     "metadata": {},
     "output_type": "display_data"
    }
   ],
   "source": [
    "fig, ax = plt.subplots(figsize = (10,5))\n",
    "\n",
    "ax = hepatitis_A_measurements['hepatitis_A'].value_counts().plot(kind='bar', \n",
    "                                                  edgecolor = ['black','black'], \n",
    "                                                  linewidth = 1, \n",
    "                                                  color = '#006699')\n",
    "\n",
    "\n",
    "ax.set_title('Hepatitis A', fontsize=30)\n",
    "\n",
    "ax.set_xlabel('Hepatitis A', fontsize=15)\n",
    "ax.set_ylabel('Number of Individuals', fontsize=15)\n",
    "\n",
    "labels = ['1 - Positive', '0 - Negative']\n",
    "\n",
    "ax.set_xticklabels(labels, rotation = 45, ha = 'right');\n"
   ]
  },
  {
   "cell_type": "markdown",
   "metadata": {},
   "source": [
    "## Biochemistry Profile\n",
    "----\n",
    "\n",
    "Features being used:\n",
    "\n",
    "- Calcium\n",
    "- Iron\n",
    "- Potassium\n",
    "- Sodium\n",
    "- Phosphorus"
   ]
  },
  {
   "cell_type": "code",
   "execution_count": 118,
   "metadata": {
    "collapsed": true
   },
   "outputs": [],
   "source": [
    "biochemistry_measurements = standard_biochemistry_profile[['SEQN', 'LBXSCA', 'LBXSIR',\n",
    "                                                           'LBXSKSI', 'LBXSNASI',\n",
    "                                                           'LBXSPH', 'LBXSTP', 'LBXSTR']]\n"
   ]
  },
  {
   "cell_type": "code",
   "execution_count": 119,
   "metadata": {
    "collapsed": true
   },
   "outputs": [],
   "source": [
    "biochemistry_measurements.columns = ['SEQN', 'calcium(mg/dL)', 'iron(ug/dL)',\n",
    "                                      'potassium(mmol/L)', 'sodium(mmol/L)',\n",
    "                                      'phosphorus(mg/dL)', 'total_protein(g/dL)',\n",
    "                                      'triglycerides(mg/dL)']"
   ]
  },
  {
   "cell_type": "code",
   "execution_count": 120,
   "metadata": {
    "collapsed": true
   },
   "outputs": [],
   "source": [
    "biochemistry_measurements.to_csv('biochemistry_measurements.csv', index = False)"
   ]
  },
  {
   "cell_type": "markdown",
   "metadata": {
    "collapsed": true
   },
   "source": [
    "### Mental Health"
   ]
  },
  {
   "cell_type": "code",
   "execution_count": 121,
   "metadata": {},
   "outputs": [
    {
     "data": {
      "text/plain": [
       "SEQN      0.000000\n",
       "DPQ010    0.099564\n",
       "DPQ020    0.099564\n",
       "DPQ030    0.099564\n",
       "DPQ040    0.099913\n",
       "DPQ050    0.099913\n",
       "DPQ060    0.099913\n",
       "DPQ070    0.100087\n",
       "DPQ080    0.100087\n",
       "DPQ090    0.100087\n",
       "DPQ100    0.375937\n",
       "dtype: float64"
      ]
     },
     "execution_count": 121,
     "metadata": {},
     "output_type": "execute_result"
    }
   ],
   "source": [
    "mental_health_depression_screener.isnull().sum()/len(mental_health_depression_screener)"
   ]
  },
  {
   "cell_type": "markdown",
   "metadata": {},
   "source": [
    "#### Questions with value 0 were encoded as 5.397605e-79 when read in, adjusted this back to 0"
   ]
  },
  {
   "cell_type": "code",
   "execution_count": 122,
   "metadata": {},
   "outputs": [
    {
     "data": {
      "text/html": [
       "<div>\n",
       "<style>\n",
       "    .dataframe thead tr:only-child th {\n",
       "        text-align: right;\n",
       "    }\n",
       "\n",
       "    .dataframe thead th {\n",
       "        text-align: left;\n",
       "    }\n",
       "\n",
       "    .dataframe tbody tr th {\n",
       "        vertical-align: top;\n",
       "    }\n",
       "</style>\n",
       "<table border=\"1\" class=\"dataframe\">\n",
       "  <thead>\n",
       "    <tr style=\"text-align: right;\">\n",
       "      <th></th>\n",
       "      <th>SEQN</th>\n",
       "      <th>DPQ010</th>\n",
       "      <th>DPQ020</th>\n",
       "      <th>DPQ030</th>\n",
       "      <th>DPQ040</th>\n",
       "      <th>DPQ050</th>\n",
       "      <th>DPQ060</th>\n",
       "      <th>DPQ070</th>\n",
       "      <th>DPQ080</th>\n",
       "      <th>DPQ090</th>\n",
       "      <th>DPQ100</th>\n",
       "    </tr>\n",
       "  </thead>\n",
       "  <tbody>\n",
       "    <tr>\n",
       "      <th>0</th>\n",
       "      <td>83732.0</td>\n",
       "      <td>5.397605e-79</td>\n",
       "      <td>5.397605e-79</td>\n",
       "      <td>5.397605e-79</td>\n",
       "      <td>1.000000e+00</td>\n",
       "      <td>5.397605e-79</td>\n",
       "      <td>5.397605e-79</td>\n",
       "      <td>5.397605e-79</td>\n",
       "      <td>5.397605e-79</td>\n",
       "      <td>5.397605e-79</td>\n",
       "      <td>5.397605e-79</td>\n",
       "    </tr>\n",
       "    <tr>\n",
       "      <th>1</th>\n",
       "      <td>83733.0</td>\n",
       "      <td>1.000000e+00</td>\n",
       "      <td>5.397605e-79</td>\n",
       "      <td>5.397605e-79</td>\n",
       "      <td>5.397605e-79</td>\n",
       "      <td>1.000000e+00</td>\n",
       "      <td>5.397605e-79</td>\n",
       "      <td>5.397605e-79</td>\n",
       "      <td>5.397605e-79</td>\n",
       "      <td>5.397605e-79</td>\n",
       "      <td>5.397605e-79</td>\n",
       "    </tr>\n",
       "    <tr>\n",
       "      <th>2</th>\n",
       "      <td>83734.0</td>\n",
       "      <td>5.397605e-79</td>\n",
       "      <td>5.397605e-79</td>\n",
       "      <td>5.397605e-79</td>\n",
       "      <td>1.000000e+00</td>\n",
       "      <td>5.397605e-79</td>\n",
       "      <td>5.397605e-79</td>\n",
       "      <td>5.397605e-79</td>\n",
       "      <td>5.397605e-79</td>\n",
       "      <td>5.397605e-79</td>\n",
       "      <td>1.000000e+00</td>\n",
       "    </tr>\n",
       "    <tr>\n",
       "      <th>3</th>\n",
       "      <td>83735.0</td>\n",
       "      <td>1.000000e+00</td>\n",
       "      <td>1.000000e+00</td>\n",
       "      <td>2.000000e+00</td>\n",
       "      <td>2.000000e+00</td>\n",
       "      <td>1.000000e+00</td>\n",
       "      <td>3.000000e+00</td>\n",
       "      <td>2.000000e+00</td>\n",
       "      <td>5.397605e-79</td>\n",
       "      <td>1.000000e+00</td>\n",
       "      <td>5.397605e-79</td>\n",
       "    </tr>\n",
       "    <tr>\n",
       "      <th>4</th>\n",
       "      <td>83736.0</td>\n",
       "      <td>1.000000e+00</td>\n",
       "      <td>1.000000e+00</td>\n",
       "      <td>1.000000e+00</td>\n",
       "      <td>1.000000e+00</td>\n",
       "      <td>3.000000e+00</td>\n",
       "      <td>5.397605e-79</td>\n",
       "      <td>1.000000e+00</td>\n",
       "      <td>5.397605e-79</td>\n",
       "      <td>5.397605e-79</td>\n",
       "      <td>5.397605e-79</td>\n",
       "    </tr>\n",
       "  </tbody>\n",
       "</table>\n",
       "</div>"
      ],
      "text/plain": [
       "      SEQN        DPQ010        DPQ020        DPQ030        DPQ040  \\\n",
       "0  83732.0  5.397605e-79  5.397605e-79  5.397605e-79  1.000000e+00   \n",
       "1  83733.0  1.000000e+00  5.397605e-79  5.397605e-79  5.397605e-79   \n",
       "2  83734.0  5.397605e-79  5.397605e-79  5.397605e-79  1.000000e+00   \n",
       "3  83735.0  1.000000e+00  1.000000e+00  2.000000e+00  2.000000e+00   \n",
       "4  83736.0  1.000000e+00  1.000000e+00  1.000000e+00  1.000000e+00   \n",
       "\n",
       "         DPQ050        DPQ060        DPQ070        DPQ080        DPQ090  \\\n",
       "0  5.397605e-79  5.397605e-79  5.397605e-79  5.397605e-79  5.397605e-79   \n",
       "1  1.000000e+00  5.397605e-79  5.397605e-79  5.397605e-79  5.397605e-79   \n",
       "2  5.397605e-79  5.397605e-79  5.397605e-79  5.397605e-79  5.397605e-79   \n",
       "3  1.000000e+00  3.000000e+00  2.000000e+00  5.397605e-79  1.000000e+00   \n",
       "4  3.000000e+00  5.397605e-79  1.000000e+00  5.397605e-79  5.397605e-79   \n",
       "\n",
       "         DPQ100  \n",
       "0  5.397605e-79  \n",
       "1  5.397605e-79  \n",
       "2  1.000000e+00  \n",
       "3  5.397605e-79  \n",
       "4  5.397605e-79  "
      ]
     },
     "execution_count": 122,
     "metadata": {},
     "output_type": "execute_result"
    }
   ],
   "source": [
    "mental_health_depression_screener.head()"
   ]
  },
  {
   "cell_type": "code",
   "execution_count": 123,
   "metadata": {
    "collapsed": true
   },
   "outputs": [],
   "source": [
    "mental_health_depression_screener = mental_health_depression_screener.applymap(lambda x: 0 if x <.00001 else x)"
   ]
  },
  {
   "cell_type": "code",
   "execution_count": 124,
   "metadata": {},
   "outputs": [
    {
     "data": {
      "text/html": [
       "<div>\n",
       "<style>\n",
       "    .dataframe thead tr:only-child th {\n",
       "        text-align: right;\n",
       "    }\n",
       "\n",
       "    .dataframe thead th {\n",
       "        text-align: left;\n",
       "    }\n",
       "\n",
       "    .dataframe tbody tr th {\n",
       "        vertical-align: top;\n",
       "    }\n",
       "</style>\n",
       "<table border=\"1\" class=\"dataframe\">\n",
       "  <thead>\n",
       "    <tr style=\"text-align: right;\">\n",
       "      <th></th>\n",
       "      <th>SEQN</th>\n",
       "      <th>DPQ010</th>\n",
       "      <th>DPQ020</th>\n",
       "      <th>DPQ030</th>\n",
       "      <th>DPQ040</th>\n",
       "      <th>DPQ050</th>\n",
       "      <th>DPQ060</th>\n",
       "      <th>DPQ070</th>\n",
       "      <th>DPQ080</th>\n",
       "      <th>DPQ090</th>\n",
       "      <th>DPQ100</th>\n",
       "    </tr>\n",
       "  </thead>\n",
       "  <tbody>\n",
       "    <tr>\n",
       "      <th>0</th>\n",
       "      <td>83732.0</td>\n",
       "      <td>0.0</td>\n",
       "      <td>0.0</td>\n",
       "      <td>0.0</td>\n",
       "      <td>1.0</td>\n",
       "      <td>0.0</td>\n",
       "      <td>0.0</td>\n",
       "      <td>0.0</td>\n",
       "      <td>0.0</td>\n",
       "      <td>0.0</td>\n",
       "      <td>0.0</td>\n",
       "    </tr>\n",
       "    <tr>\n",
       "      <th>1</th>\n",
       "      <td>83733.0</td>\n",
       "      <td>1.0</td>\n",
       "      <td>0.0</td>\n",
       "      <td>0.0</td>\n",
       "      <td>0.0</td>\n",
       "      <td>1.0</td>\n",
       "      <td>0.0</td>\n",
       "      <td>0.0</td>\n",
       "      <td>0.0</td>\n",
       "      <td>0.0</td>\n",
       "      <td>0.0</td>\n",
       "    </tr>\n",
       "    <tr>\n",
       "      <th>2</th>\n",
       "      <td>83734.0</td>\n",
       "      <td>0.0</td>\n",
       "      <td>0.0</td>\n",
       "      <td>0.0</td>\n",
       "      <td>1.0</td>\n",
       "      <td>0.0</td>\n",
       "      <td>0.0</td>\n",
       "      <td>0.0</td>\n",
       "      <td>0.0</td>\n",
       "      <td>0.0</td>\n",
       "      <td>1.0</td>\n",
       "    </tr>\n",
       "    <tr>\n",
       "      <th>3</th>\n",
       "      <td>83735.0</td>\n",
       "      <td>1.0</td>\n",
       "      <td>1.0</td>\n",
       "      <td>2.0</td>\n",
       "      <td>2.0</td>\n",
       "      <td>1.0</td>\n",
       "      <td>3.0</td>\n",
       "      <td>2.0</td>\n",
       "      <td>0.0</td>\n",
       "      <td>1.0</td>\n",
       "      <td>0.0</td>\n",
       "    </tr>\n",
       "    <tr>\n",
       "      <th>4</th>\n",
       "      <td>83736.0</td>\n",
       "      <td>1.0</td>\n",
       "      <td>1.0</td>\n",
       "      <td>1.0</td>\n",
       "      <td>1.0</td>\n",
       "      <td>3.0</td>\n",
       "      <td>0.0</td>\n",
       "      <td>1.0</td>\n",
       "      <td>0.0</td>\n",
       "      <td>0.0</td>\n",
       "      <td>0.0</td>\n",
       "    </tr>\n",
       "  </tbody>\n",
       "</table>\n",
       "</div>"
      ],
      "text/plain": [
       "      SEQN  DPQ010  DPQ020  DPQ030  DPQ040  DPQ050  DPQ060  DPQ070  DPQ080  \\\n",
       "0  83732.0     0.0     0.0     0.0     1.0     0.0     0.0     0.0     0.0   \n",
       "1  83733.0     1.0     0.0     0.0     0.0     1.0     0.0     0.0     0.0   \n",
       "2  83734.0     0.0     0.0     0.0     1.0     0.0     0.0     0.0     0.0   \n",
       "3  83735.0     1.0     1.0     2.0     2.0     1.0     3.0     2.0     0.0   \n",
       "4  83736.0     1.0     1.0     1.0     1.0     3.0     0.0     1.0     0.0   \n",
       "\n",
       "   DPQ090  DPQ100  \n",
       "0     0.0     0.0  \n",
       "1     0.0     0.0  \n",
       "2     0.0     1.0  \n",
       "3     1.0     0.0  \n",
       "4     0.0     0.0  "
      ]
     },
     "execution_count": 124,
     "metadata": {},
     "output_type": "execute_result"
    }
   ],
   "source": [
    "mental_health_depression_screener.head()"
   ]
  },
  {
   "cell_type": "code",
   "execution_count": 125,
   "metadata": {},
   "outputs": [
    {
     "name": "stdout",
     "output_type": "stream",
     "text": [
      "(3805, 11)\n",
      "(3920, 11)\n",
      "(3192, 11)\n",
      "(2464, 11)\n",
      "(3810, 11)\n",
      "(4319, 11)\n",
      "(4322, 11)\n",
      "(4612, 11)\n",
      "(4964, 11)\n",
      "(2751, 11)\n"
     ]
    }
   ],
   "source": [
    "print mental_health_depression_screener[mental_health_depression_screener.DPQ010 == 0].shape\n",
    "print mental_health_depression_screener[mental_health_depression_screener.DPQ020 == 0].shape\n",
    "print mental_health_depression_screener[mental_health_depression_screener.DPQ030 == 0].shape\n",
    "print mental_health_depression_screener[mental_health_depression_screener.DPQ040 == 0].shape\n",
    "print mental_health_depression_screener[mental_health_depression_screener.DPQ050 == 0].shape\n",
    "print mental_health_depression_screener[mental_health_depression_screener.DPQ060 == 0].shape\n",
    "print mental_health_depression_screener[mental_health_depression_screener.DPQ070 == 0].shape\n",
    "print mental_health_depression_screener[mental_health_depression_screener.DPQ080 == 0].shape\n",
    "print mental_health_depression_screener[mental_health_depression_screener.DPQ090 == 0].shape\n",
    "print mental_health_depression_screener[mental_health_depression_screener.DPQ100 == 0].shape"
   ]
  },
  {
   "cell_type": "code",
   "execution_count": 126,
   "metadata": {
    "collapsed": true
   },
   "outputs": [],
   "source": [
    "mental_df = mental_health_depression_screener.drop('DPQ100', axis = 1)"
   ]
  },
  {
   "cell_type": "code",
   "execution_count": 127,
   "metadata": {},
   "outputs": [
    {
     "data": {
      "text/plain": [
       "(5735, 10)"
      ]
     },
     "execution_count": 127,
     "metadata": {},
     "output_type": "execute_result"
    }
   ],
   "source": [
    "mental_df.shape"
   ]
  },
  {
   "cell_type": "markdown",
   "metadata": {},
   "source": [
    "#### Looking at the total nan's, only aproximately 500 rows drop out and there was no way of getting these values filled in"
   ]
  },
  {
   "cell_type": "code",
   "execution_count": 128,
   "metadata": {},
   "outputs": [
    {
     "data": {
      "text/plain": [
       "(5735, 10)"
      ]
     },
     "execution_count": 128,
     "metadata": {},
     "output_type": "execute_result"
    }
   ],
   "source": [
    "mental_df.shape"
   ]
  },
  {
   "cell_type": "code",
   "execution_count": 129,
   "metadata": {
    "scrolled": true
   },
   "outputs": [
    {
     "data": {
      "text/plain": [
       "(5161, 10)"
      ]
     },
     "execution_count": 129,
     "metadata": {},
     "output_type": "execute_result"
    }
   ],
   "source": [
    "\n",
    "mental_df.dropna().shape"
   ]
  },
  {
   "cell_type": "markdown",
   "metadata": {},
   "source": [
    "#### Encoded values 7 and 9 were used to represent \"refused\" and \"dont know\" values so these are replaced with nan's"
   ]
  },
  {
   "cell_type": "code",
   "execution_count": 130,
   "metadata": {
    "collapsed": true
   },
   "outputs": [],
   "source": [
    "mental_df = mental_df.applymap(lambda x: np.nan if x == 7 else np.nan if x == 9 else x)"
   ]
  },
  {
   "cell_type": "markdown",
   "metadata": {},
   "source": [
    "#### Dropping nan's"
   ]
  },
  {
   "cell_type": "code",
   "execution_count": 131,
   "metadata": {
    "collapsed": true
   },
   "outputs": [],
   "source": [
    "mental_df = mental_df.dropna()"
   ]
  },
  {
   "cell_type": "code",
   "execution_count": 132,
   "metadata": {
    "collapsed": true
   },
   "outputs": [],
   "source": [
    "mental_df.reset_index(drop = True, inplace = True)"
   ]
  },
  {
   "cell_type": "code",
   "execution_count": 133,
   "metadata": {},
   "outputs": [
    {
     "data": {
      "text/plain": [
       "(5134, 10)"
      ]
     },
     "execution_count": 133,
     "metadata": {},
     "output_type": "execute_result"
    }
   ],
   "source": [
    "mental_df.shape"
   ]
  },
  {
   "cell_type": "code",
   "execution_count": 134,
   "metadata": {
    "collapsed": true
   },
   "outputs": [],
   "source": [
    "mental_df.columns = ['SEQN', 'Have little interest in doing things', 'Feeling down, depressed, or hopeless', \n",
    "'Trouble sleeping or sleeping too much', 'Feeling tired or having little energy',\n",
    "'Poor appetite or overeating', 'Feeling bad about yourself', 'Trouble concentrating on things',\n",
    "'Moving or speaking slowly or too fast', 'Thought you would be better off dead']"
   ]
  },
  {
   "cell_type": "code",
   "execution_count": 135,
   "metadata": {},
   "outputs": [
    {
     "data": {
      "text/html": [
       "<div>\n",
       "<style>\n",
       "    .dataframe thead tr:only-child th {\n",
       "        text-align: right;\n",
       "    }\n",
       "\n",
       "    .dataframe thead th {\n",
       "        text-align: left;\n",
       "    }\n",
       "\n",
       "    .dataframe tbody tr th {\n",
       "        vertical-align: top;\n",
       "    }\n",
       "</style>\n",
       "<table border=\"1\" class=\"dataframe\">\n",
       "  <thead>\n",
       "    <tr style=\"text-align: right;\">\n",
       "      <th></th>\n",
       "      <th>SEQN</th>\n",
       "      <th>Have little interest in doing things</th>\n",
       "      <th>Feeling down, depressed, or hopeless</th>\n",
       "      <th>Trouble sleeping or sleeping too much</th>\n",
       "      <th>Feeling tired or having little energy</th>\n",
       "      <th>Poor appetite or overeating</th>\n",
       "      <th>Feeling bad about yourself</th>\n",
       "      <th>Trouble concentrating on things</th>\n",
       "      <th>Moving or speaking slowly or too fast</th>\n",
       "      <th>Thought you would be better off dead</th>\n",
       "    </tr>\n",
       "  </thead>\n",
       "  <tbody>\n",
       "    <tr>\n",
       "      <th>0</th>\n",
       "      <td>83732.0</td>\n",
       "      <td>0.0</td>\n",
       "      <td>0.0</td>\n",
       "      <td>0.0</td>\n",
       "      <td>1.0</td>\n",
       "      <td>0.0</td>\n",
       "      <td>0.0</td>\n",
       "      <td>0.0</td>\n",
       "      <td>0.0</td>\n",
       "      <td>0.0</td>\n",
       "    </tr>\n",
       "    <tr>\n",
       "      <th>1</th>\n",
       "      <td>83733.0</td>\n",
       "      <td>1.0</td>\n",
       "      <td>0.0</td>\n",
       "      <td>0.0</td>\n",
       "      <td>0.0</td>\n",
       "      <td>1.0</td>\n",
       "      <td>0.0</td>\n",
       "      <td>0.0</td>\n",
       "      <td>0.0</td>\n",
       "      <td>0.0</td>\n",
       "    </tr>\n",
       "    <tr>\n",
       "      <th>2</th>\n",
       "      <td>83734.0</td>\n",
       "      <td>0.0</td>\n",
       "      <td>0.0</td>\n",
       "      <td>0.0</td>\n",
       "      <td>1.0</td>\n",
       "      <td>0.0</td>\n",
       "      <td>0.0</td>\n",
       "      <td>0.0</td>\n",
       "      <td>0.0</td>\n",
       "      <td>0.0</td>\n",
       "    </tr>\n",
       "    <tr>\n",
       "      <th>3</th>\n",
       "      <td>83735.0</td>\n",
       "      <td>1.0</td>\n",
       "      <td>1.0</td>\n",
       "      <td>2.0</td>\n",
       "      <td>2.0</td>\n",
       "      <td>1.0</td>\n",
       "      <td>3.0</td>\n",
       "      <td>2.0</td>\n",
       "      <td>0.0</td>\n",
       "      <td>1.0</td>\n",
       "    </tr>\n",
       "    <tr>\n",
       "      <th>4</th>\n",
       "      <td>83736.0</td>\n",
       "      <td>1.0</td>\n",
       "      <td>1.0</td>\n",
       "      <td>1.0</td>\n",
       "      <td>1.0</td>\n",
       "      <td>3.0</td>\n",
       "      <td>0.0</td>\n",
       "      <td>1.0</td>\n",
       "      <td>0.0</td>\n",
       "      <td>0.0</td>\n",
       "    </tr>\n",
       "  </tbody>\n",
       "</table>\n",
       "</div>"
      ],
      "text/plain": [
       "      SEQN  Have little interest in doing things  \\\n",
       "0  83732.0                                   0.0   \n",
       "1  83733.0                                   1.0   \n",
       "2  83734.0                                   0.0   \n",
       "3  83735.0                                   1.0   \n",
       "4  83736.0                                   1.0   \n",
       "\n",
       "   Feeling down, depressed, or hopeless  \\\n",
       "0                                   0.0   \n",
       "1                                   0.0   \n",
       "2                                   0.0   \n",
       "3                                   1.0   \n",
       "4                                   1.0   \n",
       "\n",
       "   Trouble sleeping or sleeping too much  \\\n",
       "0                                    0.0   \n",
       "1                                    0.0   \n",
       "2                                    0.0   \n",
       "3                                    2.0   \n",
       "4                                    1.0   \n",
       "\n",
       "   Feeling tired or having little energy  Poor appetite or overeating  \\\n",
       "0                                    1.0                          0.0   \n",
       "1                                    0.0                          1.0   \n",
       "2                                    1.0                          0.0   \n",
       "3                                    2.0                          1.0   \n",
       "4                                    1.0                          3.0   \n",
       "\n",
       "   Feeling bad about yourself  Trouble concentrating on things  \\\n",
       "0                         0.0                              0.0   \n",
       "1                         0.0                              0.0   \n",
       "2                         0.0                              0.0   \n",
       "3                         3.0                              2.0   \n",
       "4                         0.0                              1.0   \n",
       "\n",
       "   Moving or speaking slowly or too fast  Thought you would be better off dead  \n",
       "0                                    0.0                                   0.0  \n",
       "1                                    0.0                                   0.0  \n",
       "2                                    0.0                                   0.0  \n",
       "3                                    0.0                                   1.0  \n",
       "4                                    0.0                                   0.0  "
      ]
     },
     "execution_count": 135,
     "metadata": {},
     "output_type": "execute_result"
    }
   ],
   "source": [
    "mental_df.head()"
   ]
  },
  {
   "cell_type": "code",
   "execution_count": 136,
   "metadata": {},
   "outputs": [
    {
     "name": "stdout",
     "output_type": "stream",
     "text": [
      "(3805, 11)\n",
      "(3920, 11)\n",
      "(3192, 11)\n",
      "(2464, 11)\n",
      "(3810, 11)\n",
      "(4319, 11)\n",
      "(4322, 11)\n",
      "(4612, 11)\n",
      "(4964, 11)\n",
      "(2751, 11)\n"
     ]
    }
   ],
   "source": [
    "print mental_health_depression_screener[mental_health_depression_screener.DPQ010 == 0].shape\n",
    "print mental_health_depression_screener[mental_health_depression_screener.DPQ020 == 0].shape\n",
    "print mental_health_depression_screener[mental_health_depression_screener.DPQ030 == 0].shape\n",
    "print mental_health_depression_screener[mental_health_depression_screener.DPQ040 == 0].shape\n",
    "print mental_health_depression_screener[mental_health_depression_screener.DPQ050 == 0].shape\n",
    "print mental_health_depression_screener[mental_health_depression_screener.DPQ060 == 0].shape\n",
    "print mental_health_depression_screener[mental_health_depression_screener.DPQ070 == 0].shape\n",
    "print mental_health_depression_screener[mental_health_depression_screener.DPQ080 == 0].shape\n",
    "print mental_health_depression_screener[mental_health_depression_screener.DPQ090 == 0].shape\n",
    "print mental_health_depression_screener[mental_health_depression_screener.DPQ100 == 0].shape"
   ]
  },
  {
   "cell_type": "markdown",
   "metadata": {},
   "source": [
    "#### CSV of mental health"
   ]
  },
  {
   "cell_type": "code",
   "execution_count": 137,
   "metadata": {
    "collapsed": true
   },
   "outputs": [],
   "source": [
    "mental_df.to_csv('mental_health.csv', index = False)"
   ]
  },
  {
   "cell_type": "code",
   "execution_count": null,
   "metadata": {
    "collapsed": true
   },
   "outputs": [],
   "source": []
  }
 ],
 "metadata": {
  "kernelspec": {
   "display_name": "Python 2",
   "language": "python",
   "name": "python2"
  },
  "language_info": {
   "codemirror_mode": {
    "name": "ipython",
    "version": 2
   },
   "file_extension": ".py",
   "mimetype": "text/x-python",
   "name": "python",
   "nbconvert_exporter": "python",
   "pygments_lexer": "ipython2",
   "version": "2.7.14"
  }
 },
 "nbformat": 4,
 "nbformat_minor": 2
}
