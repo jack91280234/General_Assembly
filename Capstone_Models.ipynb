{
 "cells": [
  {
   "cell_type": "markdown",
   "metadata": {},
   "source": [
    "# Mental Health Models"
   ]
  },
  {
   "cell_type": "code",
   "execution_count": 1,
   "metadata": {
    "collapsed": true
   },
   "outputs": [],
   "source": [
    "# Importing tools for data cleaning and analysis\n",
    "import numpy as np\n",
    "import pandas as pd\n",
    "import matplotlib.pyplot as plt\n",
    "import seaborn as sns\n",
    "%matplotlib inline"
   ]
  },
  {
   "cell_type": "markdown",
   "metadata": {},
   "source": [
    "### Dataframes of Selected Features"
   ]
  },
  {
   "cell_type": "code",
   "execution_count": 2,
   "metadata": {
    "collapsed": true
   },
   "outputs": [],
   "source": [
    "demographic = pd.read_csv('./demographic_df.csv')\n",
    "body_df = pd.read_csv('./body_measurements.csv')\n",
    "blood_pressure_measurements = pd.read_csv('./blood_pressure_measurements.csv')\n",
    "albumin_and_creatinine_measurements = pd.read_csv('./albumin_and_creatinine_measurements.csv')\n",
    "cholesterol_measurements = pd.read_csv('./cholesterol_measurements.csv')\n",
    "glycohemoglobin_measurements = pd.read_csv('./glycohemoglobin_measurements.csv')\n",
    "hepatitis_A_measurements = pd.read_csv('./hepatitis_A_measurements.csv')\n",
    "biochemistry_measurements = pd.read_csv('./biochemistry_measurements.csv')\n",
    "mental = pd.read_csv('./mental_health.csv')"
   ]
  },
  {
   "cell_type": "markdown",
   "metadata": {},
   "source": [
    "#### Demographic Only"
   ]
  },
  {
   "cell_type": "code",
   "execution_count": 3,
   "metadata": {
    "collapsed": true
   },
   "outputs": [],
   "source": [
    "demographic_data = mental.merge(demographic, on = 'SEQN', how = 'inner')\n",
    "demographic_data = demographic_data.drop('SEQN', axis = 1)"
   ]
  },
  {
   "cell_type": "code",
   "execution_count": 4,
   "metadata": {},
   "outputs": [
    {
     "data": {
      "text/plain": [
       "Have little interest in doing things     0.000000\n",
       "Feeling down, depressed, or hopeless     0.000000\n",
       "Trouble sleeping or sleeping too much    0.000000\n",
       "Feeling tired or having little energy    0.000000\n",
       "Poor appetite or overeating              0.000000\n",
       "Feeling bad about yourself               0.000000\n",
       "Trouble concentrating on things          0.000000\n",
       "Moving or speaking slowly or too fast    0.000000\n",
       "Thought you would be better off dead     0.000000\n",
       "gender                                   0.000000\n",
       "age                                      0.000000\n",
       "ethnicity                                0.000000\n",
       "veteran_status                           0.000000\n",
       "country_of_birth                         0.000000\n",
       "citizenship_status                       0.001948\n",
       "education                                0.000000\n",
       "marital_status                           0.000000\n",
       "household_under5                         0.000000\n",
       "household_6to17                          0.000000\n",
       "household_over60                         0.000000\n",
       "household_income                         0.095832\n",
       "dtype: float64"
      ]
     },
     "execution_count": 4,
     "metadata": {},
     "output_type": "execute_result"
    }
   ],
   "source": [
    "demographic_data.isnull().sum()/len(demographic_data)"
   ]
  },
  {
   "cell_type": "code",
   "execution_count": 5,
   "metadata": {
    "collapsed": true
   },
   "outputs": [],
   "source": [
    "'''Household income has almost 10% missing data, ran models with this feature and \n",
    "got around ~58% accuracy but I feel Im losing too much data for this feature. I will drop out for now.'''\n",
    "\n",
    "demographic_data = demographic_data.drop('household_income', axis = 1)"
   ]
  },
  {
   "cell_type": "code",
   "execution_count": 6,
   "metadata": {},
   "outputs": [
    {
     "data": {
      "text/plain": [
       "Have little interest in doing things     0.000000\n",
       "Feeling down, depressed, or hopeless     0.000000\n",
       "Trouble sleeping or sleeping too much    0.000000\n",
       "Feeling tired or having little energy    0.000000\n",
       "Poor appetite or overeating              0.000000\n",
       "Feeling bad about yourself               0.000000\n",
       "Trouble concentrating on things          0.000000\n",
       "Moving or speaking slowly or too fast    0.000000\n",
       "Thought you would be better off dead     0.000000\n",
       "gender                                   0.000000\n",
       "age                                      0.000000\n",
       "ethnicity                                0.000000\n",
       "veteran_status                           0.000000\n",
       "country_of_birth                         0.000000\n",
       "citizenship_status                       0.001948\n",
       "education                                0.000000\n",
       "marital_status                           0.000000\n",
       "household_under5                         0.000000\n",
       "household_6to17                          0.000000\n",
       "household_over60                         0.000000\n",
       "dtype: float64"
      ]
     },
     "execution_count": 6,
     "metadata": {},
     "output_type": "execute_result"
    }
   ],
   "source": [
    "demographic_data.isnull().sum()/len(demographic_data)"
   ]
  },
  {
   "cell_type": "markdown",
   "metadata": {},
   "source": [
    "#### Combination of all health based Dataframes"
   ]
  },
  {
   "cell_type": "code",
   "execution_count": 7,
   "metadata": {
    "collapsed": true
   },
   "outputs": [],
   "source": [
    "data_health = body_df.merge(blood_pressure_measurements, on = 'SEQN', how = 'inner')\n",
    "\n",
    "data_health = data_health.merge(albumin_and_creatinine_measurements, on = 'SEQN', how = 'inner')\n",
    "\n",
    "data_health = data_health.merge(cholesterol_measurements, on = 'SEQN', how = 'inner')\n",
    "\n",
    "data_health = data_health.merge(glycohemoglobin_measurements, on = 'SEQN', how = 'inner')\n",
    "\n",
    "data_health = data_health.merge(hepatitis_A_measurements, on = 'SEQN', how = 'inner')\n",
    "\n",
    "data_health = data_health.merge(biochemistry_measurements, on = 'SEQN', how = 'inner')\n",
    "\n",
    "data_health = data_health.merge(mental, on = 'SEQN', how = 'inner')"
   ]
  },
  {
   "cell_type": "code",
   "execution_count": 8,
   "metadata": {},
   "outputs": [
    {
     "data": {
      "text/plain": [
       "SEQN                                     0.000000\n",
       "weight_kg                                0.009349\n",
       "standing_height                          0.008181\n",
       "waist_circumference                      0.040125\n",
       "arm_circumference                        0.030580\n",
       "60_sec_pulse                             0.012855\n",
       "systolic                                 0.045384\n",
       "diastolic                                0.045384\n",
       "Albumin(ug/mL)                           0.015777\n",
       "creatinine(mg/dL)                        0.015777\n",
       "total_cholesterol(mg/dL)                 0.051617\n",
       "glycohemoglobin                          0.043825\n",
       "hepatitis_A                              0.077328\n",
       "calcium(mg/dL)                           0.052980\n",
       "iron(ug/dL)                              0.053759\n",
       "potassium(mmol/L)                        0.052980\n",
       "sodium(mmol/L)                           0.052980\n",
       "phosphorus(mg/dL)                        0.053175\n",
       "total_protein(g/dL)                      0.053759\n",
       "triglycerides(mg/dL)                     0.053564\n",
       "Have little interest in doing things     0.000000\n",
       "Feeling down, depressed, or hopeless     0.000000\n",
       "Trouble sleeping or sleeping too much    0.000000\n",
       "Feeling tired or having little energy    0.000000\n",
       "Poor appetite or overeating              0.000000\n",
       "Feeling bad about yourself               0.000000\n",
       "Trouble concentrating on things          0.000000\n",
       "Moving or speaking slowly or too fast    0.000000\n",
       "Thought you would be better off dead     0.000000\n",
       "dtype: float64"
      ]
     },
     "execution_count": 8,
     "metadata": {},
     "output_type": "execute_result"
    }
   ],
   "source": [
    "data_health.isnull().sum()/len(data_health)"
   ]
  },
  {
   "cell_type": "markdown",
   "metadata": {},
   "source": [
    "#### Dropping nan's"
   ]
  },
  {
   "cell_type": "code",
   "execution_count": 9,
   "metadata": {
    "collapsed": true
   },
   "outputs": [],
   "source": [
    "demographic_data.dropna(inplace = True)"
   ]
  },
  {
   "cell_type": "code",
   "execution_count": 10,
   "metadata": {
    "collapsed": true
   },
   "outputs": [],
   "source": [
    "data_health.dropna(inplace = True)"
   ]
  },
  {
   "cell_type": "markdown",
   "metadata": {},
   "source": [
    "## Demographic Models\n",
    "----"
   ]
  },
  {
   "cell_type": "code",
   "execution_count": 11,
   "metadata": {},
   "outputs": [
    {
     "data": {
      "text/plain": [
       "<matplotlib.axes._subplots.AxesSubplot at 0x11180f950>"
      ]
     },
     "execution_count": 11,
     "metadata": {},
     "output_type": "execute_result"
    },
    {
     "data": {
      "image/png": "[encoded data removed]",
      "text/plain": [
       "<matplotlib.figure.Figure at 0x11180f1d0>"
      ]
     },
     "metadata": {},
     "output_type": "display_data"
    }
   ],
   "source": [
    "fig, ax = plt.subplots(figsize = (20,15))\n",
    "\n",
    "sns.heatmap(demographic_data.corr(), annot = True)"
   ]
  },
  {
   "cell_type": "markdown",
   "metadata": {},
   "source": [
    "### Dummying the Categorical Variables"
   ]
  },
  {
   "cell_type": "markdown",
   "metadata": {},
   "source": [
    "##### Ethnicity"
   ]
  },
  {
   "cell_type": "code",
   "execution_count": 12,
   "metadata": {
    "collapsed": true
   },
   "outputs": [],
   "source": [
    "ethnicity_dummies = pd.get_dummies(demographic_data['ethnicity'])\n",
    "\n",
    "ethnicity_dummies.columns = ['1 - Mexican American', '2 - Other Hispanic', '3 - Non-Hispanic White',\n",
    "                     '4 - Non-Hispanic Black', '5 - Non-Hispanic Asian', '6 - Other Race - Including Multi-Racial']\n",
    "\n",
    "ethnicity_dummies = ethnicity_dummies.drop('6 - Other Race - Including Multi-Racial', axis = 1)\n",
    "\n",
    "demographic_data = pd.concat([demographic_data, ethnicity_dummies], axis = 1)\n",
    "demographic_data = demographic_data.drop('ethnicity', axis = 1)"
   ]
  },
  {
   "cell_type": "markdown",
   "metadata": {},
   "source": [
    "##### Education"
   ]
  },
  {
   "cell_type": "code",
   "execution_count": 13,
   "metadata": {
    "collapsed": true
   },
   "outputs": [],
   "source": [
    "education_dummies = pd.get_dummies(demographic_data['education'])\n",
    "\n",
    "education_dummies.columns = ['1 - Less than 9th grade', '2 - 9-11th grade (Includes 12th grade with no diploma)',\n",
    "                     '3 - High school graduate/GED or equivalent', '4 - Some college or AA degree',\n",
    "                     '5 - College graduate or above']\n",
    "\n",
    "education_dummies = education_dummies.drop('2 - 9-11th grade (Includes 12th grade with no diploma)', axis = 1)\n",
    "\n",
    "demographic_data = pd.concat([demographic_data, education_dummies], axis = 1)\n",
    "demographic_data = demographic_data.drop('education', axis = 1)"
   ]
  },
  {
   "cell_type": "markdown",
   "metadata": {},
   "source": [
    "##### Maritial Status"
   ]
  },
  {
   "cell_type": "code",
   "execution_count": 14,
   "metadata": {
    "collapsed": true
   },
   "outputs": [],
   "source": [
    "marital_dummies = pd.get_dummies(demographic_data['marital_status'])\n",
    "\n",
    "marital_dummies.columns = ['1 - Married', '2 - Widowed', '3 - Divorced', '4 - Separated',\n",
    "                     '5 - Never married', '6 - Living with partner']\n",
    "\n",
    "marital_dummies = marital_dummies.drop('4 - Separated', axis = 1)\n",
    "\n",
    "demographic_data = pd.concat([demographic_data, marital_dummies], axis = 1)\n",
    "demographic_data = demographic_data.drop('marital_status', axis = 1)"
   ]
  },
  {
   "cell_type": "markdown",
   "metadata": {},
   "source": [
    "##### Household under 5"
   ]
  },
  {
   "cell_type": "code",
   "execution_count": 15,
   "metadata": {
    "collapsed": true
   },
   "outputs": [],
   "source": [
    "under5_dummies = pd.get_dummies(demographic_data['household_under5'])\n",
    "\n",
    "under5_dummies.columns = ['0 - 0 Number of children under 5', '1 - 1 Number of children under 5',\n",
    "                     '2 - 2 Number of children under 5', '3 - 3 or more Number of children under 5']\n",
    "\n",
    "under5_dummies = under5_dummies.drop('3 - 3 or more Number of children under 5', axis = 1)\n",
    "\n",
    "demographic_data = pd.concat([demographic_data, under5_dummies], axis = 1)\n",
    "demographic_data = demographic_data.drop('household_under5', axis = 1)"
   ]
  },
  {
   "cell_type": "markdown",
   "metadata": {},
   "source": [
    "##### Household 6 to 17"
   ]
  },
  {
   "cell_type": "code",
   "execution_count": 16,
   "metadata": {
    "collapsed": true
   },
   "outputs": [],
   "source": [
    "age6to17_dummies = pd.get_dummies(demographic_data['household_6to17'])\n",
    "\n",
    "age6to17_dummies.columns = ['0 - 0 Number of children 6 - 17', '1 - 1 Number of children 6 - 17',\n",
    "                            '2 - 2 Number of children 6 - 17', '3 - 3 Number of children 6 - 17',\n",
    "                            '4 - 4 or more Number of children 6 - 17']\n",
    "\n",
    "age6to17_dummies = age6to17_dummies.drop('4 - 4 or more Number of children 6 - 17', axis = 1)\n",
    "\n",
    "demographic_data = pd.concat([demographic_data, age6to17_dummies], axis = 1)\n",
    "demographic_data = demographic_data.drop('household_6to17', axis = 1)"
   ]
  },
  {
   "cell_type": "markdown",
   "metadata": {},
   "source": [
    "##### Household over 60"
   ]
  },
  {
   "cell_type": "code",
   "execution_count": 17,
   "metadata": {
    "collapsed": true
   },
   "outputs": [],
   "source": [
    "over60_dummies = pd.get_dummies(demographic_data['household_over60'])\n",
    "\n",
    "over60_dummies.columns = ['0 - 0 Number of adults', '1 - 1 Number of adults', \n",
    "                     '2 - 2 Number of adults', '3 - 3 or more Number of adult']\n",
    "\n",
    "over60_dummies = over60_dummies.drop('3 - 3 or more Number of adult', axis = 1)\n",
    "\n",
    "demographic_data = pd.concat([demographic_data, over60_dummies], axis = 1)\n",
    "demographic_data = demographic_data.drop('household_over60', axis = 1)"
   ]
  },
  {
   "cell_type": "markdown",
   "metadata": {},
   "source": [
    "### Train Test Split"
   ]
  },
  {
   "cell_type": "code",
   "execution_count": 18,
   "metadata": {
    "collapsed": true
   },
   "outputs": [],
   "source": [
    "from sklearn.model_selection import train_test_split\n",
    "from sklearn.model_selection import StratifiedKFold\n",
    "from sklearn.preprocessing import StandardScaler"
   ]
  },
  {
   "cell_type": "markdown",
   "metadata": {},
   "source": [
    "#### Slice data into X's and y's"
   ]
  },
  {
   "cell_type": "code",
   "execution_count": 19,
   "metadata": {
    "collapsed": true
   },
   "outputs": [],
   "source": [
    "X = demographic_data.iloc[:, 9:]\n",
    "y = demographic_data.iloc[:,:9]"
   ]
  },
  {
   "cell_type": "code",
   "execution_count": 20,
   "metadata": {},
   "outputs": [
    {
     "data": {
      "text/plain": [
       "<matplotlib.axes._subplots.AxesSubplot at 0x112452fd0>"
      ]
     },
     "execution_count": 20,
     "metadata": {},
     "output_type": "execute_result"
    },
    {
     "data": {
      "image/png": "[encoded data removed]",
      "text/plain": [
       "<matplotlib.figure.Figure at 0x112452750>"
      ]
     },
     "metadata": {},
     "output_type": "display_data"
    }
   ],
   "source": [
    "sns.heatmap(y.corr(), annot = True)"
   ]
  },
  {
   "cell_type": "code",
   "execution_count": 21,
   "metadata": {
    "collapsed": true
   },
   "outputs": [],
   "source": [
    "X_train, X_test, y_train, y_test = train_test_split(X, y, test_size=0.1, random_state=42)"
   ]
  },
  {
   "cell_type": "markdown",
   "metadata": {},
   "source": [
    "#### Predictions\n",
    "\n",
    "To improve model accuracy, I consolidated the categorial variables to a binary, yes or no target."
   ]
  },
  {
   "cell_type": "code",
   "execution_count": 22,
   "metadata": {
    "collapsed": true
   },
   "outputs": [],
   "source": [
    "# Baseline = 0.7387\n",
    "# Baseline = 0.7595\n",
    "# Baseline = 0.6185\n",
    "# Baseline = 0.4774\n",
    "# Baseline = 0.7386\n",
    "# Baseline = 0.8372\n",
    "# Baseline = 0.8377\n",
    "# Baseline = 0.8941\n",
    "# Baseline = 0.9625"
   ]
  },
  {
   "cell_type": "code",
   "execution_count": 23,
   "metadata": {
    "collapsed": true
   },
   "outputs": [],
   "source": [
    "y_train_1 = y_train['Have little interest in doing things'].apply(lambda x: 1 if x > 0 else x).values # Baseline = 0.7387\n",
    "y_train_2 = y_train['Feeling down, depressed, or hopeless'].apply(lambda x: 1 if x > 0 else x).values # Baseline = 0.7595\n",
    "y_train_3 = y_train['Trouble sleeping or sleeping too much'].apply(lambda x: 1 if x > 0 else x).values # Baseline = 0.6185\n",
    "y_train_4 = y_train['Feeling tired or having little energy'].apply(lambda x: 1 if x > 0 else x).values # Baseline = 0.4774\n",
    "y_train_5 = y_train['Poor appetite or overeating'].apply(lambda x: 1 if x > 0 else x).values # Baseline = 0.7386\n",
    "y_train_6 = y_train['Feeling bad about yourself'].apply(lambda x: 1 if x > 0 else x).values # Baseline = 0.8372\n",
    "y_train_7 = y_train['Trouble concentrating on things'].apply(lambda x: 1 if x > 0 else x).values # Baseline = 0.8377\n",
    "y_train_8 = y_train['Moving or speaking slowly or too fast'].apply(lambda x: 1 if x > 0 else x).values # Baseline = 0.8941\n",
    "y_train_9 = y_train['Thought you would be better off dead'].apply(lambda x: 1 if x > 0 else x).values # Baseline = 0.9625\n",
    "\n",
    "y_test_1 = y_test['Have little interest in doing things'].apply(lambda x: 1 if x > 0 else x).values\n",
    "y_test_2 = y_test['Feeling down, depressed, or hopeless'].apply(lambda x: 1 if x > 0 else x).values\n",
    "y_test_3 = y_test['Trouble sleeping or sleeping too much'].apply(lambda x: 1 if x > 0 else x).values\n",
    "y_test_4 = y_test['Feeling tired or having little energy'].apply(lambda x: 1 if x > 0 else x).values\n",
    "y_test_5 = y_test['Poor appetite or overeating'].apply(lambda x: 1 if x > 0 else x).values\n",
    "y_test_6 = y_test['Feeling bad about yourself'].apply(lambda x: 1 if x > 0 else x).values\n",
    "y_test_7 = y_test['Trouble concentrating on things'].apply(lambda x: 1 if x > 0 else x).values\n",
    "y_test_8 = y_test['Moving or speaking slowly or too fast'].apply(lambda x: 1 if x > 0 else x).values\n",
    "y_test_9 = y_test['Thought you would be better off dead'].apply(lambda x: 1 if x > 0 else x).values"
   ]
  },
  {
   "cell_type": "code",
   "execution_count": 24,
   "metadata": {
    "collapsed": true
   },
   "outputs": [],
   "source": [
    "import pprint\n",
    "pp = pprint.PrettyPrinter()\n"
   ]
  },
  {
   "cell_type": "code",
   "execution_count": 25,
   "metadata": {},
   "outputs": [
    {
     "name": "stderr",
     "output_type": "stream",
     "text": [
      "/Users/jack/anaconda2/lib/python2.7/site-packages/sklearn/cross_validation.py:41: DeprecationWarning: This module was deprecated in version 0.18 in favor of the model_selection module into which all the refactored classes and functions are moved. Also note that the interface of the new CV iterators are different from that of this module. This module will be removed in 0.20.\n",
      "  \"This module will be removed in 0.20.\", DeprecationWarning)\n"
     ]
    }
   ],
   "source": [
    "from sklearn.cross_validation import cross_val_score\n",
    "from sklearn.linear_model import LogisticRegression\n",
    "from sklearn.model_selection import GridSearchCV\n",
    "from sklearn.ensemble import RandomForestClassifier\n",
    "from sklearn.pipeline import Pipeline"
   ]
  },
  {
   "cell_type": "code",
   "execution_count": 26,
   "metadata": {
    "collapsed": true
   },
   "outputs": [],
   "source": [
    "cv = StratifiedKFold(n_splits = 5, random_state = 42)"
   ]
  },
  {
   "cell_type": "code",
   "execution_count": 27,
   "metadata": {
    "collapsed": true
   },
   "outputs": [],
   "source": [
    "lr = LogisticRegression()"
   ]
  },
  {
   "cell_type": "markdown",
   "metadata": {},
   "source": [
    "#### Standardized my train and test X's"
   ]
  },
  {
   "cell_type": "code",
   "execution_count": 28,
   "metadata": {
    "collapsed": true
   },
   "outputs": [],
   "source": [
    "ss = StandardScaler()\n",
    "\n",
    "Xs = ss.fit_transform(X_train)\n",
    "Xs_test = ss.transform(X_test)"
   ]
  },
  {
   "cell_type": "markdown",
   "metadata": {},
   "source": [
    "## Grid Search with Logistic Regression over all Training Data using only demograhic_data"
   ]
  },
  {
   "cell_type": "code",
   "execution_count": 29,
   "metadata": {
    "collapsed": true
   },
   "outputs": [],
   "source": [
    "def gridSearcher(X, y):\n",
    "    tuned_parameters = {'C': np.logspace(-10,10,50)}\n",
    "    clf = GridSearchCV(estimator = LogisticRegression(penalty = 'l2'), \n",
    "                       param_grid = tuned_parameters, scoring = 'accuracy')\n",
    "    clf.fit(X, y)\n",
    "    \n",
    "    print clf.best_estimator_\n",
    "    print ('----')\n",
    "    print 'clf best parameter {}'.format(clf.best_params_)\n",
    "    print ('----')\n",
    "    print 'clf best index {}'.format(clf.best_index_)\n",
    "    print ('----')\n",
    "    print 'clf best best score {}'.format(clf.best_score_)"
   ]
  },
  {
   "cell_type": "markdown",
   "metadata": {},
   "source": [
    "### Function to predit on Test and get Model Coefs"
   ]
  },
  {
   "cell_type": "code",
   "execution_count": 30,
   "metadata": {
    "collapsed": true
   },
   "outputs": [],
   "source": [
    "def logisticCoefs(Cs, X_t, y_t, X_test, y_test):\n",
    "    lr_model = LogisticRegression(C = Cs).fit(X_t, y_t)\n",
    "    \n",
    "    for element in lr_model.coef_.tolist():\n",
    "        lr_model_coefs = [[x, y] for x, y in zip(X_train, element)]\n",
    "        \n",
    "    lr_model_coefs.sort(key = lambda x: x[1])\n",
    "    \n",
    "    print 'Test model score is {}'.format(lr_model.score(X_test, y_test))\n",
    "    print ('----')\n",
    "    print ('Model Coefficents are:')\n",
    "    pp.pprint(lr_model_coefs)\n",
    "    "
   ]
  },
  {
   "cell_type": "markdown",
   "metadata": {},
   "source": [
    "#### 'Have little interest in doing things'\n",
    "Baseline = 0.7387"
   ]
  },
  {
   "cell_type": "code",
   "execution_count": 31,
   "metadata": {
    "scrolled": true
   },
   "outputs": [
    {
     "name": "stdout",
     "output_type": "stream",
     "text": [
      "LogisticRegression(C=0.00033932217718953299, class_weight=None, dual=False,\n",
      "          fit_intercept=True, intercept_scaling=1, max_iter=100,\n",
      "          multi_class='ovr', n_jobs=1, penalty='l2', random_state=None,\n",
      "          solver='liblinear', tol=0.0001, verbose=0, warm_start=False)\n",
      "----\n",
      "clf best parameter {'C': 0.00033932217718953299}\n",
      "----\n",
      "clf best index 16\n",
      "----\n",
      "clf best best score 0.738668401648\n"
     ]
    }
   ],
   "source": [
    "gridSearcher(Xs, y_train_1)"
   ]
  },
  {
   "cell_type": "markdown",
   "metadata": {},
   "source": [
    "#### Logistic Regression score on test data"
   ]
  },
  {
   "cell_type": "code",
   "execution_count": 32,
   "metadata": {
    "scrolled": false
   },
   "outputs": [
    {
     "name": "stdout",
     "output_type": "stream",
     "text": [
      "Test model score is 0.746588693957\n",
      "----\n",
      "Model Coefficents are:\n",
      "[['1 - Married', -0.03815044020060548],\n",
      " ['5 - College graduate or above', -0.03536043599210552],\n",
      " ['5 - Non-Hispanic Asian', -0.014194272432913897],\n",
      " ['2 - 2 Number of children 6 - 17', -0.013103316180699426],\n",
      " ['3 - 3 Number of children 6 - 17', -0.012179509183812397],\n",
      " ['country_of_birth', -0.010724635674960141],\n",
      " ['3 - Non-Hispanic White', -0.008333775199068411],\n",
      " ['1 - 1 Number of children under 5', -0.007049634429100974],\n",
      " ['age', -0.004878296947147582],\n",
      " ['0 - 0 Number of adults', -0.003831942150693862],\n",
      " ['veteran_status', -0.0011331344741445193],\n",
      " ['6 - Living with partner', -0.0006826661457901565],\n",
      " ['1 - Mexican American', -0.0004922724665167911],\n",
      " ['3 - High school graduate/GED or equivalent', -0.00010277439163613328],\n",
      " ['2 - Widowed', 0.0020581972056388513],\n",
      " ['4 - Some college or AA degree', 0.002175183579132641],\n",
      " ['2 - 2 Number of adults', 0.0023368514631138273],\n",
      " ['0 - 0 Number of children under 5', 0.0032125073808476463],\n",
      " ['citizenship_status', 0.0033933030505231706],\n",
      " ['4 - Non-Hispanic Black', 0.004229545159460282],\n",
      " ['2 - 2 Number of children under 5', 0.004317798638946756],\n",
      " ['1 - 1 Number of adults', 0.00511324492172315],\n",
      " ['1 - 1 Number of children 6 - 17', 0.0066013812144087],\n",
      " ['2 - Other Hispanic', 0.007951876144078737],\n",
      " ['0 - 0 Number of children 6 - 17', 0.008320735906127438],\n",
      " ['3 - Divorced', 0.017747461318452257],\n",
      " ['1 - Less than 9th grade', 0.019198343444404197],\n",
      " ['5 - Never married', 0.019809324641817977],\n",
      " ['gender', 0.024261035595030057]]\n"
     ]
    }
   ],
   "source": [
    "logisticCoefs(0.00033932217718953299, Xs, y_train_1, Xs_test, y_test_1)"
   ]
  },
  {
   "cell_type": "markdown",
   "metadata": {},
   "source": [
    "#### 'Feeling down, depressed, or hopeless'\n",
    "Baseline = 0.7595"
   ]
  },
  {
   "cell_type": "code",
   "execution_count": 33,
   "metadata": {},
   "outputs": [
    {
     "name": "stdout",
     "output_type": "stream",
     "text": [
      "LogisticRegression(C=0.0022229964825261957, class_weight=None, dual=False,\n",
      "          fit_intercept=True, intercept_scaling=1, max_iter=100,\n",
      "          multi_class='ovr', n_jobs=1, penalty='l2', random_state=None,\n",
      "          solver='liblinear', tol=0.0001, verbose=0, warm_start=False)\n",
      "----\n",
      "clf best parameter {'C': 0.0022229964825261957}\n",
      "----\n",
      "clf best index 18\n",
      "----\n",
      "clf best best score 0.757319453481\n"
     ]
    }
   ],
   "source": [
    "gridSearcher(Xs, y_train_2)"
   ]
  },
  {
   "cell_type": "markdown",
   "metadata": {},
   "source": [
    "#### Logistic Regression score on test data"
   ]
  },
  {
   "cell_type": "code",
   "execution_count": 34,
   "metadata": {},
   "outputs": [
    {
     "name": "stdout",
     "output_type": "stream",
     "text": [
      "Test model score is 0.789473684211\n",
      "----\n",
      "Model Coefficents are:\n",
      "[['5 - College graduate or above', -0.09605358257340481],\n",
      " ['1 - Married', -0.09379472228302417],\n",
      " ['4 - Non-Hispanic Black', -0.05661083393492461],\n",
      " ['1 - Mexican American', -0.0469469298569806],\n",
      " ['5 - Non-Hispanic Asian', -0.042437282744965096],\n",
      " ['country_of_birth', -0.038596785638399946],\n",
      " ['2 - 2 Number of children under 5', -0.029788965466201498],\n",
      " ['2 - 2 Number of children 6 - 17', -0.029430384239722034],\n",
      " ['4 - Some college or AA degree', -0.026763632673592122],\n",
      " ['1 - 1 Number of adults', -0.021335501443819405],\n",
      " ['3 - High school graduate/GED or equivalent', -0.014369412797725379],\n",
      " ['age', -0.013461227847597004],\n",
      " ['6 - Living with partner', -0.011143200587213554],\n",
      " ['0 - 0 Number of children under 5', -0.009831491045318021],\n",
      " ['2 - 2 Number of adults', -0.005601651083192964],\n",
      " ['3 - 3 Number of children 6 - 17', -0.002413217094727086],\n",
      " ['1 - 1 Number of children 6 - 17', 0.00011775591692904086],\n",
      " ['veteran_status', 0.0020920945922545246],\n",
      " ['2 - Widowed', 0.002484564502905887],\n",
      " ['1 - 1 Number of children under 5', 0.011575050197733873],\n",
      " ['3 - Non-Hispanic White', 0.013954299648453199],\n",
      " ['0 - 0 Number of adults', 0.017489532569248564],\n",
      " ['citizenship_status', 0.020755762931222416],\n",
      " ['0 - 0 Number of children 6 - 17', 0.03315127412516053],\n",
      " ['5 - Never married', 0.0433310719088051],\n",
      " ['3 - Divorced', 0.045696743745527305],\n",
      " ['2 - Other Hispanic', 0.06221864960850702],\n",
      " ['1 - Less than 9th grade', 0.06762963379953565],\n",
      " ['gender', 0.0814020122264158]]\n"
     ]
    }
   ],
   "source": [
    "logisticCoefs(0.0022229964825261957, Xs, y_train_2, Xs_test, y_test_2)"
   ]
  },
  {
   "cell_type": "markdown",
   "metadata": {},
   "source": [
    "#### 'Trouble sleeping or sleeping too much'\n",
    "Baseline = 0.6185"
   ]
  },
  {
   "cell_type": "code",
   "execution_count": 35,
   "metadata": {},
   "outputs": [
    {
     "name": "stdout",
     "output_type": "stream",
     "text": [
      "LogisticRegression(C=0.037275937203149381, class_weight=None, dual=False,\n",
      "          fit_intercept=True, intercept_scaling=1, max_iter=100,\n",
      "          multi_class='ovr', n_jobs=1, penalty='l2', random_state=None,\n",
      "          solver='liblinear', tol=0.0001, verbose=0, warm_start=False)\n",
      "----\n",
      "clf best parameter {'C': 0.037275937203149381}\n",
      "----\n",
      "clf best index 21\n",
      "----\n",
      "clf best best score 0.624810236391\n"
     ]
    }
   ],
   "source": [
    "gridSearcher(Xs, y_train_3)"
   ]
  },
  {
   "cell_type": "markdown",
   "metadata": {},
   "source": [
    "#### Logistic Regression score on test data"
   ]
  },
  {
   "cell_type": "code",
   "execution_count": 36,
   "metadata": {},
   "outputs": [
    {
     "name": "stdout",
     "output_type": "stream",
     "text": [
      "Test model score is 0.621832358674\n",
      "----\n",
      "Model Coefficents are:\n",
      "[['1 - Married', -0.19887307876534732],\n",
      " ['age', -0.16742223473478657],\n",
      " ['5 - College graduate or above', -0.1374730589636505],\n",
      " ['6 - Living with partner', -0.1200805329124631],\n",
      " ['3 - High school graduate/GED or equivalent', -0.0961625017218999],\n",
      " ['4 - Some college or AA degree', -0.08819436868462315],\n",
      " ['4 - Non-Hispanic Black', -0.07014411787189592],\n",
      " ['5 - Never married', -0.06786117999744565],\n",
      " ['citizenship_status', -0.06454883601238748],\n",
      " ['5 - Non-Hispanic Asian', -0.0436706068189512],\n",
      " ['veteran_status', -0.040608302275851646],\n",
      " ['country_of_birth', -0.032381080703547546],\n",
      " ['2 - Widowed', -0.0317944060897625],\n",
      " ['1 - Less than 9th grade', -0.02946380782958248],\n",
      " ['1 - Mexican American', -0.01934187071088275],\n",
      " ['2 - 2 Number of children under 5', -0.012699482663615945],\n",
      " ['1 - 1 Number of adults', 0.005221312058460707],\n",
      " ['3 - Divorced', 0.010923762427374738],\n",
      " ['0 - 0 Number of adults', 0.011337840908738198],\n",
      " ['1 - 1 Number of children under 5', 0.03468490924389878],\n",
      " ['2 - 2 Number of adults', 0.03875706205170333],\n",
      " ['3 - 3 Number of children 6 - 17', 0.04559740889105491],\n",
      " ['2 - Other Hispanic', 0.04900323411316469],\n",
      " ['2 - 2 Number of children 6 - 17', 0.053979698666253226],\n",
      " ['3 - Non-Hispanic White', 0.0727167998085175],\n",
      " ['1 - 1 Number of children 6 - 17', 0.10939976942953164],\n",
      " ['0 - 0 Number of children under 5', 0.12780853162366562],\n",
      " ['0 - 0 Number of children 6 - 17', 0.15175299879738832],\n",
      " ['gender', 0.1938905802073611]]\n"
     ]
    }
   ],
   "source": [
    "logisticCoefs(0.037275937203149381, Xs, y_train_3, Xs_test, y_test_3)"
   ]
  },
  {
   "cell_type": "markdown",
   "metadata": {},
   "source": [
    "### Feeling tired or having little energy Column\n",
    "Baseline = 0.5222"
   ]
  },
  {
   "cell_type": "code",
   "execution_count": 37,
   "metadata": {},
   "outputs": [
    {
     "name": "stdout",
     "output_type": "stream",
     "text": [
      "LogisticRegression(C=0.0056898660290183051, class_weight=None, dual=False,\n",
      "          fit_intercept=True, intercept_scaling=1, max_iter=100,\n",
      "          multi_class='ovr', n_jobs=1, penalty='l2', random_state=None,\n",
      "          solver='liblinear', tol=0.0001, verbose=0, warm_start=False)\n",
      "----\n",
      "clf best parameter {'C': 0.0056898660290183051}\n",
      "----\n",
      "clf best index 19\n",
      "----\n",
      "clf best best score 0.576230752548\n"
     ]
    }
   ],
   "source": [
    "gridSearcher(Xs, y_train_4)"
   ]
  },
  {
   "cell_type": "markdown",
   "metadata": {},
   "source": [
    "#### Logistic Regression score on test data"
   ]
  },
  {
   "cell_type": "code",
   "execution_count": 38,
   "metadata": {},
   "outputs": [
    {
     "name": "stdout",
     "output_type": "stream",
     "text": [
      "Test model score is 0.561403508772\n",
      "----\n",
      "Model Coefficents are:\n",
      "[['country_of_birth', -0.09347171613315791],\n",
      " ['1 - Married', -0.08726942307935819],\n",
      " ['4 - Non-Hispanic Black', -0.08173908142836386],\n",
      " ['citizenship_status', -0.05003797244837261],\n",
      " ['5 - Non-Hispanic Asian', -0.048780085798461416],\n",
      " ['age', -0.04691580851787761],\n",
      " ['2 - Widowed', -0.04258155060699947],\n",
      " ['0 - 0 Number of children under 5', -0.03183929756998673],\n",
      " ['veteran_status', -0.03161526035725354],\n",
      " ['5 - Never married', -0.030956926550518876],\n",
      " ['1 - Mexican American', -0.02720298059410684],\n",
      " ['5 - College graduate or above', -0.02651026363084672],\n",
      " ['2 - 2 Number of adults', -0.024311752329682156],\n",
      " ['1 - 1 Number of children under 5', -0.01923195002959636],\n",
      " ['1 - 1 Number of adults', -0.01785049357754046],\n",
      " ['1 - Less than 9th grade', -0.010922230650067106],\n",
      " ['6 - Living with partner', -0.007629833097054098],\n",
      " ['2 - 2 Number of children under 5', -0.004861816896175154],\n",
      " ['3 - High school graduate/GED or equivalent', 0.003860679042278893],\n",
      " ['2 - Other Hispanic', 0.015568364319657567],\n",
      " ['2 - 2 Number of children 6 - 17', 0.032778062579005805],\n",
      " ['3 - Divorced', 0.032897063135981695],\n",
      " ['1 - 1 Number of children 6 - 17', 0.03723713376518159],\n",
      " ['3 - 3 Number of children 6 - 17', 0.04285884342526484],\n",
      " ['4 - Some college or AA degree', 0.0431089522018304],\n",
      " ['0 - 0 Number of adults', 0.04899115865719743],\n",
      " ['3 - Non-Hispanic White', 0.05195068118492455],\n",
      " ['0 - 0 Number of children 6 - 17', 0.06621247098351495],\n",
      " ['gender', 0.17573658487261942]]\n"
     ]
    }
   ],
   "source": [
    "logisticCoefs(.0056898660290183051, Xs, y_train_4, Xs_test, y_test_4)"
   ]
  },
  {
   "cell_type": "code",
   "execution_count": 39,
   "metadata": {
    "collapsed": true
   },
   "outputs": [],
   "source": [
    "lr = LogisticRegression(C = .0056898660290183051)"
   ]
  },
  {
   "cell_type": "code",
   "execution_count": 40,
   "metadata": {},
   "outputs": [],
   "source": [
    "lr = LogisticRegression(C = .0056898660290183051)\n",
    "lr_model = lr.fit(Xs, y_train_4)"
   ]
  },
  {
   "cell_type": "code",
   "execution_count": 41,
   "metadata": {},
   "outputs": [
    {
     "data": {
      "text/plain": [
       "array([[ 0.17573658, -0.04691581, -0.03161526, -0.09347172, -0.05003797,\n",
       "        -0.02720298,  0.01556836,  0.05195068, -0.08173908, -0.04878009,\n",
       "        -0.01092223,  0.00386068,  0.04310895, -0.02651026, -0.08726942,\n",
       "        -0.04258155,  0.03289706, -0.03095693, -0.00762983, -0.0318393 ,\n",
       "        -0.01923195, -0.00486182,  0.06621247,  0.03723713,  0.03277806,\n",
       "         0.04285884,  0.04899116, -0.01785049, -0.02431175]])"
      ]
     },
     "execution_count": 41,
     "metadata": {},
     "output_type": "execute_result"
    }
   ],
   "source": [
    "lr_model.coef_"
   ]
  },
  {
   "cell_type": "code",
   "execution_count": 42,
   "metadata": {},
   "outputs": [],
   "source": [
    "for x in lr_model.coef_.tolist():\n",
    "    tired_1 = []\n",
    "    for a, b in zip(X_train, x):\n",
    "         tired_1.append([a, b])\n",
    "tired_1.sort(key = lambda x: x[1])"
   ]
  },
  {
   "cell_type": "code",
   "execution_count": 43,
   "metadata": {},
   "outputs": [
    {
     "data": {
      "text/plain": [
       "[['country_of_birth', -0.09347171613315794],\n",
       " ['1 - Married', -0.08726942307935821],\n",
       " ['4 - Non-Hispanic Black', -0.08173908142836388],\n",
       " ['citizenship_status', -0.05003797244837257],\n",
       " ['5 - Non-Hispanic Asian', -0.04878008579846142],\n",
       " ['age', -0.046915808517877654],\n",
       " ['2 - Widowed', -0.04258155060699947],\n",
       " ['0 - 0 Number of children under 5', -0.03183929756998668],\n",
       " ['veteran_status', -0.03161526035725353],\n",
       " ['5 - Never married', -0.030956926550518904],\n",
       " ['1 - Mexican American', -0.02720298059410686],\n",
       " ['5 - College graduate or above', -0.02651026363084674],\n",
       " ['2 - 2 Number of adults', -0.024311752329682138],\n",
       " ['1 - 1 Number of children under 5', -0.01923195002959633],\n",
       " ['1 - 1 Number of adults', -0.017850493577540438],\n",
       " ['1 - Less than 9th grade', -0.010922230650067115],\n",
       " ['6 - Living with partner', -0.007629833097054118],\n",
       " ['2 - 2 Number of children under 5', -0.0048618168961751295],\n",
       " ['3 - High school graduate/GED or equivalent', 0.0038606790422788815],\n",
       " ['2 - Other Hispanic', 0.015568364319657562],\n",
       " ['2 - 2 Number of children 6 - 17', 0.032778062579005826],\n",
       " ['3 - Divorced', 0.0328970631359817],\n",
       " ['1 - 1 Number of children 6 - 17', 0.0372371337651816],\n",
       " ['3 - 3 Number of children 6 - 17', 0.042858843425264845],\n",
       " ['4 - Some college or AA degree', 0.0431089522018304],\n",
       " ['0 - 0 Number of adults', 0.048991158657197414],\n",
       " ['3 - Non-Hispanic White', 0.05195068118492453],\n",
       " ['0 - 0 Number of children 6 - 17', 0.06621247098351497],\n",
       " ['gender', 0.1757365848726194]]"
      ]
     },
     "execution_count": 43,
     "metadata": {},
     "output_type": "execute_result"
    }
   ],
   "source": [
    "tired_1"
   ]
  },
  {
   "cell_type": "code",
   "execution_count": 148,
   "metadata": {},
   "outputs": [
    {
     "data": {
      "text/plain": [
       "Text(0.5,1,u'Feeling Tired or Having Little Energy - Demographic')"
      ]
     },
     "execution_count": 148,
     "metadata": {},
     "output_type": "execute_result"
    },
    {
     "data": {
      "image/png": "[encoded data removed]",
      "text/plain": [
       "<matplotlib.figure.Figure at 0x116b9d590>"
      ]
     },
     "metadata": {},
     "output_type": "display_data"
    }
   ],
   "source": [
    "df_tired_1 = pd.DataFrame(tired_1, columns = ['features', 'coefs'])\n",
    "df_tired_1.set_index('features', inplace = True)\n",
    "fig, ax = plt.subplots(figsize = (10,6))\n",
    "df_tired_1[(df_tired_1.coefs < -.048) | (df_tired_1.coefs > .043)].plot(kind = 'bar', ax = ax,\n",
    "                                                                       edgecolor = ['black', 'black', 'black', 'black',\n",
    "                                                                                    'black', 'black', 'black', 'black',\n",
    "                                                                                    'black', 'black', ], linewidth = 1)\n",
    "\n",
    "ax.set_title('Feeling Tired or Having Little Energy - Demographic', fontsize=20)"
   ]
  },
  {
   "cell_type": "markdown",
   "metadata": {},
   "source": [
    "#### 'Poor appetite or overeating'\n",
    "Baseline = 0.7386"
   ]
  },
  {
   "cell_type": "code",
   "execution_count": 45,
   "metadata": {},
   "outputs": [
    {
     "name": "stdout",
     "output_type": "stream",
     "text": [
      "LogisticRegression(C=0.24420530945486549, class_weight=None, dual=False,\n",
      "          fit_intercept=True, intercept_scaling=1, max_iter=100,\n",
      "          multi_class='ovr', n_jobs=1, penalty='l2', random_state=None,\n",
      "          solver='liblinear', tol=0.0001, verbose=0, warm_start=False)\n",
      "----\n",
      "clf best parameter {'C': 0.24420530945486549}\n",
      "----\n",
      "clf best index 23\n",
      "----\n",
      "clf best best score 0.74062025591\n"
     ]
    }
   ],
   "source": [
    "gridSearcher(Xs, y_train_5)"
   ]
  },
  {
   "cell_type": "markdown",
   "metadata": {},
   "source": [
    "#### Logistic Regression score on test data"
   ]
  },
  {
   "cell_type": "code",
   "execution_count": 46,
   "metadata": {},
   "outputs": [
    {
     "name": "stdout",
     "output_type": "stream",
     "text": [
      "Test model score is 0.730994152047\n",
      "----\n",
      "Model Coefficents are:\n",
      "[['1 - Married', -0.22802006172375575],\n",
      " ['5 - College graduate or above', -0.1432987859930894],\n",
      " ['5 - Never married', -0.11582104622328912],\n",
      " ['5 - Non-Hispanic Asian', -0.11434301650691242],\n",
      " ['4 - Non-Hispanic Black', -0.11333299480228597],\n",
      " ['2 - Widowed', -0.11010879586979629],\n",
      " ['country_of_birth', -0.09700463684208162],\n",
      " ['3 - Non-Hispanic White', -0.09574146203044938],\n",
      " ['6 - Living with partner', -0.08307214452286231],\n",
      " ['3 - Divorced', -0.05786519889690298],\n",
      " ['3 - High school graduate/GED or equivalent', -0.043874764094152266],\n",
      " ['age', -0.04144329883371645],\n",
      " ['veteran_status', -0.03304283925000813],\n",
      " ['4 - Some college or AA degree', -0.03204197052973734],\n",
      " ['1 - Less than 9th grade', -0.02189486523755371],\n",
      " ['1 - Mexican American', -0.019047989532230032],\n",
      " ['0 - 0 Number of children under 5', -0.01688031612711882],\n",
      " ['2 - 2 Number of children under 5', -0.008061041825097672],\n",
      " ['2 - Other Hispanic', -0.0039729294022985044],\n",
      " ['1 - 1 Number of children 6 - 17', -0.0013908278622637553],\n",
      " ['3 - 3 Number of children 6 - 17', -0.0012220832237779184],\n",
      " ['2 - 2 Number of children 6 - 17', 0.014564798610152328],\n",
      " ['1 - 1 Number of children under 5', 0.01889774232221794],\n",
      " ['citizenship_status', 0.024147350236107385],\n",
      " ['0 - 0 Number of children 6 - 17', 0.029751726042768403],\n",
      " ['2 - 2 Number of adults', 0.08420844093775443],\n",
      " ['1 - 1 Number of adults', 0.19294795028162998],\n",
      " ['0 - 0 Number of adults', 0.22645479229826576],\n",
      " ['gender', 0.2467818519570345]]\n"
     ]
    }
   ],
   "source": [
    "logisticCoefs(.24420530945486549, Xs, y_train_5, Xs_test, y_test_5)"
   ]
  },
  {
   "cell_type": "markdown",
   "metadata": {},
   "source": [
    "#### 'Feeling bad about yourself'\n",
    "Baseline = 0.8372"
   ]
  },
  {
   "cell_type": "code",
   "execution_count": 47,
   "metadata": {},
   "outputs": [
    {
     "name": "stdout",
     "output_type": "stream",
     "text": [
      "LogisticRegression(C=1e-10, class_weight=None, dual=False, fit_intercept=True,\n",
      "          intercept_scaling=1, max_iter=100, multi_class='ovr', n_jobs=1,\n",
      "          penalty='l2', random_state=None, solver='liblinear', tol=0.0001,\n",
      "          verbose=0, warm_start=False)\n",
      "----\n",
      "clf best parameter {'C': 1e-10}\n",
      "----\n",
      "clf best index 0\n",
      "----\n",
      "clf best best score 0.833875515073\n"
     ]
    }
   ],
   "source": [
    "gridSearcher(Xs, y_train_6)"
   ]
  },
  {
   "cell_type": "markdown",
   "metadata": {},
   "source": [
    "#### Logistic Regression score on test data"
   ]
  },
  {
   "cell_type": "code",
   "execution_count": 48,
   "metadata": {},
   "outputs": [
    {
     "name": "stdout",
     "output_type": "stream",
     "text": [
      "Test model score is 0.873294346979\n",
      "----\n",
      "Model Coefficents are:\n",
      "[['1 - Married', -1.8303588861742735e-07],\n",
      " ['5 - College graduate or above', -1.019039355381663e-07],\n",
      " ['age', -1.0164743463828947e-07],\n",
      " ['2 - 2 Number of adults', -9.939201447878623e-08],\n",
      " ['country_of_birth', -6.197511682573665e-08],\n",
      " ['4 - Non-Hispanic Black', -4.79005822125945e-08],\n",
      " ['2 - 2 Number of children under 5', -4.609774755785447e-08],\n",
      " ['5 - Non-Hispanic Asian', -3.355892055035668e-08],\n",
      " ['1 - Mexican American', -3.3533593205833645e-08],\n",
      " ['6 - Living with partner', -3.062036622287626e-08],\n",
      " ['3 - 3 Number of children 6 - 17', -1.8223109979045046e-08],\n",
      " ['citizenship_status', -1.6099858259483027e-08],\n",
      " ['1 - Less than 9th grade', -1.1178519681076585e-08],\n",
      " ['2 - Widowed', -3.3078865689014488e-09],\n",
      " ['1 - 1 Number of adults', -2.2672622574457865e-10],\n",
      " ['1 - 1 Number of children 6 - 17', 6.513544755516976e-10],\n",
      " ['2 - 2 Number of children 6 - 17', 3.000514769160638e-09],\n",
      " ['1 - 1 Number of children under 5', 9.267147634872487e-09],\n",
      " ['4 - Some college or AA degree', 1.1105469189255518e-08],\n",
      " ['0 - 0 Number of children 6 - 17', 1.117428760633499e-08],\n",
      " ['3 - High school graduate/GED or equivalent', 2.11035955397234e-08],\n",
      " ['veteran_status', 2.1318946688021242e-08],\n",
      " ['0 - 0 Number of children under 5', 2.6086013870742138e-08],\n",
      " ['2 - Other Hispanic', 2.764255094459027e-08],\n",
      " ['3 - Non-Hispanic White', 4.276253832901332e-08],\n",
      " ['gender', 4.289983077270148e-08],\n",
      " ['0 - 0 Number of adults', 7.103382490047883e-08],\n",
      " ['3 - Divorced', 1.0349424838971271e-07],\n",
      " ['5 - Never married', 1.3821248484972278e-07]]\n"
     ]
    }
   ],
   "source": [
    "logisticCoefs(.000000001, Xs, y_train_6, Xs_test, y_test_6)"
   ]
  },
  {
   "cell_type": "markdown",
   "metadata": {},
   "source": [
    "#### 'Trouble concentrating on things'\n",
    "Baseline = 0.8377"
   ]
  },
  {
   "cell_type": "code",
   "execution_count": 49,
   "metadata": {},
   "outputs": [
    {
     "name": "stdout",
     "output_type": "stream",
     "text": [
      "LogisticRegression(C=1e-10, class_weight=None, dual=False, fit_intercept=True,\n",
      "          intercept_scaling=1, max_iter=100, multi_class='ovr', n_jobs=1,\n",
      "          penalty='l2', random_state=None, solver='liblinear', tol=0.0001,\n",
      "          verbose=0, warm_start=False)\n",
      "----\n",
      "clf best parameter {'C': 1e-10}\n",
      "----\n",
      "clf best index 0\n",
      "----\n",
      "clf best best score 0.838646714379\n"
     ]
    }
   ],
   "source": [
    "gridSearcher(Xs, y_train_7)"
   ]
  },
  {
   "cell_type": "markdown",
   "metadata": {},
   "source": [
    "#### Logistic Regression score on test data"
   ]
  },
  {
   "cell_type": "code",
   "execution_count": 50,
   "metadata": {},
   "outputs": [
    {
     "name": "stdout",
     "output_type": "stream",
     "text": [
      "Test model score is 0.83820662768\n",
      "----\n",
      "Model Coefficents are:\n",
      "[['1 - Married', -1.2177538292355771e-07],\n",
      " ['2 - 2 Number of adults', -8.400566201435333e-08],\n",
      " ['5 - College graduate or above', -7.317018378052059e-08],\n",
      " ['5 - Non-Hispanic Asian', -6.142366189284375e-08],\n",
      " ['citizenship_status', -6.074460572091009e-08],\n",
      " ['country_of_birth', -5.981963245756143e-08],\n",
      " ['3 - High school graduate/GED or equivalent', -4.0175127333791006e-08],\n",
      " ['4 - Non-Hispanic Black', -3.1554508181929756e-08],\n",
      " ['age', -2.8805001023834845e-08],\n",
      " ['2 - 2 Number of children 6 - 17', -2.4006865988188782e-08],\n",
      " ['2 - 2 Number of children under 5', -2.343929563115553e-08],\n",
      " ['1 - 1 Number of children 6 - 17', -1.9434914571774342e-08],\n",
      " ['1 - 1 Number of children under 5', -2.4709015443740468e-09],\n",
      " ['1 - Mexican American', 2.8026983485698483e-09],\n",
      " ['6 - Living with partner', 3.887675122318309e-09],\n",
      " ['4 - Some college or AA degree', 5.7379761416474715e-09],\n",
      " ['2 - Widowed', 6.6002311959688565e-09],\n",
      " ['0 - 0 Number of children 6 - 17', 1.8412095988601144e-08],\n",
      " ['0 - 0 Number of adults', 2.2129428633781808e-08],\n",
      " ['3 - Non-Hispanic White', 2.2296795398967267e-08],\n",
      " ['0 - 0 Number of children under 5', 2.2441704445568485e-08],\n",
      " ['veteran_status', 2.4862390604522497e-08],\n",
      " ['3 - 3 Number of children 6 - 17', 2.7133565636695754e-08],\n",
      " ['1 - 1 Number of adults', 4.508856559467994e-08],\n",
      " ['2 - Other Hispanic', 4.8052145086604826e-08],\n",
      " ['3 - Divorced', 6.121709649542172e-08],\n",
      " ['5 - Never married', 6.805820286498682e-08],\n",
      " ['gender', 6.939784632373767e-08],\n",
      " ['1 - Less than 9th grade', 8.815890869396987e-08]]\n"
     ]
    }
   ],
   "source": [
    "logisticCoefs(.000000001, Xs, y_train_7, Xs_test, y_test_7)"
   ]
  },
  {
   "cell_type": "markdown",
   "metadata": {},
   "source": [
    "#### 'Moving or speaking slowly or too fast'\n",
    "Baseline = 0.8941"
   ]
  },
  {
   "cell_type": "code",
   "execution_count": 51,
   "metadata": {},
   "outputs": [
    {
     "name": "stdout",
     "output_type": "stream",
     "text": [
      "LogisticRegression(C=1e-10, class_weight=None, dual=False, fit_intercept=True,\n",
      "          intercept_scaling=1, max_iter=100, multi_class='ovr', n_jobs=1,\n",
      "          penalty='l2', random_state=None, solver='liblinear', tol=0.0001,\n",
      "          verbose=0, warm_start=False)\n",
      "----\n",
      "clf best parameter {'C': 1e-10}\n",
      "----\n",
      "clf best index 0\n",
      "----\n",
      "clf best best score 0.893081761006\n"
     ]
    }
   ],
   "source": [
    "gridSearcher(Xs, y_train_8)"
   ]
  },
  {
   "cell_type": "markdown",
   "metadata": {},
   "source": [
    "#### Logistic Regression score on test data"
   ]
  },
  {
   "cell_type": "code",
   "execution_count": 52,
   "metadata": {},
   "outputs": [
    {
     "name": "stdout",
     "output_type": "stream",
     "text": [
      "Test model score is 0.916179337232\n",
      "----\n",
      "Model Coefficents are:\n",
      "[['5 - College graduate or above', -1.0423184530269176e-07],\n",
      " ['5 - Non-Hispanic Asian', -8.724451700801855e-08],\n",
      " ['1 - Married', -8.562574429139511e-08],\n",
      " ['0 - 0 Number of adults', -4.599284042117298e-08],\n",
      " ['1 - 1 Number of children under 5', -3.454193662088115e-08],\n",
      " ['4 - Some college or AA degree', -2.99483837155808e-08],\n",
      " ['1 - 1 Number of children 6 - 17', -2.246615052034165e-08],\n",
      " ['4 - Non-Hispanic Black', -2.028602374929818e-08],\n",
      " ['6 - Living with partner', -1.4726177376815856e-08],\n",
      " ['2 - 2 Number of children 6 - 17', -1.3881759482213027e-08],\n",
      " ['2 - 2 Number of adults', -1.3353656458641669e-08],\n",
      " ['country_of_birth', -1.0638698195492314e-08],\n",
      " ['3 - Non-Hispanic White', -5.627424433432051e-09],\n",
      " ['citizenship_status', -4.782019668543662e-09],\n",
      " ['3 - 3 Number of children 6 - 17', -3.4380927991941393e-09],\n",
      " ['veteran_status', -1.822061090653948e-09],\n",
      " ['3 - High school graduate/GED or equivalent', 9.082170498099016e-10],\n",
      " ['5 - Never married', 1.4056764548930905e-08],\n",
      " ['0 - 0 Number of children 6 - 17', 1.782351903722825e-08],\n",
      " ['0 - 0 Number of children under 5', 2.0076865854460147e-08],\n",
      " ['gender', 2.3993380176959384e-08],\n",
      " ['2 - 2 Number of children under 5', 2.535633369136096e-08],\n",
      " ['3 - Divorced', 3.2989237202323816e-08],\n",
      " ['2 - Widowed', 4.236788930133973e-08],\n",
      " ['age', 5.009460955190821e-08],\n",
      " ['1 - Mexican American', 5.0125681592281445e-08],\n",
      " ['2 - Other Hispanic', 5.533295214633246e-08],\n",
      " ['1 - 1 Number of adults', 6.503169454394931e-08],\n",
      " ['1 - Less than 9th grade', 1.0134660310247764e-07]]\n"
     ]
    }
   ],
   "source": [
    "logisticCoefs(.000000001, Xs, y_train_8, Xs_test, y_test_8)"
   ]
  },
  {
   "cell_type": "markdown",
   "metadata": {},
   "source": [
    "#### 'Thought you would be better off dead'\n",
    "Baseline = 0.9625"
   ]
  },
  {
   "cell_type": "code",
   "execution_count": 53,
   "metadata": {},
   "outputs": [
    {
     "name": "stdout",
     "output_type": "stream",
     "text": [
      "LogisticRegression(C=1e-10, class_weight=None, dual=False, fit_intercept=True,\n",
      "          intercept_scaling=1, max_iter=100, multi_class='ovr', n_jobs=1,\n",
      "          penalty='l2', random_state=None, solver='liblinear', tol=0.0001,\n",
      "          verbose=0, warm_start=False)\n",
      "----\n",
      "clf best parameter {'C': 1e-10}\n",
      "----\n",
      "clf best index 0\n",
      "----\n",
      "clf best best score 0.962047278248\n"
     ]
    }
   ],
   "source": [
    "gridSearcher(Xs, y_train_9)"
   ]
  },
  {
   "cell_type": "markdown",
   "metadata": {},
   "source": [
    "#### Logistic Regression score on test data"
   ]
  },
  {
   "cell_type": "code",
   "execution_count": 54,
   "metadata": {},
   "outputs": [
    {
     "name": "stdout",
     "output_type": "stream",
     "text": [
      "Test model score is 0.966861598441\n",
      "----\n",
      "Model Coefficents are:\n",
      "[['5 - College graduate or above', -4.618541439108065e-08],\n",
      " ['1 - Married', -4.484168131343098e-08],\n",
      " ['veteran_status', -3.2152906516580685e-08],\n",
      " ['2 - 2 Number of children 6 - 17', -2.4255478590040585e-08],\n",
      " ['country_of_birth', -2.3000389122415328e-08],\n",
      " ['4 - Non-Hispanic Black', -2.289413643682695e-08],\n",
      " ['3 - 3 Number of children 6 - 17', -2.0350451623975958e-08],\n",
      " ['5 - Non-Hispanic Asian', -1.8798848128243127e-08],\n",
      " ['1 - 1 Number of children under 5', -1.6711531106084518e-08],\n",
      " ['0 - 0 Number of adults', -1.58728167165693e-08],\n",
      " ['1 - 1 Number of children 6 - 17', -1.4901863468793233e-08],\n",
      " ['citizenship_status', -6.280228880495341e-09],\n",
      " ['6 - Living with partner', -4.9144259059709845e-09],\n",
      " ['gender', -4.910349907104749e-09],\n",
      " ['4 - Some college or AA degree', -2.3429120964963106e-09],\n",
      " ['1 - Mexican American', 1.2994585548633111e-09],\n",
      " ['0 - 0 Number of children under 5', 6.274425057734574e-09],\n",
      " ['1 - 1 Number of adults', 7.139035937302574e-09],\n",
      " ['3 - Non-Hispanic White', 7.532968495678605e-09],\n",
      " ['2 - 2 Number of children under 5', 8.703352432317525e-09],\n",
      " ['3 - High school graduate/GED or equivalent', 1.02142331694501e-08],\n",
      " ['2 - 2 Number of adults', 1.1717442374919464e-08],\n",
      " ['age', 1.174619953422902e-08],\n",
      " ['2 - Widowed', 1.6557566182002233e-08],\n",
      " ['2 - Other Hispanic', 1.8439947950847073e-08],\n",
      " ['1 - Less than 9th grade', 2.25000447261441e-08],\n",
      " ['3 - Divorced', 2.3968473705337837e-08],\n",
      " ['5 - Never married', 2.9503954154674737e-08],\n",
      " ['0 - 0 Number of children 6 - 17', 3.40137258928132e-08]]\n"
     ]
    }
   ],
   "source": [
    "logisticCoefs(.000000001, Xs, y_train_9, Xs_test, y_test_9)"
   ]
  },
  {
   "cell_type": "markdown",
   "metadata": {},
   "source": [
    "## All individuals in the demographics models are above 18"
   ]
  },
  {
   "cell_type": "code",
   "execution_count": 55,
   "metadata": {},
   "outputs": [
    {
     "data": {
      "text/html": [
       "<div>\n",
       "<style>\n",
       "    .dataframe thead tr:only-child th {\n",
       "        text-align: right;\n",
       "    }\n",
       "\n",
       "    .dataframe thead th {\n",
       "        text-align: left;\n",
       "    }\n",
       "\n",
       "    .dataframe tbody tr th {\n",
       "        vertical-align: top;\n",
       "    }\n",
       "</style>\n",
       "<table border=\"1\" class=\"dataframe\">\n",
       "  <thead>\n",
       "    <tr style=\"text-align: right;\">\n",
       "      <th></th>\n",
       "      <th>gender</th>\n",
       "      <th>age</th>\n",
       "      <th>veteran_status</th>\n",
       "      <th>country_of_birth</th>\n",
       "      <th>citizenship_status</th>\n",
       "      <th>1 - Mexican American</th>\n",
       "      <th>2 - Other Hispanic</th>\n",
       "      <th>3 - Non-Hispanic White</th>\n",
       "      <th>4 - Non-Hispanic Black</th>\n",
       "      <th>5 - Non-Hispanic Asian</th>\n",
       "      <th>...</th>\n",
       "      <th>0 - 0 Number of children under 5</th>\n",
       "      <th>1 - 1 Number of children under 5</th>\n",
       "      <th>2 - 2 Number of children under 5</th>\n",
       "      <th>0 - 0 Number of children 6 - 17</th>\n",
       "      <th>1 - 1 Number of children 6 - 17</th>\n",
       "      <th>2 - 2 Number of children 6 - 17</th>\n",
       "      <th>3 - 3 Number of children 6 - 17</th>\n",
       "      <th>0 - 0 Number of adults</th>\n",
       "      <th>1 - 1 Number of adults</th>\n",
       "      <th>2 - 2 Number of adults</th>\n",
       "    </tr>\n",
       "  </thead>\n",
       "  <tbody>\n",
       "  </tbody>\n",
       "</table>\n",
       "<p>0 rows × 29 columns</p>\n",
       "</div>"
      ],
      "text/plain": [
       "Empty DataFrame\n",
       "Columns: [gender, age, veteran_status, country_of_birth, citizenship_status, 1 - Mexican American, 2 - Other Hispanic, 3 - Non-Hispanic White, 4 - Non-Hispanic Black, 5 - Non-Hispanic Asian, 1 - Less than 9th grade, 3 - High school graduate/GED or equivalent, 4 - Some college or AA degree, 5 - College graduate or above, 1 - Married, 2 - Widowed, 3 - Divorced, 5 - Never married, 6 - Living with partner, 0 - 0 Number of children under 5, 1 - 1 Number of children under 5, 2 - 2 Number of children under 5, 0 - 0 Number of children 6 - 17, 1 - 1 Number of children 6 - 17, 2 - 2 Number of children 6 - 17, 3 - 3 Number of children 6 - 17, 0 - 0 Number of adults, 1 - 1 Number of adults, 2 - 2 Number of adults]\n",
       "Index: []\n",
       "\n",
       "[0 rows x 29 columns]"
      ]
     },
     "execution_count": 55,
     "metadata": {},
     "output_type": "execute_result"
    }
   ],
   "source": [
    "X_train[X_train.age < 18]"
   ]
  },
  {
   "cell_type": "markdown",
   "metadata": {},
   "source": [
    "# Health Models\n",
    "----"
   ]
  },
  {
   "cell_type": "markdown",
   "metadata": {},
   "source": [
    "#### Splitting Dataset into X's and y's"
   ]
  },
  {
   "cell_type": "code",
   "execution_count": 56,
   "metadata": {
    "collapsed": true
   },
   "outputs": [],
   "source": [
    "X = data_health.iloc[:, 1:20]\n",
    "y = data_health.iloc[:,20:]"
   ]
  },
  {
   "cell_type": "markdown",
   "metadata": {},
   "source": [
    "#### Train Test Split"
   ]
  },
  {
   "cell_type": "code",
   "execution_count": 57,
   "metadata": {
    "collapsed": true
   },
   "outputs": [],
   "source": [
    "X_train, X_test, y_train, y_test = train_test_split(X, y, test_size=0.1, random_state=42)"
   ]
  },
  {
   "cell_type": "code",
   "execution_count": 58,
   "metadata": {},
   "outputs": [],
   "source": [
    "y_train_1 = y_train['Have little interest in doing things'].apply(lambda x: 1 if x > 0 else x).values # Baseline = 0.7387\n",
    "y_train_2 = y_train['Feeling down, depressed, or hopeless'].apply(lambda x: 1 if x > 0 else x).values # Baseline = 0.7595\n",
    "y_train_3 = y_train['Trouble sleeping or sleeping too much'].apply(lambda x: 1 if x > 0 else x).values # Baseline = 0.6185\n",
    "y_train_4 = y_train['Feeling tired or having little energy'].apply(lambda x: 1 if x > 0 else x).values # Baseline = 0.4774\n",
    "y_train_5 = y_train['Poor appetite or overeating'].apply(lambda x: 1 if x > 0 else x).values # Baseline = 0.7386\n",
    "y_train_6 = y_train['Feeling bad about yourself'].apply(lambda x: 1 if x > 0 else x).values # Baseline = 0.8372\n",
    "y_train_7 = y_train['Trouble concentrating on things'].apply(lambda x: 1 if x > 0 else x).values # Baseline = 0.8377\n",
    "y_train_8 = y_train['Moving or speaking slowly or too fast'].apply(lambda x: 1 if x > 0 else x).values # Baseline = 0.8941\n",
    "y_train_9 = y_train['Thought you would be better off dead'].apply(lambda x: 1 if x > 0 else x).values # Baseline = 0.9625\n",
    "\n",
    "y_test_1 = y_test['Have little interest in doing things'].apply(lambda x: 1 if x > 0 else x).values\n",
    "y_test_2 = y_test['Feeling down, depressed, or hopeless'].apply(lambda x: 1 if x > 0 else x).values\n",
    "y_test_3 = y_test['Trouble sleeping or sleeping too much'].apply(lambda x: 1 if x > 0 else x).values\n",
    "y_test_4 = y_test['Feeling tired or having little energy'].apply(lambda x: 1 if x > 0 else x).values\n",
    "y_test_5 = y_test['Poor appetite or overeating'].apply(lambda x: 1 if x > 0 else x).values\n",
    "y_test_6 = y_test['Feeling bad about yourself'].apply(lambda x: 1 if x > 0 else x).values\n",
    "y_test_7 = y_test['Trouble concentrating on things'].apply(lambda x: 1 if x > 0 else x).values\n",
    "y_test_8 = y_test['Moving or speaking slowly or too fast'].apply(lambda x: 1 if x > 0 else x).values\n",
    "y_test_9 = y_test['Thought you would be better off dead'].apply(lambda x: 1 if x > 0 else x).values"
   ]
  },
  {
   "cell_type": "code",
   "execution_count": 59,
   "metadata": {},
   "outputs": [],
   "source": [
    "ss = StandardScaler()\n",
    "Xs = ss.fit_transform(X_train)\n",
    "Xs_test = ss.transform(X_test)"
   ]
  },
  {
   "cell_type": "markdown",
   "metadata": {},
   "source": [
    "#### 'Have little interest in doing things'\n",
    "Baseline = 0.7387"
   ]
  },
  {
   "cell_type": "code",
   "execution_count": 60,
   "metadata": {
    "scrolled": true
   },
   "outputs": [
    {
     "name": "stdout",
     "output_type": "stream",
     "text": [
      "LogisticRegression(C=0.0022229964825261957, class_weight=None, dual=False,\n",
      "          fit_intercept=True, intercept_scaling=1, max_iter=100,\n",
      "          multi_class='ovr', n_jobs=1, penalty='l2', random_state=None,\n",
      "          solver='liblinear', tol=0.0001, verbose=0, warm_start=False)\n",
      "----\n",
      "clf best parameter {'C': 0.0022229964825261957}\n",
      "----\n",
      "clf best index 18\n",
      "----\n",
      "clf best best score 0.740883410375\n"
     ]
    }
   ],
   "source": [
    "gridSearcher(Xs, y_train_1)"
   ]
  },
  {
   "cell_type": "markdown",
   "metadata": {},
   "source": [
    "#### Logistic Regression score on test data"
   ]
  },
  {
   "cell_type": "code",
   "execution_count": 61,
   "metadata": {},
   "outputs": [
    {
     "name": "stdout",
     "output_type": "stream",
     "text": [
      "Test model score is 0.729792147806\n",
      "----\n",
      "Model Coefficents are:\n",
      "[['standing_height', -0.05632444301850662],\n",
      " ['systolic', -0.048859230873838984],\n",
      " ['sodium(mmol/L)', -0.029573455735358974],\n",
      " ['arm_circumference', -0.016332266880573966],\n",
      " ['iron(ug/dL)', -0.014184659862324615],\n",
      " ['hepatitis_A', -0.009756414359092233],\n",
      " ['triglycerides(mg/dL)', -0.008795782034889985],\n",
      " ['calcium(mg/dL)', -0.004393510219115645],\n",
      " ['Albumin(ug/mL)', -0.0022712575880006807],\n",
      " ['weight_kg', 0.0026628257029668464],\n",
      " ['diastolic', 0.007731153578543459],\n",
      " ['total_cholesterol(mg/dL)', 0.009778056383080538],\n",
      " ['total_protein(g/dL)', 0.014553292743622614],\n",
      " ['phosphorus(mg/dL)', 0.02444230607930049],\n",
      " ['60_sec_pulse', 0.02639398913251037],\n",
      " ['potassium(mmol/L)', 0.028375998863420085],\n",
      " ['creatinine(mg/dL)', 0.04573111165327569],\n",
      " ['waist_circumference', 0.059416177775156974],\n",
      " ['glycohemoglobin', 0.06413706542033802]]\n"
     ]
    }
   ],
   "source": [
    "logisticCoefs(0.0022229964825261957, Xs, y_train_1, Xs_test, y_test_1)"
   ]
  },
  {
   "cell_type": "markdown",
   "metadata": {},
   "source": [
    "#### 'Feeling down, depressed, or hopeless'\n",
    "Baseline = 0.7595"
   ]
  },
  {
   "cell_type": "code",
   "execution_count": 62,
   "metadata": {},
   "outputs": [
    {
     "name": "stdout",
     "output_type": "stream",
     "text": [
      "LogisticRegression(C=1e-10, class_weight=None, dual=False, fit_intercept=True,\n",
      "          intercept_scaling=1, max_iter=100, multi_class='ovr', n_jobs=1,\n",
      "          penalty='l2', random_state=None, solver='liblinear', tol=0.0001,\n",
      "          verbose=0, warm_start=False)\n",
      "----\n",
      "clf best parameter {'C': 1e-10}\n",
      "----\n",
      "clf best index 0\n",
      "----\n",
      "clf best best score 0.762455059065\n"
     ]
    }
   ],
   "source": [
    "gridSearcher(Xs, y_train_2)"
   ]
  },
  {
   "cell_type": "markdown",
   "metadata": {},
   "source": [
    "#### Logistic Regression score on test data"
   ]
  },
  {
   "cell_type": "code",
   "execution_count": 63,
   "metadata": {},
   "outputs": [
    {
     "name": "stdout",
     "output_type": "stream",
     "text": [
      "Test model score is 0.757505773672\n",
      "----\n",
      "Model Coefficents are:\n",
      "[['standing_height', -7.56405147978629e-08],\n",
      " ['iron(ug/dL)', -2.826741481355756e-08],\n",
      " ['systolic', -2.1554514005562062e-08],\n",
      " ['Albumin(ug/mL)', -2.0857473061809577e-08],\n",
      " ['sodium(mmol/L)', -1.2964883301978808e-08],\n",
      " ['weight_kg', 5.995130964388533e-09],\n",
      " ['triglycerides(mg/dL)', 7.005914380315706e-09],\n",
      " ['diastolic', 7.857489410824333e-09],\n",
      " ['hepatitis_A', 8.27073863971246e-09],\n",
      " ['arm_circumference', 8.322389814526756e-09],\n",
      " ['calcium(mg/dL)', 1.0542819542738886e-08],\n",
      " ['total_protein(g/dL)', 1.3632801034023123e-08],\n",
      " ['potassium(mmol/L)', 1.4224606826440185e-08],\n",
      " ['total_cholesterol(mg/dL)', 3.467918934943479e-08],\n",
      " ['creatinine(mg/dL)', 3.716373597198248e-08],\n",
      " ['phosphorus(mg/dL)', 3.842822002688446e-08],\n",
      " ['glycohemoglobin', 4.080729097384735e-08],\n",
      " ['waist_circumference', 5.5968337081448055e-08],\n",
      " ['60_sec_pulse', 6.979530117170332e-08]]\n"
     ]
    }
   ],
   "source": [
    "logisticCoefs(0.000000001, Xs, y_train_2, Xs_test, y_test_2)"
   ]
  },
  {
   "cell_type": "markdown",
   "metadata": {},
   "source": [
    "#### 'Trouble sleeping or sleeping too much'\n",
    "Baseline = 0.6185"
   ]
  },
  {
   "cell_type": "code",
   "execution_count": 64,
   "metadata": {},
   "outputs": [
    {
     "name": "stdout",
     "output_type": "stream",
     "text": [
      "LogisticRegression(C=0.000868511373751352, class_weight=None, dual=False,\n",
      "          fit_intercept=True, intercept_scaling=1, max_iter=100,\n",
      "          multi_class='ovr', n_jobs=1, penalty='l2', random_state=None,\n",
      "          solver='liblinear', tol=0.0001, verbose=0, warm_start=False)\n",
      "----\n",
      "clf best parameter {'C': 0.000868511373751352}\n",
      "----\n",
      "clf best index 17\n",
      "----\n",
      "clf best best score 0.61915767848\n"
     ]
    }
   ],
   "source": [
    "gridSearcher(Xs, y_train_3)"
   ]
  },
  {
   "cell_type": "markdown",
   "metadata": {},
   "source": [
    "#### Logistic Regression score on test data"
   ]
  },
  {
   "cell_type": "code",
   "execution_count": 65,
   "metadata": {},
   "outputs": [
    {
     "name": "stdout",
     "output_type": "stream",
     "text": [
      "Test model score is 0.621247113164\n",
      "----\n",
      "Model Coefficents are:\n",
      "[['standing_height', -0.051353501050494764],\n",
      " ['hepatitis_A', -0.029140275191189575],\n",
      " ['sodium(mmol/L)', -0.028869597538328108],\n",
      " ['iron(ug/dL)', -0.022877815243887968],\n",
      " ['systolic', -0.018917969233499005],\n",
      " ['total_protein(g/dL)', -0.0161185679883294],\n",
      " ['potassium(mmol/L)', -0.010612461614479632],\n",
      " ['diastolic', -0.008451347192498702],\n",
      " ['triglycerides(mg/dL)', -0.007423564606771783],\n",
      " ['creatinine(mg/dL)', -0.003857007749761857],\n",
      " ['calcium(mg/dL)', -0.000257203895749923],\n",
      " ['total_cholesterol(mg/dL)', 0.0029981479089821435],\n",
      " ['phosphorus(mg/dL)', 0.005798883768444543],\n",
      " ['Albumin(ug/mL)', 0.009569659610560251],\n",
      " ['glycohemoglobin', 0.013668152052197631],\n",
      " ['arm_circumference', 0.013729737629903252],\n",
      " ['weight_kg', 0.014976948649127575],\n",
      " ['waist_circumference', 0.037048526951699065],\n",
      " ['60_sec_pulse', 0.037132937861842574]]\n"
     ]
    }
   ],
   "source": [
    "logisticCoefs(0.000868511373751352, Xs, y_train_3, Xs_test, y_test_3)"
   ]
  },
  {
   "cell_type": "markdown",
   "metadata": {},
   "source": [
    "### Feeling tired or having little energy Column\n",
    "Baseline = 0.5222"
   ]
  },
  {
   "cell_type": "code",
   "execution_count": 66,
   "metadata": {},
   "outputs": [
    {
     "name": "stdout",
     "output_type": "stream",
     "text": [
      "LogisticRegression(C=0.000868511373751352, class_weight=None, dual=False,\n",
      "          fit_intercept=True, intercept_scaling=1, max_iter=100,\n",
      "          multi_class='ovr', n_jobs=1, penalty='l2', random_state=None,\n",
      "          solver='liblinear', tol=0.0001, verbose=0, warm_start=False)\n",
      "----\n",
      "clf best parameter {'C': 0.000868511373751352}\n",
      "----\n",
      "clf best index 17\n",
      "----\n",
      "clf best best score 0.549820236261\n"
     ]
    }
   ],
   "source": [
    "gridSearcher(Xs, y_train_4)"
   ]
  },
  {
   "cell_type": "markdown",
   "metadata": {},
   "source": [
    "#### Logistic Regression score on test data"
   ]
  },
  {
   "cell_type": "code",
   "execution_count": 67,
   "metadata": {},
   "outputs": [
    {
     "name": "stdout",
     "output_type": "stream",
     "text": [
      "Test model score is 0.577367205543\n",
      "----\n",
      "Model Coefficents are:\n",
      "[['hepatitis_A', -0.05538521931047054],\n",
      " ['sodium(mmol/L)', -0.043605178241356755],\n",
      " ['standing_height', -0.03906187836318091],\n",
      " ['systolic', -0.03826091571380509],\n",
      " ['iron(ug/dL)', -0.030440830337110373],\n",
      " ['total_protein(g/dL)', -0.023826323323321425],\n",
      " ['total_cholesterol(mg/dL)', -0.020782780258105524],\n",
      " ['triglycerides(mg/dL)', -0.020491336163767138],\n",
      " ['diastolic', -0.013690173251341406],\n",
      " ['calcium(mg/dL)', -0.012048422032041161],\n",
      " ['creatinine(mg/dL)', -0.010300690959826837],\n",
      " ['Albumin(ug/mL)', -0.008973888751863146],\n",
      " ['potassium(mmol/L)', 0.009805763412204828],\n",
      " ['arm_circumference', 0.014511551478688281],\n",
      " ['phosphorus(mg/dL)', 0.015094508741516206],\n",
      " ['glycohemoglobin', 0.021065334889942878],\n",
      " ['60_sec_pulse', 0.02163908012646937],\n",
      " ['weight_kg', 0.03460028995511168],\n",
      " ['waist_circumference', 0.047071747241984804]]\n"
     ]
    }
   ],
   "source": [
    "logisticCoefs(.000868511373751352, Xs, y_train_4, Xs_test, y_test_4)"
   ]
  },
  {
   "cell_type": "code",
   "execution_count": 68,
   "metadata": {
    "collapsed": true
   },
   "outputs": [],
   "source": [
    "lr = LogisticRegression(C = 0.000868511373751352)\n",
    "lr_model = lr.fit(Xs, y_train_4)"
   ]
  },
  {
   "cell_type": "code",
   "execution_count": 69,
   "metadata": {
    "collapsed": true
   },
   "outputs": [],
   "source": [
    "for x in lr_model.coef_.tolist():\n",
    "    tired_2 = []\n",
    "    for a, b in zip(X_train, x):\n",
    "         tired_2.append([a, b])\n",
    "tired_2.sort(key = lambda x: x[1])"
   ]
  },
  {
   "cell_type": "code",
   "execution_count": 70,
   "metadata": {},
   "outputs": [
    {
     "data": {
      "text/plain": [
       "[['hepatitis_A', -0.05538521931047054],\n",
       " ['sodium(mmol/L)', -0.043605178241356755],\n",
       " ['standing_height', -0.03906187836318091],\n",
       " ['systolic', -0.03826091571380509],\n",
       " ['iron(ug/dL)', -0.030440830337110373],\n",
       " ['total_protein(g/dL)', -0.023826323323321425],\n",
       " ['total_cholesterol(mg/dL)', -0.020782780258105524],\n",
       " ['triglycerides(mg/dL)', -0.020491336163767138],\n",
       " ['diastolic', -0.013690173251341406],\n",
       " ['calcium(mg/dL)', -0.012048422032041161],\n",
       " ['creatinine(mg/dL)', -0.010300690959826837],\n",
       " ['Albumin(ug/mL)', -0.008973888751863146],\n",
       " ['potassium(mmol/L)', 0.009805763412204828],\n",
       " ['arm_circumference', 0.014511551478688281],\n",
       " ['phosphorus(mg/dL)', 0.015094508741516206],\n",
       " ['glycohemoglobin', 0.021065334889942878],\n",
       " ['60_sec_pulse', 0.02163908012646937],\n",
       " ['weight_kg', 0.03460028995511168],\n",
       " ['waist_circumference', 0.047071747241984804]]"
      ]
     },
     "execution_count": 70,
     "metadata": {},
     "output_type": "execute_result"
    }
   ],
   "source": [
    "tired_2"
   ]
  },
  {
   "cell_type": "code",
   "execution_count": 71,
   "metadata": {
    "collapsed": true
   },
   "outputs": [],
   "source": [
    "df_tired_2 = pd.DataFrame(tired_2, columns = ['features', 'coefs'])\n",
    "df_tired_2.set_index('features', inplace = True)\n"
   ]
  },
  {
   "cell_type": "code",
   "execution_count": 72,
   "metadata": {},
   "outputs": [
    {
     "data": {
      "text/plain": [
       "Text(0.5,1,u'Feeling Tired or Having Little Energy - Health Results')"
      ]
     },
     "execution_count": 72,
     "metadata": {},
     "output_type": "execute_result"
    },
    {
     "data": {
      "image/png": "[encoded data removed]",
      "text/plain": [
       "<matplotlib.figure.Figure at 0x1a1c4d8f10>"
      ]
     },
     "metadata": {},
     "output_type": "display_data"
    }
   ],
   "source": [
    "fig, ax = plt.subplots(figsize = (10,6))\n",
    "df_tired_2[(df_tired_2.coefs < -.023) | (df_tired_2.coefs > .02)].plot(kind = 'bar', ax = ax, \n",
    "                                                                       edgecolor = ['black', 'black', 'black', 'black',\n",
    "                                                                                    'black', 'black', 'black', 'black',\n",
    "                                                                                    'black', 'black', ], linewidth = 1)\n",
    "\n",
    "ax.set_title('Feeling Tired or Having Little Energy - Health Results', fontsize=20)"
   ]
  },
  {
   "cell_type": "markdown",
   "metadata": {},
   "source": [
    "#### 'Poor appetite or overeating'\n",
    "Baseline = 0.7386"
   ]
  },
  {
   "cell_type": "code",
   "execution_count": 73,
   "metadata": {},
   "outputs": [
    {
     "name": "stdout",
     "output_type": "stream",
     "text": [
      "LogisticRegression(C=0.037275937203149381, class_weight=None, dual=False,\n",
      "          fit_intercept=True, intercept_scaling=1, max_iter=100,\n",
      "          multi_class='ovr', n_jobs=1, penalty='l2', random_state=None,\n",
      "          solver='liblinear', tol=0.0001, verbose=0, warm_start=False)\n",
      "----\n",
      "clf best parameter {'C': 0.037275937203149381}\n",
      "----\n",
      "clf best index 21\n",
      "----\n",
      "clf best best score 0.740626605033\n"
     ]
    }
   ],
   "source": [
    "gridSearcher(Xs, y_train_5)"
   ]
  },
  {
   "cell_type": "markdown",
   "metadata": {},
   "source": [
    "#### Logistic Regression score on test data"
   ]
  },
  {
   "cell_type": "code",
   "execution_count": 74,
   "metadata": {},
   "outputs": [
    {
     "name": "stdout",
     "output_type": "stream",
     "text": [
      "Test model score is 0.741339491917\n",
      "----\n",
      "Model Coefficents are:\n",
      "[['standing_height', -0.21507095062310125],\n",
      " ['sodium(mmol/L)', -0.1346676426294769],\n",
      " ['iron(ug/dL)', -0.12409328301001951],\n",
      " ['systolic', -0.07034456688887668],\n",
      " ['calcium(mg/dL)', -0.059268343647618175],\n",
      " ['hepatitis_A', -0.02632497423434975],\n",
      " ['diastolic', -0.019780453122354918],\n",
      " ['arm_circumference', -0.01717709077396261],\n",
      " ['total_cholesterol(mg/dL)', -0.004749155390701739],\n",
      " ['glycohemoglobin', 0.0009754519599635637],\n",
      " ['60_sec_pulse', 0.0021379008159154353],\n",
      " ['potassium(mmol/L)', 0.0048134151734394275],\n",
      " ['triglycerides(mg/dL)', 0.03741870913647155],\n",
      " ['Albumin(ug/mL)', 0.04392740827917297],\n",
      " ['creatinine(mg/dL)', 0.051865204948947134],\n",
      " ['total_protein(g/dL)', 0.0651157906381966],\n",
      " ['phosphorus(mg/dL)', 0.0852569812186903],\n",
      " ['weight_kg', 0.1265829080578039],\n",
      " ['waist_circumference', 0.1773592816390909]]\n"
     ]
    }
   ],
   "source": [
    "logisticCoefs(.037275937203149381, Xs, y_train_5, Xs_test, y_test_5)"
   ]
  },
  {
   "cell_type": "markdown",
   "metadata": {},
   "source": [
    "#### 'Feeling bad about yourself'\n",
    "Baseline = 0.8372"
   ]
  },
  {
   "cell_type": "code",
   "execution_count": 75,
   "metadata": {},
   "outputs": [
    {
     "name": "stdout",
     "output_type": "stream",
     "text": [
      "LogisticRegression(C=1e-10, class_weight=None, dual=False, fit_intercept=True,\n",
      "          intercept_scaling=1, max_iter=100, multi_class='ovr', n_jobs=1,\n",
      "          penalty='l2', random_state=None, solver='liblinear', tol=0.0001,\n",
      "          verbose=0, warm_start=False)\n",
      "----\n",
      "clf best parameter {'C': 1e-10}\n",
      "----\n",
      "clf best index 0\n",
      "----\n",
      "clf best best score 0.837955829481\n"
     ]
    }
   ],
   "source": [
    "gridSearcher(Xs, y_train_6)"
   ]
  },
  {
   "cell_type": "markdown",
   "metadata": {},
   "source": [
    "#### Logistic Regression score on test data"
   ]
  },
  {
   "cell_type": "code",
   "execution_count": 76,
   "metadata": {},
   "outputs": [
    {
     "name": "stdout",
     "output_type": "stream",
     "text": [
      "Test model score is 0.836027713626\n",
      "----\n",
      "Model Coefficents are:\n",
      "[['iron(ug/dL)', -3.4917787452069104e-08],\n",
      " ['hepatitis_A', -3.3678719391430905e-08],\n",
      " ['standing_height', -2.509056918141511e-08],\n",
      " ['systolic', -1.6878045471071903e-08],\n",
      " ['sodium(mmol/L)', -1.5626734033072914e-08],\n",
      " ['triglycerides(mg/dL)', -7.487818289962534e-09],\n",
      " ['glycohemoglobin', -5.630593966968283e-09],\n",
      " ['Albumin(ug/mL)', -3.946857742654958e-09],\n",
      " ['total_protein(g/dL)', 4.293364745815446e-09],\n",
      " ['calcium(mg/dL)', 7.826199485948083e-09],\n",
      " ['potassium(mmol/L)', 1.2571884949290783e-08],\n",
      " ['arm_circumference', 1.8548906867544048e-08],\n",
      " ['phosphorus(mg/dL)', 1.8972848622511597e-08],\n",
      " ['total_cholesterol(mg/dL)', 1.9745798920291343e-08],\n",
      " ['weight_kg', 2.5573295171307078e-08],\n",
      " ['waist_circumference', 2.928699071504283e-08],\n",
      " ['creatinine(mg/dL)', 5.690354429567273e-08],\n",
      " ['diastolic', 5.853388902427745e-08],\n",
      " ['60_sec_pulse', 6.558712204073409e-08]]\n"
     ]
    }
   ],
   "source": [
    "logisticCoefs(.000000001, Xs, y_train_6, Xs_test, y_test_6)"
   ]
  },
  {
   "cell_type": "markdown",
   "metadata": {},
   "source": [
    "#### 'Trouble concentrating on things'\n",
    "Baseline = 0.8377"
   ]
  },
  {
   "cell_type": "code",
   "execution_count": 77,
   "metadata": {},
   "outputs": [
    {
     "name": "stdout",
     "output_type": "stream",
     "text": [
      "LogisticRegression(C=1e-10, class_weight=None, dual=False, fit_intercept=True,\n",
      "          intercept_scaling=1, max_iter=100, multi_class='ovr', n_jobs=1,\n",
      "          penalty='l2', random_state=None, solver='liblinear', tol=0.0001,\n",
      "          verbose=0, warm_start=False)\n",
      "----\n",
      "clf best parameter {'C': 1e-10}\n",
      "----\n",
      "clf best index 0\n",
      "----\n",
      "clf best best score 0.832306111967\n"
     ]
    }
   ],
   "source": [
    "gridSearcher(Xs, y_train_7)"
   ]
  },
  {
   "cell_type": "markdown",
   "metadata": {},
   "source": [
    "#### Logistic Regression score on test data"
   ]
  },
  {
   "cell_type": "code",
   "execution_count": 78,
   "metadata": {},
   "outputs": [
    {
     "name": "stdout",
     "output_type": "stream",
     "text": [
      "Test model score is 0.838337182448\n",
      "----\n",
      "Model Coefficents are:\n",
      "[['iron(ug/dL)', -3.723467737121225e-08],\n",
      " ['standing_height', -3.195684978499195e-08],\n",
      " ['total_protein(g/dL)', -2.7307021615557306e-08],\n",
      " ['calcium(mg/dL)', -2.0547054576990187e-08],\n",
      " ['arm_circumference', -1.2757620260166577e-08],\n",
      " ['sodium(mmol/L)', -1.139253877566366e-08],\n",
      " ['Albumin(ug/mL)', -1.0215709130025154e-08],\n",
      " ['systolic', -8.3665728503169e-09],\n",
      " ['diastolic', -6.4603149613049376e-09],\n",
      " ['weight_kg', -5.14800985443783e-09],\n",
      " ['triglycerides(mg/dL)', -3.782285318561172e-09],\n",
      " ['60_sec_pulse', -1.7599605935179976e-09],\n",
      " ['total_cholesterol(mg/dL)', 5.763831502516911e-09],\n",
      " ['hepatitis_A', 1.1119914508852757e-08],\n",
      " ['phosphorus(mg/dL)', 1.184836496213065e-08],\n",
      " ['waist_circumference', 1.2570301774102938e-08],\n",
      " ['glycohemoglobin', 1.5723221401159607e-08],\n",
      " ['potassium(mmol/L)', 2.383353585167448e-08],\n",
      " ['creatinine(mg/dL)', 2.7034462202460665e-08]]\n"
     ]
    }
   ],
   "source": [
    "logisticCoefs(.000000001, Xs, y_train_7, Xs_test, y_test_7)"
   ]
  },
  {
   "cell_type": "markdown",
   "metadata": {},
   "source": [
    "#### 'Moving or speaking slowly or too fast'\n",
    "Baseline = 0.8941"
   ]
  },
  {
   "cell_type": "code",
   "execution_count": 79,
   "metadata": {},
   "outputs": [
    {
     "name": "stdout",
     "output_type": "stream",
     "text": [
      "LogisticRegression(C=1e-10, class_weight=None, dual=False, fit_intercept=True,\n",
      "          intercept_scaling=1, max_iter=100, multi_class='ovr', n_jobs=1,\n",
      "          penalty='l2', random_state=None, solver='liblinear', tol=0.0001,\n",
      "          verbose=0, warm_start=False)\n",
      "----\n",
      "clf best parameter {'C': 1e-10}\n",
      "----\n",
      "clf best index 0\n",
      "----\n",
      "clf best best score 0.896764252696\n"
     ]
    }
   ],
   "source": [
    "gridSearcher(Xs, y_train_8)"
   ]
  },
  {
   "cell_type": "markdown",
   "metadata": {},
   "source": [
    "#### Logistic Regression score on test data"
   ]
  },
  {
   "cell_type": "code",
   "execution_count": 80,
   "metadata": {},
   "outputs": [
    {
     "name": "stdout",
     "output_type": "stream",
     "text": [
      "Test model score is 0.896073903002\n",
      "----\n",
      "Model Coefficents are:\n",
      "[['standing_height', -6.585520599925932e-08],\n",
      " ['iron(ug/dL)', -2.2985010622181838e-08],\n",
      " ['weight_kg', -2.0759164513319635e-08],\n",
      " ['total_protein(g/dL)', -5.04979085820524e-09],\n",
      " ['triglycerides(mg/dL)', -4.3707158124340056e-09],\n",
      " ['calcium(mg/dL)', -3.5023746379958127e-09],\n",
      " ['phosphorus(mg/dL)', -3.2200091487648792e-09],\n",
      " ['arm_circumference', -1.748595596972279e-09],\n",
      " ['total_cholesterol(mg/dL)', -4.003241798976659e-10],\n",
      " ['systolic', -1.4052970092333436e-11],\n",
      " ['diastolic', 4.492347018196042e-09],\n",
      " ['Albumin(ug/mL)', 6.43598860794219e-09],\n",
      " ['sodium(mmol/L)', 8.898433585950598e-09],\n",
      " ['creatinine(mg/dL)', 9.347737166552424e-09],\n",
      " ['waist_circumference', 1.0381518090330305e-08],\n",
      " ['60_sec_pulse', 1.3040058355921304e-08],\n",
      " ['potassium(mmol/L)', 2.9112642569712444e-08],\n",
      " ['hepatitis_A', 3.2723849447375596e-08],\n",
      " ['glycohemoglobin', 4.065470000834662e-08]]\n"
     ]
    }
   ],
   "source": [
    "logisticCoefs(.000000001, Xs, y_train_8, Xs_test, y_test_8)"
   ]
  },
  {
   "cell_type": "markdown",
   "metadata": {},
   "source": [
    "#### 'Thought you would be better off dead'\n",
    "Baseline = 0.9625"
   ]
  },
  {
   "cell_type": "code",
   "execution_count": 81,
   "metadata": {},
   "outputs": [
    {
     "name": "stdout",
     "output_type": "stream",
     "text": [
      "LogisticRegression(C=1e-10, class_weight=None, dual=False, fit_intercept=True,\n",
      "          intercept_scaling=1, max_iter=100, multi_class='ovr', n_jobs=1,\n",
      "          penalty='l2', random_state=None, solver='liblinear', tol=0.0001,\n",
      "          verbose=0, warm_start=False)\n",
      "----\n",
      "clf best parameter {'C': 1e-10}\n",
      "----\n",
      "clf best index 0\n",
      "----\n",
      "clf best best score 0.9635336415\n"
     ]
    }
   ],
   "source": [
    "gridSearcher(Xs, y_train_9)"
   ]
  },
  {
   "cell_type": "markdown",
   "metadata": {},
   "source": [
    "#### Logistic Regression score on test data"
   ]
  },
  {
   "cell_type": "code",
   "execution_count": 82,
   "metadata": {},
   "outputs": [
    {
     "name": "stdout",
     "output_type": "stream",
     "text": [
      "Test model score is 0.958429561201\n",
      "----\n",
      "Model Coefficents are:\n",
      "[['iron(ug/dL)', -1.795563703223315e-08],\n",
      " ['standing_height', -4.0287389636501795e-09],\n",
      " ['diastolic', 1.509019142951696e-09],\n",
      " ['systolic', 2.874689270771118e-09],\n",
      " ['total_protein(g/dL)', 3.0242392148756923e-09],\n",
      " ['glycohemoglobin', 1.0303746603799683e-08],\n",
      " ['potassium(mmol/L)', 1.2396660505239107e-08],\n",
      " ['Albumin(ug/mL)', 1.2760411998921373e-08],\n",
      " ['total_cholesterol(mg/dL)', 1.2884842981779258e-08],\n",
      " ['phosphorus(mg/dL)', 1.4706153566352919e-08],\n",
      " ['calcium(mg/dL)', 1.4875943314328056e-08],\n",
      " ['hepatitis_A', 1.5785195550474786e-08],\n",
      " ['weight_kg', 1.6017295828981337e-08],\n",
      " ['arm_circumference', 1.632022556263016e-08],\n",
      " ['triglycerides(mg/dL)', 1.886599163837923e-08],\n",
      " ['60_sec_pulse', 2.1239456576709376e-08],\n",
      " ['creatinine(mg/dL)', 2.2472474426403784e-08],\n",
      " ['sodium(mmol/L)', 2.9708481218738193e-08],\n",
      " ['waist_circumference', 3.142618373184531e-08]]\n"
     ]
    }
   ],
   "source": [
    "logisticCoefs(.000000001, Xs, y_train_9, Xs_test, y_test_9)"
   ]
  },
  {
   "cell_type": "code",
   "execution_count": null,
   "metadata": {
    "collapsed": true
   },
   "outputs": [],
   "source": []
  },
  {
   "cell_type": "markdown",
   "metadata": {},
   "source": [
    "# Annual Household Income"
   ]
  },
  {
   "cell_type": "code",
   "execution_count": 83,
   "metadata": {
    "collapsed": true
   },
   "outputs": [],
   "source": [
    "demographic_income = demographic[:]"
   ]
  },
  {
   "cell_type": "markdown",
   "metadata": {},
   "source": [
    "### Dummying the Categorical Variables"
   ]
  },
  {
   "cell_type": "markdown",
   "metadata": {},
   "source": [
    "##### Ethnicity"
   ]
  },
  {
   "cell_type": "code",
   "execution_count": 84,
   "metadata": {
    "collapsed": true
   },
   "outputs": [],
   "source": [
    "ethnicity_dummies_income = pd.get_dummies(demographic_income['ethnicity'])\n",
    "\n",
    "ethnicity_dummies_income.columns = ['1 - Mexican American', '2 - Other Hispanic', '3 - Non-Hispanic White',\n",
    "                     '4 - Non-Hispanic Black', '5 - Non-Hispanic Asian', '6 - Other Race - Including Multi-Racial']\n",
    "\n",
    "ethnicity_dummies_income = ethnicity_dummies_income.drop('6 - Other Race - Including Multi-Racial', axis = 1)\n",
    "\n",
    "demographic_income = pd.concat([demographic_income, ethnicity_dummies_income], axis = 1)\n",
    "demographic_income = demographic_income.drop('ethnicity', axis = 1)"
   ]
  },
  {
   "cell_type": "markdown",
   "metadata": {},
   "source": [
    "##### Education"
   ]
  },
  {
   "cell_type": "code",
   "execution_count": 85,
   "metadata": {
    "collapsed": true
   },
   "outputs": [],
   "source": [
    "education_dummies_income = pd.get_dummies(demographic_income['education'])\n",
    "\n",
    "education_dummies_income.columns = ['1 - Less than 9th grade', '2 - 9-11th grade (Includes 12th grade with no diploma)',\n",
    "                     '3 - High school graduate/GED or equivalent', '4 - Some college or AA degree',\n",
    "                     '5 - College graduate or above']\n",
    "\n",
    "education_dummies_income = education_dummies_income.drop('2 - 9-11th grade (Includes 12th grade with no diploma)', axis = 1)\n",
    "\n",
    "demographic_income = pd.concat([demographic_income, education_dummies_income], axis = 1)\n",
    "demographic_income = demographic_income.drop('education', axis = 1)"
   ]
  },
  {
   "cell_type": "markdown",
   "metadata": {},
   "source": [
    "##### Maritial Status"
   ]
  },
  {
   "cell_type": "code",
   "execution_count": 86,
   "metadata": {
    "collapsed": true
   },
   "outputs": [],
   "source": [
    "marital_dummies_income = pd.get_dummies(demographic_income['marital_status'])\n",
    "\n",
    "marital_dummies_income.columns = ['1 - Married', '2 - Widowed', '3 - Divorced', '4 - Separated',\n",
    "                     '5 - Never married', '6 - Living with partner']\n",
    "\n",
    "marital_dummies_income = marital_dummies_income.drop('4 - Separated', axis = 1)\n",
    "\n",
    "demographic_income = pd.concat([demographic_income, marital_dummies_income], axis = 1)\n",
    "demographic_income = demographic_income.drop('marital_status', axis = 1)"
   ]
  },
  {
   "cell_type": "markdown",
   "metadata": {},
   "source": [
    "##### Household under 5"
   ]
  },
  {
   "cell_type": "code",
   "execution_count": 87,
   "metadata": {
    "collapsed": true
   },
   "outputs": [],
   "source": [
    "under5_dummies_income = pd.get_dummies(demographic_income['household_under5'])\n",
    "\n",
    "under5_dummies_income.columns = ['0 - 0 Number of children under 5', '1 - 1 Number of children under 5',\n",
    "                     '2 - 2 Number of children under 5', '3 - 3 or more Number of children under 5']\n",
    "\n",
    "under5_dummies_income = under5_dummies_income.drop('3 - 3 or more Number of children under 5', axis = 1)\n",
    "\n",
    "demographic_income = pd.concat([demographic_income, under5_dummies_income], axis = 1)\n",
    "demographic_income = demographic_income.drop('household_under5', axis = 1)"
   ]
  },
  {
   "cell_type": "markdown",
   "metadata": {},
   "source": [
    "##### Household 6 to 17"
   ]
  },
  {
   "cell_type": "code",
   "execution_count": 88,
   "metadata": {
    "collapsed": true
   },
   "outputs": [],
   "source": [
    "age6to17_dummies_income = pd.get_dummies(demographic_income['household_6to17'])\n",
    "\n",
    "age6to17_dummies_income.columns = ['0 - 0 Number of children 6 - 17', '1 - 1 Number of children 6 - 17',\n",
    "                            '2 - 2 Number of children 6 - 17', '3 - 3 Number of children 6 - 17',\n",
    "                            '4 - 4 or more Number of children 6 - 17']\n",
    "\n",
    "age6to17_dummies_income = age6to17_dummies_income.drop('4 - 4 or more Number of children 6 - 17', axis = 1)\n",
    "\n",
    "demographic_income = pd.concat([demographic_income, age6to17_dummies_income], axis = 1)\n",
    "demographic_income = demographic_income.drop('household_6to17', axis = 1)"
   ]
  },
  {
   "cell_type": "markdown",
   "metadata": {},
   "source": [
    "##### Household over 60"
   ]
  },
  {
   "cell_type": "code",
   "execution_count": 89,
   "metadata": {},
   "outputs": [],
   "source": [
    "over60_dummies_income = pd.get_dummies(demographic_income['household_over60'])\n",
    "\n",
    "over60_dummies_income.columns = ['0 - 0 Number of adults over 60', '1 - 1 Number of adults over 60', \n",
    "                     '2 - 2 Number of adults over 60', '3 - 3 or more Number of adult over 60']\n",
    "\n",
    "over60_dummies_income = over60_dummies_income.drop('3 - 3 or more Number of adult over 60', axis = 1)\n",
    "\n",
    "demographic_income = pd.concat([demographic_income, over60_dummies_income], axis = 1)\n",
    "demographic_income = demographic_income.drop('household_over60', axis = 1)"
   ]
  },
  {
   "cell_type": "code",
   "execution_count": 90,
   "metadata": {},
   "outputs": [
    {
     "data": {
      "text/plain": [
       "SEQN                                            0\n",
       "gender                                          0\n",
       "age                                             0\n",
       "veteran_status                                  0\n",
       "country_of_birth                                0\n",
       "citizenship_status                             18\n",
       "household_income                              991\n",
       "1 - Mexican American                            0\n",
       "2 - Other Hispanic                              0\n",
       "3 - Non-Hispanic White                          0\n",
       "4 - Non-Hispanic Black                          0\n",
       "5 - Non-Hispanic Asian                          0\n",
       "1 - Less than 9th grade                         0\n",
       "3 - High school graduate/GED or equivalent      0\n",
       "4 - Some college or AA degree                   0\n",
       "5 - College graduate or above                   0\n",
       "1 - Married                                     0\n",
       "2 - Widowed                                     0\n",
       "3 - Divorced                                    0\n",
       "5 - Never married                               0\n",
       "6 - Living with partner                         0\n",
       "0 - 0 Number of children under 5                0\n",
       "1 - 1 Number of children under 5                0\n",
       "2 - 2 Number of children under 5                0\n",
       "0 - 0 Number of children 6 - 17                 0\n",
       "1 - 1 Number of children 6 - 17                 0\n",
       "2 - 2 Number of children 6 - 17                 0\n",
       "3 - 3 Number of children 6 - 17                 0\n",
       "0 - 0 Number of adults over 60                  0\n",
       "1 - 1 Number of adults over 60                  0\n",
       "2 - 2 Number of adults over 60                  0\n",
       "dtype: int64"
      ]
     },
     "execution_count": 90,
     "metadata": {},
     "output_type": "execute_result"
    }
   ],
   "source": [
    "demographic_income.isnull().sum()"
   ]
  },
  {
   "cell_type": "markdown",
   "metadata": {},
   "source": [
    "#### Dropping Nan's from income "
   ]
  },
  {
   "cell_type": "code",
   "execution_count": 91,
   "metadata": {
    "collapsed": true
   },
   "outputs": [],
   "source": [
    "demographic_income = demographic_income.dropna()"
   ]
  },
  {
   "cell_type": "markdown",
   "metadata": {},
   "source": [
    "## Demograhic Income Values\n",
    "\n",
    "The encodes values for household_income are encoded below:\n",
    "* 1 - Under 20,000\n",
    "* 2\t- 20,000 to 24,999\n",
    "* 3\t- 25,000 to 34,999\t\n",
    "* 4 - 35,000 to 44,999\n",
    "* 5 - 45,000 to 54,999\t\n",
    "* 6 - 55,000 to 64,999\t\n",
    "* 7 - 65,000 to 74,999\n",
    "* 8 - 75,000 to 99,999\n",
    "* 9 - 100,000 and Over\t\n",
    "\n",
    "Just leaving all of these values as targets gave us a Logistic Regression Model accuracy of .3171, By consolidating our targets like we did above I believe we can get a better score.\n",
    "\n",
    "The new encoded values are:\n",
    "- 0 - Under 35,000\n",
    "- 1 - 35,000 to 99,999 \n",
    "- 2 - 100,000 and Over"
   ]
  },
  {
   "cell_type": "code",
   "execution_count": 92,
   "metadata": {
    "collapsed": true
   },
   "outputs": [],
   "source": [
    "demographic_income.household_income = demographic_income.household_income.apply(lambda x: 0 if x < 4\n",
    "                                                                                else 1 if x in [4, 5, 6, 7, 8]\n",
    "                                                                                else 2)"
   ]
  },
  {
   "cell_type": "code",
   "execution_count": 93,
   "metadata": {},
   "outputs": [
    {
     "data": {
      "text/plain": [
       "(3539, 31)"
      ]
     },
     "execution_count": 93,
     "metadata": {},
     "output_type": "execute_result"
    }
   ],
   "source": [
    "demographic_income[demographic_income.household_income == 0].shape"
   ]
  },
  {
   "cell_type": "code",
   "execution_count": 94,
   "metadata": {},
   "outputs": [
    {
     "data": {
      "text/plain": [
       "(3793, 31)"
      ]
     },
     "execution_count": 94,
     "metadata": {},
     "output_type": "execute_result"
    }
   ],
   "source": [
    "demographic_income[demographic_income.household_income == 1].shape"
   ]
  },
  {
   "cell_type": "code",
   "execution_count": 95,
   "metadata": {},
   "outputs": [
    {
     "data": {
      "text/plain": [
       "(1634, 31)"
      ]
     },
     "execution_count": 95,
     "metadata": {},
     "output_type": "execute_result"
    }
   ],
   "source": [
    "demographic_income[demographic_income.household_income == 2].shape"
   ]
  },
  {
   "cell_type": "code",
   "execution_count": 96,
   "metadata": {},
   "outputs": [
    {
     "data": {
      "text/plain": [
       "(8966,)"
      ]
     },
     "execution_count": 96,
     "metadata": {},
     "output_type": "execute_result"
    }
   ],
   "source": [
    "demographic_income.household_income.shape"
   ]
  },
  {
   "cell_type": "markdown",
   "metadata": {},
   "source": [
    "#### Baseline is 0.4230"
   ]
  },
  {
   "cell_type": "markdown",
   "metadata": {},
   "source": [
    "#### Splitting the Data into X's and y's"
   ]
  },
  {
   "cell_type": "code",
   "execution_count": 97,
   "metadata": {
    "collapsed": true
   },
   "outputs": [],
   "source": [
    "X = demographic_income.drop(['household_income', 'SEQN'], axis = 1)\n",
    "y = demographic_income.household_income"
   ]
  },
  {
   "cell_type": "code",
   "execution_count": 98,
   "metadata": {
    "collapsed": true
   },
   "outputs": [],
   "source": [
    "X_train, X_test, y_train, y_test = train_test_split(X, y, test_size=0.2, random_state=42)"
   ]
  },
  {
   "cell_type": "markdown",
   "metadata": {},
   "source": [
    "#### Standardized train and test X's"
   ]
  },
  {
   "cell_type": "code",
   "execution_count": 99,
   "metadata": {
    "collapsed": true
   },
   "outputs": [],
   "source": [
    "Xs = ss.fit_transform(X_train)\n",
    "Xs_test = ss.transform(X_test)"
   ]
  },
  {
   "cell_type": "code",
   "execution_count": 100,
   "metadata": {},
   "outputs": [
    {
     "name": "stdout",
     "output_type": "stream",
     "text": [
      "LogisticRegression(C=0.037275937203149381, class_weight=None, dual=False,\n",
      "          fit_intercept=True, intercept_scaling=1, max_iter=100,\n",
      "          multi_class='ovr', n_jobs=1, penalty='l2', random_state=None,\n",
      "          solver='liblinear', tol=0.0001, verbose=0, warm_start=False)\n",
      "----\n",
      "clf best parameter {'C': 0.037275937203149381}\n",
      "----\n",
      "clf best index 21\n",
      "----\n",
      "clf best best score 0.523703290574\n"
     ]
    }
   ],
   "source": [
    "gridSearcher(Xs, y_train)"
   ]
  },
  {
   "cell_type": "code",
   "execution_count": 101,
   "metadata": {},
   "outputs": [
    {
     "name": "stdout",
     "output_type": "stream",
     "text": [
      "Test model score is 0.538461538462\n",
      "----\n",
      "Model Coefficents are:\n",
      "[['age', -0.3027835469762806],\n",
      " ['1 - Mexican American', -0.281341613492743],\n",
      " ['citizenship_status', -0.21164138666199603],\n",
      " ['4 - Non-Hispanic Black', -0.19043758616539502],\n",
      " ['2 - 2 Number of adults over 60', -0.1819266308451085],\n",
      " ['1 - 1 Number of adults over 60', -0.18148117150101445],\n",
      " ['0 - 0 Number of adults over 60', -0.11594289938602197],\n",
      " ['3 - 3 Number of children 6 - 17', -0.0965733111723996],\n",
      " ['3 - Divorced', -0.09302003069499826],\n",
      " ['country_of_birth', -0.0862473064828075],\n",
      " ['2 - Other Hispanic', -0.08555636779706909],\n",
      " ['2 - Widowed', -0.08437123008120324],\n",
      " ['veteran_status', -0.05099884473326407],\n",
      " ['2 - 2 Number of children under 5', -0.01929723012679826],\n",
      " ['0 - 0 Number of children 6 - 17', 0.023785127541493607],\n",
      " ['gender', 0.02454688370261551],\n",
      " ['3 - High school graduate/GED or equivalent', 0.04933679837424862],\n",
      " ['2 - 2 Number of children 6 - 17', 0.06194074191950005],\n",
      " ['6 - Living with partner', 0.0845267212936138],\n",
      " ['1 - 1 Number of children under 5', 0.08998148998135437],\n",
      " ['5 - Never married', 0.13639901885354816],\n",
      " ['1 - 1 Number of children 6 - 17', 0.16218538295310064],\n",
      " ['4 - Some college or AA degree', 0.17504659663448227],\n",
      " ['1 - Less than 9th grade', 0.1875293747648328],\n",
      " ['0 - 0 Number of children under 5', 0.20154733765103428],\n",
      " ['3 - Non-Hispanic White', 0.2092014307507576],\n",
      " ['5 - Non-Hispanic Asian', 0.2352691476232748],\n",
      " ['1 - Married', 0.3647412359792186],\n",
      " ['5 - College graduate or above', 0.5148004607372803]]\n"
     ]
    }
   ],
   "source": [
    "logisticCoefs(0.037275937203149381, Xs, y_train, Xs_test, y_test)"
   ]
  },
  {
   "cell_type": "code",
   "execution_count": 102,
   "metadata": {
    "collapsed": true
   },
   "outputs": [],
   "source": [
    "clf = LogisticRegression(C = 0.037275937203149381).fit(Xs , y_train)"
   ]
  },
  {
   "cell_type": "code",
   "execution_count": 103,
   "metadata": {
    "collapsed": true
   },
   "outputs": [],
   "source": [
    "coefs = [x for x in clf.coef_.tolist()]"
   ]
  },
  {
   "cell_type": "code",
   "execution_count": 104,
   "metadata": {
    "collapsed": true
   },
   "outputs": [],
   "source": [
    "household_0 = coefs[0]\n",
    "household_1 = coefs[1]\n",
    "household_2 = coefs[2]"
   ]
  },
  {
   "cell_type": "markdown",
   "metadata": {},
   "source": [
    "#### Under 35,000"
   ]
  },
  {
   "cell_type": "code",
   "execution_count": 105,
   "metadata": {
    "collapsed": true
   },
   "outputs": [],
   "source": [
    "ls_1 = []\n",
    "for x, y in zip(X_train, household_0):\n",
    "     ls_1.append([x, y])\n",
    "ls_1.sort(key = lambda x: x[1])"
   ]
  },
  {
   "cell_type": "code",
   "execution_count": 106,
   "metadata": {},
   "outputs": [
    {
     "data": {
      "text/plain": [
       "[['1 - Married', -0.5390260490069622],\n",
       " ['5 - College graduate or above', -0.4978638243962772],\n",
       " ['0 - 0 Number of children under 5', -0.3578817495670433],\n",
       " ['1 - 1 Number of children under 5', -0.25690507045896604],\n",
       " ['4 - Some college or AA degree', -0.2080586914981688],\n",
       " ['3 - Non-Hispanic White', -0.18065984866485332],\n",
       " ['5 - Non-Hispanic Asian', -0.17146902990228086],\n",
       " ['2 - 2 Number of children 6 - 17', -0.13755152973469212],\n",
       " ['2 - 2 Number of children under 5', -0.12739491243286197],\n",
       " ['6 - Living with partner', -0.09957975967138419],\n",
       " ['1 - 1 Number of children 6 - 17', -0.09413743070799745],\n",
       " ['3 - 3 Number of children 6 - 17', -0.05815743088511287],\n",
       " ['5 - Never married', -0.049486511445279165],\n",
       " ['3 - High school graduate/GED or equivalent', -0.023346351340020485],\n",
       " ['2 - Widowed', -0.006335220596388595],\n",
       " ['country_of_birth', -0.0056777277111985346],\n",
       " ['3 - Divorced', 0.003135135543757911],\n",
       " ['veteran_status', 0.022797164282237076],\n",
       " ['gender', 0.031495725334719116],\n",
       " ['2 - Other Hispanic', 0.053122683904807635],\n",
       " ['0 - 0 Number of children 6 - 17', 0.06131705514776152],\n",
       " ['1 - Less than 9th grade', 0.07166789935827485],\n",
       " ['0 - 0 Number of adults over 60', 0.11104345672838178],\n",
       " ['1 - 1 Number of adults over 60', 0.11322412220636115],\n",
       " ['1 - Mexican American', 0.14606076694385606],\n",
       " ['2 - 2 Number of adults over 60', 0.19465918591292894],\n",
       " ['4 - Non-Hispanic Black', 0.2009348334664017],\n",
       " ['citizenship_status', 0.21608596359130725],\n",
       " ['age', 0.6132798645611985]]"
      ]
     },
     "execution_count": 106,
     "metadata": {},
     "output_type": "execute_result"
    }
   ],
   "source": [
    "ls_1"
   ]
  },
  {
   "cell_type": "code",
   "execution_count": 107,
   "metadata": {},
   "outputs": [
    {
     "data": {
      "text/plain": [
       "Text(0.5,1,u'Under $ 35,000 - Demographic')"
      ]
     },
     "execution_count": 107,
     "metadata": {},
     "output_type": "execute_result"
    },
    {
     "data": {
      "image/png": "[encoded data removed]",
      "text/plain": [
       "<matplotlib.figure.Figure at 0x112452ad0>"
      ]
     },
     "metadata": {},
     "output_type": "display_data"
    }
   ],
   "source": [
    "df_1 = pd.DataFrame(ls_1, columns = ['features', 'coefs'])\n",
    "df_1.set_index('features', inplace = True)\n",
    "fig, ax = plt.subplots(figsize = (10,6))\n",
    "df_1[(df_1.coefs < -.21) | (df_1.coefs > .1111)].plot(kind = 'bar', ax = ax, \n",
    "                                                      edgecolor = ['black', 'black', 'black', 'black',\n",
    "                                                                   'black', 'black', 'black', 'black',\n",
    "                                                                   'black', 'black', ], linewidth = 1)\n",
    "\n",
    "ax.set_title('Under $ 35,000 - Demographic', fontsize=30)"
   ]
  },
  {
   "cell_type": "markdown",
   "metadata": {},
   "source": [
    "#### 35,000 to 99,999"
   ]
  },
  {
   "cell_type": "code",
   "execution_count": 108,
   "metadata": {
    "collapsed": true
   },
   "outputs": [],
   "source": [
    "ls_2 = []\n",
    "for x, y in zip(X_train, household_1):\n",
    "     ls_2.append([x, y])\n",
    "ls_2.sort(key = lambda x: x[1])"
   ]
  },
  {
   "cell_type": "code",
   "execution_count": 109,
   "metadata": {},
   "outputs": [
    {
     "data": {
      "text/plain": [
       "[['age', -0.39726969662221023],\n",
       " ['1 - Less than 9th grade', -0.1617511331484457],\n",
       " ['citizenship_status', -0.08129327167211077],\n",
       " ['4 - Non-Hispanic Black', -0.07936122669067326],\n",
       " ['0 - 0 Number of children 6 - 17', -0.059814101567216005],\n",
       " ['gender', -0.047329294055427996],\n",
       " ['2 - 2 Number of adults over 60', -0.02288023763312827],\n",
       " ['5 - Non-Hispanic Asian', -0.015710783901590985],\n",
       " ['0 - 0 Number of adults over 60', -0.013662900303306785],\n",
       " ['1 - 1 Number of children 6 - 17', -0.008367604037711878],\n",
       " ['1 - Mexican American', -0.0075312871561799225],\n",
       " ['veteran_status', 0.0012109138456244542],\n",
       " ['3 - High school graduate/GED or equivalent', 0.006734008688355969],\n",
       " ['2 - Other Hispanic', 0.00827776519229743],\n",
       " ['1 - 1 Number of adults over 60', 0.011505892069419077],\n",
       " ['3 - Non-Hispanic White', 0.017456768996041223],\n",
       " ['2 - Widowed', 0.02018518815726772],\n",
       " ['5 - Never married', 0.021494046558367154],\n",
       " ['country_of_birth', 0.029619300878132852],\n",
       " ['5 - College graduate or above', 0.03685586308959339],\n",
       " ['3 - Divorced', 0.04236814242302096],\n",
       " ['6 - Living with partner', 0.0427789745393331],\n",
       " ['2 - 2 Number of children 6 - 17', 0.08178534717342856],\n",
       " ['3 - 3 Number of children 6 - 17', 0.09704862420714472],\n",
       " ['4 - Some college or AA degree', 0.11049222524258698],\n",
       " ['2 - 2 Number of children under 5', 0.1310603164691012],\n",
       " ['1 - 1 Number of children under 5', 0.18645702384212107],\n",
       " ['0 - 0 Number of children under 5', 0.2245068538263248],\n",
       " ['1 - Married', 0.2550077909743234]]"
      ]
     },
     "execution_count": 109,
     "metadata": {},
     "output_type": "execute_result"
    }
   ],
   "source": [
    "ls_2"
   ]
  },
  {
   "cell_type": "markdown",
   "metadata": {},
   "source": [
    "#### Over 100,000"
   ]
  },
  {
   "cell_type": "code",
   "execution_count": 110,
   "metadata": {
    "collapsed": true
   },
   "outputs": [],
   "source": [
    "ls_3 = []\n",
    "for x, y in zip(X_train, household_2):\n",
    "     ls_3.append([x, y])\n",
    "ls_3.sort(key = lambda x: x[1])"
   ]
  },
  {
   "cell_type": "code",
   "execution_count": 111,
   "metadata": {},
   "outputs": [
    {
     "data": {
      "text/plain": [
       "[['age', -0.3027835469762806],\n",
       " ['1 - Mexican American', -0.281341613492743],\n",
       " ['citizenship_status', -0.21164138666199603],\n",
       " ['4 - Non-Hispanic Black', -0.19043758616539502],\n",
       " ['2 - 2 Number of adults over 60', -0.1819266308451085],\n",
       " ['1 - 1 Number of adults over 60', -0.18148117150101445],\n",
       " ['0 - 0 Number of adults over 60', -0.11594289938602197],\n",
       " ['3 - 3 Number of children 6 - 17', -0.0965733111723996],\n",
       " ['3 - Divorced', -0.09302003069499826],\n",
       " ['country_of_birth', -0.0862473064828075],\n",
       " ['2 - Other Hispanic', -0.08555636779706909],\n",
       " ['2 - Widowed', -0.08437123008120324],\n",
       " ['veteran_status', -0.05099884473326407],\n",
       " ['2 - 2 Number of children under 5', -0.01929723012679826],\n",
       " ['0 - 0 Number of children 6 - 17', 0.023785127541493607],\n",
       " ['gender', 0.02454688370261551],\n",
       " ['3 - High school graduate/GED or equivalent', 0.04933679837424862],\n",
       " ['2 - 2 Number of children 6 - 17', 0.06194074191950005],\n",
       " ['6 - Living with partner', 0.0845267212936138],\n",
       " ['1 - 1 Number of children under 5', 0.08998148998135437],\n",
       " ['5 - Never married', 0.13639901885354816],\n",
       " ['1 - 1 Number of children 6 - 17', 0.16218538295310064],\n",
       " ['4 - Some college or AA degree', 0.17504659663448227],\n",
       " ['1 - Less than 9th grade', 0.1875293747648328],\n",
       " ['0 - 0 Number of children under 5', 0.20154733765103428],\n",
       " ['3 - Non-Hispanic White', 0.2092014307507576],\n",
       " ['5 - Non-Hispanic Asian', 0.2352691476232748],\n",
       " ['1 - Married', 0.3647412359792186],\n",
       " ['5 - College graduate or above', 0.5148004607372803]]"
      ]
     },
     "execution_count": 111,
     "metadata": {},
     "output_type": "execute_result"
    }
   ],
   "source": [
    "ls_3"
   ]
  },
  {
   "cell_type": "code",
   "execution_count": 112,
   "metadata": {},
   "outputs": [
    {
     "data": {
      "text/plain": [
       "Text(0.5,1,u'Over $ 100,000 - Demographic')"
      ]
     },
     "execution_count": 112,
     "metadata": {},
     "output_type": "execute_result"
    },
    {
     "data": {
      "image/png": "[encoded data removed]",
      "text/plain": [
       "<matplotlib.figure.Figure at 0x1a1dbe03d0>"
      ]
     },
     "metadata": {},
     "output_type": "display_data"
    }
   ],
   "source": [
    "df_3 = pd.DataFrame(ls_3, columns = ['features', 'coefs'])\n",
    "df_3.set_index('features', inplace = True)\n",
    "fig, ax = plt.subplots(figsize = (10,6))\n",
    "df_3[(df_3.coefs < -.18) | (df_3.coefs > .202)].plot(kind = 'bar', ax = ax, \n",
    "                                                      edgecolor = ['black', 'black', 'black', 'black',\n",
    "                                                                   'black', 'black', 'black', 'black',\n",
    "                                                                   'black', 'black', ], linewidth = 1)\n",
    "\n",
    "ax.set_title('Over $ 100,000 - Demographic', fontsize=30)"
   ]
  },
  {
   "cell_type": "markdown",
   "metadata": {},
   "source": [
    "## Health on Income"
   ]
  },
  {
   "cell_type": "code",
   "execution_count": 113,
   "metadata": {
    "collapsed": true
   },
   "outputs": [],
   "source": [
    "health_income = pd.merge(data_health, demographic_income, on = 'SEQN', how = 'inner')"
   ]
  },
  {
   "cell_type": "code",
   "execution_count": 114,
   "metadata": {},
   "outputs": [],
   "source": [
    "health_income = health_income.dropna()"
   ]
  },
  {
   "cell_type": "code",
   "execution_count": 115,
   "metadata": {
    "collapsed": true
   },
   "outputs": [],
   "source": [
    "X = health_income.iloc[:, 1:20]\n",
    "y = health_income.household_income"
   ]
  },
  {
   "cell_type": "code",
   "execution_count": 116,
   "metadata": {
    "collapsed": true
   },
   "outputs": [],
   "source": [
    "X_train, X_test, y_train, y_test = train_test_split(X, y, test_size=0.1, random_state=42)"
   ]
  },
  {
   "cell_type": "code",
   "execution_count": 117,
   "metadata": {},
   "outputs": [],
   "source": [
    "Xs = ss.fit_transform(X_train)\n",
    "Xs_test = ss.transform(X_test)"
   ]
  },
  {
   "cell_type": "code",
   "execution_count": 118,
   "metadata": {},
   "outputs": [
    {
     "name": "stdout",
     "output_type": "stream",
     "text": [
      "LogisticRegression(C=0.24420530945486549, class_weight=None, dual=False,\n",
      "          fit_intercept=True, intercept_scaling=1, max_iter=100,\n",
      "          multi_class='ovr', n_jobs=1, penalty='l2', random_state=None,\n",
      "          solver='liblinear', tol=0.0001, verbose=0, warm_start=False)\n",
      "----\n",
      "clf best parameter {'C': 0.24420530945486549}\n",
      "----\n",
      "clf best index 23\n",
      "----\n",
      "clf best best score 0.481617647059\n"
     ]
    }
   ],
   "source": [
    "gridSearcher(Xs, y_train)"
   ]
  },
  {
   "cell_type": "code",
   "execution_count": 119,
   "metadata": {
    "collapsed": true
   },
   "outputs": [],
   "source": [
    "clf = LogisticRegression(C = 0.24420530945486549).fit(Xs , y_train)"
   ]
  },
  {
   "cell_type": "code",
   "execution_count": 120,
   "metadata": {
    "collapsed": true
   },
   "outputs": [],
   "source": [
    "coefs = [x for x in clf.coef_.tolist()]\n",
    "household_0 = coefs[0]\n",
    "household_1 = coefs[1]\n",
    "household_2 = coefs[2]"
   ]
  },
  {
   "cell_type": "markdown",
   "metadata": {},
   "source": [
    "#### Under 35,000"
   ]
  },
  {
   "cell_type": "code",
   "execution_count": 121,
   "metadata": {
    "collapsed": true
   },
   "outputs": [],
   "source": [
    "ls_4 = []\n",
    "for x, y in zip(X_train, household_0):\n",
    "     ls_4.append([x, y])\n",
    "ls_4.sort(key = lambda x: x[1])"
   ]
  },
  {
   "cell_type": "code",
   "execution_count": 122,
   "metadata": {
    "scrolled": true
   },
   "outputs": [
    {
     "data": {
      "text/plain": [
       "[['weight_kg', -0.6254810121783518],\n",
       " ['diastolic', -0.19432698562675532],\n",
       " ['total_cholesterol(mg/dL)', -0.11772105693620058],\n",
       " ['standing_height', -0.09370152113529992],\n",
       " ['iron(ug/dL)', -0.07075549896258207],\n",
       " ['phosphorus(mg/dL)', -0.047503405621093064],\n",
       " ['arm_circumference', -0.030117612598714136],\n",
       " ['triglycerides(mg/dL)', 0.0012890975505541501],\n",
       " ['sodium(mmol/L)', 0.0018442264926365945],\n",
       " ['calcium(mg/dL)', 0.024939902534391545],\n",
       " ['60_sec_pulse', 0.0635858250458582],\n",
       " ['glycohemoglobin', 0.06827877399609006],\n",
       " ['Albumin(ug/mL)', 0.08340633979691436],\n",
       " ['potassium(mmol/L)', 0.0891443951634133],\n",
       " ['total_protein(g/dL)', 0.14311306857480624],\n",
       " ['hepatitis_A', 0.17163354168020453],\n",
       " ['creatinine(mg/dL)', 0.17415533676553052],\n",
       " ['systolic', 0.25729235259282845],\n",
       " ['waist_circumference', 0.6305247493314947]]"
      ]
     },
     "execution_count": 122,
     "metadata": {},
     "output_type": "execute_result"
    }
   ],
   "source": [
    "ls_4"
   ]
  },
  {
   "cell_type": "code",
   "execution_count": 123,
   "metadata": {},
   "outputs": [
    {
     "data": {
      "text/plain": [
       "Text(0.5,1,u'Under $ 35,000 - Health Results')"
      ]
     },
     "execution_count": 123,
     "metadata": {},
     "output_type": "execute_result"
    },
    {
     "data": {
      "image/png": "[encoded data removed]",
      "text/plain": [
       "<matplotlib.figure.Figure at 0x111a2df90>"
      ]
     },
     "metadata": {},
     "output_type": "display_data"
    }
   ],
   "source": [
    "df_4 = pd.DataFrame(ls_4, columns = ['features', 'coefs'])\n",
    "df_4.set_index('features', inplace = True)\n",
    "fig, ax = plt.subplots(figsize = (10,6))\n",
    "df_4[(df_4.coefs < -.085) | (df_4.coefs > .087)].plot(kind = 'bar', ax = ax,\n",
    "                                                     edgecolor = ['black', 'black', 'black', 'black',\n",
    "                                                                   'black', 'black', 'black', 'black',\n",
    "                                                                   'black', 'black', ], linewidth = 1)\n",
    "ax.set_title('Under $ 35,000 - Health Results', fontsize=30)"
   ]
  },
  {
   "cell_type": "markdown",
   "metadata": {},
   "source": [
    "#### 35,000 to 99,999"
   ]
  },
  {
   "cell_type": "code",
   "execution_count": 124,
   "metadata": {
    "collapsed": true
   },
   "outputs": [],
   "source": [
    "ls_5 = []\n",
    "for x, y in zip(X_train, household_1):\n",
    "     ls_5.append([x, y])\n",
    "ls_5.sort(key = lambda x: x[1])"
   ]
  },
  {
   "cell_type": "code",
   "execution_count": 125,
   "metadata": {},
   "outputs": [
    {
     "data": {
      "text/plain": [
       "[['waist_circumference', -0.43657209250569073],\n",
       " ['systolic', -0.0842216840330788],\n",
       " ['creatinine(mg/dL)', -0.06458915785980283],\n",
       " ['hepatitis_A', -0.06403701956510312],\n",
       " ['potassium(mmol/L)', -0.056826795870112384],\n",
       " ['standing_height', -0.045860681991116266],\n",
       " ['Albumin(ug/mL)', -0.037926379278286085],\n",
       " ['sodium(mmol/L)', -0.024721173571806813],\n",
       " ['iron(ug/dL)', -0.00778007018793844],\n",
       " ['60_sec_pulse', -0.00619241476913432],\n",
       " ['glycohemoglobin', -0.0032237034172817656],\n",
       " ['total_protein(g/dL)', -0.0004121268738081377],\n",
       " ['triglycerides(mg/dL)', 0.009185684233817423],\n",
       " ['calcium(mg/dL)', 0.022638447268350178],\n",
       " ['total_cholesterol(mg/dL)', 0.038317305800301314],\n",
       " ['phosphorus(mg/dL)', 0.04658723563245813],\n",
       " ['diastolic', 0.06822152532064218],\n",
       " ['arm_circumference', 0.11784281892841765],\n",
       " ['weight_kg', 0.38238252238899256]]"
      ]
     },
     "execution_count": 125,
     "metadata": {},
     "output_type": "execute_result"
    }
   ],
   "source": [
    "ls_5"
   ]
  },
  {
   "cell_type": "markdown",
   "metadata": {},
   "source": [
    "#### Over 100,000"
   ]
  },
  {
   "cell_type": "code",
   "execution_count": 126,
   "metadata": {
    "collapsed": true
   },
   "outputs": [],
   "source": [
    "ls_6 = []\n",
    "for x, y in zip(X_train, household_2):\n",
    "     ls_6.append([x, y])\n",
    "ls_6.sort(key = lambda x: x[1])"
   ]
  },
  {
   "cell_type": "code",
   "execution_count": 127,
   "metadata": {},
   "outputs": [
    {
     "data": {
      "text/plain": [
       "[['systolic', -0.33068713358675644],\n",
       " ['Albumin(ug/mL)', -0.295557982601297],\n",
       " ['waist_circumference', -0.2634036215684782],\n",
       " ['total_protein(g/dL)', -0.24185559567517678],\n",
       " ['hepatitis_A', -0.15865274568315402],\n",
       " ['creatinine(mg/dL)', -0.15756155093600144],\n",
       " ['glycohemoglobin', -0.1549916388555416],\n",
       " ['arm_circumference', -0.15436444701353838],\n",
       " ['60_sec_pulse', -0.1019161718933691],\n",
       " ['calcium(mg/dL)', -0.07539753551748914],\n",
       " ['potassium(mmol/L)', -0.05698990512250117],\n",
       " ['triglycerides(mg/dL)', -0.024888756828949688],\n",
       " ['phosphorus(mg/dL)', -0.004299736471984023],\n",
       " ['sodium(mmol/L)', 0.03369852950217119],\n",
       " ['iron(ug/dL)', 0.11406986941688836],\n",
       " ['total_cholesterol(mg/dL)', 0.13224014161491732],\n",
       " ['standing_height', 0.23650842013571904],\n",
       " ['diastolic', 0.25606333740003223],\n",
       " ['weight_kg', 0.3475434615783843]]"
      ]
     },
     "execution_count": 127,
     "metadata": {},
     "output_type": "execute_result"
    }
   ],
   "source": [
    "ls_6"
   ]
  },
  {
   "cell_type": "code",
   "execution_count": 128,
   "metadata": {},
   "outputs": [
    {
     "data": {
      "text/plain": [
       "Text(0.5,1,u'Over $ 100,000 - Health Results')"
      ]
     },
     "execution_count": 128,
     "metadata": {},
     "output_type": "execute_result"
    },
    {
     "data": {
      "image/png": "[encoded data removed]",
      "text/plain": [
       "<matplotlib.figure.Figure at 0x1126a5ed0>"
      ]
     },
     "metadata": {},
     "output_type": "display_data"
    }
   ],
   "source": [
    "df_6 = pd.DataFrame(ls_6, columns = ['features', 'coefs'])\n",
    "df_6.set_index('features', inplace = True)\n",
    "fig, ax = plt.subplots(figsize = (10,6))\n",
    "df_6[(df_6.coefs < -.24) | (df_6.coefs > .05)].plot(kind = 'bar', ax = ax,\n",
    "                                                     edgecolor = ['black', 'black', 'black', 'black',\n",
    "                                                                   'black', 'black', 'black', 'black',\n",
    "                                                                   'black', 'black', ], linewidth = 1)\n",
    "\n",
    "ax.set_title('Over $ 100,000 - Health Results', fontsize=30)"
   ]
  },
  {
   "cell_type": "code",
   "execution_count": null,
   "metadata": {
    "collapsed": true
   },
   "outputs": [],
   "source": []
  },
  {
   "cell_type": "code",
   "execution_count": null,
   "metadata": {
    "collapsed": true
   },
   "outputs": [],
   "source": []
  },
  {
   "cell_type": "markdown",
   "metadata": {},
   "source": [
    "## Household income on Whole Dataset "
   ]
  },
  {
   "cell_type": "code",
   "execution_count": 129,
   "metadata": {
    "collapsed": true
   },
   "outputs": [],
   "source": [
    "data_health = body_df.merge(blood_pressure_measurements, on = 'SEQN', how = 'inner')\n",
    "\n",
    "data_health = data_health.merge(albumin_and_creatinine_measurements, on = 'SEQN', how = 'inner')\n",
    "\n",
    "data_health = data_health.merge(cholesterol_measurements, on = 'SEQN', how = 'inner')\n",
    "\n",
    "data_health = data_health.merge(glycohemoglobin_measurements, on = 'SEQN', how = 'inner')\n",
    "\n",
    "data_health = data_health.merge(hepatitis_A_measurements, on = 'SEQN', how = 'inner')\n",
    "\n",
    "data_health = data_health.merge(biochemistry_measurements, on = 'SEQN', how = 'inner')"
   ]
  },
  {
   "cell_type": "code",
   "execution_count": 130,
   "metadata": {
    "collapsed": true
   },
   "outputs": [],
   "source": [
    "all_df = demographic_income.merge(data_health, on = 'SEQN')"
   ]
  },
  {
   "cell_type": "code",
   "execution_count": 131,
   "metadata": {
    "collapsed": true
   },
   "outputs": [],
   "source": [
    "all_df = all_df.dropna()"
   ]
  },
  {
   "cell_type": "code",
   "execution_count": 132,
   "metadata": {
    "collapsed": true
   },
   "outputs": [],
   "source": [
    "all_df = all_df[all_df.age > 17]"
   ]
  },
  {
   "cell_type": "code",
   "execution_count": 133,
   "metadata": {
    "collapsed": true
   },
   "outputs": [],
   "source": [
    "X = all_df.drop(['SEQN', 'household_income'], axis = 1)\n",
    "y = all_df.household_income"
   ]
  },
  {
   "cell_type": "code",
   "execution_count": 134,
   "metadata": {
    "collapsed": true
   },
   "outputs": [],
   "source": [
    "X_train, X_test, y_train, y_test = train_test_split(X, y, test_size=0.1, random_state=42)"
   ]
  },
  {
   "cell_type": "code",
   "execution_count": 135,
   "metadata": {
    "collapsed": true
   },
   "outputs": [],
   "source": [
    "Xs = ss.fit_transform(X_train)\n",
    "Xs_test = ss.transform(X_test)"
   ]
  },
  {
   "cell_type": "code",
   "execution_count": 136,
   "metadata": {},
   "outputs": [
    {
     "name": "stdout",
     "output_type": "stream",
     "text": [
      "LogisticRegression(C=0.095409547634999634, class_weight=None, dual=False,\n",
      "          fit_intercept=True, intercept_scaling=1, max_iter=100,\n",
      "          multi_class='ovr', n_jobs=1, penalty='l2', random_state=None,\n",
      "          solver='liblinear', tol=0.0001, verbose=0, warm_start=False)\n",
      "----\n",
      "clf best parameter {'C': 0.095409547634999634}\n",
      "----\n",
      "clf best index 22\n",
      "----\n",
      "clf best best score 0.56367378441\n"
     ]
    }
   ],
   "source": [
    "gridSearcher(Xs, y_train)"
   ]
  },
  {
   "cell_type": "code",
   "execution_count": 137,
   "metadata": {
    "collapsed": true
   },
   "outputs": [],
   "source": [
    "clf = LogisticRegression(C = 0.095409547634999634).fit(Xs , y_train)"
   ]
  },
  {
   "cell_type": "code",
   "execution_count": 138,
   "metadata": {
    "collapsed": true
   },
   "outputs": [],
   "source": [
    "coefs = [x for x in clf.coef_.tolist()]\n",
    "household_0 = coefs[0]\n",
    "household_1 = coefs[1]\n",
    "household_2 = coefs[2]"
   ]
  },
  {
   "cell_type": "markdown",
   "metadata": {},
   "source": [
    "#### Under 35,000"
   ]
  },
  {
   "cell_type": "code",
   "execution_count": 139,
   "metadata": {
    "collapsed": true
   },
   "outputs": [],
   "source": [
    "ls_7 = []\n",
    "for x, y in zip(X_train, household_0):\n",
    "     ls_7.append([x, y])\n",
    "ls_7.sort(key = lambda x: x[1])"
   ]
  },
  {
   "cell_type": "code",
   "execution_count": 140,
   "metadata": {},
   "outputs": [
    {
     "data": {
      "text/plain": [
       "[['1 - Married', -0.6986103218593372],\n",
       " ['5 - College graduate or above', -0.641796964914074],\n",
       " ['0 - 0 Number of children under 5', -0.3151991572540617],\n",
       " ['4 - Some college or AA degree', -0.2881894880050967],\n",
       " ['weight_kg', -0.2646759185420538],\n",
       " ['5 - Non-Hispanic Asian', -0.22782630634416318],\n",
       " ['1 - 1 Number of children under 5', -0.17226616084745394],\n",
       " ['6 - Living with partner', -0.1551113877140262],\n",
       " ['diastolic', -0.127544150785953],\n",
       " ['2 - 2 Number of children 6 - 17', -0.10847926782219777],\n",
       " ['2 - 2 Number of children under 5', -0.10424468019121501],\n",
       " ['5 - Never married', -0.09290049465046007],\n",
       " ['3 - High school graduate/GED or equivalent', -0.09001681082881612],\n",
       " ['total_cholesterol(mg/dL)', -0.0803309260947154],\n",
       " ['iron(ug/dL)', -0.07865950244104856],\n",
       " ['arm_circumference', -0.07650357706233223],\n",
       " ['2 - Widowed', -0.06623045988377559],\n",
       " ['standing_height', -0.0608538283062184],\n",
       " ['1 - 1 Number of children 6 - 17', -0.06052786153119775],\n",
       " ['gender', -0.04085064373091567],\n",
       " ['2 - Other Hispanic', -0.0370107456595213],\n",
       " ['3 - Non-Hispanic White', -0.03064482622933471],\n",
       " ['3 - 3 Number of children 6 - 17', -0.027873630123918115],\n",
       " ['1 - Mexican American', -0.018835182301070213],\n",
       " ['phosphorus(mg/dL)', -0.015156366954637518],\n",
       " ['sodium(mmol/L)', -0.0065041910926161035],\n",
       " ['calcium(mg/dL)', 0.010489666526698107],\n",
       " ['potassium(mmol/L)', 0.011632162105837812],\n",
       " ['triglycerides(mg/dL)', 0.026161428423569905],\n",
       " ['3 - Divorced', 0.029179662851261733],\n",
       " ['glycohemoglobin', 0.03554504394171497],\n",
       " ['60_sec_pulse', 0.04316603718884306],\n",
       " ['hepatitis_A', 0.05004051419344681],\n",
       " ['veteran_status', 0.050252827938489994],\n",
       " ['total_protein(g/dL)', 0.06578847528364005],\n",
       " ['4 - Non-Hispanic Black', 0.07445999379439848],\n",
       " ['country_of_birth', 0.09415040410641067],\n",
       " ['Albumin(ug/mL)', 0.09905660007962201],\n",
       " ['systolic', 0.11347801909326763],\n",
       " ['creatinine(mg/dL)', 0.1136840704526712],\n",
       " ['1 - 1 Number of adults over 60', 0.11665585893495373],\n",
       " ['0 - 0 Number of children 6 - 17', 0.12523010096675305],\n",
       " ['1 - Less than 9th grade', 0.12549494337662767],\n",
       " ['0 - 0 Number of adults over 60', 0.14739868422541294],\n",
       " ['citizenship_status', 0.18137224538896657],\n",
       " ['2 - 2 Number of adults over 60', 0.1951124659760183],\n",
       " ['age', 0.2773093877073953],\n",
       " ['waist_circumference', 0.33475715841554987]]"
      ]
     },
     "execution_count": 140,
     "metadata": {},
     "output_type": "execute_result"
    }
   ],
   "source": [
    "ls_7"
   ]
  },
  {
   "cell_type": "code",
   "execution_count": 141,
   "metadata": {},
   "outputs": [
    {
     "data": {
      "text/plain": [
       "Text(0.5,1,u'Under 35,000 - All Features')"
      ]
     },
     "execution_count": 141,
     "metadata": {},
     "output_type": "execute_result"
    },
    {
     "data": {
      "image/png": "[encoded data removed]",
      "text/plain": [
       "<matplotlib.figure.Figure at 0x112924e50>"
      ]
     },
     "metadata": {},
     "output_type": "display_data"
    }
   ],
   "source": [
    "df_7 = pd.DataFrame(ls_7, columns = ['features', 'coefs'])\n",
    "df_7.set_index('features', inplace = True)\n",
    "fig, ax = plt.subplots(figsize = (10,6))\n",
    "df_7[(df_7.coefs < -.23) | (df_7.coefs > .13)].plot(kind = 'bar', ax = ax,\n",
    "                                                    edgecolor = ['black', 'black', 'black', 'black',\n",
    "                                                                   'black', 'black', 'black', 'black',\n",
    "                                                                   'black', 'black', ], linewidth = 1)\n",
    "\n",
    "ax.set_title('Under 35,000 - All Features', fontsize=30)"
   ]
  },
  {
   "cell_type": "markdown",
   "metadata": {},
   "source": [
    "#### 35,000 to 99,999"
   ]
  },
  {
   "cell_type": "code",
   "execution_count": 142,
   "metadata": {},
   "outputs": [
    {
     "name": "stdout",
     "output_type": "stream",
     "text": [
      "gender -0.0157359488768\n",
      "age -0.311337291281\n",
      "veteran_status -0.0180960168318\n",
      "country_of_birth -0.0439070641302\n",
      "citizenship_status -0.0621675272444\n",
      "1 - Mexican American 0.0604182662501\n",
      "2 - Other Hispanic 0.0369185948597\n",
      "3 - Non-Hispanic White -0.0820805517086\n",
      "4 - Non-Hispanic Black -0.0243643952284\n",
      "5 - Non-Hispanic Asian 0.0456496298234\n",
      "1 - Less than 9th grade -0.135531074872\n",
      "3 - High school graduate/GED or equivalent 0.0343870655595\n",
      "4 - Some college or AA degree 0.159368233848\n",
      "5 - College graduate or above 0.0398688779591\n",
      "1 - Married 0.364876269086\n",
      "2 - Widowed 0.0611365804643\n",
      "3 - Divorced 0.0242898257099\n",
      "5 - Never married 0.0290169757619\n",
      "6 - Living with partner 0.0548747439444\n",
      "0 - 0 Number of children under 5 0.180640134778\n",
      "1 - 1 Number of children under 5 0.108507765195\n",
      "2 - 2 Number of children under 5 0.0896215897375\n",
      "0 - 0 Number of children 6 - 17 -0.13607573314\n",
      "1 - 1 Number of children 6 - 17 -0.0787307203717\n",
      "2 - 2 Number of children 6 - 17 0.00368124955891\n",
      "3 - 3 Number of children 6 - 17 0.0479166677482\n",
      "0 - 0 Number of adults over 60 -0.07749750715\n",
      "1 - 1 Number of adults over 60 0.0365526985359\n",
      "2 - 2 Number of adults over 60 -0.0118997189098\n",
      "weight_kg 0.13306642041\n",
      "standing_height -0.0402813747236\n",
      "waist_circumference -0.194184317622\n",
      "arm_circumference 0.0958428494669\n",
      "60_sec_pulse -0.00812254004525\n",
      "systolic 0.0116990903314\n",
      "diastolic 0.037417086132\n",
      "Albumin(ug/mL) -0.0745644843972\n",
      "creatinine(mg/dL) -0.046677774273\n",
      "total_cholesterol(mg/dL) 0.0393512327141\n",
      "glycohemoglobin 0.0159822363445\n",
      "hepatitis_A -0.0382147997483\n",
      "calcium(mg/dL) 0.0131168902881\n",
      "iron(ug/dL) 0.00955757452634\n",
      "potassium(mmol/L) -0.00305059972447\n",
      "sodium(mmol/L) -0.0125587980419\n",
      "phosphorus(mg/dL) 0.0253525197903\n",
      "total_protein(g/dL) 0.0051727398753\n",
      "triglycerides(mg/dL) -0.0180509773574\n"
     ]
    }
   ],
   "source": [
    "for x, y in zip(X_train, household_1):\n",
    "    print x, y"
   ]
  },
  {
   "cell_type": "markdown",
   "metadata": {},
   "source": [
    "#### Over 100,000"
   ]
  },
  {
   "cell_type": "code",
   "execution_count": 143,
   "metadata": {
    "scrolled": true
   },
   "outputs": [
    {
     "name": "stdout",
     "output_type": "stream",
     "text": [
      "gender 0.0328305097775\n",
      "age 0.0861868732509\n",
      "veteran_status -0.0518490025591\n",
      "country_of_birth -0.0626099407383\n",
      "citizenship_status -0.18929353041\n",
      "1 - Mexican American -0.130432251586\n",
      "2 - Other Hispanic -0.00185253368845\n",
      "3 - Non-Hispanic White 0.174763865369\n",
      "4 - Non-Hispanic Black -0.0840567380477\n",
      "5 - Non-Hispanic Asian 0.211647775986\n",
      "1 - Less than 9th grade -0.135546373281\n",
      "3 - High school graduate/GED or equivalent 0.146776987106\n",
      "4 - Some college or AA degree 0.267838524401\n",
      "5 - College graduate or above 0.681972684503\n",
      "1 - Married 0.464210690991\n",
      "2 - Widowed -0.0681845895699\n",
      "3 - Divorced -0.0889089351835\n",
      "5 - Never married 0.181103923132\n",
      "6 - Living with partner 0.188610039827\n",
      "0 - 0 Number of children under 5 0.196354909909\n",
      "1 - 1 Number of children under 5 0.0777563902902\n",
      "2 - 2 Number of children under 5 -0.0042474780826\n",
      "0 - 0 Number of children 6 - 17 0.082617905825\n",
      "1 - 1 Number of children 6 - 17 0.250578572696\n",
      "2 - 2 Number of children 6 - 17 0.129334010045\n",
      "3 - 3 Number of children 6 - 17 -0.107336422056\n",
      "0 - 0 Number of adults over 60 -0.0693153195408\n",
      "1 - 1 Number of adults over 60 -0.255282802024\n",
      "2 - 2 Number of adults over 60 -0.181243761784\n",
      "weight_kg 0.208105290582\n",
      "standing_height 0.103814598607\n",
      "waist_circumference -0.176589000181\n",
      "arm_circumference -0.0628347461533\n",
      "60_sec_pulse -0.0520961307925\n",
      "systolic -0.246477586035\n",
      "diastolic 0.168846694156\n",
      "Albumin(ug/mL) -0.103160037924\n",
      "creatinine(mg/dL) -0.0830701264722\n",
      "total_cholesterol(mg/dL) 0.0520465979916\n",
      "glycohemoglobin -0.0991406929471\n",
      "hepatitis_A -0.0323250308535\n",
      "calcium(mg/dL) -0.00708597196916\n",
      "iron(ug/dL) 0.086988124907\n",
      "potassium(mmol/L) -0.0123904135709\n",
      "sodium(mmol/L) 0.011810283956\n",
      "phosphorus(mg/dL) -0.0297950981139\n",
      "total_protein(g/dL) -0.129604581419\n",
      "triglycerides(mg/dL) -0.0245433153163\n"
     ]
    }
   ],
   "source": [
    "for x, y in zip(X_train, household_2):\n",
    "    print x, y"
   ]
  },
  {
   "cell_type": "code",
   "execution_count": 144,
   "metadata": {
    "collapsed": true
   },
   "outputs": [],
   "source": [
    "ls_9 = []\n",
    "for x, y in zip(X_train, household_2):\n",
    "     ls_9.append([x, y])\n",
    "ls_9.sort(key = lambda x: x[1])"
   ]
  },
  {
   "cell_type": "code",
   "execution_count": 145,
   "metadata": {},
   "outputs": [
    {
     "data": {
      "text/plain": [
       "[['1 - 1 Number of adults over 60', -0.2552828020242769],\n",
       " ['systolic', -0.24647758603473321],\n",
       " ['citizenship_status', -0.1892935304099076],\n",
       " ['2 - 2 Number of adults over 60', -0.18124376178411397],\n",
       " ['waist_circumference', -0.17658900018119633],\n",
       " ['1 - Less than 9th grade', -0.1355463732811298],\n",
       " ['1 - Mexican American', -0.13043225158648813],\n",
       " ['total_protein(g/dL)', -0.1296045814185581],\n",
       " ['3 - 3 Number of children 6 - 17', -0.10733642205617554],\n",
       " ['Albumin(ug/mL)', -0.10316003792432252],\n",
       " ['glycohemoglobin', -0.0991406929470704],\n",
       " ['3 - Divorced', -0.08890893518349272],\n",
       " ['4 - Non-Hispanic Black', -0.08405673804766538],\n",
       " ['creatinine(mg/dL)', -0.08307012647219568],\n",
       " ['0 - 0 Number of adults over 60', -0.06931531954082482],\n",
       " ['2 - Widowed', -0.06818458956988252],\n",
       " ['arm_circumference', -0.06283474615325903],\n",
       " ['country_of_birth', -0.06260994073827901],\n",
       " ['60_sec_pulse', -0.05209613079249525],\n",
       " ['veteran_status', -0.051849002559074604],\n",
       " ['hepatitis_A', -0.03232503085348181],\n",
       " ['phosphorus(mg/dL)', -0.02979509811392389],\n",
       " ['triglycerides(mg/dL)', -0.024543315316321635],\n",
       " ['potassium(mmol/L)', -0.012390413570879055],\n",
       " ['calcium(mg/dL)', -0.007085971969159253],\n",
       " ['2 - 2 Number of children under 5', -0.0042474780826017395],\n",
       " ['2 - Other Hispanic', -0.001852533688447678],\n",
       " ['sodium(mmol/L)', 0.011810283956031896],\n",
       " ['gender', 0.03283050977749072],\n",
       " ['total_cholesterol(mg/dL)', 0.05204659799164085],\n",
       " ['1 - 1 Number of children under 5', 0.07775639029023923],\n",
       " ['0 - 0 Number of children 6 - 17', 0.08261790582503971],\n",
       " ['age', 0.08618687325085757],\n",
       " ['iron(ug/dL)', 0.08698812490703241],\n",
       " ['standing_height', 0.10381459860661237],\n",
       " ['2 - 2 Number of children 6 - 17', 0.1293340100448191],\n",
       " ['3 - High school graduate/GED or equivalent', 0.14677698710587314],\n",
       " ['diastolic', 0.16884669415605535],\n",
       " ['3 - Non-Hispanic White', 0.1747638653691948],\n",
       " ['5 - Never married', 0.18110392313153675],\n",
       " ['6 - Living with partner', 0.1886100398270375],\n",
       " ['0 - 0 Number of children under 5', 0.19635490990937415],\n",
       " ['weight_kg', 0.2081052905818851],\n",
       " ['5 - Non-Hispanic Asian', 0.211647775986252],\n",
       " ['1 - 1 Number of children 6 - 17', 0.25057857269612027],\n",
       " ['4 - Some college or AA degree', 0.26783852440129874],\n",
       " ['1 - Married', 0.4642106909914842],\n",
       " ['5 - College graduate or above', 0.6819726845026175]]"
      ]
     },
     "execution_count": 145,
     "metadata": {},
     "output_type": "execute_result"
    }
   ],
   "source": [
    "ls_9"
   ]
  },
  {
   "cell_type": "code",
   "execution_count": 146,
   "metadata": {},
   "outputs": [
    {
     "data": {
      "text/plain": [
       "Text(0.5,1,u'Over 100,000 - All Features')"
      ]
     },
     "execution_count": 146,
     "metadata": {},
     "output_type": "execute_result"
    },
    {
     "data": {
      "image/png": "[encoded data removed]",
      "text/plain": [
       "<matplotlib.figure.Figure at 0x116ce0810>"
      ]
     },
     "metadata": {},
     "output_type": "display_data"
    }
   ],
   "source": [
    "df_9 = pd.DataFrame(ls_9, columns = ['features', 'coefs'])\n",
    "df_9.set_index('features', inplace = True)\n",
    "fig, ax = plt.subplots(figsize = (10,6))\n",
    "df_9[(df_9.coefs < -.15) | (df_9.coefs > .21)].plot(kind = 'bar', ax = ax,\n",
    "                                                    edgecolor = ['black', 'black', 'black', 'black',\n",
    "                                                                   'black', 'black', 'black', 'black',\n",
    "                                                                   'black', 'black', ], linewidth = 1)\n",
    "\n",
    "ax.set_title('Over 100,000 - All Features', fontsize=30)"
   ]
  },
  {
   "cell_type": "code",
   "execution_count": null,
   "metadata": {
    "collapsed": true
   },
   "outputs": [],
   "source": []
  },
  {
   "cell_type": "code",
   "execution_count": null,
   "metadata": {
    "collapsed": true
   },
   "outputs": [],
   "source": []
  },
  {
   "cell_type": "code",
   "execution_count": null,
   "metadata": {
    "collapsed": true
   },
   "outputs": [],
   "source": []
  },
  {
   "cell_type": "code",
   "execution_count": null,
   "metadata": {
    "collapsed": true
   },
   "outputs": [],
   "source": []
  },
  {
   "cell_type": "code",
   "execution_count": null,
   "metadata": {
    "collapsed": true
   },
   "outputs": [],
   "source": []
  },
  {
   "cell_type": "code",
   "execution_count": null,
   "metadata": {
    "collapsed": true
   },
   "outputs": [],
   "source": []
  },
  {
   "cell_type": "code",
   "execution_count": null,
   "metadata": {
    "collapsed": true
   },
   "outputs": [],
   "source": []
  },
  {
   "cell_type": "code",
   "execution_count": null,
   "metadata": {
    "collapsed": true
   },
   "outputs": [],
   "source": []
  },
  {
   "cell_type": "code",
   "execution_count": null,
   "metadata": {
    "collapsed": true
   },
   "outputs": [],
   "source": []
  },
  {
   "cell_type": "code",
   "execution_count": null,
   "metadata": {
    "collapsed": true
   },
   "outputs": [],
   "source": []
  },
  {
   "cell_type": "code",
   "execution_count": null,
   "metadata": {
    "collapsed": true
   },
   "outputs": [],
   "source": []
  },
  {
   "cell_type": "code",
   "execution_count": null,
   "metadata": {
    "collapsed": true
   },
   "outputs": [],
   "source": []
  },
  {
   "cell_type": "code",
   "execution_count": null,
   "metadata": {
    "collapsed": true
   },
   "outputs": [],
   "source": []
  },
  {
   "cell_type": "code",
   "execution_count": null,
   "metadata": {
    "collapsed": true
   },
   "outputs": [],
   "source": []
  },
  {
   "cell_type": "code",
   "execution_count": null,
   "metadata": {
    "collapsed": true
   },
   "outputs": [],
   "source": []
  },
  {
   "cell_type": "code",
   "execution_count": null,
   "metadata": {
    "collapsed": true
   },
   "outputs": [],
   "source": []
  },
  {
   "cell_type": "code",
   "execution_count": null,
   "metadata": {
    "collapsed": true
   },
   "outputs": [],
   "source": []
  },
  {
   "cell_type": "code",
   "execution_count": null,
   "metadata": {
    "collapsed": true
   },
   "outputs": [],
   "source": []
  },
  {
   "cell_type": "code",
   "execution_count": null,
   "metadata": {
    "collapsed": true
   },
   "outputs": [],
   "source": []
  },
  {
   "cell_type": "code",
   "execution_count": null,
   "metadata": {
    "collapsed": true
   },
   "outputs": [],
   "source": []
  },
  {
   "cell_type": "code",
   "execution_count": null,
   "metadata": {
    "collapsed": true
   },
   "outputs": [],
   "source": []
  },
  {
   "cell_type": "code",
   "execution_count": null,
   "metadata": {
    "collapsed": true
   },
   "outputs": [],
   "source": []
  }
 ],
 "metadata": {
  "kernelspec": {
   "display_name": "Python 2",
   "language": "python",
   "name": "python2"
  },
  "language_info": {
   "codemirror_mode": {
    "name": "ipython",
    "version": 2
   },
   "file_extension": ".py",
   "mimetype": "text/x-python",
   "name": "python",
   "nbconvert_exporter": "python",
   "pygments_lexer": "ipython2",
   "version": "2.7.14"
  }
 },
 "nbformat": 4,
 "nbformat_minor": 2
}
