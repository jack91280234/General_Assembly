{
 "cells": [
  {
   "cell_type": "markdown",
   "metadata": {
    "focus": false,
    "id": "69b9a648-bcc7-490d-9f9b-ea244d156bd6"
   },
   "source": [
    "# Web Scraping for Reddit & Predicting Comments"
   ]
  },
  {
   "cell_type": "markdown",
   "metadata": {
    "ExecuteTime": {
     "end_time": "2017-10-23T19:28:02.619411Z",
     "start_time": "2017-10-23T19:28:02.600856Z"
    }
   },
   "source": [
    "Please read the readme carefully!\n",
    "\n",
    "Your method for acquiring the data will be scraping the 'hot' threads as listed on the [Reddit homepage](https://www.reddit.com/). You'll acquire _AT LEAST FOUR_ pieces of information about each thread:\n",
    "1. The title of the thread\n",
    "2. The subreddit that the thread corresponds to\n",
    "3. The length of time it has been up on Reddit\n",
    "4. The number of comments on the thread\n",
    "\n",
    "Once you've got the data, you will build a classification model that, using Natural Language Processing and any other relevant features, predicts whether or not a given Reddit post will have above or below the _median_ number of comments.\n",
    "\n",
    "**BONUS PROBLEMS**\n",
    "1. Scrape the actual text of the threads using Selenium \n",
    "2. Write the actual article that you're pitching and turn it into a blog post that you host on your personal website."
   ]
  },
  {
   "cell_type": "markdown",
   "metadata": {},
   "source": [
    "# This starter code is just meant to be a guide to help frame the problem.  You DO NOT need to follow it, as long as you address the problem requirements set out in the readme."
   ]
  },
  {
   "cell_type": "markdown",
   "metadata": {},
   "source": [
    "You will need to use the `sleep` functionality so that you don't make too many calls to the reddit server (see the reddit API documentation for details).  Below is an example of how the timer works."
   ]
  },
  {
   "cell_type": "code",
   "execution_count": 1,
   "metadata": {},
   "outputs": [
    {
     "name": "stdout",
     "output_type": "stream",
     "text": [
      "hello\n",
      "bye\n"
     ]
    }
   ],
   "source": [
    "import time\n",
    "print \"hello\"\n",
    "time.sleep(3)\n",
    "print \"bye\""
   ]
  },
  {
   "cell_type": "markdown",
   "metadata": {
    "focus": false,
    "id": "a948d79c-5527-4c0d-ab23-f5d43ce72056"
   },
   "source": [
    "### Scraping Thread Info from Reddit.com"
   ]
  },
  {
   "cell_type": "markdown",
   "metadata": {},
   "source": [
    "#### Set up a request (using requests or chromedriver) to the URL below. Use BeautifulSoup to parse the page and extract all results"
   ]
  },
  {
   "cell_type": "code",
   "execution_count": 365,
   "metadata": {
    "collapsed": true
   },
   "outputs": [],
   "source": [
    "import numpy as np\n",
    "import pandas as pd"
   ]
  },
  {
   "cell_type": "code",
   "execution_count": 74,
   "metadata": {
    "collapsed": true
   },
   "outputs": [],
   "source": [
    "import requests\n",
    "from bs4 import BeautifulSoup"
   ]
  },
  {
   "cell_type": "code",
   "execution_count": 171,
   "metadata": {
    "collapsed": true
   },
   "outputs": [],
   "source": [
    "# URL for reddit\n",
    "URL = \"http://www.reddit.com\""
   ]
  },
  {
   "cell_type": "code",
   "execution_count": 76,
   "metadata": {
    "collapsed": true
   },
   "outputs": [],
   "source": [
    "from selenium import webdriver"
   ]
  },
  {
   "cell_type": "code",
   "execution_count": 172,
   "metadata": {},
   "outputs": [],
   "source": [
    "# Imported chromedriver, had to redownload the latest chromedriver and insert the file into project file path\n",
    "# because the current chrome browser wouldnt work with the earlier version of chromedriver.\n",
    "\n",
    "driver = webdriver.Chrome(executable_path=\"./chromedriver\")"
   ]
  },
  {
   "cell_type": "code",
   "execution_count": 173,
   "metadata": {},
   "outputs": [],
   "source": [
    "# Getting chromedriver to retrieve html from reddit, not sure what the timer is for exactly need to get info\n",
    "\n",
    "driver.get(\"http://www.reddit.com\")\n",
    "\n",
    "# Giving it 2 seconds to completely load the reddit page before scraping\n",
    "\n",
    "time.sleep(2)\n",
    "\n",
    "html = driver.page_source"
   ]
  },
  {
   "cell_type": "code",
   "execution_count": 85,
   "metadata": {},
   "outputs": [
    {
     "name": "stdout",
     "output_type": "stream",
     "text": [
      "<!DOCTYPE html><html xmlns=\"http://www.w3.org/1999/xhtml\" lang=\"en\" xml:lang=\"en\" class=\" js cssanimations csstransforms\"><head><title>reddit: the front page of the internet</title><meta name=\"keywords\" content=\" reddit, reddit.com, vote, comment, submit \" /><meta name=\"description\" content=\"reddit: the front page of the internet\" /><meta name=\"referrer\" content=\"always\" /><meta http-equiv=\"Content-Type\" content=\"text/html; charset=UTF-8\" /><link type=\"application/opensearchdescription+xml\" rel=\"search\" href=\"/static/opensearch.xml\" /><link rel=\"canonical\" href=\"https://www.reddit.com/\" /><meta name=\"viewport\" content=\"width=1024\" /><link rel=\"dns-prefetch\" href=\"//out.reddit.com\" /><link rel=\"preconnect\" href=\"//out.reddit.com\" /><link rel=\"apple-touch-icon\" sizes=\"57x57\" href=\"//www.redditstatic.com/desktop2x/img/favicon/apple-icon-57x57.png\" /><link rel=\"apple-touch-icon\" sizes=\"60x60\" href=\"//www.redditstatic.com/desktop2x/img/favicon/apple-icon-60x60.png\" /><link rel=\"apple-touch-icon\" sizes=\"72x72\" href=\"//www.redditstatic.com/desktop2x/img/favicon/apple-icon-72x72.png\" /><link rel=\"apple-touch-icon\" sizes=\"76x76\" href=\"//www.redditstatic.com/desktop2x/img/favicon/apple-icon-76x76.png\" /><link rel=\"apple-touch-icon\" sizes=\"114x114\" href=\"//www.redditstatic.com/desktop2x/img/favicon/apple-icon-114x114.png\" /><link rel=\"apple-touch-icon\" sizes=\"120x120\" href=\"//www.redditstatic.com/desktop2x/img/favicon/apple-icon-120x120.png\" /><link rel=\"apple-touch-icon\" sizes=\"144x144\" href=\"//www.redditstatic.com/desktop2x/img/favicon/apple-icon-144x144.png\" /><link rel=\"apple-touch-icon\" sizes=\"152x152\" href=\"//www.redditstatic.com/desktop2x/img/favicon/apple-icon-152x152.png\" /><link rel=\"apple-touch-icon\" sizes=\"180x180\" href=\"//www.redditstatic.com/desktop2x/img/favicon/apple-icon-180x180.png\" /><link rel=\"icon\" type=\"image/png\" sizes=\"192x192\" href=\"//www.redditstatic.com/desktop2x/img/favicon/android-icon-192x192.png\" /><link rel=\"icon\" type=\"image/png\" sizes=\"32x32\" href=\"//www.redditstatic.com/desktop2x/img/favicon/favicon-32x32.png\" /><link rel=\"icon\" type=\"image/png\" sizes=\"96x96\" href=\"//www.redditstatic.com/desktop2x/img/favicon/favicon-96x96.png\" /><link rel=\"icon\" type=\"image/png\" sizes=\"16x16\" href=\"//www.redditstatic.com/desktop2x/img/favicon/favicon-16x16.png\" /><link rel=\"manifest\" href=\"//www.redditstatic.com/desktop2x/img/favicon/manifest.json\" /><meta name=\"msapplication-TileColor\" content=\"#ffffff\" /><meta name=\"msapplication-TileImage\" content=\"//www.redditstatic.com/desktop2x/img/favicon/ms-icon-144x144.png\" /><meta name=\"theme-color\" content=\"#ffffff\" /><link rel=\"alternate\" type=\"application/atom+xml\" title=\"RSS\" href=\"https://www.reddit.com/.rss\" /><link rel=\"stylesheet\" type=\"text/css\" href=\"//www.redditstatic.com/reddit.pwYY487j8Ls.css\" media=\"all\" /><link rel=\"stylesheet\" type=\"text/css\" href=\"//www.redditstatic.com/expando.gMzRK16vwrQ.css\" media=\"all\" /><link rel=\"stylesheet\" type=\"text/css\" href=\"//www.redditstatic.com/crosspost-preview.De3P20Yb4PY.css\" media=\"all\" /><link rel=\"stylesheet\" type=\"text/css\" href=\"//www.redditstatic.com/listing-comments.AZZO7Kj_O88.css\" media=\"all\" /><link rel=\"stylesheet\" type=\"text/css\" href=\"//www.redditstatic.com/popup-notification.6-JvPBpHWMo.css\" media=\"all\" /><link rel=\"stylesheet\" type=\"text/css\" href=\"//www.redditstatic.com/desktoponboarding.xkkfZrRhAII.css\" media=\"all\" /><link rel=\"stylesheet\" type=\"text/css\" href=\"//www.redditstatic.com/videoplayer.KyNIfziOuOM.css\" media=\"all\" /><link rel=\"stylesheet\" type=\"text/css\" href=\"//www.redditstatic.com/videoplayercontrols.kLASGfh2dfs.css\" media=\"all\" /><!--[if gte IE 8]><!--><!--<![endif]--><!--[if gte IE 9]><!--><script src=\"https://pagead2.googlesyndication.com/pagead/osd.js\"></script><script src=\"https://securepubads.g.doubleclick.net/gampad/ads?gdfp_req=1&amp;correlator=54524275184913&amp;output=json_html&amp;callback=googletag.impl.pubads.callbackProxy2&amp;impl=fif&amp;adsid=NT&amp;eid=21060362%2C21061149&amp;sc=1&amp;sfv=1-0-15&amp;iu=%2F32173961%2Fdesktop%2Ffrontpage%2Flisting&amp;sz=300x250&amp;scp=keywords%3Ds.brandlift.holdout_11%2Cs.brandlift.holdout_13%2Cs.brandlift.holdout_2%2Ck.government%2Ck.game%2Cs.frontpage%2Cs.loggedout%2Cs.sfw%26adblock%3Doff%26listing%3Dlisting%26placement%3Dbtf%26whitelist_status%3Dall_ads%26subreddit_screen%3D%26percentage%3D38%26iaa%3D%26random_number%3D38%26environment%3Dproduction%26nsfw%3D%26logged_in%3D%26has_used_mobile_app%3D%26full_url%3Dhttps%253A%252F%252Fwww.reddit.com%252F%26amznbid%3D2%26amznp%3D2%26amzniid%3D%26amznsz%3D0x0&amp;eri=1&amp;cookie_enabled=1&amp;abxe=1&amp;lmt=1516661992&amp;dt=1516661992119&amp;frm=20&amp;biw=1200&amp;bih=814&amp;oid=3&amp;adx=895&amp;ady=648&amp;adk=1647670150&amp;gut=v2&amp;ifi=2&amp;u_tz=-300&amp;u_his=2&amp;u_h=1050&amp;u_w=1680&amp;u_ah=972&amp;u_aw=1680&amp;u_cd=24&amp;u_nplug=4&amp;u_nmime=5&amp;u_sd=2&amp;flash=0&amp;url=https%3A%2F%2Fwww.reddit.com%2F&amp;dssz=28&amp;icsg=42467336&amp;std=0&amp;vrg=173&amp;vis=1&amp;scr_x=0&amp;scr_y=0&amp;ga_vid=578810009.1516661991&amp;ga_sid=1516661991&amp;ga_hid=848940463&amp;ga_fc=true\"></script><script src=\"https://securepubads.g.doubleclick.net/gpt/pubads_impl_rendering_173.js\"></script><script src=\"https://securepubads.g.doubleclick.net/gampad/ads?gdfp_req=1&amp;correlator=2849802114260292&amp;output=json_html&amp;callback=googletag.impl.pubads.callbackProxy1&amp;impl=fif&amp;adsid=NT&amp;eid=21060362%2C21061149&amp;sc=1&amp;sfv=1-0-15&amp;iu=%2F32173961%2Fdesktop%2Ffrontpage%2Flisting&amp;sz=300x250%7C300x600&amp;scp=keywords%3Ds.brandlift.holdout_11%2Cs.brandlift.holdout_13%2Cs.brandlift.holdout_2%2Ck.government%2Ck.game%2Cs.frontpage%2Cs.loggedout%2Cs.sfw%26adblock%3Doff%26listing%3Dlisting%26placement%3Datf%26whitelist_status%3Dall_ads%26subreddit_screen%3D%26percentage%3D19%26iaa%3D%26random_number%3D19%26environment%3Dproduction%26nsfw%3D%26logged_in%3D%26has_used_mobile_app%3D%26full_url%3Dhttps%253A%252F%252Fwww.reddit.com%252F%26amznbid%3D2%26amznp%3D2%26amzniid%3D%26amznsz%3D0x0&amp;eri=1&amp;cookie_enabled=1&amp;abxe=1&amp;lmt=1516661992&amp;dt=1516661992106&amp;frm=20&amp;biw=1200&amp;bih=814&amp;oid=3&amp;adx=895&amp;ady=203&amp;adk=1956542447&amp;gut=v2&amp;ifi=1&amp;u_tz=-300&amp;u_his=2&amp;u_h=1050&amp;u_w=1680&amp;u_ah=972&amp;u_aw=1680&amp;u_cd=24&amp;u_nplug=4&amp;u_nmime=5&amp;u_sd=2&amp;flash=0&amp;url=https%3A%2F%2Fwww.reddit.com%2F&amp;dssz=26&amp;icsg=524296&amp;std=0&amp;vrg=173&amp;vis=1&amp;scr_x=0&amp;scr_y=0&amp;ga_vid=578810009.1516661991&amp;ga_sid=1516661991&amp;ga_hid=848940463&amp;ga_fc=true\"></script><script async=\"\" src=\"//c.amazon-adsystem.com/aax2/apstag.js\"></script><script async=\"\" type=\"text/javascript\" src=\"https://www.googletagservices.com/tag/js/gpt.js\"></script><script type=\"text/javascript\" async=\"\" src=\"https://www.google-analytics.com/plugins/ga/inpage_linkid.js\" id=\"undefined\"></script><script type=\"text/javascript\" async=\"\" src=\"//www.redditstatic.com/moat/moatframe.js\"></script><script async=\"\" src=\"//www.google-analytics.com/analytics.js\"></script><script type=\"text/javascript\" async=\"\" src=\"https://ssl.google-analytics.com/ga.js\"></script><script type=\"text/javascript\" src=\"//www.redditstatic.com/reddit-init.en.T_cIohHmmZQ.js\"></script><!--<![endif]--><!--[if lt IE 9]><script type=\"text/javascript\" src=\"//www.redditstatic.com/reddit-init-legacy.en.W6wYbPs4ZpE.js\"></script><![endif]--><script type=\"text/javascript\" src=\"//www.redditstatic.com/videoplayer.3BkXhfMuN6k.js\"></script><script type=\"text/javascript\" id=\"config\">r.setup({\"ajax_domain\": \"www.reddit.com\", \"poisoning_canary\": null, \"post_site\": \"\", \"gold\": false, \"poisoning_report_mac\": null, \"requires_eu_cookie_policy\": false, \"nsfw_media_acknowledged\": false, \"stats_domain\": \"https://stats.redditmedia.com\", \"feature_onboarding_splash\": null, \"cur_screen_name\": \"\", \"feature_expando_events\": true, \"facebook_app_id\": \"322647334569188\", \"loid\": \"00000000000t9e55ek\", \"is_sponsor\": false, \"feature_spicy_subreddits\": \"control_1\", \"user_id\": false, \"pref_email_messages\": false, \"feature_new_report_flow\": true, \"feature_subscribe_join_follow_test\": \"treatment_2\", \"logged\": false, \"feature_heartbeat_events\": true, \"ads_loading_timeout_ms\": 5000, \"over_18\": false, \"feature_ads_user_matching\": false, \"loid_created\": 1516661990094, \"mweb_blacklist_expressions\": [\"^/prefs/?\", \"^/live/?\", \"/message/compose\", \"/m/\", \"^/subreddits/create\", \"^/gold\", \"^/advertising\", \"^/promoted\", \"^/buttons\"], \"feature_hover_user_ui_holdout\": true, \"uitracker_url\": \"//pixel.redditmedia.com/pixel/of_discovery.png\", \"modhash\": \"\", \"feature_net_neutrality\": false, \"send_logs\": true, \"user_subscription_size\": 0, \"listing_over_18\": false, \"https_endpoint\": \"https://www.reddit.com\", \"extension\": null, \"share_tracking_ts\": 1516661990172, \"enabled_experiments\": {}, \"event_target\": {\"geo_filter\": null, \"target_type\": \"listing\", \"target_sort\": \"hot\"}, \"advertiser_category\": null, \"expando_preference\": \"subreddit_default\", \"debug\": false, \"has_subscribed\": false, \"server_time\": 1516661990.0, \"clicktracker_url\": \"//pixel.redditmedia.com/click\", \"pref_no_profanity\": true, \"cur_site\": \"\", \"cur_domain\": \"reddit.com\", \"feature_new_report_dialog\": true, \"events_collector_url\": \"https://e.reddit.com/v1\", \"feature_flatlist_events\": false, \"feature_archived_signup_cta\": true, \"https_forced\": true, \"user_in_timeout\": false, \"share_tracking_hmac\": null, \"user_websocket_url\": null, \"ad_serving_events_sample_rate\": 1.0, \"is_fake\": true, \"renderstyle\": \"html\", \"feature_outbound_beacons\": false, \"feature_signup_cta_p5\": \"variant_3\", \"pref_no_video_autoplay\": false, \"user_age\": false, \"vote_hash\": \"XtKZJOLckOD7F3P49ZmWrA4DBYy8bej9XpFCuTJe6tDMhcSxG7DaNU2VfwDG2y6XWy4TdfMlmIAg1bm2nCSf8eZP1cW81mZsD/T+SHFy5NcWaop8jUcfb7kMDPeMvnMOOdmDo4AOcp5kiEFEiHxjFcedSOKIhvVi+etuUpkDh9Y=\", \"events_collector_secret\": \"thiiM0ahsieSiech1phithe6chahngoo8sah6aid\\n\", \"eventtracker_url\": \"//pixel.redditmedia.com/pixel/of_delight.png\", \"events_collector_key\": \"RedditFrontend1\", \"feature_post_embed\": true, \"feature_mobile_native_banner\": true, \"cache_policy\": \"loggedout_www\", \"feature_geopopular_onboarding\": null, \"events_collector_v2_url\": \"https://e.reddit.com/v2\", \"store_visits\": false, \"anon_eventtracker_url\": \"//pixel.redditmedia.com/pixel/of_diversity.png\", \"new_window\": false, \"pref_beta\": false, \"eu_cookie_max_attempts\": 3, \"pageInfo\": {\"actionName\": \"hot.GET_listing\", \"statsVerification\": \"adfad553bf3b6c42e703170c536073e9c1f952f0\", \"verification\": \"adfad553bf3b6c42e703170c536073e9c1f952f0\", \"statsName\": \"hot.GET_listing\"}, \"live_orangereds_pref\": true, \"media_domain\": \"www.redditmedia.com\", \"whitelist_status\": \"all_ads\", \"static_root\": \"//www.redditstatic.com\", \"feature_screenview_events\": true, \"cur_listing\": \"frontpage\", \"email_verified\": false, \"status_msg\": {\"fetching\": \"fetching title...\", \"loading\": \"loading...\", \"submitting\": \"submitting...\"}, \"stats_sample_rate\": \"5\", \"loid_version\": 2, \"eu_cookie\": \"eu_cookie\", \"feature_double_sidebar\": false, \"feature_scroll_events\": true})</script><style type=\"text/css\">/* Custom css: use this block to insert special translation-dependent css in the page header */</style><script type=\"text/javascript\">window.user_type = 'guest'; window.is_gold_page = 'False'.toLowerCase() === 'true';</script><script type=\"text/javascript\">var _gaq = _gaq || []; _gaq.push( ['_require', 'inpage_linkid', '//www.google-analytics.com/plugins/ga/inpage_linkid.js'], ['_setAccount', 'UA-12131688-1'], ['_setDomainName', 'reddit.com'], ['_setCustomVar', 1, 'site', 'frontpage', 3], ['_setCustomVar', 2, 'srpath', 'frontpage-GET_listing', 3], ['_setCustomVar', 3, 'usertype', user_type, 2], ['_setCustomVar', 4, 'uitype', 'web', 3], ['_setCustomVar', 5, 'style_override', '', 2], ['_setSampleRate', '1'], ['_trackPageview'] ); (function() { var ga = document.createElement('script'); ga.type = 'text/javascript'; ga.async = true; ga.src = ('https:' == document.location.protocol ? 'https://ssl' : 'http://www') + '.google-analytics.com/ga.js'; var s = document.getElementsByTagName('script')[0]; s.parentNode.insertBefore(ga, s); })();</script><script type=\"text/javascript\">(function(i,s,o,g,r,a,m){i['GoogleAnalyticsObject']=r;i[r]=i[r]||function(){ (i[r].q=i[r].q||[]).push(arguments)},i[r].l=1*new Date();a=s.createElement(o), m=s.getElementsByTagName(o)[0];a.async=1;a.src=g;m.parentNode.insertBefore(a,m) })(window,document,'script','//www.google-analytics.com/analytics.js','_ga'); window._ga('create', 'UA-12131688-9', { 'name': 'goldTracker', 'cookieDomain': 'reddit.com', '1': 'frontpage', '2': 'frontpage-GET_listing', '3': window.user_type, '4': 'web', 'sampleRate': 100 }); if (window.is_gold_page) { window._ga('goldTracker.send', 'pageview'); }</script><link rel=\"preload\" href=\"https://adservice.google.com/adsid/integrator.js?domain=www.reddit.com\" as=\"script\" /><script type=\"text/javascript\" src=\"https://adservice.google.com/adsid/integrator.js?domain=www.reddit.com\"></script><script src=\"https://securepubads.g.doubleclick.net/gpt/pubads_impl_173.js\" async=\"\"></script></head><body class=\"feature-new-report-flow listing-page hot-page\"><div class=\"GoogleAd HomeAds InArticleAd LeftAd SidebarAd ad-300-250 ad-banner adbar adbox1 ads-area adsense-ad box_ad googad\" id=\"adblock-test\"></div><script>var frame = document.createElement('iframe'); frame.style.display = 'none'; frame.referrer = 'no-referrer'; frame.id = 'gtm-jail'; frame.name = JSON.stringify({ subreddit: r.config.post_site, origin: location.origin, url: location.href, userMatching: r.config.feature_ads_user_matching, userId: r.config.user_id, advertiserCategory: r.config.advertiser_category, adsStatus: r.config.whitelist_status, }); frame.src = '//' + \"www.redditmedia.com\" + '/gtm/jail?cb=' + \"8CqR7FcToPI\"; document.body.appendChild(frame);</script><iframe id=\"gtm-jail\" name=\"{&quot;subreddit&quot;:&quot;&quot;,&quot;origin&quot;:&quot;https://www.reddit.com&quot;,&quot;url&quot;:&quot;https://www.reddit.com/&quot;,&quot;userMatching&quot;:false,&quot;userId&quot;:false,&quot;advertiserCategory&quot;:null,&quot;adsStatus&quot;:&quot;all_ads&quot;}\" src=\"//www.redditmedia.com/gtm/jail?cb=8CqR7FcToPI\" style=\"display: none;\"></iframe><script>var mf = document.createElement('script'); mf.type = 'text/javascript'; mf.async = true; mf.src = \"//www.redditstatic.com/moat/moatframe.js\"; var s = document.getElementsByTagName('script')[0]; s.parentNode.insertBefore(mf, s);</script><div id=\"header\" role=\"banner\"><a tabindex=\"1\" href=\"#content\" id=\"jumpToContent\">jump to content</a><div id=\"sr-header-area\"><div class=\"width-clip\"><div class=\"dropdown srdrop\" onclick=\"open_menu(this)\"><span class=\"selected title\">my subreddits</span></div><div class=\"drop-choices srdrop\"><a href=\"https://www.reddit.com/subreddits/\" class=\"bottom-option choice\">edit subscriptions</a></div><div class=\"sr-list\"><ul class=\"flat-list sr-bar hover\"><li class=\"selected\"><a href=\"https://www.reddit.com/r/popular/\" class=\"choice\">popular</a></li><li><span class=\"separator\">-</span><a href=\"https://www.reddit.com/r/all/\" class=\"choice\">all</a></li><li><span class=\"separator\">-</span><a href=\"https://www.reddit.com/r/random/\" class=\"random choice\">random</a></li><li><span class=\"separator\">-</span><a href=\"https://www.reddit.com/users/\" class=\"choice\">users</a></li></ul><span class=\"separator\"> | </span><ul class=\"flat-list sr-bar hover\" id=\"sr-bar\"><li><a href=\"https://www.reddit.com/r/AskReddit/\" class=\"choice\">AskReddit</a></li><li><span class=\"separator\">-</span><a href=\"https://www.reddit.com/r/worldnews/\" class=\"choice\">worldnews</a></li><li><span class=\"separator\">-</span><a href=\"https://www.reddit.com/r/videos/\" class=\"choice\">videos</a></li><li><span class=\"separator\">-</span><a href=\"https://www.reddit.com/r/funny/\" class=\"choice\">funny</a></li><li><span class=\"separator\">-</span><a href=\"https://www.reddit.com/r/todayilearned/\" class=\"choice\">todayilearned</a></li><li><span class=\"separator\">-</span><a href=\"https://www.reddit.com/r/pics/\" class=\"choice\">pics</a></li><li><span class=\"separator\">-</span><a href=\"https://www.reddit.com/r/gaming/\" class=\"choice\">gaming</a></li><li><span class=\"separator\">-</span><a href=\"https://www.reddit.com/r/movies/\" class=\"choice\">movies</a></li><li><span class=\"separator\">-</span><a href=\"https://www.reddit.com/r/news/\" class=\"choice\">news</a></li><li><span class=\"separator\">-</span><a href=\"https://www.reddit.com/r/gifs/\" class=\"choice\">gifs</a></li><li><span class=\"separator\">-</span><a href=\"https://www.reddit.com/r/mildlyinteresting/\" class=\"choice\">mildlyinteresting</a></li><li><span class=\"separator\">-</span><a href=\"https://www.reddit.com/r/aww/\" class=\"choice\">aww</a></li><li><span class=\"separator\">-</span><a href=\"https://www.reddit.com/r/Showerthoughts/\" class=\"choice\">Showerthoughts</a></li><li><span class=\"separator\">-</span><a href=\"https://www.reddit.com/r/television/\" class=\"choice\">television</a></li><li><span class=\"separator\">-</span><a href=\"https://www.reddit.com/r/Jokes/\" class=\"choice\">Jokes</a></li><li><span class=\"separator\">-</span><a href=\"https://www.reddit.com/r/science/\" class=\"choice\">science</a></li><li><span class=\"separator\">-</span><a href=\"https://www.reddit.com/r/OldSchoolCool/\" class=\"choice\">OldSchoolCool</a></li><li><span class=\"separator\">-</span><a href=\"https://www.reddit.com/r/sports/\" class=\"choice\">sports</a></li><li><span class=\"separator\">-</span><a href=\"https://www.reddit.com/r/IAmA/\" class=\"choice\">IAmA</a></li><li><span class=\"separator\">-</span><a href=\"https://www.reddit.com/r/Documentaries/\" class=\"choice\">Documentaries</a></li><li><span class=\"separator\">-</span><a href=\"https://www.reddit.com/r/TwoXChromosomes/\" class=\"choice\">TwoXChromosomes</a></li><li><span class=\"separator\">-</span><a href=\"https://www.reddit.com/r/explainlikeimfive/\" class=\"choice\">explainlikeimfive</a></li><li><span class=\"separator\">-</span><a href=\"https://www.reddit.com/r/personalfinance/\" class=\"choice\">personalfinance</a></li><li><span class=\"separator\">-</span><a href=\"https://www.reddit.com/r/books/\" class=\"choice\">books</a></li><li><span class=\"separator\">-</span><a href=\"https://www.reddit.com/r/tifu/\" class=\"choice\">tifu</a></li><li><span class=\"separator\">-</span><a href=\"https://www.reddit.com/r/Futurology/\" class=\"choice\">Futurology</a></li><li><span class=\"separator\">-</span><a href=\"https://www.reddit.com/r/dataisbeautiful/\" class=\"choice\">dataisbeautiful</a></li><li><span class=\"separator\">-</span><a href=\"https://www.reddit.com/r/WritingPrompts/\" class=\"choice\">WritingPrompts</a></li><li><span class=\"separator\">-</span><a href=\"https://www.reddit.com/r/nottheonion/\" class=\"choice\">nottheonion</a></li><li><span class=\"separator\">-</span><a href=\"https://www.reddit.com/r/food/\" class=\"choice\">food</a></li><li><span class=\"separator\">-</span><a href=\"https://www.reddit.com/r/Music/\" class=\"choice\">Music</a></li><li><span class=\"separator\">-</span><a href=\"https://www.reddit.com/r/photoshopbattles/\" class=\"choice\">photoshopbattles</a></li><li><span class=\"separator\">-</span><a href=\"https://www.reddit.com/r/EarthPorn/\" class=\"choice\">EarthPorn</a></li><li><span class=\"separator\">-</span><a href=\"https://www.reddit.com/r/philosophy/\" class=\"choice\">philosophy</a></li><li><span class=\"separator\">-</span><a href=\"https://www.reddit.com/r/Art/\" class=\"choice\">Art</a></li><li><span class=\"separator\">-</span><a href=\"https://www.reddit.com/r/nosleep/\" class=\"choice\">nosleep</a></li><li><span class=\"separator\">-</span><a href=\"https://www.reddit.com/r/GetMotivated/\" class=\"choice\">GetMotivated</a></li><li><span class=\"separator\">-</span><a href=\"https://www.reddit.com/r/askscience/\" class=\"choice\">askscience</a></li><li><span class=\"separator\">-</span><a href=\"https://www.reddit.com/r/LifeProTips/\" class=\"choice\">LifeProTips</a></li><li><span class=\"separator\">-</span><a href=\"https://www.reddit.com/r/space/\" class=\"choice\">space</a></li><li><span class=\"separator\">-</span><a href=\"https://www.reddit.com/r/UpliftingNews/\" class=\"choice\">UpliftingNews</a></li><li><span class=\"separator\">-</span><a href=\"https://www.reddit.com/r/DIY/\" class=\"choice\">DIY</a></li><li><span class=\"separator\">-</span><a href=\"https://www.reddit.com/r/history/\" class=\"choice\">history</a></li><li><span class=\"separator\">-</span><a href=\"https://www.reddit.com/r/gadgets/\" class=\"choice\">gadgets</a></li><li><span class=\"separator\">-</span><a href=\"https://www.reddit.com/r/creepy/\" class=\"choice\">creepy</a></li><li><span class=\"separator\">-</span><a href=\"https://www.reddit.com/r/listentothis/\" class=\"choice\">listentothis</a></li><li><span class=\"separator\">-</span><a href=\"https://www.reddit.com/r/blog/\" class=\"choice\">blog</a></li><li><span class=\"separator\">-</span><a href=\"https://www.reddit.com/r/announcements/\" class=\"choice\">announcements</a></li><li><span class=\"separator\">-</span><a href=\"https://www.reddit.com/r/InternetIsBeautiful/\" class=\"choice\">InternetIsBeautiful</a></li></ul></div><a href=\"https://www.reddit.com/subreddits/\" id=\"sr-more-link\">more »</a></div></div><div id=\"header-bottom-left\"><a href=\"/\" id=\"header-img\" class=\"default-header\" title=\"\">reddit.com</a> <ul class=\"tabmenu \"><li class=\"selected\"><a href=\"https://www.reddit.com/\" class=\"choice\">hot</a></li><li><a href=\"https://www.reddit.com/new/\" class=\"choice\">new</a></li><li><a href=\"https://www.reddit.com/rising/\" class=\"choice\">rising</a></li><li><a href=\"https://www.reddit.com/controversial/\" class=\"choice\">controversial</a></li><li><a href=\"https://www.reddit.com/top/\" class=\"choice\">top</a></li><li><a href=\"https://www.reddit.com/gilded/\" class=\"choice\">gilded</a></li><li><a href=\"https://www.reddit.com/wiki/\" class=\"choice\">wiki</a></li></ul></div><div id=\"header-bottom-right\"><span class=\"user\">Want to join? <a href=\"https://www.reddit.com/login\" class=\"login-required login-link\">Log in</a> or <a href=\"https://www.reddit.com/login\" class=\"login-required\">sign up</a> in seconds.</span><span class=\"separator\">|</span><ul class=\"flat-list hover\"><li><a href=\"javascript:void(0)\" class=\"pref-lang choice\" onclick=\"return showlang();\">English</a></li></ul></div></div><div class=\"side\"><div class=\"spacer\"><form action=\"https://www.reddit.com/search\" id=\"search\" role=\"search\"><input type=\"text\" name=\"q\" placeholder=\"search\" tabindex=\"20\" /><input type=\"submit\" value=\"\" tabindex=\"22\" /><div id=\"searchexpando\" class=\"infobar\"><div id=\"moresearchinfo\"><a href=\"#\" id=\"search_hidemore\">[-]</a><p>use the following search parameters to narrow your results:</p><dl><dt>subreddit:<i>subreddit</i></dt><dd>find submissions in \"subreddit\"</dd><dt>author:<i>username</i></dt><dd>find submissions by \"username\"</dd><dt>site:<i>example.com</i></dt><dd>find submissions from \"example.com\"</dd><dt>url:<i>text</i></dt><dd>search for \"text\" in url</dd><dt>selftext:<i>text</i></dt><dd>search for \"text\" in self post contents</dd><dt>self:yes (or self:no)</dt><dd>include (or exclude) self posts</dd><dt>nsfw:yes (or nsfw:no)</dt><dd>include (or exclude) results marked as NSFW</dd></dl><p>e.g. <code>subreddit:aww site:imgur.com dog</code></p><p><a href=\"https://www.reddit.com/wiki/search\">see the search faq for details.</a></p></div><p><a href=\"https://www.reddit.com/wiki/search\" id=\"search_showmore\">advanced search: by author, subreddit...</a></p></div></form></div><div class=\"spacer\"><form method=\"post\" action=\"https://www.reddit.com/post/login\" id=\"login_login-main\" class=\"login-form login-form-side\"><input type=\"hidden\" name=\"op\" value=\"login-main\" /><input name=\"user\" placeholder=\"username\" type=\"text\" maxlength=\"20\" tabindex=\"1\" /><input name=\"passwd\" placeholder=\"password\" type=\"password\" tabindex=\"1\" /><div class=\"g-recaptcha\" data-sitekey=\"6LeTnxkTAAAAAN9QEuDZRpn90WwKk_R1TRW_g-JC\"></div><div class=\"status\"></div><div id=\"remember-me\"><input type=\"checkbox\" name=\"rem\" id=\"rem-login-main\" tabindex=\"1\" /><label for=\"rem-login-main\">remember me</label><a class=\"recover-password\" href=\"/password\">reset password</a></div><div class=\"submit\"><span class=\"throbber\"></span><button class=\"btn\" type=\"submit\" tabindex=\"1\">login</button></div><div class=\"clear\"></div></form></div><div class=\"spacer\"><div id=\"ad_2\" class=\"dfp-ad-container\" data-google-query-id=\"CLS3pJrW7NgCFUdSDAodTxgEQA\"><div id=\"google_ads_iframe_/32173961/desktop/frontpage/listing_0__container__\" style=\"border: 0pt none;\"><iframe id=\"google_ads_iframe_/32173961/desktop/frontpage/listing_0\" title=\"3rd party ad content\" name=\"google_ads_iframe_/32173961/desktop/frontpage/listing_0\" width=\"300\" height=\"250\" scrolling=\"no\" marginwidth=\"0\" marginheight=\"0\" frameborder=\"0\" srcdoc=\"\" style=\"border: 0px; vertical-align: bottom;\"></iframe></div></div><script>r.hooks.get('reddit').register(function() { window.googletag = window.googletag || {}; googletag.cmd = googletag.cmd || []; window.pbjs = window.pbjs || {}; pbjs.que = pbjs.que || []; var adblock = r.utils.getAdblockLevel(); var frameId = \"ad_2\"; var sizes = [[300, 250], [300, 600]]; var keywords = [\"s.brandlift.holdout_11\", \"s.brandlift.holdout_13\", \"s.brandlift.holdout_2\", \"k.government\", \"k.game\", \"s.frontpage\", \"s.loggedout\", \"s.sfw\"]; var properties = {\"placement\": \"atf\", \"whitelist_status\": \"all_ads\", \"subreddit_screen\": false, \"percentage\": 19, \"iaa\": false, \"random_number\": 19, \"environment\": \"production\", \"nsfw\": false, \"logged_in\": false, \"has_used_mobile_app\": false, \"full_url\": \"https://www.reddit.com/\"}; var slotPrefix = \"/32173961/desktop\"; var frame = document.getElementById(frameId); var ads = window.__adslots = window.__adslots || []; if (adblock === 'whitelisted') { frame.className += ' acceptable-ads'; } function isWithinLoadDistance(el) { var rect = el.getBoundingClientRect(); var html = document.documentElement; return (rect.top - (window.innerHeight || html.clientHeight))&lt; 300; } function getPageType() { var $body = $('body'); if ($body.hasClass('comments-page')) { return 'comments'; } else if ($body.hasClass('profile-page')) { return 'user' } else if ($body.hasClass('listing-page')) { return 'listing'; } } function getSlot(prefix, pageType) { var parts = [prefix]; if (pageType !== 'user') { var listing = r.config.cur_listing; if (listing !== 'frontpage') { listing = 'r.' + listing; } parts.push(listing); } if (pageType) { parts.push(pageType); } return parts.join('/'); } var adSlot; googletag.cmd.push(function() { var pageType = getPageType(); adSlot = googletag .defineSlot(getSlot(slotPrefix, pageType), sizes, frameId) .addService(googletag.pubads()); adSlot.setTargeting('keywords', keywords); adSlot.setTargeting('adblock', adblock); adSlot.setTargeting('listing', pageType); Object.keys(properties).forEach(function(key) { adSlot.setTargeting(key, properties[key]); }); googletag.display(frameId); }); var requestAd = function() { if (window._usePrebid) { pbjs.que.push(function() { pbjs.setTargetingForGPTAsync(); googletag.pubads().refresh([adSlot]); }); } else { googletag.pubads().refresh([adSlot]); } }; ads.push({ slotID: frameId, sizes: sizes, callback: function() { googletag.cmd.push(function() { if (isWithinLoadDistance(frame)) { requestAd(); } else { var checkDistance = _.throttle(function() { if (isWithinLoadDistance(frame)) { requestAd(); window.removeEventListener('scroll', checkDistance); } }, 100); window.addEventListener('scroll', checkDistance); } }); }, }) });</script></div><div class=\"spacer\"><div class=\"sidebox submit submit-link\"><div class=\"morelink\"><a href=\"https://www.reddit.com/submit\" data-event-action=\"submit\" data-type=\"subreddit\" data-event-detail=\"link\" class=\"login-required access-required\" target=\"_top\">Submit a new link</a><div class=\"nub\"></div></div></div></div><div class=\"spacer\"><div class=\"sidebox submit submit-text\"><div class=\"morelink\"><a href=\"https://www.reddit.com/submit?selftext=true\" data-event-action=\"submit\" data-type=\"subreddit\" data-event-detail=\"self\" class=\"login-required access-required\" target=\"_top\">Submit a new text post</a><div class=\"nub\"></div></div></div></div><div class=\"spacer\"><div class=\"goldvertisement \"><div class=\"inner\"><h2>daily reddit gold goal</h2><div class=\"progress\"><p>86%</p><div class=\"bar\"><span style=\"width: 86%\"></span></div></div><a href=\"/gold?goldtype=code&amp;source=progressbar\" target=\"_blank\">help support reddit</a><div class=\"gold-bubble hover-bubble help-bubble anchor-top-centered\"><p><span class=\"gold-branding\">reddit gold</span> gives you extra features and helps keep our servers running. We believe the more reddit can be user-supported, the freer we will be to make reddit the best it can be.</p><p class=\"buy-gold\">Buy gold for yourself to gain access to <a href=\"/gold/about\" target=\"_blank\">extra features</a> and <a href=\"/r/goldbenefits\" target=\"_blank\">special benefits</a>. A month of gold pays for  <b>231.26 minutes</b> of reddit server time!</p><p class=\"give-gold\">Give gold to thank exemplary people and encourage them to post more.</p><p class=\"aside\">This daily goal updates every 10 minutes and is reset at midnight <a target=\"_blank\" href=\"https://en.wikipedia.org/wiki/Pacific_Time_Zone\">Pacific Time</a>  (9 hours from now).</p><div class=\"history\"><p>Yesterday's reddit gold goal</p><div class=\"progress\"><p>124%</p><div class=\"bar\"><span style=\"width: 100%\"></span></div></div></div></div></div></div></div><div class=\"spacer\"><div id=\"ad_6\" class=\"dfp-ad-container\" data-google-query-id=\"CKGFpZrW7NgCFdVBNwodngcOFw\"><div id=\"google_ads_iframe_/32173961/desktop/frontpage/listing_1__container__\" style=\"border: 0pt none;\"><iframe id=\"google_ads_iframe_/32173961/desktop/frontpage/listing_1\" title=\"3rd party ad content\" name=\"google_ads_iframe_/32173961/desktop/frontpage/listing_1\" width=\"300\" height=\"250\" scrolling=\"no\" marginwidth=\"0\" marginheight=\"0\" frameborder=\"0\" srcdoc=\"\" style=\"border: 0px; vertical-align: bottom;\"></iframe></div></div><script>r.hooks.get('reddit').register(function() { window.googletag = window.googletag || {}; googletag.cmd = googletag.cmd || []; window.pbjs = window.pbjs || {}; pbjs.que = pbjs.que || []; var adblock = r.utils.getAdblockLevel(); var frameId = \"ad_6\"; var sizes = [[300, 250]]; var keywords = [\"s.brandlift.holdout_11\", \"s.brandlift.holdout_13\", \"s.brandlift.holdout_2\", \"k.government\", \"k.game\", \"s.frontpage\", \"s.loggedout\", \"s.sfw\"]; var properties = {\"placement\": \"btf\", \"whitelist_status\": \"all_ads\", \"subreddit_screen\": false, \"percentage\": 38, \"iaa\": false, \"random_number\": 38, \"environment\": \"production\", \"nsfw\": false, \"logged_in\": false, \"has_used_mobile_app\": false, \"full_url\": \"https://www.reddit.com/\"}; var slotPrefix = \"/32173961/desktop\"; var frame = document.getElementById(frameId); var ads = window.__adslots = window.__adslots || []; if (adblock === 'whitelisted') { frame.className += ' acceptable-ads'; } function isWithinLoadDistance(el) { var rect = el.getBoundingClientRect(); var html = document.documentElement; return (rect.top - (window.innerHeight || html.clientHeight))&lt; 300; } function getPageType() { var $body = $('body'); if ($body.hasClass('comments-page')) { return 'comments'; } else if ($body.hasClass('profile-page')) { return 'user' } else if ($body.hasClass('listing-page')) { return 'listing'; } } function getSlot(prefix, pageType) { var parts = [prefix]; if (pageType !== 'user') { var listing = r.config.cur_listing; if (listing !== 'frontpage') { listing = 'r.' + listing; } parts.push(listing); } if (pageType) { parts.push(pageType); } return parts.join('/'); } var adSlot; googletag.cmd.push(function() { var pageType = getPageType(); adSlot = googletag .defineSlot(getSlot(slotPrefix, pageType), sizes, frameId) .addService(googletag.pubads()); adSlot.setTargeting('keywords', keywords); adSlot.setTargeting('adblock', adblock); adSlot.setTargeting('listing', pageType); Object.keys(properties).forEach(function(key) { adSlot.setTargeting(key, properties[key]); }); googletag.display(frameId); }); var requestAd = function() { if (window._usePrebid) { pbjs.que.push(function() { pbjs.setTargetingForGPTAsync(); googletag.pubads().refresh([adSlot]); }); } else { googletag.pubads().refresh([adSlot]); } }; ads.push({ slotID: frameId, sizes: sizes, callback: function() { googletag.cmd.push(function() { if (isWithinLoadDistance(frame)) { requestAd(); } else { var checkDistance = _.throttle(function() { if (isWithinLoadDistance(frame)) { requestAd(); window.removeEventListener('scroll', checkDistance); } }, 100); window.addEventListener('scroll', checkDistance); } }); }, }) });</script></div></div><a name=\"content\"></a><div class=\"content\" role=\"main\"><section class=\"infobar listingsignupbar\"><a href=\"/login\" class=\"login-required listingsignupbar__container\"><h2 class=\"listingsignupbar__title\">Welcome to Reddit,</h2><p class=\"listingsignupbar__desc\">the front page of the internet.</p><div class=\"listingsignupbar__cta-container\"><span class=\"c-btn c-btn-primary c-pull-left listingsignupbar__cta-button\">Become a Redditor</span><p class=\"listingsignupbar__cta-desc\">and subscribe to one of thousands of communities.</p></div></a><a href=\"#\" class=\"listingsignupbar__close\" title=\"close\">×</a></section><div class=\"spacer\"><div id=\"siteTable_organic\" class=\"organic-listing\" style=\"background-color: rgb(251, 251, 251);\"><div class=\" thing id-t3_7rd2ya link promoted odd  locked controversial promotedlink \" id=\"thing_t3_7rd2ya\" onclick=\"click_thing(this)\" data-fullname=\"t3_7rd2ya\" data-type=\"link\" data-whitelist-status=\"\" data-cid=\"__REDDIT_AD_SERVER__\" data-adserver-imp-pixel=\"https://pixel.redditmedia.com/i.gif?e=eyJhdiI6Mjk3MTA2LCJhdCI6NCwiYnQiOjAsImNtIjo2NTUwMjIsImNoIjo3OTg0LCJjayI6e30sImNyIjo0MjAyNTg1LCJkaSI6IjE5NWFhOGFmYTUwZTQ1MmQ5M2VhMDIyYzc1YzRiMzhmIiwiZGoiOjAsImlpIjoiYjc5M2IwN2U2MTJjNDRhMzkyYzFmODYzYTE0M2NiMzUiLCJkbSI6MywiZmMiOjY5OTY3MjcsImZsIjo2OTIxNDE4LCJpcCI6IjEwMC4xMi4xNjAuNDIiLCJrdyI6InMuYnJhbmRsaWZ0LmhvbGRvdXRfMTEscy5icmFuZGxpZnQuaG9sZG91dF8xMyxzLmJyYW5kbGlmdC5ob2xkb3V0XzIsay5nb3Zlcm5tZW50LGsuZ2FtZSxzLmZyb250cGFnZSxzLmxvZ2dlZG91dCxzLnNmdyxyaWQ6IiwibWsiOiJzLmZyb250cGFnZSIsIm53Ijo1MTQ2LCJwYyI6MCwiZWMiOjAsInByIjoyMDM2MiwicnQiOjIsInJzIjo1MDAsInNhIjoiMTEiLCJzYiI6ImktMDEwMjg1OWE3OTg0ZjZmOWYiLCJzcCI6MjYwMzQsInN0IjoyNDk1MCwidWsiOiJ0OWU1NWVrIiwidHMiOjE1MTY2NjE5OTA5MzIsInBuIjoiZGl2X2ZlZWQiLCJiYSI6MSwiZnEiOjB9&amp;s=cyNFbb8HR-HGEWW6e4-iMY84ch0\" data-adserver-click-url=\"https://engine.a.redditmedia.com/r?e=eyJhdiI6Mjk3MTA2LCJhdCI6NCwiYnQiOjAsImNtIjo2NTUwMjIsImNoIjo3OTg0LCJjayI6e30sImNyIjo0MjAyNTg1LCJkaSI6IjE5NWFhOGFmYTUwZTQ1MmQ5M2VhMDIyYzc1YzRiMzhmIiwiZGoiOjAsImlpIjoiYjc5M2IwN2U2MTJjNDRhMzkyYzFmODYzYTE0M2NiMzUiLCJkbSI6MywiZmMiOjY5OTY3MjcsImZsIjo2OTIxNDE4LCJpcCI6IjEwMC4xMi4xNjAuNDIiLCJtayI6InMuZnJvbnRwYWdlIiwibnciOjUxNDYsInBjIjowLCJlYyI6MCwicHIiOjIwMzYyLCJydCI6MiwicnMiOjUwMCwic2EiOiIxMSIsInNiIjoiaS0wMTAyODU5YTc5ODRmNmY5ZiIsInNwIjoyNjAzNCwic3QiOjI0OTUwLCJ1ayI6InQ5ZTU1ZWsiLCJ0cyI6MTUxNjY2MTk5MDkzMiwicG4iOiJkaXZfZmVlZCIsInVyIjoiaHR0cHM6Ly9hZC5kb3VibGVjbGljay5uZXQvZGRtL3RyYWNrY2xrL040MjEwMDEuMTMxODQzUkVERElUSU5DL0IyMDYwMzA0My4yMTE0ODg2MDY7ZGNfdHJrX2FpZD00MTE5NjYxMjg7ZGNfdHJrX2NpZD05NjczOTUwOTtkY19sYXQ9O2RjX3JkaWQ9O3RhZ19mb3JfY2hpbGRfZGlyZWN0ZWRfdHJlYXRtZW50PSJ9&amp;s=atKG8QlIgmb9BWLng6SmojJU-BE\" data-adserver-upvote-pixel=\"https://engine.a.redditmedia.com/e.gif?e=eyJhdiI6Mjk3MTA2LCJhdCI6NCwiYnQiOjAsImNtIjo2NTUwMjIsImNoIjo3OTg0LCJjayI6e30sImNyIjo0MjAyNTg1LCJkaSI6IjE5NWFhOGFmYTUwZTQ1MmQ5M2VhMDIyYzc1YzRiMzhmIiwiZGoiOjAsImlpIjoiYjc5M2IwN2U2MTJjNDRhMzkyYzFmODYzYTE0M2NiMzUiLCJkbSI6MywiZmMiOjY5OTY3MjcsImZsIjo2OTIxNDE4LCJpcCI6IjEwMC4xMi4xNjAuNDIiLCJrdyI6InMuYnJhbmRsaWZ0LmhvbGRvdXRfMTEscy5icmFuZGxpZnQuaG9sZG91dF8xMyxzLmJyYW5kbGlmdC5ob2xkb3V0XzIsay5nb3Zlcm5tZW50LGsuZ2FtZSxzLmZyb250cGFnZSxzLmxvZ2dlZG91dCxzLnNmdyxyaWQ6IiwibWsiOiJzLmZyb250cGFnZSIsIm53Ijo1MTQ2LCJwYyI6MCwiZWMiOjAsInByIjoyMDM2MiwicnQiOjIsInJzIjo1MDAsInNhIjoiMTEiLCJzYiI6ImktMDEwMjg1OWE3OTg0ZjZmOWYiLCJzcCI6MjYwMzQsInN0IjoyNDk1MCwidWsiOiJ0OWU1NWVrIiwidHMiOjE1MTY2NjE5OTA5MzIsInBuIjoiZGl2X2ZlZWQiLCJldCI6MTB9&amp;s=kbNziQIBiHWyQRNQh7nMk-mL1HU\" data-adserver-downvote-pixel=\"https://engine.a.redditmedia.com/e.gif?e=eyJhdiI6Mjk3MTA2LCJhdCI6NCwiYnQiOjAsImNtIjo2NTUwMjIsImNoIjo3OTg0LCJjayI6e30sImNyIjo0MjAyNTg1LCJkaSI6IjE5NWFhOGFmYTUwZTQ1MmQ5M2VhMDIyYzc1YzRiMzhmIiwiZGoiOjAsImlpIjoiYjc5M2IwN2U2MTJjNDRhMzkyYzFmODYzYTE0M2NiMzUiLCJkbSI6MywiZmMiOjY5OTY3MjcsImZsIjo2OTIxNDE4LCJpcCI6IjEwMC4xMi4xNjAuNDIiLCJrdyI6InMuYnJhbmRsaWZ0LmhvbGRvdXRfMTEscy5icmFuZGxpZnQuaG9sZG91dF8xMyxzLmJyYW5kbGlmdC5ob2xkb3V0XzIsay5nb3Zlcm5tZW50LGsuZ2FtZSxzLmZyb250cGFnZSxzLmxvZ2dlZG91dCxzLnNmdyxyaWQ6IiwibWsiOiJzLmZyb250cGFnZSIsIm53Ijo1MTQ2LCJwYyI6MCwiZWMiOjAsInByIjoyMDM2MiwicnQiOjIsInJzIjo1MDAsInNhIjoiMTEiLCJzYiI6ImktMDEwMjg1OWE3OTg0ZjZmOWYiLCJzcCI6MjYwMzQsInN0IjoyNDk1MCwidWsiOiJ0OWU1NWVrIiwidHMiOjE1MTY2NjE5OTA5MzIsInBuIjoiZGl2X2ZlZWQiLCJldCI6MTF9&amp;s=f28-hWjCvssH3FOw-G11n8t4MYA\" data-third-party-tracker-urls=\"[&quot;https://pixel.mtrcs.samba.tv/v2/vtr/hmi/alienist102217/redditdfp/impression?c=1516661990.94&amp;sa_ord=%ebuy!&amp;sa_li=%eaid!&amp;sa_cr=%ecid!&amp;sa_pl=211488606&quot;, &quot;https://ad.doubleclick.net/ddm/trackimp/N421001.131843REDDITINC/B20603043.211488606;dc_trk_aid=411966128;dc_trk_cid=96739509;ord=1516661990.94;dc_lat=;dc_rdid=;tag_for_child_directed_treatment=?&quot;, &quot;https://alb.reddit.com/i.gif?q=CgADAAAAAAAJ_q4KAAUY8ZaOEhIemQgABwAAAAEKAAwAAAAAAGrC9wA=&amp;s=7YdqJBAdn-cGePqh1__a4LmifBrjiYmZgsNqzBsuvqU=&quot;]\" data-author=\"TNT_Official\" data-author-fullname=\"t2_i0pllo7\" data-subreddit=\"u_TNT_Official\" data-subreddit-prefixed=\"u/TNT_Official\" data-subreddit-fullname=\"t5_7hrbs\" data-timestamp=\"1516310633000\" data-url=\"//pixel.redditmedia.com/click?url=https%3A%2F%2Fengine.a.redditmedia.com%2Fr%3Fe%3DeyJhdiI6Mjk3MTA2LCJhdCI6NCwiYnQiOjAsImNtIjo2NTUwMjIsImNoIjo3OTg0LCJjayI6e30sImNyIjo0MjAyNTg1LCJkaSI6IjE5NWFhOGFmYTUwZTQ1MmQ5M2VhMDIyYzc1YzRiMzhmIiwiZGoiOjAsImlpIjoiYjc5M2IwN2U2MTJjNDRhMzkyYzFmODYzYTE0M2NiMzUiLCJkbSI6MywiZmMiOjY5OTY3MjcsImZsIjo2OTIxNDE4LCJpcCI6IjEwMC4xMi4xNjAuNDIiLCJtayI6InMuZnJvbnRwYWdlIiwibnciOjUxNDYsInBjIjowLCJlYyI6MCwicHIiOjIwMzYyLCJydCI6MiwicnMiOjUwMCwic2EiOiIxMSIsInNiIjoiaS0wMTAyODU5YTc5ODRmNmY5ZiIsInNwIjoyNjAzNCwic3QiOjI0OTUwLCJ1ayI6InQ5ZTU1ZWsiLCJ0cyI6MTUxNjY2MTk5MDkzMiwicG4iOiJkaXZfZmVlZCIsInVyIjoiaHR0cHM6Ly9hZC5kb3VibGVjbGljay5uZXQvZGRtL3RyYWNrY2xrL040MjEwMDEuMTMxODQzUkVERElUSU5DL0IyMDYwMzA0My4yMTE0ODg2MDY7ZGNfdHJrX2FpZD00MTE5NjYxMjg7ZGNfdHJrX2NpZD05NjczOTUwOTtkY19sYXQ9O2RjX3JkaWQ9O3RhZ19mb3JfY2hpbGRfZGlyZWN0ZWRfdHJlYXRtZW50PSJ9%26s%3DatKG8QlIgmb9BWLng6SmojJU-BE&amp;unused=reddit.com&amp;hash=6061f31e5ec00eacd601f80a9dc1b772cc362f74&amp;id=t3_7rd2ya-__REDDIT_AD_SERVER__\" data-permalink=\"/comments/7rd2ya/tvs_mostanticipated_psychological_thriller_the/?click_hash=d18140e1ff73be7b5c291b3faa9e3a15f8b5f411b2025036fa71613bd8ed8d37&amp;click_url=https%3A%2F%2Fengine.a.redditmedia.com%2Fr%3Fe%3DeyJhdiI6Mjk3MTA2LCJhdCI6NCwiYnQiOjAsImNtIjo2NTUwMjIsImNoIjo3OTg0LCJjayI6e30sImNyIjo0MjAyNTg1LCJkaSI6IjE5NWFhOGFmYTUwZTQ1MmQ5M2VhMDIyYzc1YzRiMzhmIiwiZGoiOjAsImlpIjoiYjc5M2IwN2U2MTJjNDRhMzkyYzFmODYzYTE0M2NiMzUiLCJkbSI6MywiZmMiOjY5OTY3MjcsImZsIjo2OTIxNDE4LCJpcCI6IjEwMC4xMi4xNjAuNDIiLCJtayI6InMuZnJvbnRwYWdlIiwibnciOjUxNDYsInBjIjowLCJlYyI6MCwicHIiOjIwMzYyLCJydCI6MiwicnMiOjUwMCwic2EiOiIxMSIsInNiIjoiaS0wMTAyODU5YTc5ODRmNmY5ZiIsInNwIjoyNjAzNCwic3QiOjI0OTUwLCJ1ayI6InQ5ZTU1ZWsiLCJ0cyI6MTUxNjY2MTk5MDkzMiwicG4iOiJkaXZfZmVlZCIsInVyIjoiaHR0cHM6Ly9hZC5kb3VibGVjbGljay5uZXQvZGRtL3RyYWNrY2xrL040MjEwMDEuMTMxODQzUkVERElUSU5DL0IyMDYwMzA0My4yMTE0ODg2MDY7ZGNfdHJrX2FpZD00MTE5NjYxMjg7ZGNfdHJrX2NpZD05NjczOTUwOTtkY19sYXQ9O2RjX3JkaWQ9O3RhZ19mb3JfY2hpbGRfZGlyZWN0ZWRfdHJlYXRtZW50PSJ9%26s%3DatKG8QlIgmb9BWLng6SmojJU-BE\" data-domain=\"www.thealienist.com\" data-rank=\"\" data-comments-count=\"0\" data-score=\"6\" data-num-crossposts=\"0\" data-context=\"request_promo\" style=\"\"><p class=\"parent\"></p><span class=\"sponsored-indicator rank\"><img src=\"//www.redditstatic.com/icon-sponsored-rank.png\" /></span><div class=\"midcol unvoted\"><div class=\"arrow up login-required access-required\" data-event-action=\"upvote\" role=\"button\" aria-label=\"upvote\" tabindex=\"0\"></div><div class=\"score dislikes\" title=\"5\">5</div><div class=\"score unvoted\" title=\"6\">6</div><div class=\"score likes\" title=\"7\">7</div><div class=\"arrow down login-required access-required\" data-event-action=\"downvote\" role=\"button\" aria-label=\"downvote\" tabindex=\"0\"></div></div><a class=\"thumbnail invisible-when-pinned may-blank \" data-event-action=\"thumbnail\" href=\"//pixel.redditmedia.com/click?url=https%3A%2F%2Fengine.a.redditmedia.com%2Fr%3Fe%3DeyJhdiI6Mjk3MTA2LCJhdCI6NCwiYnQiOjAsImNtIjo2NTUwMjIsImNoIjo3OTg0LCJjayI6e30sImNyIjo0MjAyNTg1LCJkaSI6IjE5NWFhOGFmYTUwZTQ1MmQ5M2VhMDIyYzc1YzRiMzhmIiwiZGoiOjAsImlpIjoiYjc5M2IwN2U2MTJjNDRhMzkyYzFmODYzYTE0M2NiMzUiLCJkbSI6MywiZmMiOjY5OTY3MjcsImZsIjo2OTIxNDE4LCJpcCI6IjEwMC4xMi4xNjAuNDIiLCJtayI6InMuZnJvbnRwYWdlIiwibnciOjUxNDYsInBjIjowLCJlYyI6MCwicHIiOjIwMzYyLCJydCI6MiwicnMiOjUwMCwic2EiOiIxMSIsInNiIjoiaS0wMTAyODU5YTc5ODRmNmY5ZiIsInNwIjoyNjAzNCwic3QiOjI0OTUwLCJ1ayI6InQ5ZTU1ZWsiLCJ0cyI6MTUxNjY2MTk5MDkzMiwicG4iOiJkaXZfZmVlZCIsInVyIjoiaHR0cHM6Ly9hZC5kb3VibGVjbGljay5uZXQvZGRtL3RyYWNrY2xrL040MjEwMDEuMTMxODQzUkVERElUSU5DL0IyMDYwMzA0My4yMTE0ODg2MDY7ZGNfdHJrX2FpZD00MTE5NjYxMjg7ZGNfdHJrX2NpZD05NjczOTUwOTtkY19sYXQ9O2RjX3JkaWQ9O3RhZ19mb3JfY2hpbGRfZGlyZWN0ZWRfdHJlYXRtZW50PSJ9%26s%3DatKG8QlIgmb9BWLng6SmojJU-BE&amp;unused=reddit.com&amp;hash=6061f31e5ec00eacd601f80a9dc1b772cc362f74&amp;id=t3_7rd2ya-__REDDIT_AD_SERVER__\" rel=\"\"><img src=\"//b.thumbs.redditmedia.com/bTyA0xJwlo8HZAPvReJy92jZrtKEQJp6vbLWLE7T38s.jpg\" width=\"70\" height=\"70\" alt=\"\" /></a><div class=\"entry unvoted\"><iframe src=\"//www.redditmedia.com/moat/proxy#moatClientLevel1=297106&amp;moatClientLevel2=4202585&amp;moatClientSlicer1=24950&amp;moatClientSlicer2=&amp;zMoatSZ=728x90\" style=\"visibility: hidden; position: absolute; top: 0; left: 0; right: 0; bottom: 0; width: 100%; height: 100%; z-index: -9999;\" referrer=\"no-referrer\"></iframe><div class=\"top-matter\"><p class=\"title\"><a class=\"title may-blank \" data-event-action=\"title\" href=\"//pixel.redditmedia.com/click?url=https%3A%2F%2Fengine.a.redditmedia.com%2Fr%3Fe%3DeyJhdiI6Mjk3MTA2LCJhdCI6NCwiYnQiOjAsImNtIjo2NTUwMjIsImNoIjo3OTg0LCJjayI6e30sImNyIjo0MjAyNTg1LCJkaSI6IjE5NWFhOGFmYTUwZTQ1MmQ5M2VhMDIyYzc1YzRiMzhmIiwiZGoiOjAsImlpIjoiYjc5M2IwN2U2MTJjNDRhMzkyYzFmODYzYTE0M2NiMzUiLCJkbSI6MywiZmMiOjY5OTY3MjcsImZsIjo2OTIxNDE4LCJpcCI6IjEwMC4xMi4xNjAuNDIiLCJtayI6InMuZnJvbnRwYWdlIiwibnciOjUxNDYsInBjIjowLCJlYyI6MCwicHIiOjIwMzYyLCJydCI6MiwicnMiOjUwMCwic2EiOiIxMSIsInNiIjoiaS0wMTAyODU5YTc5ODRmNmY5ZiIsInNwIjoyNjAzNCwic3QiOjI0OTUwLCJ1ayI6InQ5ZTU1ZWsiLCJ0cyI6MTUxNjY2MTk5MDkzMiwicG4iOiJkaXZfZmVlZCIsInVyIjoiaHR0cHM6Ly9hZC5kb3VibGVjbGljay5uZXQvZGRtL3RyYWNrY2xrL040MjEwMDEuMTMxODQzUkVERElUSU5DL0IyMDYwMzA0My4yMTE0ODg2MDY7ZGNfdHJrX2FpZD00MTE5NjYxMjg7ZGNfdHJrX2NpZD05NjczOTUwOTtkY19sYXQ9O2RjX3JkaWQ9O3RhZ19mb3JfY2hpbGRfZGlyZWN0ZWRfdHJlYXRtZW50PSJ9%26s%3DatKG8QlIgmb9BWLng6SmojJU-BE&amp;unused=reddit.com&amp;hash=6061f31e5ec00eacd601f80a9dc1b772cc362f74&amp;id=t3_7rd2ya-__REDDIT_AD_SERVER__\" tabindex=\"1\" rel=\"\">TV's most-anticipated psychological thriller, The Alienist, is giving you an exclusive look before the premiere. Catch a sneak peek of what’s to come before the show premieres tonight on TNT.</a> <span class=\"domain\">(www.thealienist.com)</span></p><div class=\"expando-button collapsed hide-when-pinned video\"></div><p class=\"tagline \">promoted by <a href=\"https://www.reddit.com/user/TNT_Official\" class=\"author may-blank id-t2_i0pllo7\">TNT_Official</a><span class=\"userattrs\"></span></p><ul class=\"flat-list buttons\"><li><span class=\"promoted-tag\"><img class=\"sponsored-button-icon\" src=\"//www.redditstatic.com/icon-sponsored-tiny.png\" /><span class=\"promoted-span\" title=\"Promoted: content promoted by our advertisers\">promoted</span></span></li><li class=\"link-save-button save-button login-required\"><a href=\"#\">save</a></li><li class=\"report-button login-required\"><a href=\"javascript:void(0)\" class=\"reportbtn access-required\" data-event-action=\"report\">report</a></li></ul><div class=\"reportform report-t3_7rd2ya\"></div></div><div class=\"expando expando-uninitialized\" style=\"display: none\" data-cachedhtml=\" &lt;iframe src=&quot;//www.redditmedia.com/mediaembed/7rd2ya&quot; id=&quot;media-embed-7rd2ya-f6h&quot; class=&quot;media-embed&quot; width=&quot;610&quot; height=&quot;348&quot; border=&quot;0&quot; frameBorder=&quot;0&quot; scrolling=&quot;no&quot; allowfullscreen&gt;&lt;/iframe&gt; \" data-pin-condition=\"function() {return this.style.display != 'none';}\"><span class=\"error\">loading...</span></div><p class=\"sponsored-tagline\"></p></div><div class=\"child\"></div><div class=\"clearleft\"></div></div><div class=\"clearleft\" style=\"\"></div></div><script>r.spotlight.setup( [], 0.0, true, 1, \" reddit.com\", \"t3_7s87w8,t3_7s8tkx,t3_7s7ej7,t3_7s7b81,t3_7s6y7w,t3_7s71ts,t3_7s6yg7,t3_7s71nj,t3_7s7wkt,t3_7s6jxi\" )</script></div><div class=\"spacer\"><div class=\"trending-subreddits\"><div class=\"rank-spacer\"></div><div class=\"midcol-spacer\"></div><div class=\"trending-subreddits-content\"><strong>trending subreddits</strong><ul><li><a href=\"/r/nostalgia/?utm_content=trending_sr_1&amp;utm_medium=trending_subreddits_bar&amp;utm_source=reddit&amp;utm_name=frontpage\" target=\"_blank\">r/nostalgia</a></li><li><a href=\"/r/MMA/?utm_content=trending_sr_2&amp;utm_medium=trending_subreddits_bar&amp;utm_source=reddit&amp;utm_name=frontpage\" target=\"_blank\">r/MMA</a></li><li><a href=\"/r/surrealmemes/?utm_content=trending_sr_4&amp;utm_medium=trending_subreddits_bar&amp;utm_source=reddit&amp;utm_name=frontpage\" target=\"_blank\">r/surrealmemes</a></li><li><a href=\"/r/niceguys/?utm_content=trending_sr_3&amp;utm_medium=trending_subreddits_bar&amp;utm_source=reddit&amp;utm_name=frontpage\" target=\"_blank\">r/niceguys</a></li><li><a href=\"/r/trippinthroughtime/?utm_content=trending_sr_5&amp;utm_medium=trending_subreddits_bar&amp;utm_source=reddit&amp;utm_name=frontpage\" target=\"_blank\">r/trippinthroughtime</a></li></ul><a href=\"/r/trendingsubreddits/comments/7s3mxa/trending_subreddits_for_20180122_rnostalgia_rmma/\" class=\"comments may-blank\">104 comments</a></div></div></div><div class=\"spacer\"><style>body &gt;.content .link .rank, .rank-spacer { width: 2.2ex } body &gt;.content .link .midcol, .midcol-spacer { width: 7.1ex } .adsense-wrap { background-color: #eff7ff; font-size: 18px; padding-left: 9.3ex; padding-right: 5px; }</style><div id=\"siteTable\" class=\"sitetable linklisting\"><div class=\" thing id-t3_7s87w8 odd  link \" id=\"thing_t3_7s87w8\" onclick=\"click_thing(this)\" data-fullname=\"t3_7s87w8\" data-type=\"link\" data-whitelist-status=\"all_ads\" data-author=\"mikedomert\" data-author-fullname=\"t2_100d8h\" data-subreddit=\"news\" data-subreddit-prefixed=\"r/news\" data-subreddit-fullname=\"t5_2qh3l\" data-timestamp=\"1516649066000\" data-url=\"https://www.google.fi/amp/s/www.forbes.com/sites/tomangell/2018/01/22/vermont-governor-signs-marijuana-legalization-into-law/amp/\" data-permalink=\"/r/news/comments/7s87w8/vermont_has_officially_legalized_cannabis/\" data-domain=\"google.fi\" data-rank=\"1\" data-comments-count=\"771\" data-score=\"16939\" data-num-crossposts=\"2\" data-context=\"listing\"><p class=\"parent\"></p><span class=\"rank\">1</span><div class=\"midcol unvoted\"><div class=\"arrow up login-required access-required\" data-event-action=\"upvote\" role=\"button\" aria-label=\"upvote\" tabindex=\"0\"></div><div class=\"score dislikes\" title=\"16935\">16.9k</div><div class=\"score unvoted\" title=\"16936\">16.9k</div><div class=\"score likes\" title=\"16937\">16.9k</div><div class=\"arrow down login-required access-required\" data-event-action=\"downvote\" role=\"button\" aria-label=\"downvote\" tabindex=\"0\"></div></div><a class=\"thumbnail invisible-when-pinned default may-blank outbound\" data-event-action=\"thumbnail\" href=\"https://www.google.fi/amp/s/www.forbes.com/sites/tomangell/2018/01/22/vermont-governor-signs-marijuana-legalization-into-law/amp/\" data-href-url=\"https://www.google.fi/amp/s/www.forbes.com/sites/tomangell/2018/01/22/vermont-governor-signs-marijuana-legalization-into-law/amp/\" data-outbound-url=\"https://out.reddit.com/t3_7s87w8?url=https%3A%2F%2Fwww.google.fi%2Famp%2Fs%2Fwww.forbes.com%2Fsites%2Ftomangell%2F2018%2F01%2F22%2Fvermont-governor-signs-marijuana-legalization-into-law%2Famp%2F&amp;token=AQAA9npmWv7Dex1mROCwM6h2khN3UQSS80yX2RiZvRZ1gHJPEqro&amp;app_name=reddit.com\" data-outbound-expiration=\"1516665590000\" rel=\"\"></a><div class=\"entry unvoted\"><div class=\"top-matter\"><p class=\"title\"><a class=\"title may-blank outbound\" data-event-action=\"title\" href=\"https://www.google.fi/amp/s/www.forbes.com/sites/tomangell/2018/01/22/vermont-governor-signs-marijuana-legalization-into-law/amp/\" tabindex=\"1\" data-href-url=\"https://www.google.fi/amp/s/www.forbes.com/sites/tomangell/2018/01/22/vermont-governor-signs-marijuana-legalization-into-law/amp/\" data-outbound-url=\"https://out.reddit.com/t3_7s87w8?url=https%3A%2F%2Fwww.google.fi%2Famp%2Fs%2Fwww.forbes.com%2Fsites%2Ftomangell%2F2018%2F01%2F22%2Fvermont-governor-signs-marijuana-legalization-into-law%2Famp%2F&amp;token=AQAA9npmWv7Dex1mROCwM6h2khN3UQSS80yX2RiZvRZ1gHJPEqro&amp;app_name=reddit.com\" data-outbound-expiration=\"1516665590000\" rel=\"\">Vermont has officially legalized cannabis</a> <span class=\"domain\">(<a href=\"/domain/google.fi/\">google.fi</a>)</span></p><p class=\"tagline \">submitted <time title=\"Mon Jan 22 19:24:26 2018 UTC\" datetime=\"2018-01-22T19:24:26+00:00\" class=\"live-timestamp\">3 hours ago</time> by <a href=\"https://www.reddit.com/user/mikedomert\" class=\"author may-blank id-t2_100d8h\">mikedomert</a><span class=\"userattrs\"></span> to <a href=\"https://www.reddit.com/r/news/\" class=\"subreddit hover may-blank\">r/news</a></p><ul class=\"flat-list buttons\"><li class=\"first\"><a href=\"https://www.reddit.com/r/news/comments/7s87w8/vermont_has_officially_legalized_cannabis/\" data-inbound-url=\"/r/news/comments/7s87w8/vermont_has_officially_legalized_cannabis/?utm_content=comments&amp;utm_medium=hot&amp;utm_source=reddit&amp;utm_name=frontpage\" data-href-url=\"/r/news/comments/7s87w8/vermont_has_officially_legalized_cannabis/\" data-event-action=\"comments\" class=\"bylink comments may-blank\" rel=\"nofollow\">771 comments</a></li><li class=\"share\"><a class=\"post-sharing-button\" href=\"javascript: void 0;\">share</a></li><li class=\"link-save-button save-button login-required\"><a href=\"#\">save</a></li><li><form action=\"/post/hide\" method=\"post\" class=\"state-button hide-button\"><input type=\"hidden\" name=\"executed\" value=\"hidden\" /><span><a href=\"javascript:void(0)\" class=\" \" data-event-action=\"hide\" onclick=\"change_state(this, 'hide', hide_thing);\">hide</a></span></form></li><li class=\"report-button login-required\"><a href=\"javascript:void(0)\" class=\"reportbtn access-required\" data-event-action=\"report\">report</a></li></ul><div class=\"reportform report-t3_7s87w8\"></div></div></div><div class=\"child\"></div><div class=\"clearleft\"></div></div><div class=\"clearleft\"></div><div class=\" thing id-t3_7s8tkx even  link \" id=\"thing_t3_7s8tkx\" onclick=\"click_thing(this)\" data-fullname=\"t3_7s8tkx\" data-type=\"link\" data-whitelist-status=\"all_ads\" data-author=\"SilkSk1\" data-author-fullname=\"t2_e8txa\" data-kind=\"video\" data-subreddit=\"nevertellmetheodds\" data-subreddit-prefixed=\"r/nevertellmetheodds\" data-subreddit-fullname=\"t5_38iwx\" data-timestamp=\"1516653820000\" data-url=\"https://v.redd.it/za96hbfpkob01\" data-permalink=\"/r/nevertellmetheodds/comments/7s8tkx/twitch_streamer_suggests_a_game_should_have/\" data-domain=\"v.redd.it\" data-rank=\"2\" data-comments-count=\"347\" data-score=\"7649\" data-num-crossposts=\"0\" data-context=\"listing\"><p class=\"parent\"></p><span class=\"rank\">2</span><div class=\"midcol unvoted\"><div class=\"arrow up login-required access-required\" data-event-action=\"upvote\" role=\"button\" aria-label=\"upvote\" tabindex=\"0\"></div><div class=\"score dislikes\" title=\"7952\">7952</div><div class=\"score unvoted\" title=\"7953\">7953</div><div class=\"score likes\" title=\"7954\">7954</div><div class=\"arrow down login-required access-required\" data-event-action=\"downvote\" role=\"button\" aria-label=\"downvote\" tabindex=\"0\"></div></div><a class=\"thumbnail invisible-when-pinned may-blank \" data-event-action=\"thumbnail\" href=\"/r/nevertellmetheodds/comments/7s8tkx/twitch_streamer_suggests_a_game_should_have/\" data-href-url=\"/r/nevertellmetheodds/comments/7s8tkx/twitch_streamer_suggests_a_game_should_have/\" data-inbound-url=\"/r/nevertellmetheodds/comments/7s8tkx/twitch_streamer_suggests_a_game_should_have/?utm_content=thumbnail&amp;utm_medium=hot&amp;utm_source=reddit&amp;utm_name=frontpage\" rel=\"\"><img src=\"//b.thumbs.redditmedia.com/St_IUb2VON8ADzjoc2PRlv7Rkph7VPoHTW2JtotcsYY.jpg\" width=\"70\" height=\"39\" alt=\"\" /><div class=\"duration-overlay\">1:01</div></a><div class=\"entry unvoted\"><div class=\"top-matter\"><p class=\"title\"><a class=\"title may-blank \" data-event-action=\"title\" href=\"/r/nevertellmetheodds/comments/7s8tkx/twitch_streamer_suggests_a_game_should_have/\" tabindex=\"1\" data-href-url=\"/r/nevertellmetheodds/comments/7s8tkx/twitch_streamer_suggests_a_game_should_have/\" data-inbound-url=\"/r/nevertellmetheodds/comments/7s8tkx/twitch_streamer_suggests_a_game_should_have/?utm_content=title&amp;utm_medium=hot&amp;utm_source=reddit&amp;utm_name=frontpage\" rel=\"\">Twitch streamer suggests a game should have random scripted events to make the game more interesting, experiences a random scripted event.</a> <span class=\"domain\">(<a href=\"/domain/v.redd.it/\">v.redd.it</a>)</span></p><div class=\"expando-button collapsed hide-when-pinned video\"></div><p class=\"tagline \">submitted <time title=\"Mon Jan 22 20:43:40 2018 UTC\" datetime=\"2018-01-22T20:43:40+00:00\" class=\"live-timestamp\">2 hours ago</time> by <a href=\"https://www.reddit.com/user/SilkSk1\" class=\"author may-blank id-t2_e8txa\">SilkSk1</a><span class=\"userattrs\"></span> to <a href=\"https://www.reddit.com/r/nevertellmetheodds/\" class=\"subreddit hover may-blank\">r/nevertellmetheodds</a></p><ul class=\"flat-list buttons\"><li class=\"first\"><a href=\"https://www.reddit.com/r/nevertellmetheodds/comments/7s8tkx/twitch_streamer_suggests_a_game_should_have/\" data-inbound-url=\"/r/nevertellmetheodds/comments/7s8tkx/twitch_streamer_suggests_a_game_should_have/?utm_content=comments&amp;utm_medium=hot&amp;utm_source=reddit&amp;utm_name=frontpage\" data-href-url=\"/r/nevertellmetheodds/comments/7s8tkx/twitch_streamer_suggests_a_game_should_have/\" data-event-action=\"comments\" class=\"bylink comments may-blank\" rel=\"nofollow\">370 comments</a></li><li class=\"share\"><a class=\"post-sharing-button\" href=\"javascript: void 0;\">share</a></li><li class=\"link-save-button save-button login-required\"><a href=\"#\">save</a></li><li><form action=\"/post/hide\" method=\"post\" class=\"state-button hide-button\"><input type=\"hidden\" name=\"executed\" value=\"hidden\" /><span><a href=\"javascript:void(0)\" class=\" \" data-event-action=\"hide\" onclick=\"change_state(this, 'hide', hide_thing);\">hide</a></span></form></li><li class=\"report-button login-required\"><a href=\"javascript:void(0)\" class=\"reportbtn access-required\" data-event-action=\"report\">report</a></li></ul><div class=\"reportform report-t3_7s8tkx\"></div></div><div class=\"expando expando-uninitialized\" style=\"display: none\" data-cachedhtml=\" &lt;div class=&quot;media-preview no-constraints-when-pinned&quot; id=&quot;media-preview-7s8tkx&quot; style=&quot;max-width: 864.0px; min-width: 486px; max-height: 486px; min-height: 273px; overflow: hidden;&quot; &gt; &lt;div class=&quot;media-preview-content video-player&quot;&gt; &lt;div class=&quot;no-constraints-when-pinned&quot; style=&quot;max-width: 864.0px; min-width: 486px; max-height: 486px; min-height: 273px&quot; &gt; &lt;div id=&quot;video-7s8tkx&quot; class=&quot;landscape&quot; data-hls-url=&quot;https://v.redd.it/za96hbfpkob01/HLSPlaylist.m3u8&quot; data-id-36=&quot;7s8tkx&quot; data-link-url=&quot;/r/nevertellmetheodds/comments/7s8tkx/twitch_streamer_suggests_a_game_should_have/&quot; data-mpd-url=&quot;https://v.redd.it/za96hbfpkob01/DASHPlaylist.mpd&quot; data-obfuscated-poster-url=&quot;&quot; data-orientation=&quot;landscape&quot; data-seek-preview-url=&quot;https://v.redd.it/za96hbfpkob01/DASH_600_K&quot; data-video-height=&quot;486&quot; data-video-width=&quot;864.0&quot; data-pinned-height=&quot;135&quot; data-pinned-width=&quot;240.0&quot; data-max-pinned-width=&quot;240&quot; &gt;&lt;/div&gt; &lt;script type=&quot;text/javascript&quot;&gt; (function() { var thing = {&quot;obfuscatedPosterUrl&quot;: null, &quot;context&quot;: &quot;listing&quot;, &quot;isGif&quot;: false}; var autoplay = true; if (thing.obfuscatedPosterUrl){ autoplay = false; } if (thing.context === &quot;comments&quot; &amp;&amp; r.config.pref_no_video_autoplay){ autoplay = false; } var play_pause_click_action = autoplay ? &quot;pause&quot; : &quot;play&quot;; var play_pause_click_toggle_action = autoplay ? &quot;play&quot; : &quot;pause&quot;; var play_pause_vector_from = autoplay ? &quot;M3,3 L18,10.5 18,25.5 3,33 3,3 M18,10.5 L33,18 33,18 18,25.5 18,10.5&quot; : &quot;M3,3 L15,3 15,33 3,33 3,3 M21,3 L33,3 33,33 21,33 21,3&quot;; var play_pause_vector_to = autoplay ? &quot;M3,3 L15,3 15,33 3,33 3,3 M21,3 L33,3 33,33 21,33 21,3&quot; : &quot;M3,3 L18,10.5 18,25.5 3,33 3,3 M18,10.5 L33,18 33,18 18,25.5 18,10.5&quot;; var videoPlayerElement = $(&quot;#video-7s8tkx&quot;); var isMobile = /Mobi/i.test(navigator.userAgent); var canPlayDash = (typeof (window.MediaSource || window.WebKitMediaSource) === &quot;function&quot;); var videoOptions = { id: videoPlayerElement.data(&quot;id36&quot;), linkUrl: videoPlayerElement.data(&quot;linkUrl&quot;), src: canPlayDash ? videoPlayerElement.data(&quot;mpdUrl&quot;) : videoPlayerElement.data(&quot;hlsUrl&quot;), type: canPlayDash ? RedditVideoPlayer.Types.MPD : RedditVideoPlayer.Types.HLS, autoplay: autoplay, poster: null, loop: false, orientation: videoPlayerElement.data(&quot;orientation&quot;), }; if (isMobile) { videoOptions.controls = true; } var redditVideoPlayer = new RedditVideoPlayer(videoPlayerElement, videoOptions); videoPlayerElement.data(&quot;video-player-object&quot;, redditVideoPlayer); redditVideoPlayer.setAspectRatio(videoPlayerElement.data(&quot;videoHeight&quot;) / videoPlayerElement.data(&quot;videoWidth&quot;)); if (!isMobile) { var bufferingControlsTree = $.parseHTML( '&lt;div class=&quot;buffering-controls&quot;&gt;' + '&lt;div class=&quot;centered horizontal&quot;&gt;' + '&lt;div class=&quot;buffering-indicator active&quot;&gt;' + '&lt;div class=&quot;spinner-layer&quot;&gt;' + '&lt;div class=&quot;circle-clipper left&quot;&gt;' + '&lt;div class=&quot;circle&quot;&gt;&lt;/div&gt;' + '&lt;/div&gt;' + '&lt;div class=&quot;gap-patch&quot;&gt;' + '&lt;div class=&quot;circle&quot;&gt;&lt;/div&gt;' + '&lt;/div&gt;' + '&lt;div class=&quot;circle-clipper right&quot;&gt;' + '&lt;div class=&quot;circle&quot;&gt;&lt;/div&gt;' + '&lt;/div&gt;' + '&lt;/div&gt;' + '&lt;/div&gt;' + '&lt;/div&gt;' + '&lt;/div&gt;' ); var bufferingControlsOptions = { behavior: RedditVideoController.Behaviors.BUFFERING, startVisible: false, fadeInDuration: 0, fadeOutDuration: 0, }; var bufferingControls = new RedditVideoController(bufferingControlsTree, bufferingControlsOptions); redditVideoPlayer.addUiController(bufferingControls); var endedControlsTree = $.parseHTML( '&lt;div class=&quot;ended-controls hide-when-pinned&quot;&gt;' + '&lt;div class=&quot;centered vertical&quot;&gt;' + '&lt;button data-control-type=&quot;click&quot; data-action=&quot;replay&quot;&gt;' + '&lt;img src=&quot;//www.redditstatic.com/video-refresh.svg&quot; &gt;' + '&lt;/button&gt;' + '&lt;span class=&quot;replay-video&quot;&gt;Replay Video&lt;/span&gt;' + '&lt;/div&gt;' + '&lt;/div&gt;' ); var endedControlsOptions = { behavior: RedditVideoController.Behaviors.COMPLETED, startVisible: false, fadeInDuration: 400, fadeOutDuration: 0, }; var endedControls = new RedditVideoController(endedControlsTree, endedControlsOptions); redditVideoPlayer.addUiController(endedControls); var playbackControlsTree = $.parseHTML( '&lt;div class=&quot;playback-controls right bottom left hide-when-pinned&quot;&gt;' + '&lt;a class=&quot;permalink&quot; ' + 'data-control-type=&quot;click&quot; ' + 'href=&quot;/r/nevertellmetheodds/comments/7s8tkx/twitch_streamer_suggests_a_game_should_have/&quot;&gt;' + '&lt;img src=&quot;//www.redditstatic.com/video-snoo.svg&quot; /&gt;' + '&lt;/a&gt;' + '&lt;button ' + 'class=&quot;play-pause&quot; ' + 'data-control-type=&quot;click&quot; ' + 'data-action=&quot;' + play_pause_click_action + '&quot; ' + 'data-toggle-action=&quot;' + play_pause_click_toggle_action + '&quot;&gt;' + '&lt;svg class=&quot;play-pause&quot; viewbox=&quot;0 0 36 36&quot;&gt;' + '&lt;path d=&quot;' + play_pause_vector_to + '&quot;&gt;' + '&lt;animate ' + 'begin=&quot;indefinite&quot; ' + 'attributeType=&quot;XML&quot; ' + 'attributeName=&quot;d&quot; ' + 'fill=&quot;freeze&quot; ' + 'to=&quot;' + play_pause_vector_to + '&quot; ' + 'from=&quot;' + play_pause_vector_from + '&quot; ' + 'dur=&quot;0.1s&quot; ' + 'keySplines=&quot;.4 0 1 1&quot; ' + 'repeat=&quot;1&quot;&gt;' + '&lt;/animate&gt;' + '&lt;/path&gt;' + '&lt;/svg&gt;' + '&lt;/button&gt;' + '&lt;span class=&quot;time-label&quot; ' + 'data-control-type=&quot;text&quot; ' + 'data-action=&quot;elapsedTime&quot;&gt;' + '0:00' + '&lt;/span&gt;' + '&lt;div data-control-type=&quot;seekBar&quot; ' + 'data-preview-video-src=&quot;' + videoPlayerElement.data('seekPreviewUrl') + '&quot;&gt;' + '&lt;/div&gt;' + '&lt;span class=&quot;time-label&quot; ' + 'data-control-type=&quot;text&quot; ' + 'data-action=&quot;totalTime&quot;&gt;' + '0:00' + '&lt;/span&gt;' + '&lt;div class=&quot;volume-container&quot;&gt;' + '&lt;div data-control-type=&quot;volumeSlider&quot;&gt;&lt;/div&gt;' + '&lt;button class=&quot;volume&quot; data-control-type=&quot;click&quot; data-action=&quot;unmute&quot; data-toggle-action=&quot;mute&quot;&gt;' + '&lt;img class=&quot;mute&quot; src=&quot;//www.redditstatic.com/video-volume.svg&quot;&gt;' + '&lt;img class=&quot;unmute&quot; src=&quot;//www.redditstatic.com/video-mute.svg&quot;&gt;' + '&lt;/button&gt;' + '&lt;/div&gt;' + '&lt;div class=&quot;settings-container&quot;&gt;' + '&lt;label class=&quot;settings has-submenu&quot; data-control-type=&quot;click&quot;&gt;' + '&lt;input class=&quot;settings&quot; type=&quot;checkbox&quot;&gt;' + '&lt;img class=&quot;settings-open&quot; src=&quot;//www.redditstatic.com/video-settings.svg&quot;&gt;' + '&lt;img class=&quot;settings-close&quot; src=&quot;//www.redditstatic.com/video-settings-open.svg&quot;&gt;' + '&lt;span class=&quot;submenu&quot;&gt;' + '&lt;div data-control-type=&quot;settingsMenu&quot;&gt;&lt;/div&gt;' + '&lt;/span&gt;' + '&lt;/label&gt;' + '&lt;/div&gt;' + '&lt;button class=&quot;fullscreen&quot; ' + 'data-control-type=&quot;click&quot; ' + 'data-action=&quot;fullscreenRequest&quot; ' + 'data-toggle-action=&quot;fullscreenCancel&quot;&gt;' + '&lt;img class=&quot;expand&quot; src=&quot;//www.redditstatic.com/video-expand.svg&quot;&gt;' + '&lt;img class=&quot;collapse&quot; src=&quot;//www.redditstatic.com/video-collapse.svg&quot;&gt;' + '&lt;/button&gt;' + '&lt;/div&gt;' ); var playbackControlsOptions = { behavior: RedditVideoController.Behaviors.MOUSE_MOVE, }; var playbackControls = new RedditVideoController(playbackControlsTree, playbackControlsOptions); redditVideoPlayer.addUiController(playbackControls); if(r.config.pref_no_video_autoplay &amp;&amp; thing.context === &quot;comments&quot;) { var interstitialControlsTree = $.parseHTML( '&lt;div class=&quot;interstitial-controls hide-when-pinned&quot;&gt;' + '&lt;div class=&quot;centered vertical&quot;&gt;' + '&lt;button data-control-type=&quot;click&quot; data-action=&quot;play&quot;&gt;' + '&lt;svg class=&quot;play-pause&quot; viewbox=&quot;0 0 36 36&quot;&gt;' + '&lt;path d=&quot;M3,3 L18,10.5 18,25.5 3,33 3,3 M18,10.5 L33,18 33,18 18,25.5 18,10.5&quot;&gt;&lt;/path&gt;' + '&lt;/svg&gt;' + '&lt;/button&gt;' + '&lt;/div&gt;' + '&lt;/div&gt;' ); var interstitialControlsOptions = { behavior: RedditVideoController.Behaviors.INTERSTITIAL, startVisible: true, fadeInDuration: 0, fadeOutDuration: 400, }; var interstitialControls = new RedditVideoController(interstitialControlsTree, interstitialControlsOptions); redditVideoPlayer.addUiController(interstitialControls); } $(playbackControlsTree).find('input.settings').change(function() { if ($(this).is(':checked')) { firePlayerEvent.call(redditVideoPlayer, null, null, {verb: 'click', noun: 'settings'}); redditVideoPlayer.setClickAction(RedditVideoPlayer.ClickActions.NONE); } else { redditVideoPlayer.setClickAction(RedditVideoPlayer.ClickActions.PLAY_PAUSE); } }); } var playPauseButtons = $(videoPlayerElement).find(&quot;button.play-pause&quot;); var isPlaying = autoplay; redditVideoPlayer.addActionCompletedCallback(function(action, value) { if ((action == RedditVideoPlayer.Actions.PLAY &amp;&amp; !isPlaying) || (action == RedditVideoPlayer.Actions.PAUSE &amp;&amp; isPlaying)) { playPauseButtons.each(function() { var animation = $(this).find('animate').first(); var to = animation.attr('to'); var from = animation.attr('from'); animation.attr({ &quot;from&quot;: to, &quot;to&quot;: from }); if ('beginElement' in animation[0]) { animation.get(0) .beginElement(); } else { var path = $(this).find('path'); path.attr({&quot;d&quot;: from}); } }); isPlaying = !isPlaying; } var settings = $(playbackControlsTree).find(&quot;input.settings&quot;); if (settings.prop(&quot;checked&quot;)) { settings.prop(&quot;checked&quot;, false); redditVideoPlayer.setClickAction(RedditVideoPlayer.ClickActions.PLAY_PAUSE); } }); function firePlayerEvent(action, value, extras) { extras = (typeof extras === 'object') ? extras : {}; var verb = extras.verb || ''; var noun = extras.noun || ''; var source = extras.source || 'videoplayer'; var maxTimestamp = this.maxPlayed * 1000; var durationMs = this.duration * 1000; var timeMs = this.currentTime * 1000; var pinnableElement = $(this.root).closest('.pinnable-content'); var targetElement = $(this.root).closest('.thing.link'); var targetData = targetElement.data(); var videoState = { maxTimestampServed: parseInt(maxTimestamp), percentServed: maxTimestamp / durationMs, duration: parseInt(durationMs), time: parseInt(timeMs), isNsfw: targetElement.hasClass('over18'), isSpoiler: targetElement.hasClass('spoiler'), isPinned: pinnableElement.hasClass('pinned'), isVertical: this.orientation === RedditVideoPlayer.Orientations.PORTRAIT, }; r.analytics.videoPlayerEvent(source, verb, noun, targetData, videoState); } redditVideoPlayer.addActionCompletedCallback(firePlayerEvent); $(playbackControlsTree).find('a.permalink').click(function() { firePlayerEvent.call(redditVideoPlayer, null, null, {verb: 'click', noun: 'snoo'}); }); })(); &lt;/script&gt; &lt;/div&gt; &lt;/div&gt; &lt;/div&gt; \" data-pin-condition=\"function() {return this.style.display != 'none';}\"><span class=\"error\">loading...</span></div></div><div class=\"child\"></div><div class=\"clearleft\"></div></div><div class=\"clearleft\"></div><div class=\" thing id-t3_7s7ej7 linkflair linkflair-media odd  link \" id=\"thing_t3_7s7ej7\" onclick=\"click_thing(this)\" data-fullname=\"t3_7s7ej7\" data-type=\"link\" data-whitelist-status=\"all_ads\" data-author=\"vogel71\" data-author-fullname=\"t2_k4mb3\" data-kind=\"video\" data-subreddit=\"PUBATTLEGROUNDS\" data-subreddit-prefixed=\"r/PUBATTLEGROUNDS\" data-subreddit-fullname=\"t5_3fmbm\" data-timestamp=\"1516642712000\" data-url=\"https://v.redd.it/pokyy5pmnnb01\" data-permalink=\"/r/PUBATTLEGROUNDS/comments/7s7ej7/i_was_wondering_why_my_grenade_didnt_kill_himwell/\" data-domain=\"v.redd.it\" data-rank=\"3\" data-comments-count=\"371\" data-score=\"17000\" data-num-crossposts=\"3\" data-context=\"listing\"><p class=\"parent\"></p><span class=\"rank\">3</span><div class=\"midcol unvoted\"><div class=\"arrow up login-required access-required\" data-event-action=\"upvote\" role=\"button\" aria-label=\"upvote\" tabindex=\"0\"></div><div class=\"score dislikes\" title=\"19340\">19.3k</div><div class=\"score unvoted\" title=\"19341\">19.3k</div><div class=\"score likes\" title=\"19342\">19.3k</div><div class=\"arrow down login-required access-required\" data-event-action=\"downvote\" role=\"button\" aria-label=\"downvote\" tabindex=\"0\"></div></div><a class=\"thumbnail invisible-when-pinned may-blank \" data-event-action=\"thumbnail\" href=\"/r/PUBATTLEGROUNDS/comments/7s7ej7/i_was_wondering_why_my_grenade_didnt_kill_himwell/\" data-href-url=\"/r/PUBATTLEGROUNDS/comments/7s7ej7/i_was_wondering_why_my_grenade_didnt_kill_himwell/\" data-inbound-url=\"/r/PUBATTLEGROUNDS/comments/7s7ej7/i_was_wondering_why_my_grenade_didnt_kill_himwell/?utm_content=thumbnail&amp;utm_medium=hot&amp;utm_source=reddit&amp;utm_name=frontpage\" rel=\"\"><img src=\"//b.thumbs.redditmedia.com/vCwWwlY4WBBYjHlBLh2UA59Yr8s3FYNrJdonFoy8i_o.jpg\" width=\"70\" height=\"39\" alt=\"\" /><div class=\"duration-overlay\">0:29</div></a><div class=\"entry unvoted\"><div class=\"top-matter\"><p class=\"title\"><a class=\"title may-blank \" data-event-action=\"title\" href=\"/r/PUBATTLEGROUNDS/comments/7s7ej7/i_was_wondering_why_my_grenade_didnt_kill_himwell/\" tabindex=\"1\" data-href-url=\"/r/PUBATTLEGROUNDS/comments/7s7ej7/i_was_wondering_why_my_grenade_didnt_kill_himwell/\" data-inbound-url=\"/r/PUBATTLEGROUNDS/comments/7s7ej7/i_was_wondering_why_my_grenade_didnt_kill_himwell/?utm_content=title&amp;utm_medium=hot&amp;utm_source=reddit&amp;utm_name=frontpage\" rel=\"\">I was wondering why my grenade didn't kill him...well here is why</a><span class=\"linkflairlabel\" title=\"Media\">Media</span> <span class=\"domain\">(<a href=\"/domain/v.redd.it/\">v.redd.it</a>)</span></p><div class=\"expando-button collapsed hide-when-pinned video\"></div><p class=\"tagline \">submitted <time title=\"Mon Jan 22 17:38:32 2018 UTC\" datetime=\"2018-01-22T17:38:32+00:00\" class=\"live-timestamp\">5 hours ago</time> by <a href=\"https://www.reddit.com/user/vogel71\" class=\"author may-blank id-t2_k4mb3\">vogel71</a><span class=\"userattrs\"></span> to <a href=\"https://www.reddit.com/r/PUBATTLEGROUNDS/\" class=\"subreddit hover may-blank\">r/PUBATTLEGROUNDS</a></p><ul class=\"flat-list buttons\"><li class=\"first\"><a href=\"https://www.reddit.com/r/PUBATTLEGROUNDS/comments/7s7ej7/i_was_wondering_why_my_grenade_didnt_kill_himwell/\" data-inbound-url=\"/r/PUBATTLEGROUNDS/comments/7s7ej7/i_was_wondering_why_my_grenade_didnt_kill_himwell/?utm_content=comments&amp;utm_medium=hot&amp;utm_source=reddit&amp;utm_name=frontpage\" data-href-url=\"/r/PUBATTLEGROUNDS/comments/7s7ej7/i_was_wondering_why_my_grenade_didnt_kill_himwell/\" data-event-action=\"comments\" class=\"bylink comments may-blank\" rel=\"nofollow\">403 comments</a></li><li class=\"share\"><a class=\"post-sharing-button\" href=\"javascript: void 0;\">share</a></li><li class=\"link-save-button save-button login-required\"><a href=\"#\">save</a></li><li><form action=\"/post/hide\" method=\"post\" class=\"state-button hide-button\"><input type=\"hidden\" name=\"executed\" value=\"hidden\" /><span><a href=\"javascript:void(0)\" class=\" \" data-event-action=\"hide\" onclick=\"change_state(this, 'hide', hide_thing);\">hide</a></span></form></li><li class=\"report-button login-required\"><a href=\"javascript:void(0)\" class=\"reportbtn access-required\" data-event-action=\"report\">report</a></li></ul><div class=\"reportform report-t3_7s7ej7\"></div></div><div class=\"expando expando-uninitialized\" style=\"display: none\" data-cachedhtml=\" &lt;div class=&quot;media-preview no-constraints-when-pinned&quot; id=&quot;media-preview-7s7ej7&quot; style=&quot;max-width: 864.0px; min-width: 486px; max-height: 486px; min-height: 273px; overflow: hidden;&quot; &gt; &lt;div class=&quot;media-preview-content video-player&quot;&gt; &lt;div class=&quot;no-constraints-when-pinned&quot; style=&quot;max-width: 864.0px; min-width: 486px; max-height: 486px; min-height: 273px&quot; &gt; &lt;div id=&quot;video-7s7ej7&quot; class=&quot;landscape&quot; data-hls-url=&quot;https://v.redd.it/pokyy5pmnnb01/HLSPlaylist.m3u8&quot; data-id-36=&quot;7s7ej7&quot; data-link-url=&quot;/r/PUBATTLEGROUNDS/comments/7s7ej7/i_was_wondering_why_my_grenade_didnt_kill_himwell/&quot; data-mpd-url=&quot;https://v.redd.it/pokyy5pmnnb01/DASHPlaylist.mpd&quot; data-obfuscated-poster-url=&quot;&quot; data-orientation=&quot;landscape&quot; data-seek-preview-url=&quot;https://v.redd.it/pokyy5pmnnb01/DASH_600_K&quot; data-video-height=&quot;486&quot; data-video-width=&quot;864.0&quot; data-pinned-height=&quot;135&quot; data-pinned-width=&quot;240.0&quot; data-max-pinned-width=&quot;240&quot; &gt;&lt;/div&gt; &lt;script type=&quot;text/javascript&quot;&gt; (function() { var thing = {&quot;obfuscatedPosterUrl&quot;: null, &quot;context&quot;: &quot;listing&quot;, &quot;isGif&quot;: false}; var autoplay = true; if (thing.obfuscatedPosterUrl){ autoplay = false; } if (thing.context === &quot;comments&quot; &amp;&amp; r.config.pref_no_video_autoplay){ autoplay = false; } var play_pause_click_action = autoplay ? &quot;pause&quot; : &quot;play&quot;; var play_pause_click_toggle_action = autoplay ? &quot;play&quot; : &quot;pause&quot;; var play_pause_vector_from = autoplay ? &quot;M3,3 L18,10.5 18,25.5 3,33 3,3 M18,10.5 L33,18 33,18 18,25.5 18,10.5&quot; : &quot;M3,3 L15,3 15,33 3,33 3,3 M21,3 L33,3 33,33 21,33 21,3&quot;; var play_pause_vector_to = autoplay ? &quot;M3,3 L15,3 15,33 3,33 3,3 M21,3 L33,3 33,33 21,33 21,3&quot; : &quot;M3,3 L18,10.5 18,25.5 3,33 3,3 M18,10.5 L33,18 33,18 18,25.5 18,10.5&quot;; var videoPlayerElement = $(&quot;#video-7s7ej7&quot;); var isMobile = /Mobi/i.test(navigator.userAgent); var canPlayDash = (typeof (window.MediaSource || window.WebKitMediaSource) === &quot;function&quot;); var videoOptions = { id: videoPlayerElement.data(&quot;id36&quot;), linkUrl: videoPlayerElement.data(&quot;linkUrl&quot;), src: canPlayDash ? videoPlayerElement.data(&quot;mpdUrl&quot;) : videoPlayerElement.data(&quot;hlsUrl&quot;), type: canPlayDash ? RedditVideoPlayer.Types.MPD : RedditVideoPlayer.Types.HLS, autoplay: autoplay, poster: null, loop: false, orientation: videoPlayerElement.data(&quot;orientation&quot;), }; if (isMobile) { videoOptions.controls = true; } var redditVideoPlayer = new RedditVideoPlayer(videoPlayerElement, videoOptions); videoPlayerElement.data(&quot;video-player-object&quot;, redditVideoPlayer); redditVideoPlayer.setAspectRatio(videoPlayerElement.data(&quot;videoHeight&quot;) / videoPlayerElement.data(&quot;videoWidth&quot;)); if (!isMobile) { var bufferingControlsTree = $.parseHTML( '&lt;div class=&quot;buffering-controls&quot;&gt;' + '&lt;div class=&quot;centered horizontal&quot;&gt;' + '&lt;div class=&quot;buffering-indicator active&quot;&gt;' + '&lt;div class=&quot;spinner-layer&quot;&gt;' + '&lt;div class=&quot;circle-clipper left&quot;&gt;' + '&lt;div class=&quot;circle&quot;&gt;&lt;/div&gt;' + '&lt;/div&gt;' + '&lt;div class=&quot;gap-patch&quot;&gt;' + '&lt;div class=&quot;circle&quot;&gt;&lt;/div&gt;' + '&lt;/div&gt;' + '&lt;div class=&quot;circle-clipper right&quot;&gt;' + '&lt;div class=&quot;circle&quot;&gt;&lt;/div&gt;' + '&lt;/div&gt;' + '&lt;/div&gt;' + '&lt;/div&gt;' + '&lt;/div&gt;' + '&lt;/div&gt;' ); var bufferingControlsOptions = { behavior: RedditVideoController.Behaviors.BUFFERING, startVisible: false, fadeInDuration: 0, fadeOutDuration: 0, }; var bufferingControls = new RedditVideoController(bufferingControlsTree, bufferingControlsOptions); redditVideoPlayer.addUiController(bufferingControls); var endedControlsTree = $.parseHTML( '&lt;div class=&quot;ended-controls hide-when-pinned&quot;&gt;' + '&lt;div class=&quot;centered vertical&quot;&gt;' + '&lt;button data-control-type=&quot;click&quot; data-action=&quot;replay&quot;&gt;' + '&lt;img src=&quot;//www.redditstatic.com/video-refresh.svg&quot; &gt;' + '&lt;/button&gt;' + '&lt;span class=&quot;replay-video&quot;&gt;Replay Video&lt;/span&gt;' + '&lt;/div&gt;' + '&lt;/div&gt;' ); var endedControlsOptions = { behavior: RedditVideoController.Behaviors.COMPLETED, startVisible: false, fadeInDuration: 400, fadeOutDuration: 0, }; var endedControls = new RedditVideoController(endedControlsTree, endedControlsOptions); redditVideoPlayer.addUiController(endedControls); var playbackControlsTree = $.parseHTML( '&lt;div class=&quot;playback-controls right bottom left hide-when-pinned&quot;&gt;' + '&lt;a class=&quot;permalink&quot; ' + 'data-control-type=&quot;click&quot; ' + 'href=&quot;/r/PUBATTLEGROUNDS/comments/7s7ej7/i_was_wondering_why_my_grenade_didnt_kill_himwell/&quot;&gt;' + '&lt;img src=&quot;//www.redditstatic.com/video-snoo.svg&quot; /&gt;' + '&lt;/a&gt;' + '&lt;button ' + 'class=&quot;play-pause&quot; ' + 'data-control-type=&quot;click&quot; ' + 'data-action=&quot;' + play_pause_click_action + '&quot; ' + 'data-toggle-action=&quot;' + play_pause_click_toggle_action + '&quot;&gt;' + '&lt;svg class=&quot;play-pause&quot; viewbox=&quot;0 0 36 36&quot;&gt;' + '&lt;path d=&quot;' + play_pause_vector_to + '&quot;&gt;' + '&lt;animate ' + 'begin=&quot;indefinite&quot; ' + 'attributeType=&quot;XML&quot; ' + 'attributeName=&quot;d&quot; ' + 'fill=&quot;freeze&quot; ' + 'to=&quot;' + play_pause_vector_to + '&quot; ' + 'from=&quot;' + play_pause_vector_from + '&quot; ' + 'dur=&quot;0.1s&quot; ' + 'keySplines=&quot;.4 0 1 1&quot; ' + 'repeat=&quot;1&quot;&gt;' + '&lt;/animate&gt;' + '&lt;/path&gt;' + '&lt;/svg&gt;' + '&lt;/button&gt;' + '&lt;span class=&quot;time-label&quot; ' + 'data-control-type=&quot;text&quot; ' + 'data-action=&quot;elapsedTime&quot;&gt;' + '0:00' + '&lt;/span&gt;' + '&lt;div data-control-type=&quot;seekBar&quot; ' + 'data-preview-video-src=&quot;' + videoPlayerElement.data('seekPreviewUrl') + '&quot;&gt;' + '&lt;/div&gt;' + '&lt;span class=&quot;time-label&quot; ' + 'data-control-type=&quot;text&quot; ' + 'data-action=&quot;totalTime&quot;&gt;' + '0:00' + '&lt;/span&gt;' + '&lt;div class=&quot;volume-container&quot;&gt;' + '&lt;div data-control-type=&quot;volumeSlider&quot;&gt;&lt;/div&gt;' + '&lt;button class=&quot;volume&quot; data-control-type=&quot;click&quot; data-action=&quot;unmute&quot; data-toggle-action=&quot;mute&quot;&gt;' + '&lt;img class=&quot;mute&quot; src=&quot;//www.redditstatic.com/video-volume.svg&quot;&gt;' + '&lt;img class=&quot;unmute&quot; src=&quot;//www.redditstatic.com/video-mute.svg&quot;&gt;' + '&lt;/button&gt;' + '&lt;/div&gt;' + '&lt;div class=&quot;settings-container&quot;&gt;' + '&lt;label class=&quot;settings has-submenu&quot; data-control-type=&quot;click&quot;&gt;' + '&lt;input class=&quot;settings&quot; type=&quot;checkbox&quot;&gt;' + '&lt;img class=&quot;settings-open&quot; src=&quot;//www.redditstatic.com/video-settings.svg&quot;&gt;' + '&lt;img class=&quot;settings-close&quot; src=&quot;//www.redditstatic.com/video-settings-open.svg&quot;&gt;' + '&lt;span class=&quot;submenu&quot;&gt;' + '&lt;div data-control-type=&quot;settingsMenu&quot;&gt;&lt;/div&gt;' + '&lt;/span&gt;' + '&lt;/label&gt;' + '&lt;/div&gt;' + '&lt;button class=&quot;fullscreen&quot; ' + 'data-control-type=&quot;click&quot; ' + 'data-action=&quot;fullscreenRequest&quot; ' + 'data-toggle-action=&quot;fullscreenCancel&quot;&gt;' + '&lt;img class=&quot;expand&quot; src=&quot;//www.redditstatic.com/video-expand.svg&quot;&gt;' + '&lt;img class=&quot;collapse&quot; src=&quot;//www.redditstatic.com/video-collapse.svg&quot;&gt;' + '&lt;/button&gt;' + '&lt;/div&gt;' ); var playbackControlsOptions = { behavior: RedditVideoController.Behaviors.MOUSE_MOVE, }; var playbackControls = new RedditVideoController(playbackControlsTree, playbackControlsOptions); redditVideoPlayer.addUiController(playbackControls); if(r.config.pref_no_video_autoplay &amp;&amp; thing.context === &quot;comments&quot;) { var interstitialControlsTree = $.parseHTML( '&lt;div class=&quot;interstitial-controls hide-when-pinned&quot;&gt;' + '&lt;div class=&quot;centered vertical&quot;&gt;' + '&lt;button data-control-type=&quot;click&quot; data-action=&quot;play&quot;&gt;' + '&lt;svg class=&quot;play-pause&quot; viewbox=&quot;0 0 36 36&quot;&gt;' + '&lt;path d=&quot;M3,3 L18,10.5 18,25.5 3,33 3,3 M18,10.5 L33,18 33,18 18,25.5 18,10.5&quot;&gt;&lt;/path&gt;' + '&lt;/svg&gt;' + '&lt;/button&gt;' + '&lt;/div&gt;' + '&lt;/div&gt;' ); var interstitialControlsOptions = { behavior: RedditVideoController.Behaviors.INTERSTITIAL, startVisible: true, fadeInDuration: 0, fadeOutDuration: 400, }; var interstitialControls = new RedditVideoController(interstitialControlsTree, interstitialControlsOptions); redditVideoPlayer.addUiController(interstitialControls); } $(playbackControlsTree).find('input.settings').change(function() { if ($(this).is(':checked')) { firePlayerEvent.call(redditVideoPlayer, null, null, {verb: 'click', noun: 'settings'}); redditVideoPlayer.setClickAction(RedditVideoPlayer.ClickActions.NONE); } else { redditVideoPlayer.setClickAction(RedditVideoPlayer.ClickActions.PLAY_PAUSE); } }); } var playPauseButtons = $(videoPlayerElement).find(&quot;button.play-pause&quot;); var isPlaying = autoplay; redditVideoPlayer.addActionCompletedCallback(function(action, value) { if ((action == RedditVideoPlayer.Actions.PLAY &amp;&amp; !isPlaying) || (action == RedditVideoPlayer.Actions.PAUSE &amp;&amp; isPlaying)) { playPauseButtons.each(function() { var animation = $(this).find('animate').first(); var to = animation.attr('to'); var from = animation.attr('from'); animation.attr({ &quot;from&quot;: to, &quot;to&quot;: from }); if ('beginElement' in animation[0]) { animation.get(0) .beginElement(); } else { var path = $(this).find('path'); path.attr({&quot;d&quot;: from}); } }); isPlaying = !isPlaying; } var settings = $(playbackControlsTree).find(&quot;input.settings&quot;); if (settings.prop(&quot;checked&quot;)) { settings.prop(&quot;checked&quot;, false); redditVideoPlayer.setClickAction(RedditVideoPlayer.ClickActions.PLAY_PAUSE); } }); function firePlayerEvent(action, value, extras) { extras = (typeof extras === 'object') ? extras : {}; var verb = extras.verb || ''; var noun = extras.noun || ''; var source = extras.source || 'videoplayer'; var maxTimestamp = this.maxPlayed * 1000; var durationMs = this.duration * 1000; var timeMs = this.currentTime * 1000; var pinnableElement = $(this.root).closest('.pinnable-content'); var targetElement = $(this.root).closest('.thing.link'); var targetData = targetElement.data(); var videoState = { maxTimestampServed: parseInt(maxTimestamp), percentServed: maxTimestamp / durationMs, duration: parseInt(durationMs), time: parseInt(timeMs), isNsfw: targetElement.hasClass('over18'), isSpoiler: targetElement.hasClass('spoiler'), isPinned: pinnableElement.hasClass('pinned'), isVertical: this.orientation === RedditVideoPlayer.Orientations.PORTRAIT, }; r.analytics.videoPlayerEvent(source, verb, noun, targetData, videoState); } redditVideoPlayer.addActionCompletedCallback(firePlayerEvent); $(playbackControlsTree).find('a.permalink').click(function() { firePlayerEvent.call(redditVideoPlayer, null, null, {verb: 'click', noun: 'snoo'}); }); })(); &lt;/script&gt; &lt;/div&gt; &lt;/div&gt; &lt;/div&gt; \" data-pin-condition=\"function() {return this.style.display != 'none';}\"><span class=\"error\">loading...</span></div></div><div class=\"child\"></div><div class=\"clearleft\"></div></div><div class=\"clearleft\"></div><div class=\" thing id-t3_7s7b81 even  link \" id=\"thing_t3_7s7b81\" onclick=\"click_thing(this)\" data-fullname=\"t3_7s7b81\" data-type=\"link\" data-whitelist-status=\"all_ads\" data-author=\"itseasytorecall\" data-author-fullname=\"t2_ymi6l\" data-subreddit=\"space\" data-subreddit-prefixed=\"r/space\" data-subreddit-fullname=\"t5_2qh87\" data-timestamp=\"1516641920000\" data-url=\"https://twitter.com/NASA/status/955481803971756032\" data-permalink=\"/r/space/comments/7s7b81/nasa_cancels_and_postpones_all_of_their_public/\" data-domain=\"twitter.com\" data-rank=\"4\" data-comments-count=\"897\" data-score=\"31816\" data-num-crossposts=\"2\" data-context=\"listing\"><p class=\"parent\"></p><span class=\"rank\">4</span><div class=\"midcol unvoted\"><div class=\"arrow up login-required access-required\" data-event-action=\"upvote\" role=\"button\" aria-label=\"upvote\" tabindex=\"0\"></div><div class=\"score dislikes\" title=\"31815\">31.8k</div><div class=\"score unvoted\" title=\"31816\">31.8k</div><div class=\"score likes\" title=\"31817\">31.8k</div><div class=\"arrow down login-required access-required\" data-event-action=\"downvote\" role=\"button\" aria-label=\"downvote\" tabindex=\"0\"></div></div><a class=\"thumbnail invisible-when-pinned may-blank outbound\" data-event-action=\"thumbnail\" href=\"https://twitter.com/NASA/status/955481803971756032\" data-href-url=\"https://twitter.com/NASA/status/955481803971756032\" data-outbound-url=\"https://out.reddit.com/t3_7s7b81?url=https%3A%2F%2Ftwitter.com%2FNASA%2Fstatus%2F955481803971756032&amp;token=AQAA9npmWtyZlp7qJPf8sJfJDjZtJpoiUCXfU1mYv_6dpQXE2Drs&amp;app_name=reddit.com\" data-outbound-expiration=\"1516665590000\" rel=\"\"><img src=\"//b.thumbs.redditmedia.com/a61fWc8JRIJCFnUpalDWFGN_jHi1PmSehgPMxtxs2_E.jpg\" width=\"70\" height=\"70\" alt=\"\" /></a><div class=\"entry unvoted\"><div class=\"top-matter\"><p class=\"title\"><a class=\"title may-blank outbound\" data-event-action=\"title\" href=\"https://twitter.com/NASA/status/955481803971756032\" tabindex=\"1\" data-href-url=\"https://twitter.com/NASA/status/955481803971756032\" data-outbound-url=\"https://out.reddit.com/t3_7s7b81?url=https%3A%2F%2Ftwitter.com%2FNASA%2Fstatus%2F955481803971756032&amp;token=AQAA9npmWtyZlp7qJPf8sJfJDjZtJpoiUCXfU1mYv_6dpQXE2Drs&amp;app_name=reddit.com\" data-outbound-expiration=\"1516665590000\" rel=\"\">NASA cancels and postpones all of their public events and activities until further notice due to government shutdown.</a> <span class=\"domain\">(<a href=\"/domain/twitter.com/\">twitter.com</a>)</span></p><p class=\"tagline \">submitted <time title=\"Mon Jan 22 17:25:20 2018 UTC\" datetime=\"2018-01-22T17:25:20+00:00\" class=\"live-timestamp\">5 hours ago</time> by <a href=\"https://www.reddit.com/user/itseasytorecall\" class=\"author may-blank id-t2_ymi6l\">itseasytorecall</a><span class=\"userattrs\"></span> to <a href=\"https://www.reddit.com/r/space/\" class=\"subreddit hover may-blank\">r/space</a></p><ul class=\"flat-list buttons\"><li class=\"first\"><a href=\"https://www.reddit.com/r/space/comments/7s7b81/nasa_cancels_and_postpones_all_of_their_public/\" data-inbound-url=\"/r/space/comments/7s7b81/nasa_cancels_and_postpones_all_of_their_public/?utm_content=comments&amp;utm_medium=hot&amp;utm_source=reddit&amp;utm_name=frontpage\" data-href-url=\"/r/space/comments/7s7b81/nasa_cancels_and_postpones_all_of_their_public/\" data-event-action=\"comments\" class=\"bylink comments may-blank\" rel=\"nofollow\">897 comments</a></li><li class=\"share\"><a class=\"post-sharing-button\" href=\"javascript: void 0;\">share</a></li><li class=\"link-save-button save-button login-required\"><a href=\"#\">save</a></li><li><form action=\"/post/hide\" method=\"post\" class=\"state-button hide-button\"><input type=\"hidden\" name=\"executed\" value=\"hidden\" /><span><a href=\"javascript:void(0)\" class=\" \" data-event-action=\"hide\" onclick=\"change_state(this, 'hide', hide_thing);\">hide</a></span></form></li><li class=\"report-button login-required\"><a href=\"javascript:void(0)\" class=\"reportbtn access-required\" data-event-action=\"report\">report</a></li></ul><div class=\"reportform report-t3_7s7b81\"></div></div></div><div class=\"child\"></div><div class=\"clearleft\"></div></div><div class=\"clearleft\"></div><div class=\" thing id-t3_7s6y7w odd  link \" id=\"thing_t3_7s6y7w\" onclick=\"click_thing(this)\" data-fullname=\"t3_7s6y7w\" data-type=\"link\" data-whitelist-status=\"all_ads\" data-author=\"Buki1\" data-author-fullname=\"t2_ji3xr\" data-subreddit=\"gifs\" data-subreddit-prefixed=\"r/gifs\" data-subreddit-fullname=\"t5_2qt55\" data-timestamp=\"1516638995000\" data-url=\"https://gfycat.com/ConstantDecimalKarakul\" data-permalink=\"/r/gifs/comments/7s6y7w/finnish_ski_jumping_team/\" data-domain=\"gfycat.com\" data-rank=\"5\" data-comments-count=\"1534\" data-score=\"127495\" data-num-crossposts=\"4\" data-context=\"listing\"><p class=\"parent\"></p><span class=\"rank\">5</span><div class=\"midcol unvoted\"><div class=\"arrow up login-required access-required\" data-event-action=\"upvote\" role=\"button\" aria-label=\"upvote\" tabindex=\"0\"></div><div class=\"score dislikes\" title=\"127497\">127k</div><div class=\"score unvoted\" title=\"127498\">127k</div><div class=\"score likes\" title=\"127499\">127k</div><div class=\"arrow down login-required access-required\" data-event-action=\"downvote\" role=\"button\" aria-label=\"downvote\" tabindex=\"0\"></div></div><a class=\"thumbnail invisible-when-pinned may-blank outbound\" data-event-action=\"thumbnail\" href=\"https://gfycat.com/ConstantDecimalKarakul\" data-href-url=\"https://gfycat.com/ConstantDecimalKarakul\" data-outbound-url=\"https://out.reddit.com/t3_7s6y7w?url=https%3A%2F%2Fgfycat.com%2FConstantDecimalKarakul&amp;token=AQAA9npmWjVhEGsuuIHdraUfCFCohxr_-HFgO6RymVvLgpiGRsS0&amp;app_name=reddit.com\" data-outbound-expiration=\"1516665590000\" rel=\"\"><img src=\"//b.thumbs.redditmedia.com/Y4xK7Qxk9JwVRAC7yJUrauHcSZHcJj2aTFWhP0cp7JM.jpg\" width=\"70\" height=\"39\" alt=\"\" /></a><div class=\"entry unvoted\"><div class=\"top-matter\"><p class=\"title\"><a class=\"title may-blank outbound\" data-event-action=\"title\" href=\"https://gfycat.com/ConstantDecimalKarakul\" tabindex=\"1\" data-href-url=\"https://gfycat.com/ConstantDecimalKarakul\" data-outbound-url=\"https://out.reddit.com/t3_7s6y7w?url=https%3A%2F%2Fgfycat.com%2FConstantDecimalKarakul&amp;token=AQAA9npmWjVhEGsuuIHdraUfCFCohxr_-HFgO6RymVvLgpiGRsS0&amp;app_name=reddit.com\" data-outbound-expiration=\"1516665590000\" rel=\"\">Finnish ski jumping team</a> <span class=\"domain\">(<a href=\"/domain/gfycat.com/\">gfycat.com</a>)</span></p><div class=\"expando-button collapsed hide-when-pinned video\"></div><p class=\"tagline \">submitted <time title=\"Mon Jan 22 16:36:35 2018 UTC\" datetime=\"2018-01-22T16:36:35+00:00\" class=\"live-timestamp\">6 hours ago</time> by <a href=\"https://www.reddit.com/user/Buki1\" class=\"author may-blank id-t2_ji3xr\">Buki1</a><span class=\"userattrs\"></span> to <a href=\"https://www.reddit.com/r/gifs/\" class=\"subreddit hover may-blank\">r/gifs</a></p><ul class=\"flat-list buttons\"><li class=\"first\"><a href=\"https://www.reddit.com/r/gifs/comments/7s6y7w/finnish_ski_jumping_team/\" data-inbound-url=\"/r/gifs/comments/7s6y7w/finnish_ski_jumping_team/?utm_content=comments&amp;utm_medium=hot&amp;utm_source=reddit&amp;utm_name=frontpage\" data-href-url=\"/r/gifs/comments/7s6y7w/finnish_ski_jumping_team/\" data-event-action=\"comments\" class=\"bylink comments may-blank\" rel=\"nofollow\">1534 comments</a></li><li class=\"share\"><a class=\"post-sharing-button\" href=\"javascript: void 0;\">share</a></li><li class=\"link-save-button save-button login-required\"><a href=\"#\">save</a></li><li><form action=\"/post/hide\" method=\"post\" class=\"state-button hide-button\"><input type=\"hidden\" name=\"executed\" value=\"hidden\" /><span><a href=\"javascript:void(0)\" class=\" \" data-event-action=\"hide\" onclick=\"change_state(this, 'hide', hide_thing);\">hide</a></span></form></li><li class=\"report-button login-required\"><a href=\"javascript:void(0)\" class=\"reportbtn access-required\" data-event-action=\"report\">report</a></li></ul><div class=\"reportform report-t3_7s6y7w\"></div></div><div class=\"expando expando-uninitialized\" style=\"display: none\" data-cachedhtml=\" &lt;iframe src=&quot;//www.redditmedia.com/mediaembed/7s6y7w&quot; id=&quot;media-embed-7s6y7w-wfl&quot; class=&quot;media-embed&quot; width=&quot;610&quot; height=&quot;348&quot; border=&quot;0&quot; frameBorder=&quot;0&quot; scrolling=&quot;no&quot; allowfullscreen&gt;&lt;/iframe&gt; \" data-pin-condition=\"function() {return this.style.display != 'none';}\"><span class=\"error\">loading...</span></div></div><div class=\"child\"></div><div class=\"clearleft\"></div></div><div class=\"clearleft\"></div><div class=\" thing id-t3_7s71ts even  link \" id=\"thing_t3_7s71ts\" onclick=\"click_thing(this)\" data-fullname=\"t3_7s71ts\" data-type=\"link\" data-whitelist-status=\"all_ads\" data-author=\"Parafanalia1\" data-author-fullname=\"t2_16ymt9\" data-subreddit=\"funny\" data-subreddit-prefixed=\"r/funny\" data-subreddit-fullname=\"t5_2qh33\" data-timestamp=\"1516639812000\" data-url=\"https://i.imgur.com/7Ai1ghN.gifv\" data-permalink=\"/r/funny/comments/7s71ts/messing_with_the_new_guy/\" data-domain=\"i.imgur.com\" data-rank=\"6\" data-comments-count=\"2578\" data-score=\"56848\" data-num-crossposts=\"4\" data-context=\"listing\"><p class=\"parent\"></p><span class=\"rank\">6</span><div class=\"midcol unvoted\"><div class=\"arrow up login-required access-required\" data-event-action=\"upvote\" role=\"button\" aria-label=\"upvote\" tabindex=\"0\"></div><div class=\"score dislikes\" title=\"56848\">56.8k</div><div class=\"score unvoted\" title=\"56849\">56.8k</div><div class=\"score likes\" title=\"56850\">56.9k</div><div class=\"arrow down login-required access-required\" data-event-action=\"downvote\" role=\"button\" aria-label=\"downvote\" tabindex=\"0\"></div></div><a class=\"thumbnail invisible-when-pinned may-blank outbound\" data-event-action=\"thumbnail\" href=\"https://i.imgur.com/7Ai1ghN.gifv\" data-href-url=\"https://i.imgur.com/7Ai1ghN.gifv\" data-outbound-url=\"https://out.reddit.com/t3_7s71ts?url=https%3A%2F%2Fi.imgur.com%2F7Ai1ghN.gifv&amp;token=AQAA9npmWklM4MoeI9t3kTeOioW57Z3f0oJvQN8FkUojrHiRvvS3&amp;app_name=reddit.com\" data-outbound-expiration=\"1516665590000\" rel=\"\"><img src=\"//b.thumbs.redditmedia.com/53lce60z-x-eC4My6O2YXWkOOfFJIfOU1QROUjO3VwU.jpg\" width=\"70\" height=\"70\" alt=\"\" /></a><div class=\"entry unvoted\"><div class=\"top-matter\"><p class=\"title\"><a class=\"title may-blank outbound\" data-event-action=\"title\" href=\"https://i.imgur.com/7Ai1ghN.gifv\" tabindex=\"1\" data-href-url=\"https://i.imgur.com/7Ai1ghN.gifv\" data-outbound-url=\"https://out.reddit.com/t3_7s71ts?url=https%3A%2F%2Fi.imgur.com%2F7Ai1ghN.gifv&amp;token=AQAA9npmWklM4MoeI9t3kTeOioW57Z3f0oJvQN8FkUojrHiRvvS3&amp;app_name=reddit.com\" data-outbound-expiration=\"1516665590000\" rel=\"\">Messing with the new guy.</a> <span class=\"domain\">(<a href=\"/domain/i.imgur.com/\">i.imgur.com</a>)</span></p><p class=\"tagline \">submitted <time title=\"Mon Jan 22 16:50:12 2018 UTC\" datetime=\"2018-01-22T16:50:12+00:00\" class=\"live-timestamp\">6 hours ago</time> by <a href=\"https://www.reddit.com/user/Parafanalia1\" class=\"author may-blank id-t2_16ymt9\">Parafanalia1</a><span class=\"userattrs\"></span> to <a href=\"https://www.reddit.com/r/funny/\" class=\"subreddit hover may-blank\">r/funny</a></p><ul class=\"flat-list buttons\"><li class=\"first\"><a href=\"https://www.reddit.com/r/funny/comments/7s71ts/messing_with_the_new_guy/\" data-inbound-url=\"/r/funny/comments/7s71ts/messing_with_the_new_guy/?utm_content=comments&amp;utm_medium=hot&amp;utm_source=reddit&amp;utm_name=frontpage\" data-href-url=\"/r/funny/comments/7s71ts/messing_with_the_new_guy/\" data-event-action=\"comments\" class=\"bylink comments may-blank\" rel=\"nofollow\">2578 comments</a></li><li class=\"share\"><a class=\"post-sharing-button\" href=\"javascript: void 0;\">share</a></li><li class=\"link-save-button save-button login-required\"><a href=\"#\">save</a></li><li><form action=\"/post/hide\" method=\"post\" class=\"state-button hide-button\"><input type=\"hidden\" name=\"executed\" value=\"hidden\" /><span><a href=\"javascript:void(0)\" class=\" \" data-event-action=\"hide\" onclick=\"change_state(this, 'hide', hide_thing);\">hide</a></span></form></li><li class=\"report-button login-required\"><a href=\"javascript:void(0)\" class=\"reportbtn access-required\" data-event-action=\"report\">report</a></li></ul><div class=\"reportform report-t3_7s71ts\"></div></div></div><div class=\"child\"></div><div class=\"clearleft\"></div></div><div class=\"clearleft\"></div><div class=\" thing id-t3_7s6yg7 odd  link \" id=\"thing_t3_7s6yg7\" onclick=\"click_thing(this)\" data-fullname=\"t3_7s6yg7\" data-type=\"link\" data-whitelist-status=\"all_ads\" data-author=\"BookerDeWittsCarbine\" data-author-fullname=\"t2_o2g8f\" data-subreddit=\"pics\" data-subreddit-prefixed=\"r/pics\" data-subreddit-fullname=\"t5_2qh0u\" data-timestamp=\"1516639048000\" data-url=\"https://i.redd.it/ifii7g61dnb01.jpg\" data-permalink=\"/r/pics/comments/7s6yg7/super_excited_about_motherhood/\" data-domain=\"i.redd.it\" data-rank=\"7\" data-comments-count=\"525\" data-score=\"48249\" data-num-crossposts=\"4\" data-context=\"listing\"><p class=\"parent\"></p><span class=\"rank\">7</span><div class=\"midcol unvoted\"><div class=\"arrow up login-required access-required\" data-event-action=\"upvote\" role=\"button\" aria-label=\"upvote\" tabindex=\"0\"></div><div class=\"score dislikes\" title=\"53653\">53.7k</div><div class=\"score unvoted\" title=\"53654\">53.7k</div><div class=\"score likes\" title=\"53655\">53.7k</div><div class=\"arrow down login-required access-required\" data-event-action=\"downvote\" role=\"button\" aria-label=\"downvote\" tabindex=\"0\"></div></div><a class=\"thumbnail invisible-when-pinned may-blank \" data-event-action=\"thumbnail\" href=\"/r/pics/comments/7s6yg7/super_excited_about_motherhood/\" data-href-url=\"/r/pics/comments/7s6yg7/super_excited_about_motherhood/\" data-inbound-url=\"/r/pics/comments/7s6yg7/super_excited_about_motherhood/?utm_content=thumbnail&amp;utm_medium=hot&amp;utm_source=reddit&amp;utm_name=frontpage\" rel=\"\"><img src=\"//b.thumbs.redditmedia.com/5tNLYMO4FT8__HAh3nItemCOT-q14mxhmd93bjLDfHE.jpg\" width=\"70\" height=\"70\" alt=\"\" /></a><div class=\"entry unvoted\"><div class=\"top-matter\"><p class=\"title\"><a class=\"title may-blank \" data-event-action=\"title\" href=\"/r/pics/comments/7s6yg7/super_excited_about_motherhood/\" tabindex=\"1\" data-href-url=\"/r/pics/comments/7s6yg7/super_excited_about_motherhood/\" data-inbound-url=\"/r/pics/comments/7s6yg7/super_excited_about_motherhood/?utm_content=title&amp;utm_medium=hot&amp;utm_source=reddit&amp;utm_name=frontpage\" rel=\"\">Super excited about motherhood</a> <span class=\"domain\">(<a href=\"/domain/i.redd.it/\">i.redd.it</a>)</span></p><div class=\"expando-button collapsed hide-when-pinned video\"></div><p class=\"tagline \">submitted <time title=\"Mon Jan 22 16:37:28 2018 UTC\" datetime=\"2018-01-22T16:37:28+00:00\" class=\"live-timestamp\">6 hours ago</time> by <a href=\"https://www.reddit.com/user/BookerDeWittsCarbine\" class=\"author may-blank id-t2_o2g8f\">BookerDeWittsCarbine</a><span class=\"userattrs\"></span> to <a href=\"https://www.reddit.com/r/pics/\" class=\"subreddit hover may-blank\">r/pics</a></p><ul class=\"flat-list buttons\"><li class=\"first\"><a href=\"https://www.reddit.com/r/pics/comments/7s6yg7/super_excited_about_motherhood/\" data-inbound-url=\"/r/pics/comments/7s6yg7/super_excited_about_motherhood/?utm_content=comments&amp;utm_medium=hot&amp;utm_source=reddit&amp;utm_name=frontpage\" data-href-url=\"/r/pics/comments/7s6yg7/super_excited_about_motherhood/\" data-event-action=\"comments\" class=\"bylink comments may-blank\" rel=\"nofollow\">565 comments</a></li><li class=\"share\"><a class=\"post-sharing-button\" href=\"javascript: void 0;\">share</a></li><li class=\"link-save-button save-button login-required\"><a href=\"#\">save</a></li><li><form action=\"/post/hide\" method=\"post\" class=\"state-button hide-button\"><input type=\"hidden\" name=\"executed\" value=\"hidden\" /><span><a href=\"javascript:void(0)\" class=\" \" data-event-action=\"hide\" onclick=\"change_state(this, 'hide', hide_thing);\">hide</a></span></form></li><li class=\"report-button login-required\"><a href=\"javascript:void(0)\" class=\"reportbtn access-required\" data-event-action=\"report\">report</a></li></ul><div class=\"reportform report-t3_7s6yg7\"></div></div><div class=\"expando expando-uninitialized\" style=\"display: none\" data-cachedhtml=\" &lt;div class=&quot;media-preview&quot; id=&quot;media-preview-7s6yg7&quot; style=&quot;max-width: 768px&quot;&gt; &lt;div class=&quot;media-preview-content&quot;&gt; &lt;a href=&quot;https://i.redd.it/ifii7g61dnb01.jpg&quot; class=&quot;may-blank&quot;&gt; &lt;img class=&quot;preview&quot; src=&quot;https://i.redditmedia.com/6lFK-B5di8szTLesJGsoE38R0Xu6sUgfi7jZlc92Q9k.jpg?w=768&amp;amp;s=f225a80aa31cfffb9dc75bde73b2fecb&quot; width=&quot;768&quot; height=&quot;768&quot;&gt; &lt;/a&gt; &lt;/div&gt; &lt;/div&gt; \" data-pin-condition=\"function() {return this.style.display != 'none';}\"><span class=\"error\">loading...</span></div></div><div class=\"child\"></div><div class=\"clearleft\"></div></div><div class=\"clearleft\"></div><div class=\" thing id-t3_7s71nj even  link \" id=\"thing_t3_7s71nj\" onclick=\"click_thing(this)\" data-fullname=\"t3_7s71nj\" data-type=\"link\" data-whitelist-status=\"all_ads\" data-author=\"PsychedelicRick\" data-author-fullname=\"t2_lp993xp\" data-subreddit=\"AccidentalWesAnderson\" data-subreddit-prefixed=\"r/AccidentalWesAnderson\" data-subreddit-fullname=\"t5_3k6nz\" data-timestamp=\"1516639769000\" data-url=\"https://i.redd.it/euc48mr6fnb01.png\" data-permalink=\"/r/AccidentalWesAnderson/comments/7s71nj/this_pool_in_germany/\" data-domain=\"i.redd.it\" data-rank=\"8\" data-comments-count=\"154\" data-score=\"12437\" data-num-crossposts=\"0\" data-context=\"listing\"><p class=\"parent\"></p><span class=\"rank\">8</span><div class=\"midcol unvoted\"><div class=\"arrow up login-required access-required\" data-event-action=\"upvote\" role=\"button\" aria-label=\"upvote\" tabindex=\"0\"></div><div class=\"score dislikes\" title=\"15583\">15.6k</div><div class=\"score unvoted\" title=\"15584\">15.6k</div><div class=\"score likes\" title=\"15585\">15.6k</div><div class=\"arrow down login-required access-required\" data-event-action=\"downvote\" role=\"button\" aria-label=\"downvote\" tabindex=\"0\"></div></div><a class=\"thumbnail invisible-when-pinned may-blank \" data-event-action=\"thumbnail\" href=\"/r/AccidentalWesAnderson/comments/7s71nj/this_pool_in_germany/\" data-href-url=\"/r/AccidentalWesAnderson/comments/7s71nj/this_pool_in_germany/\" data-inbound-url=\"/r/AccidentalWesAnderson/comments/7s71nj/this_pool_in_germany/?utm_content=thumbnail&amp;utm_medium=hot&amp;utm_source=reddit&amp;utm_name=frontpage\" rel=\"\"><img src=\"//b.thumbs.redditmedia.com/1PDVVAquPIGSt_jYHCwro7Y6UqNkT_FYTw25xr-u_8k.jpg\" width=\"70\" height=\"70\" alt=\"\" /></a><div class=\"entry unvoted\"><div class=\"top-matter\"><p class=\"title\"><a class=\"title may-blank \" data-event-action=\"title\" href=\"/r/AccidentalWesAnderson/comments/7s71nj/this_pool_in_germany/\" tabindex=\"1\" data-href-url=\"/r/AccidentalWesAnderson/comments/7s71nj/this_pool_in_germany/\" data-inbound-url=\"/r/AccidentalWesAnderson/comments/7s71nj/this_pool_in_germany/?utm_content=title&amp;utm_medium=hot&amp;utm_source=reddit&amp;utm_name=frontpage\" rel=\"\">This Pool in Germany</a> <span class=\"domain\">(<a href=\"/domain/i.redd.it/\">i.redd.it</a>)</span></p><div class=\"expando-button collapsed hide-when-pinned video\"></div><p class=\"tagline \">submitted <time title=\"Mon Jan 22 16:49:29 2018 UTC\" datetime=\"2018-01-22T16:49:29+00:00\" class=\"live-timestamp\">6 hours ago</time> by <a href=\"https://www.reddit.com/user/PsychedelicRick\" class=\"author may-blank id-t2_lp993xp\">PsychedelicRick</a><span class=\"userattrs\"></span> to <a href=\"https://www.reddit.com/r/AccidentalWesAnderson/\" class=\"subreddit hover may-blank\">r/AccidentalWesAnderson</a></p><ul class=\"flat-list buttons\"><li class=\"first\"><a href=\"https://www.reddit.com/r/AccidentalWesAnderson/comments/7s71nj/this_pool_in_germany/\" data-inbound-url=\"/r/AccidentalWesAnderson/comments/7s71nj/this_pool_in_germany/?utm_content=comments&amp;utm_medium=hot&amp;utm_source=reddit&amp;utm_name=frontpage\" data-href-url=\"/r/AccidentalWesAnderson/comments/7s71nj/this_pool_in_germany/\" data-event-action=\"comments\" class=\"bylink comments may-blank\" rel=\"nofollow\">196 comments</a></li><li class=\"share\"><a class=\"post-sharing-button\" href=\"javascript: void 0;\">share</a></li><li class=\"link-save-button save-button login-required\"><a href=\"#\">save</a></li><li><form action=\"/post/hide\" method=\"post\" class=\"state-button hide-button\"><input type=\"hidden\" name=\"executed\" value=\"hidden\" /><span><a href=\"javascript:void(0)\" class=\" \" data-event-action=\"hide\" onclick=\"change_state(this, 'hide', hide_thing);\">hide</a></span></form></li><li class=\"report-button login-required\"><a href=\"javascript:void(0)\" class=\"reportbtn access-required\" data-event-action=\"report\">report</a></li></ul><div class=\"reportform report-t3_7s71nj\"></div></div><div class=\"expando expando-uninitialized\" style=\"display: none\" data-cachedhtml=\" &lt;div class=&quot;media-preview&quot; id=&quot;media-preview-7s71nj&quot; style=&quot;max-width: 603px&quot;&gt; &lt;div class=&quot;media-preview-content&quot;&gt; &lt;a href=&quot;https://i.redd.it/euc48mr6fnb01.png&quot; class=&quot;may-blank&quot;&gt; &lt;img class=&quot;preview&quot; src=&quot;https://i.redditmedia.com/QToLjzUgwa2-g-6xqYvSsyxTuq-7dWdRvwW7jY79poY.png?w=603&amp;amp;s=b8affa7285579fdb4d855f87f1b456f9&quot; width=&quot;603&quot; height=&quot;768&quot;&gt; &lt;/a&gt; &lt;/div&gt; &lt;/div&gt; \" data-pin-condition=\"function() {return this.style.display != 'none';}\"><span class=\"error\">loading...</span></div></div><div class=\"child\"></div><div class=\"clearleft\"></div></div><div class=\"clearleft\"></div><div class=\" thing id-t3_7s7wkt odd  link \" id=\"thing_t3_7s7wkt\" onclick=\"click_thing(this)\" data-fullname=\"t3_7s7wkt\" data-type=\"link\" data-whitelist-status=\"all_ads\" data-author=\"-sUBzERoo-\" data-author-fullname=\"t2_11reyo\" data-kind=\"video\" data-subreddit=\"instant_regret\" data-subreddit-prefixed=\"r/instant_regret\" data-subreddit-fullname=\"t5_32dy0\" data-timestamp=\"1516646630000\" data-url=\"https://v.redd.it/xza0vpszynb01\" data-permalink=\"/r/instant_regret/comments/7s7wkt/yeah_lets_go_outs_no/\" data-domain=\"v.redd.it\" data-rank=\"9\" data-comments-count=\"91\" data-score=\"3908\" data-num-crossposts=\"0\" data-context=\"listing\"><p class=\"parent\"></p><span class=\"rank\">9</span><div class=\"midcol unvoted\"><div class=\"arrow up login-required access-required\" data-event-action=\"upvote\" role=\"button\" aria-label=\"upvote\" tabindex=\"0\"></div><div class=\"score dislikes\" title=\"6778\">6778</div><div class=\"score unvoted\" title=\"6779\">6779</div><div class=\"score likes\" title=\"6780\">6780</div><div class=\"arrow down login-required access-required\" data-event-action=\"downvote\" role=\"button\" aria-label=\"downvote\" tabindex=\"0\"></div></div><a class=\"thumbnail invisible-when-pinned may-blank \" data-event-action=\"thumbnail\" href=\"/r/instant_regret/comments/7s7wkt/yeah_lets_go_outs_no/\" data-href-url=\"/r/instant_regret/comments/7s7wkt/yeah_lets_go_outs_no/\" data-inbound-url=\"/r/instant_regret/comments/7s7wkt/yeah_lets_go_outs_no/?utm_content=thumbnail&amp;utm_medium=hot&amp;utm_source=reddit&amp;utm_name=frontpage\" rel=\"\"><img src=\"//b.thumbs.redditmedia.com/MLQ0r6XUXp-KzNB5EtxDzFcugeq0Nj82DNWto5QxsYg.jpg\" width=\"70\" height=\"70\" alt=\"\" /><div class=\"duration-overlay\">0:20</div></a><div class=\"entry unvoted\"><div class=\"top-matter\"><p class=\"title\"><a class=\"title may-blank \" data-event-action=\"title\" href=\"/r/instant_regret/comments/7s7wkt/yeah_lets_go_outs_no/\" tabindex=\"1\" data-href-url=\"/r/instant_regret/comments/7s7wkt/yeah_lets_go_outs_no/\" data-inbound-url=\"/r/instant_regret/comments/7s7wkt/yeah_lets_go_outs_no/?utm_content=title&amp;utm_medium=hot&amp;utm_source=reddit&amp;utm_name=frontpage\" rel=\"\">YEAH! Lets go outs... no.</a> <span class=\"domain\">(<a href=\"/domain/v.redd.it/\">v.redd.it</a>)</span></p><div class=\"expando-button collapsed hide-when-pinned video\"></div><p class=\"tagline \">submitted <time title=\"Mon Jan 22 18:43:50 2018 UTC\" datetime=\"2018-01-22T18:43:50+00:00\" class=\"live-timestamp\">4 hours ago</time> by <a href=\"https://www.reddit.com/user/-sUBzERoo-\" class=\"author may-blank id-t2_11reyo\">-sUBzERoo-</a><span class=\"userattrs\"></span> to <a href=\"https://www.reddit.com/r/instant_regret/\" class=\"subreddit hover may-blank\">r/instant_regret</a></p><ul class=\"flat-list buttons\"><li class=\"first\"><a href=\"https://www.reddit.com/r/instant_regret/comments/7s7wkt/yeah_lets_go_outs_no/\" data-inbound-url=\"/r/instant_regret/comments/7s7wkt/yeah_lets_go_outs_no/?utm_content=comments&amp;utm_medium=hot&amp;utm_source=reddit&amp;utm_name=frontpage\" data-href-url=\"/r/instant_regret/comments/7s7wkt/yeah_lets_go_outs_no/\" data-event-action=\"comments\" class=\"bylink comments may-blank\" rel=\"nofollow\">127 comments</a></li><li class=\"share\"><a class=\"post-sharing-button\" href=\"javascript: void 0;\">share</a></li><li class=\"link-save-button save-button login-required\"><a href=\"#\">save</a></li><li><form action=\"/post/hide\" method=\"post\" class=\"state-button hide-button\"><input type=\"hidden\" name=\"executed\" value=\"hidden\" /><span><a href=\"javascript:void(0)\" class=\" \" data-event-action=\"hide\" onclick=\"change_state(this, 'hide', hide_thing);\">hide</a></span></form></li><li class=\"report-button login-required\"><a href=\"javascript:void(0)\" class=\"reportbtn access-required\" data-event-action=\"report\">report</a></li></ul><div class=\"reportform report-t3_7s7wkt\"></div></div><div class=\"expando expando-uninitialized\" style=\"display: none\" data-cachedhtml=\" &lt;div class=&quot;media-preview no-constraints-when-pinned&quot; id=&quot;media-preview-7s7wkt&quot; style=&quot;max-width: 486px; min-width: 486px; max-height: 486px; min-height: 273px; overflow: hidden;&quot; &gt; &lt;div class=&quot;media-preview-content video-player&quot;&gt; &lt;div class=&quot;no-constraints-when-pinned&quot; style=&quot;max-width: 486px; min-width: 486px; max-height: 486px; min-height: 273px&quot; &gt; &lt;div id=&quot;video-7s7wkt&quot; class=&quot;portrait&quot; data-hls-url=&quot;https://v.redd.it/xza0vpszynb01/HLSPlaylist.m3u8&quot; data-id-36=&quot;7s7wkt&quot; data-link-url=&quot;/r/instant_regret/comments/7s7wkt/yeah_lets_go_outs_no/&quot; data-mpd-url=&quot;https://v.redd.it/xza0vpszynb01/DASHPlaylist.mpd&quot; data-obfuscated-poster-url=&quot;&quot; data-orientation=&quot;portrait&quot; data-seek-preview-url=&quot;https://v.redd.it/xza0vpszynb01/DASH_600_K&quot; data-video-height=&quot;486&quot; data-video-width=&quot;486&quot; data-pinned-height=&quot;135&quot; data-pinned-width=&quot;135&quot; data-max-pinned-width=&quot;240&quot; &gt;&lt;/div&gt; &lt;script type=&quot;text/javascript&quot;&gt; (function() { var thing = {&quot;obfuscatedPosterUrl&quot;: null, &quot;context&quot;: &quot;listing&quot;, &quot;isGif&quot;: false}; var autoplay = true; if (thing.obfuscatedPosterUrl){ autoplay = false; } if (thing.context === &quot;comments&quot; &amp;&amp; r.config.pref_no_video_autoplay){ autoplay = false; } var play_pause_click_action = autoplay ? &quot;pause&quot; : &quot;play&quot;; var play_pause_click_toggle_action = autoplay ? &quot;play&quot; : &quot;pause&quot;; var play_pause_vector_from = autoplay ? &quot;M3,3 L18,10.5 18,25.5 3,33 3,3 M18,10.5 L33,18 33,18 18,25.5 18,10.5&quot; : &quot;M3,3 L15,3 15,33 3,33 3,3 M21,3 L33,3 33,33 21,33 21,3&quot;; var play_pause_vector_to = autoplay ? &quot;M3,3 L15,3 15,33 3,33 3,3 M21,3 L33,3 33,33 21,33 21,3&quot; : &quot;M3,3 L18,10.5 18,25.5 3,33 3,3 M18,10.5 L33,18 33,18 18,25.5 18,10.5&quot;; var videoPlayerElement = $(&quot;#video-7s7wkt&quot;); var isMobile = /Mobi/i.test(navigator.userAgent); var canPlayDash = (typeof (window.MediaSource || window.WebKitMediaSource) === &quot;function&quot;); var videoOptions = { id: videoPlayerElement.data(&quot;id36&quot;), linkUrl: videoPlayerElement.data(&quot;linkUrl&quot;), src: canPlayDash ? videoPlayerElement.data(&quot;mpdUrl&quot;) : videoPlayerElement.data(&quot;hlsUrl&quot;), type: canPlayDash ? RedditVideoPlayer.Types.MPD : RedditVideoPlayer.Types.HLS, autoplay: autoplay, poster: null, loop: false, orientation: videoPlayerElement.data(&quot;orientation&quot;), }; if (isMobile) { videoOptions.controls = true; } var redditVideoPlayer = new RedditVideoPlayer(videoPlayerElement, videoOptions); videoPlayerElement.data(&quot;video-player-object&quot;, redditVideoPlayer); redditVideoPlayer.setAspectRatio(videoPlayerElement.data(&quot;videoHeight&quot;) / videoPlayerElement.data(&quot;videoWidth&quot;)); if (!isMobile) { var bufferingControlsTree = $.parseHTML( '&lt;div class=&quot;buffering-controls&quot;&gt;' + '&lt;div class=&quot;centered horizontal&quot;&gt;' + '&lt;div class=&quot;buffering-indicator active&quot;&gt;' + '&lt;div class=&quot;spinner-layer&quot;&gt;' + '&lt;div class=&quot;circle-clipper left&quot;&gt;' + '&lt;div class=&quot;circle&quot;&gt;&lt;/div&gt;' + '&lt;/div&gt;' + '&lt;div class=&quot;gap-patch&quot;&gt;' + '&lt;div class=&quot;circle&quot;&gt;&lt;/div&gt;' + '&lt;/div&gt;' + '&lt;div class=&quot;circle-clipper right&quot;&gt;' + '&lt;div class=&quot;circle&quot;&gt;&lt;/div&gt;' + '&lt;/div&gt;' + '&lt;/div&gt;' + '&lt;/div&gt;' + '&lt;/div&gt;' + '&lt;/div&gt;' ); var bufferingControlsOptions = { behavior: RedditVideoController.Behaviors.BUFFERING, startVisible: false, fadeInDuration: 0, fadeOutDuration: 0, }; var bufferingControls = new RedditVideoController(bufferingControlsTree, bufferingControlsOptions); redditVideoPlayer.addUiController(bufferingControls); var endedControlsTree = $.parseHTML( '&lt;div class=&quot;ended-controls hide-when-pinned&quot;&gt;' + '&lt;div class=&quot;centered vertical&quot;&gt;' + '&lt;button data-control-type=&quot;click&quot; data-action=&quot;replay&quot;&gt;' + '&lt;img src=&quot;//www.redditstatic.com/video-refresh.svg&quot; &gt;' + '&lt;/button&gt;' + '&lt;span class=&quot;replay-video&quot;&gt;Replay Video&lt;/span&gt;' + '&lt;/div&gt;' + '&lt;/div&gt;' ); var endedControlsOptions = { behavior: RedditVideoController.Behaviors.COMPLETED, startVisible: false, fadeInDuration: 400, fadeOutDuration: 0, }; var endedControls = new RedditVideoController(endedControlsTree, endedControlsOptions); redditVideoPlayer.addUiController(endedControls); var playbackControlsTree = $.parseHTML( '&lt;div class=&quot;playback-controls right bottom left hide-when-pinned&quot;&gt;' + '&lt;a class=&quot;permalink&quot; ' + 'data-control-type=&quot;click&quot; ' + 'href=&quot;/r/instant_regret/comments/7s7wkt/yeah_lets_go_outs_no/&quot;&gt;' + '&lt;img src=&quot;//www.redditstatic.com/video-snoo.svg&quot; /&gt;' + '&lt;/a&gt;' + '&lt;button ' + 'class=&quot;play-pause&quot; ' + 'data-control-type=&quot;click&quot; ' + 'data-action=&quot;' + play_pause_click_action + '&quot; ' + 'data-toggle-action=&quot;' + play_pause_click_toggle_action + '&quot;&gt;' + '&lt;svg class=&quot;play-pause&quot; viewbox=&quot;0 0 36 36&quot;&gt;' + '&lt;path d=&quot;' + play_pause_vector_to + '&quot;&gt;' + '&lt;animate ' + 'begin=&quot;indefinite&quot; ' + 'attributeType=&quot;XML&quot; ' + 'attributeName=&quot;d&quot; ' + 'fill=&quot;freeze&quot; ' + 'to=&quot;' + play_pause_vector_to + '&quot; ' + 'from=&quot;' + play_pause_vector_from + '&quot; ' + 'dur=&quot;0.1s&quot; ' + 'keySplines=&quot;.4 0 1 1&quot; ' + 'repeat=&quot;1&quot;&gt;' + '&lt;/animate&gt;' + '&lt;/path&gt;' + '&lt;/svg&gt;' + '&lt;/button&gt;' + '&lt;span class=&quot;time-label&quot; ' + 'data-control-type=&quot;text&quot; ' + 'data-action=&quot;elapsedTime&quot;&gt;' + '0:00' + '&lt;/span&gt;' + '&lt;div data-control-type=&quot;seekBar&quot; ' + 'data-preview-video-src=&quot;' + videoPlayerElement.data('seekPreviewUrl') + '&quot;&gt;' + '&lt;/div&gt;' + '&lt;span class=&quot;time-label&quot; ' + 'data-control-type=&quot;text&quot; ' + 'data-action=&quot;totalTime&quot;&gt;' + '0:00' + '&lt;/span&gt;' + '&lt;div class=&quot;volume-container&quot;&gt;' + '&lt;div data-control-type=&quot;volumeSlider&quot;&gt;&lt;/div&gt;' + '&lt;button class=&quot;volume&quot; data-control-type=&quot;click&quot; data-action=&quot;unmute&quot; data-toggle-action=&quot;mute&quot;&gt;' + '&lt;img class=&quot;mute&quot; src=&quot;//www.redditstatic.com/video-volume.svg&quot;&gt;' + '&lt;img class=&quot;unmute&quot; src=&quot;//www.redditstatic.com/video-mute.svg&quot;&gt;' + '&lt;/button&gt;' + '&lt;/div&gt;' + '&lt;div class=&quot;settings-container&quot;&gt;' + '&lt;label class=&quot;settings has-submenu&quot; data-control-type=&quot;click&quot;&gt;' + '&lt;input class=&quot;settings&quot; type=&quot;checkbox&quot;&gt;' + '&lt;img class=&quot;settings-open&quot; src=&quot;//www.redditstatic.com/video-settings.svg&quot;&gt;' + '&lt;img class=&quot;settings-close&quot; src=&quot;//www.redditstatic.com/video-settings-open.svg&quot;&gt;' + '&lt;span class=&quot;submenu&quot;&gt;' + '&lt;div data-control-type=&quot;settingsMenu&quot;&gt;&lt;/div&gt;' + '&lt;/span&gt;' + '&lt;/label&gt;' + '&lt;/div&gt;' + '&lt;button class=&quot;fullscreen&quot; ' + 'data-control-type=&quot;click&quot; ' + 'data-action=&quot;fullscreenRequest&quot; ' + 'data-toggle-action=&quot;fullscreenCancel&quot;&gt;' + '&lt;img class=&quot;expand&quot; src=&quot;//www.redditstatic.com/video-expand.svg&quot;&gt;' + '&lt;img class=&quot;collapse&quot; src=&quot;//www.redditstatic.com/video-collapse.svg&quot;&gt;' + '&lt;/button&gt;' + '&lt;/div&gt;' ); var playbackControlsOptions = { behavior: RedditVideoController.Behaviors.MOUSE_MOVE, }; var playbackControls = new RedditVideoController(playbackControlsTree, playbackControlsOptions); redditVideoPlayer.addUiController(playbackControls); if(r.config.pref_no_video_autoplay &amp;&amp; thing.context === &quot;comments&quot;) { var interstitialControlsTree = $.parseHTML( '&lt;div class=&quot;interstitial-controls hide-when-pinned&quot;&gt;' + '&lt;div class=&quot;centered vertical&quot;&gt;' + '&lt;button data-control-type=&quot;click&quot; data-action=&quot;play&quot;&gt;' + '&lt;svg class=&quot;play-pause&quot; viewbox=&quot;0 0 36 36&quot;&gt;' + '&lt;path d=&quot;M3,3 L18,10.5 18,25.5 3,33 3,3 M18,10.5 L33,18 33,18 18,25.5 18,10.5&quot;&gt;&lt;/path&gt;' + '&lt;/svg&gt;' + '&lt;/button&gt;' + '&lt;/div&gt;' + '&lt;/div&gt;' ); var interstitialControlsOptions = { behavior: RedditVideoController.Behaviors.INTERSTITIAL, startVisible: true, fadeInDuration: 0, fadeOutDuration: 400, }; var interstitialControls = new RedditVideoController(interstitialControlsTree, interstitialControlsOptions); redditVideoPlayer.addUiController(interstitialControls); } $(playbackControlsTree).find('input.settings').change(function() { if ($(this).is(':checked')) { firePlayerEvent.call(redditVideoPlayer, null, null, {verb: 'click', noun: 'settings'}); redditVideoPlayer.setClickAction(RedditVideoPlayer.ClickActions.NONE); } else { redditVideoPlayer.setClickAction(RedditVideoPlayer.ClickActions.PLAY_PAUSE); } }); } var playPauseButtons = $(videoPlayerElement).find(&quot;button.play-pause&quot;); var isPlaying = autoplay; redditVideoPlayer.addActionCompletedCallback(function(action, value) { if ((action == RedditVideoPlayer.Actions.PLAY &amp;&amp; !isPlaying) || (action == RedditVideoPlayer.Actions.PAUSE &amp;&amp; isPlaying)) { playPauseButtons.each(function() { var animation = $(this).find('animate').first(); var to = animation.attr('to'); var from = animation.attr('from'); animation.attr({ &quot;from&quot;: to, &quot;to&quot;: from }); if ('beginElement' in animation[0]) { animation.get(0) .beginElement(); } else { var path = $(this).find('path'); path.attr({&quot;d&quot;: from}); } }); isPlaying = !isPlaying; } var settings = $(playbackControlsTree).find(&quot;input.settings&quot;); if (settings.prop(&quot;checked&quot;)) { settings.prop(&quot;checked&quot;, false); redditVideoPlayer.setClickAction(RedditVideoPlayer.ClickActions.PLAY_PAUSE); } }); function firePlayerEvent(action, value, extras) { extras = (typeof extras === 'object') ? extras : {}; var verb = extras.verb || ''; var noun = extras.noun || ''; var source = extras.source || 'videoplayer'; var maxTimestamp = this.maxPlayed * 1000; var durationMs = this.duration * 1000; var timeMs = this.currentTime * 1000; var pinnableElement = $(this.root).closest('.pinnable-content'); var targetElement = $(this.root).closest('.thing.link'); var targetData = targetElement.data(); var videoState = { maxTimestampServed: parseInt(maxTimestamp), percentServed: maxTimestamp / durationMs, duration: parseInt(durationMs), time: parseInt(timeMs), isNsfw: targetElement.hasClass('over18'), isSpoiler: targetElement.hasClass('spoiler'), isPinned: pinnableElement.hasClass('pinned'), isVertical: this.orientation === RedditVideoPlayer.Orientations.PORTRAIT, }; r.analytics.videoPlayerEvent(source, verb, noun, targetData, videoState); } redditVideoPlayer.addActionCompletedCallback(firePlayerEvent); $(playbackControlsTree).find('a.permalink').click(function() { firePlayerEvent.call(redditVideoPlayer, null, null, {verb: 'click', noun: 'snoo'}); }); })(); &lt;/script&gt; &lt;/div&gt; &lt;/div&gt; &lt;/div&gt; \" data-pin-condition=\"function() {return this.style.display != 'none';}\"><span class=\"error\">loading...</span></div></div><div class=\"child\"></div><div class=\"clearleft\"></div></div><div class=\"clearleft\"></div><div class=\" thing id-t3_7s6jxi linkflair linkflair-netneutrality even  link \" id=\"thing_t3_7s6jxi\" onclick=\"click_thing(this)\" data-fullname=\"t3_7s6jxi\" data-type=\"link\" data-whitelist-status=\"all_ads\" data-author=\"speckz\" data-author-fullname=\"t2_7ccf\" data-subreddit=\"technology\" data-subreddit-prefixed=\"r/technology\" data-subreddit-fullname=\"t5_2qh16\" data-timestamp=\"1516635716000\" data-url=\"https://www.dslreports.com/shownews/New-Bill-Would-Stop-States-From-Banning-Broadband-Competition-141088\" data-permalink=\"/r/technology/comments/7s6jxi/new_bill_would_stop_states_from_banning_broadband/\" data-domain=\"dslreports.com\" data-rank=\"10\" data-comments-count=\"758\" data-score=\"27370\" data-num-crossposts=\"3\" data-context=\"listing\"><p class=\"parent\"></p><span class=\"rank\">10</span><div class=\"midcol unvoted\"><div class=\"arrow up login-required access-required\" data-event-action=\"upvote\" role=\"button\" aria-label=\"upvote\" tabindex=\"0\"></div><div class=\"score dislikes\" title=\"27375\">27.4k</div><div class=\"score unvoted\" title=\"27376\">27.4k</div><div class=\"score likes\" title=\"27377\">27.4k</div><div class=\"arrow down login-required access-required\" data-event-action=\"downvote\" role=\"button\" aria-label=\"downvote\" tabindex=\"0\"></div></div><a class=\"thumbnail invisible-when-pinned default may-blank outbound\" data-event-action=\"thumbnail\" href=\"https://www.dslreports.com/shownews/New-Bill-Would-Stop-States-From-Banning-Broadband-Competition-141088\" data-href-url=\"https://www.dslreports.com/shownews/New-Bill-Would-Stop-States-From-Banning-Broadband-Competition-141088\" data-outbound-url=\"https://out.reddit.com/t3_7s6jxi?url=https%3A%2F%2Fwww.dslreports.com%2Fshownews%2FNew-Bill-Would-Stop-States-From-Banning-Broadband-Competition-141088&amp;token=AQAA9npmWmgmmY7VyExVfTNg_mL1dwa5UCv-B3--70aCeOkmDTWs&amp;app_name=reddit.com\" data-outbound-expiration=\"1516665590000\" rel=\"\"></a><div class=\"entry unvoted\"><div class=\"top-matter\"><p class=\"title\"><a class=\"title may-blank outbound\" data-event-action=\"title\" href=\"https://www.dslreports.com/shownews/New-Bill-Would-Stop-States-From-Banning-Broadband-Competition-141088\" tabindex=\"1\" data-href-url=\"https://www.dslreports.com/shownews/New-Bill-Would-Stop-States-From-Banning-Broadband-Competition-141088\" data-outbound-url=\"https://out.reddit.com/t3_7s6jxi?url=https%3A%2F%2Fwww.dslreports.com%2Fshownews%2FNew-Bill-Would-Stop-States-From-Banning-Broadband-Competition-141088&amp;token=AQAA9npmWmgmmY7VyExVfTNg_mL1dwa5UCv-B3--70aCeOkmDTWs&amp;app_name=reddit.com\" data-outbound-expiration=\"1516665590000\" rel=\"\">New Bill Would Stop States From Banning Broadband Competition</a><span class=\"linkflairlabel\" title=\"Net Neutrality\">Net Neutrality</span> <span class=\"domain\">(<a href=\"/domain/dslreports.com/\">dslreports.com</a>)</span></p><p class=\"tagline \">submitted <time title=\"Mon Jan 22 15:41:56 2018 UTC\" datetime=\"2018-01-22T15:41:56+00:00\" class=\"live-timestamp\">7 hours ago</time> by <a href=\"https://www.reddit.com/user/speckz\" class=\"author may-blank id-t2_7ccf\">speckz</a><span class=\"userattrs\"></span> to <a href=\"https://www.reddit.com/r/technology/\" class=\"subreddit hover may-blank\">r/technology</a></p><ul class=\"flat-list buttons\"><li class=\"first\"><a href=\"https://www.reddit.com/r/technology/comments/7s6jxi/new_bill_would_stop_states_from_banning_broadband/\" data-inbound-url=\"/r/technology/comments/7s6jxi/new_bill_would_stop_states_from_banning_broadband/?utm_content=comments&amp;utm_medium=hot&amp;utm_source=reddit&amp;utm_name=frontpage\" data-href-url=\"/r/technology/comments/7s6jxi/new_bill_would_stop_states_from_banning_broadband/\" data-event-action=\"comments\" class=\"bylink comments may-blank\" rel=\"nofollow\">758 comments</a></li><li class=\"share\"><a class=\"post-sharing-button\" href=\"javascript: void 0;\">share</a></li><li class=\"link-save-button save-button login-required\"><a href=\"#\">save</a></li><li><form action=\"/post/hide\" method=\"post\" class=\"state-button hide-button\"><input type=\"hidden\" name=\"executed\" value=\"hidden\" /><span><a href=\"javascript:void(0)\" class=\" \" data-event-action=\"hide\" onclick=\"change_state(this, 'hide', hide_thing);\">hide</a></span></form></li><li class=\"report-button login-required\"><a href=\"javascript:void(0)\" class=\"reportbtn access-required\" data-event-action=\"report\">report</a></li></ul><div class=\"reportform report-t3_7s6jxi\"></div></div></div><div class=\"child\"></div><div class=\"clearleft\"></div></div><div class=\"clearleft\"></div><div class=\" thing id-t3_7s738w linkflair linkflair-solvedcase odd  link \" id=\"thing_t3_7s738w\" onclick=\"click_thing(this)\" data-fullname=\"t3_7s738w\" data-type=\"link\" data-whitelist-status=\"all_ads\" data-author=\"YoungSalt\" data-author-fullname=\"t2_11mshc\" data-subreddit=\"whatisthisthing\" data-subreddit-prefixed=\"r/whatisthisthing\" data-subreddit-fullname=\"t5_2s3kh\" data-timestamp=\"1516640133000\" data-url=\"https://i.imgur.com/slRncBT.jpg\" data-permalink=\"/r/whatisthisthing/comments/7s738w/help_identify_this_piece_of_bumper_from_a/\" data-domain=\"i.imgur.com\" data-rank=\"11\" data-comments-count=\"343\" data-score=\"11768\" data-num-crossposts=\"0\" data-context=\"listing\"><p class=\"parent\"></p><span class=\"rank\">11</span><div class=\"midcol unvoted\"><div class=\"arrow up login-required access-required\" data-event-action=\"upvote\" role=\"button\" aria-label=\"upvote\" tabindex=\"0\"></div><div class=\"score dislikes\" title=\"11767\">11.8k</div><div class=\"score unvoted\" title=\"11768\">11.8k</div><div class=\"score likes\" title=\"11769\">11.8k</div><div class=\"arrow down login-required access-required\" data-event-action=\"downvote\" role=\"button\" aria-label=\"downvote\" tabindex=\"0\"></div></div><a class=\"thumbnail invisible-when-pinned may-blank outbound\" data-event-action=\"thumbnail\" href=\"https://i.imgur.com/slRncBT.jpg\" data-href-url=\"https://i.imgur.com/slRncBT.jpg\" data-outbound-url=\"https://out.reddit.com/t3_7s738w?url=https%3A%2F%2Fi.imgur.com%2FslRncBT.jpg&amp;token=AQAA9npmWpBwL4JFwt_w2e-BmGLCS3pPRLCFWOMdcCLvKJHbWFZh&amp;app_name=reddit.com\" data-outbound-expiration=\"1516665590000\" rel=\"\"><img src=\"//b.thumbs.redditmedia.com/NZTWXzuGhZLEe1jmo9XlOrxPRIabyqGn5RDcLPY0hdQ.jpg\" width=\"70\" height=\"52\" alt=\"\" /></a><div class=\"entry unvoted\"><div class=\"top-matter\"><p class=\"title\"><a class=\"title may-blank outbound\" data-event-action=\"title\" href=\"https://i.imgur.com/slRncBT.jpg\" tabindex=\"1\" data-href-url=\"https://i.imgur.com/slRncBT.jpg\" data-outbound-url=\"https://out.reddit.com/t3_7s738w?url=https%3A%2F%2Fi.imgur.com%2FslRncBT.jpg&amp;token=AQAA9npmWpBwL4JFwt_w2e-BmGLCS3pPRLCFWOMdcCLvKJHbWFZh&amp;app_name=reddit.com\" data-outbound-expiration=\"1516665590000\" rel=\"\">Help identify this piece of bumper from a hit-and-run with a cyclist now in critical condition.</a><span class=\"linkflairlabel\" title=\"Solved!\">Solved!</span> <span class=\"domain\">(<a href=\"/domain/i.imgur.com/\">i.imgur.com</a>)</span></p><div class=\"expando-button collapsed hide-when-pinned video\"></div><p class=\"tagline \">submitted <time title=\"Mon Jan 22 16:55:33 2018 UTC\" datetime=\"2018-01-22T16:55:33+00:00\" class=\"live-timestamp\">6 hours ago</time> by <a href=\"https://www.reddit.com/user/YoungSalt\" class=\"author may-blank id-t2_11mshc\">YoungSalt</a><span class=\"userattrs\"></span> to <a href=\"https://www.reddit.com/r/whatisthisthing/\" class=\"subreddit hover may-blank\">r/whatisthisthing</a></p><ul class=\"flat-list buttons\"><li class=\"first\"><a href=\"https://www.reddit.com/r/whatisthisthing/comments/7s738w/help_identify_this_piece_of_bumper_from_a/\" data-inbound-url=\"/r/whatisthisthing/comments/7s738w/help_identify_this_piece_of_bumper_from_a/?utm_content=comments&amp;utm_medium=hot&amp;utm_source=reddit&amp;utm_name=frontpage\" data-href-url=\"/r/whatisthisthing/comments/7s738w/help_identify_this_piece_of_bumper_from_a/\" data-event-action=\"comments\" class=\"bylink comments may-blank\" rel=\"nofollow\">343 comments</a></li><li class=\"share\"><a class=\"post-sharing-button\" href=\"javascript: void 0;\">share</a></li><li class=\"link-save-button save-button login-required\"><a href=\"#\">save</a></li><li><form action=\"/post/hide\" method=\"post\" class=\"state-button hide-button\"><input type=\"hidden\" name=\"executed\" value=\"hidden\" /><span><a href=\"javascript:void(0)\" class=\" \" data-event-action=\"hide\" onclick=\"change_state(this, 'hide', hide_thing);\">hide</a></span></form></li><li class=\"report-button login-required\"><a href=\"javascript:void(0)\" class=\"reportbtn access-required\" data-event-action=\"report\">report</a></li></ul><div class=\"reportform report-t3_7s738w\"></div></div><div class=\"expando expando-uninitialized\" style=\"display: none\" data-cachedhtml=\" &lt;div class=&quot;media-preview&quot; id=&quot;media-preview-7s738w&quot; style=&quot;max-width: 1024px&quot;&gt; &lt;div class=&quot;media-preview-content&quot;&gt; &lt;a href=&quot;https://i.imgur.com/slRncBT.jpg&quot; class=&quot;may-blank&quot;&gt; &lt;img class=&quot;preview&quot; src=&quot;https://i.redditmedia.com/dLE_ZvORDVgTgKNhDG5Jij7Pmou3Y8Wng-B0oEfgo_A.jpg?w=1024&amp;amp;s=64cf1e3bfa75ba7bbed722f935ce6ae1&quot; width=&quot;1024&quot; height=&quot;768&quot;&gt; &lt;/a&gt; &lt;/div&gt; &lt;/div&gt; \" data-pin-condition=\"function() {return this.style.display != 'none';}\"><span class=\"error\">loading...</span></div></div><div class=\"child\"></div><div class=\"clearleft\"></div></div><div class=\"clearleft\"></div><div class=\" thing id-t3_7s7gez linkflair linkflair-image even  link \" id=\"thing_t3_7s7gez\" onclick=\"click_thing(this)\" data-fullname=\"t3_7s7gez\" data-type=\"link\" data-whitelist-status=\"all_ads\" data-author=\"ArmyOfMemes\" data-author-fullname=\"t2_10zbok\" data-subreddit=\"food\" data-subreddit-prefixed=\"r/food\" data-subreddit-fullname=\"t5_2qh55\" data-timestamp=\"1516643093000\" data-url=\"https://i.redd.it/plekecl2pnb01.jpg\" data-permalink=\"/r/food/comments/7s7gez/i_made_a_homemade_cake_that_looks_like_my_dog/\" data-domain=\"i.redd.it\" data-rank=\"12\" data-comments-count=\"193\" data-score=\"10746\" data-num-crossposts=\"0\" data-context=\"listing\"><p class=\"parent\"></p><span class=\"rank\">12</span><div class=\"midcol unvoted\"><div class=\"arrow up login-required access-required\" data-event-action=\"upvote\" role=\"button\" aria-label=\"upvote\" tabindex=\"0\"></div><div class=\"score dislikes\" title=\"11050\">11.1k</div><div class=\"score unvoted\" title=\"11051\">11.1k</div><div class=\"score likes\" title=\"11052\">11.1k</div><div class=\"arrow down login-required access-required\" data-event-action=\"downvote\" role=\"button\" aria-label=\"downvote\" tabindex=\"0\"></div></div><a class=\"thumbnail invisible-when-pinned may-blank \" data-event-action=\"thumbnail\" href=\"/r/food/comments/7s7gez/i_made_a_homemade_cake_that_looks_like_my_dog/\" data-href-url=\"/r/food/comments/7s7gez/i_made_a_homemade_cake_that_looks_like_my_dog/\" data-inbound-url=\"/r/food/comments/7s7gez/i_made_a_homemade_cake_that_looks_like_my_dog/?utm_content=thumbnail&amp;utm_medium=hot&amp;utm_source=reddit&amp;utm_name=frontpage\" rel=\"\"><img src=\"//b.thumbs.redditmedia.com/8-P1kc8UWs-9Ag6IK2rB98vefareGK-mz9tlDd5x1PY.jpg\" width=\"70\" height=\"70\" alt=\"\" /></a><div class=\"entry unvoted\"><div class=\"top-matter\"><p class=\"title\"><a class=\"title may-blank \" data-event-action=\"title\" href=\"/r/food/comments/7s7gez/i_made_a_homemade_cake_that_looks_like_my_dog/\" tabindex=\"1\" data-href-url=\"/r/food/comments/7s7gez/i_made_a_homemade_cake_that_looks_like_my_dog/\" data-inbound-url=\"/r/food/comments/7s7gez/i_made_a_homemade_cake_that_looks_like_my_dog/?utm_content=title&amp;utm_medium=hot&amp;utm_source=reddit&amp;utm_name=frontpage\" rel=\"\">I made a [homemade] cake that looks like my dog. Needless to say, he was fascinated.</a><span class=\"linkflairlabel\" title=\"Image\">Image</span> <span class=\"domain\">(<a href=\"/domain/i.redd.it/\">i.redd.it</a>)</span></p><div class=\"expando-button collapsed hide-when-pinned video\"></div><p class=\"tagline \">submitted <time title=\"Mon Jan 22 17:44:53 2018 UTC\" datetime=\"2018-01-22T17:44:53+00:00\" class=\"live-timestamp\">5 hours ago</time> by <a href=\"https://www.reddit.com/user/ArmyOfMemes\" class=\"author may-blank id-t2_10zbok\">ArmyOfMemes</a><span class=\"userattrs\"></span> to <a href=\"https://www.reddit.com/r/food/\" class=\"subreddit hover may-blank\">r/food</a></p><ul class=\"flat-list buttons\"><li class=\"first\"><a href=\"https://www.reddit.com/r/food/comments/7s7gez/i_made_a_homemade_cake_that_looks_like_my_dog/\" data-inbound-url=\"/r/food/comments/7s7gez/i_made_a_homemade_cake_that_looks_like_my_dog/?utm_content=comments&amp;utm_medium=hot&amp;utm_source=reddit&amp;utm_name=frontpage\" data-href-url=\"/r/food/comments/7s7gez/i_made_a_homemade_cake_that_looks_like_my_dog/\" data-event-action=\"comments\" class=\"bylink comments may-blank\" rel=\"nofollow\">197 comments</a></li><li class=\"share\"><a class=\"post-sharing-button\" href=\"javascript: void 0;\">share</a></li><li class=\"link-save-button save-button login-required\"><a href=\"#\">save</a></li><li><form action=\"/post/hide\" method=\"post\" class=\"state-button hide-button\"><input type=\"hidden\" name=\"executed\" value=\"hidden\" /><span><a href=\"javascript:void(0)\" class=\" \" data-event-action=\"hide\" onclick=\"change_state(this, 'hide', hide_thing);\">hide</a></span></form></li><li class=\"report-button login-required\"><a href=\"javascript:void(0)\" class=\"reportbtn access-required\" data-event-action=\"report\">report</a></li></ul><div class=\"reportform report-t3_7s7gez\"></div></div><div class=\"expando expando-uninitialized\" style=\"display: none\" data-cachedhtml=\" &lt;div class=&quot;media-preview&quot; id=&quot;media-preview-7s7gez&quot; style=&quot;max-width: 576px&quot;&gt; &lt;div class=&quot;media-preview-content&quot;&gt; &lt;a href=&quot;https://i.redd.it/plekecl2pnb01.jpg&quot; class=&quot;may-blank&quot;&gt; &lt;img class=&quot;preview&quot; src=&quot;https://i.redditmedia.com/H20bQ-VbcOCZK7o63IWlKrQYYAP4G3Vet_TLN2XWKpE.jpg?w=576&amp;amp;s=17134ba8ffb2e05d3495bb9ee9d6cb2f&quot; width=&quot;576&quot; height=&quot;768&quot;&gt; &lt;/a&gt; &lt;/div&gt; &lt;/div&gt; \" data-pin-condition=\"function() {return this.style.display != 'none';}\"><span class=\"error\">loading...</span></div></div><div class=\"child\"></div><div class=\"clearleft\"></div></div><div class=\"clearleft\"></div><div class=\" thing id-t3_7s6ywm odd  link \" id=\"thing_t3_7s6ywm\" onclick=\"click_thing(this)\" data-fullname=\"t3_7s6ywm\" data-type=\"link\" data-whitelist-status=\"promo_specified\" data-author=\"CC_Dayman\" data-author-fullname=\"t2_11z1v7\" data-subreddit=\"gatekeeping\" data-subreddit-prefixed=\"r/gatekeeping\" data-subreddit-fullname=\"t5_3fkyp\" data-timestamp=\"1516639152000\" data-url=\"https://i.redd.it/6mreqni7dnb01.jpg\" data-permalink=\"/r/gatekeeping/comments/7s6ywm/guess_you_cant_even_start_a_casual_conversation/\" data-domain=\"i.redd.it\" data-rank=\"13\" data-comments-count=\"369\" data-score=\"12102\" data-num-crossposts=\"1\" data-context=\"listing\"><p class=\"parent\"></p><span class=\"rank\">13</span><div class=\"midcol unvoted\"><div class=\"arrow up login-required access-required\" data-event-action=\"upvote\" role=\"button\" aria-label=\"upvote\" tabindex=\"0\"></div><div class=\"score dislikes\" title=\"13390\">13.4k</div><div class=\"score unvoted\" title=\"13391\">13.4k</div><div class=\"score likes\" title=\"13392\">13.4k</div><div class=\"arrow down login-required access-required\" data-event-action=\"downvote\" role=\"button\" aria-label=\"downvote\" tabindex=\"0\"></div></div><a class=\"thumbnail invisible-when-pinned may-blank \" data-event-action=\"thumbnail\" href=\"/r/gatekeeping/comments/7s6ywm/guess_you_cant_even_start_a_casual_conversation/\" data-href-url=\"/r/gatekeeping/comments/7s6ywm/guess_you_cant_even_start_a_casual_conversation/\" data-inbound-url=\"/r/gatekeeping/comments/7s6ywm/guess_you_cant_even_start_a_casual_conversation/?utm_content=thumbnail&amp;utm_medium=hot&amp;utm_source=reddit&amp;utm_name=frontpage\" rel=\"\"><img src=\"//b.thumbs.redditmedia.com/zI6_zUL3QLS93oGEMAczweWGaCMJN9BSCTOq3xeOuHM.jpg\" width=\"70\" height=\"70\" alt=\"\" /></a><div class=\"entry unvoted\"><div class=\"top-matter\"><p class=\"title\"><a class=\"title may-blank \" data-event-action=\"title\" href=\"/r/gatekeeping/comments/7s6ywm/guess_you_cant_even_start_a_casual_conversation/\" tabindex=\"1\" data-href-url=\"/r/gatekeeping/comments/7s6ywm/guess_you_cant_even_start_a_casual_conversation/\" data-inbound-url=\"/r/gatekeeping/comments/7s6ywm/guess_you_cant_even_start_a_casual_conversation/?utm_content=title&amp;utm_medium=hot&amp;utm_source=reddit&amp;utm_name=frontpage\" rel=\"\">Guess you can't even start a casual conversation about being ill anymore</a> <span class=\"domain\">(<a href=\"/domain/i.redd.it/\">i.redd.it</a>)</span></p><div class=\"expando-button collapsed hide-when-pinned video\"></div><p class=\"tagline \">submitted <time title=\"Mon Jan 22 16:39:12 2018 UTC\" datetime=\"2018-01-22T16:39:12+00:00\" class=\"live-timestamp\">6 hours ago</time> by <a href=\"https://www.reddit.com/user/CC_Dayman\" class=\"author may-blank id-t2_11z1v7\">CC_Dayman</a><span class=\"userattrs\"></span> to <a href=\"https://www.reddit.com/r/gatekeeping/\" class=\"subreddit hover may-blank\">r/gatekeeping</a></p><ul class=\"flat-list buttons\"><li class=\"first\"><a href=\"https://www.reddit.com/r/gatekeeping/comments/7s6ywm/guess_you_cant_even_start_a_casual_conversation/\" data-inbound-url=\"/r/gatekeeping/comments/7s6ywm/guess_you_cant_even_start_a_casual_conversation/?utm_content=comments&amp;utm_medium=hot&amp;utm_source=reddit&amp;utm_name=frontpage\" data-href-url=\"/r/gatekeeping/comments/7s6ywm/guess_you_cant_even_start_a_casual_conversation/\" data-event-action=\"comments\" class=\"bylink comments may-blank\" rel=\"nofollow\">406 comments</a></li><li class=\"share\"><a class=\"post-sharing-button\" href=\"javascript: void 0;\">share</a></li><li class=\"link-save-button save-button login-required\"><a href=\"#\">save</a></li><li><form action=\"/post/hide\" method=\"post\" class=\"state-button hide-button\"><input type=\"hidden\" name=\"executed\" value=\"hidden\" /><span><a href=\"javascript:void(0)\" class=\" \" data-event-action=\"hide\" onclick=\"change_state(this, 'hide', hide_thing);\">hide</a></span></form></li><li class=\"report-button login-required\"><a href=\"javascript:void(0)\" class=\"reportbtn access-required\" data-event-action=\"report\">report</a></li></ul><div class=\"reportform report-t3_7s6ywm\"></div></div><div class=\"expando expando-uninitialized\" style=\"display: none\" data-cachedhtml=\" &lt;div class=&quot;media-preview&quot; id=&quot;media-preview-7s6ywm&quot; style=&quot;max-width: 711px&quot;&gt; &lt;div class=&quot;media-preview-content&quot;&gt; &lt;a href=&quot;https://i.redd.it/6mreqni7dnb01.jpg&quot; class=&quot;may-blank&quot;&gt; &lt;img class=&quot;preview&quot; src=&quot;https://i.redditmedia.com/hLjAyN2nko2YnrKIygQdbAAw5PsdDeQMgdD0dlrUETU.jpg?w=711&amp;amp;s=81f3e508fd70addbaf721331faf06029&quot; width=&quot;711&quot; height=&quot;768&quot;&gt; &lt;/a&gt; &lt;/div&gt; &lt;/div&gt; \" data-pin-condition=\"function() {return this.style.display != 'none';}\"><span class=\"error\">loading...</span></div></div><div class=\"child\"></div><div class=\"clearleft\"></div></div><div class=\"clearleft\"></div><div class=\" thing id-t3_7s6zjg even  link \" id=\"thing_t3_7s6zjg\" onclick=\"click_thing(this)\" data-fullname=\"t3_7s6zjg\" data-type=\"link\" data-whitelist-status=\"all_ads\" data-author=\"porterpottie\" data-author-fullname=\"t2_insdn\" data-subreddit=\"aww\" data-subreddit-prefixed=\"r/aww\" data-subreddit-fullname=\"t5_2qh1o\" data-timestamp=\"1516639285000\" data-url=\"https://gfycat.com/TallImmaculateAiredale\" data-permalink=\"/r/aww/comments/7s6zjg/germans_make_the_best_faces_when_confused/\" data-domain=\"gfycat.com\" data-rank=\"14\" data-comments-count=\"145\" data-score=\"12676\" data-num-crossposts=\"1\" data-context=\"listing\"><p class=\"parent\"></p><span class=\"rank\">14</span><div class=\"midcol unvoted\"><div class=\"arrow up login-required access-required\" data-event-action=\"upvote\" role=\"button\" aria-label=\"upvote\" tabindex=\"0\"></div><div class=\"score dislikes\" title=\"12669\">12.7k</div><div class=\"score unvoted\" title=\"12670\">12.7k</div><div class=\"score likes\" title=\"12671\">12.7k</div><div class=\"arrow down login-required access-required\" data-event-action=\"downvote\" role=\"button\" aria-label=\"downvote\" tabindex=\"0\"></div></div><a class=\"thumbnail invisible-when-pinned may-blank outbound\" data-event-action=\"thumbnail\" href=\"https://gfycat.com/TallImmaculateAiredale\" data-href-url=\"https://gfycat.com/TallImmaculateAiredale\" data-outbound-url=\"https://out.reddit.com/t3_7s6zjg?url=https%3A%2F%2Fgfycat.com%2FTallImmaculateAiredale&amp;token=AQAA9npmWuzr3qOdR9X1d35Vsh_K3UO57Bmw7PUvCeOHJUrTEFWL&amp;app_name=reddit.com\" data-outbound-expiration=\"1516665590000\" rel=\"\"><img src=\"//b.thumbs.redditmedia.com/pH_Bi_BU-1AEkd2QMmGymMrm9a-g5-_k5qw5PXhPF4k.jpg\" width=\"70\" height=\"70\" alt=\"\" /></a><div class=\"entry unvoted\"><div class=\"top-matter\"><p class=\"title\"><a class=\"title may-blank outbound\" data-event-action=\"title\" href=\"https://gfycat.com/TallImmaculateAiredale\" tabindex=\"1\" data-href-url=\"https://gfycat.com/TallImmaculateAiredale\" data-outbound-url=\"https://out.reddit.com/t3_7s6zjg?url=https%3A%2F%2Fgfycat.com%2FTallImmaculateAiredale&amp;token=AQAA9npmWuzr3qOdR9X1d35Vsh_K3UO57Bmw7PUvCeOHJUrTEFWL&amp;app_name=reddit.com\" data-outbound-expiration=\"1516665590000\" rel=\"\">Germans make the best faces when confused</a> <span class=\"domain\">(<a href=\"/domain/gfycat.com/\">gfycat.com</a>)</span></p><div class=\"expando-button collapsed hide-when-pinned video\"></div><p class=\"tagline \">submitted <time title=\"Mon Jan 22 16:41:25 2018 UTC\" datetime=\"2018-01-22T16:41:25+00:00\" class=\"live-timestamp\">6 hours ago</time> by <a href=\"https://www.reddit.com/user/porterpottie\" class=\"author may-blank id-t2_insdn\">porterpottie</a><span class=\"userattrs\"></span> to <a href=\"https://www.reddit.com/r/aww/\" class=\"subreddit hover may-blank\">r/aww</a></p><ul class=\"flat-list buttons\"><li class=\"first\"><a href=\"https://www.reddit.com/r/aww/comments/7s6zjg/germans_make_the_best_faces_when_confused/\" data-inbound-url=\"/r/aww/comments/7s6zjg/germans_make_the_best_faces_when_confused/?utm_content=comments&amp;utm_medium=hot&amp;utm_source=reddit&amp;utm_name=frontpage\" data-href-url=\"/r/aww/comments/7s6zjg/germans_make_the_best_faces_when_confused/\" data-event-action=\"comments\" class=\"bylink comments may-blank\" rel=\"nofollow\">145 comments</a></li><li class=\"share\"><a class=\"post-sharing-button\" href=\"javascript: void 0;\">share</a></li><li class=\"link-save-button save-button login-required\"><a href=\"#\">save</a></li><li><form action=\"/post/hide\" method=\"post\" class=\"state-button hide-button\"><input type=\"hidden\" name=\"executed\" value=\"hidden\" /><span><a href=\"javascript:void(0)\" class=\" \" data-event-action=\"hide\" onclick=\"change_state(this, 'hide', hide_thing);\">hide</a></span></form></li><li class=\"report-button login-required\"><a href=\"javascript:void(0)\" class=\"reportbtn access-required\" data-event-action=\"report\">report</a></li></ul><div class=\"reportform report-t3_7s6zjg\"></div></div><div class=\"expando expando-uninitialized\" style=\"display: none\" data-cachedhtml=\" &lt;iframe src=&quot;//www.redditmedia.com/mediaembed/7s6zjg&quot; id=&quot;media-embed-7s6zjg-pyq&quot; class=&quot;media-embed&quot; width=&quot;610&quot; height=&quot;1077&quot; border=&quot;0&quot; frameBorder=&quot;0&quot; scrolling=&quot;no&quot; allowfullscreen&gt;&lt;/iframe&gt; \" data-pin-condition=\"function() {return this.style.display != 'none';}\"><span class=\"error\">loading...</span></div></div><div class=\"child\"></div><div class=\"clearleft\"></div></div><div class=\"clearleft\"></div><div class=\" thing id-t3_7s7wj9 odd  link \" id=\"thing_t3_7s7wj9\" onclick=\"click_thing(this)\" data-fullname=\"t3_7s7wj9\" data-type=\"link\" data-whitelist-status=\"all_ads\" data-author=\"fsociety999\" data-author-fullname=\"t2_kh6imh2\" data-subreddit=\"starterpacks\" data-subreddit-prefixed=\"r/starterpacks\" data-subreddit-fullname=\"t5_34o9s\" data-timestamp=\"1516646595000\" data-url=\"https://i.redd.it/nw63k81dznb01.jpg\" data-permalink=\"/r/starterpacks/comments/7s7wj9/creepy_unexplained_sightings_found_footage/\" data-domain=\"i.redd.it\" data-rank=\"15\" data-comments-count=\"152\" data-score=\"4641\" data-num-crossposts=\"0\" data-context=\"listing\"><p class=\"parent\"></p><span class=\"rank\">15</span><div class=\"midcol unvoted\"><div class=\"arrow up login-required access-required\" data-event-action=\"upvote\" role=\"button\" aria-label=\"upvote\" tabindex=\"0\"></div><div class=\"score dislikes\" title=\"5548\">5548</div><div class=\"score unvoted\" title=\"5549\">5549</div><div class=\"score likes\" title=\"5550\">5550</div><div class=\"arrow down login-required access-required\" data-event-action=\"downvote\" role=\"button\" aria-label=\"downvote\" tabindex=\"0\"></div></div><a class=\"thumbnail invisible-when-pinned may-blank \" data-event-action=\"thumbnail\" href=\"/r/starterpacks/comments/7s7wj9/creepy_unexplained_sightings_found_footage/\" data-href-url=\"/r/starterpacks/comments/7s7wj9/creepy_unexplained_sightings_found_footage/\" data-inbound-url=\"/r/starterpacks/comments/7s7wj9/creepy_unexplained_sightings_found_footage/?utm_content=thumbnail&amp;utm_medium=hot&amp;utm_source=reddit&amp;utm_name=frontpage\" rel=\"\"><img src=\"//a.thumbs.redditmedia.com/OJ7BsdHlg_NKRfjX4YWhJXK5hba7ncbgn2t4QZqm1Y0.jpg\" width=\"70\" height=\"49\" alt=\"\" /></a><div class=\"entry unvoted\"><div class=\"top-matter\"><p class=\"title\"><a class=\"title may-blank \" data-event-action=\"title\" href=\"/r/starterpacks/comments/7s7wj9/creepy_unexplained_sightings_found_footage/\" tabindex=\"1\" data-href-url=\"/r/starterpacks/comments/7s7wj9/creepy_unexplained_sightings_found_footage/\" data-inbound-url=\"/r/starterpacks/comments/7s7wj9/creepy_unexplained_sightings_found_footage/?utm_content=title&amp;utm_medium=hot&amp;utm_source=reddit&amp;utm_name=frontpage\" rel=\"\">\"Creepy unexplained sightings found footage\" starter pack</a> <span class=\"domain\">(<a href=\"/domain/i.redd.it/\">i.redd.it</a>)</span></p><div class=\"expando-button collapsed hide-when-pinned video\"></div><p class=\"tagline \">submitted <time title=\"Mon Jan 22 18:43:15 2018 UTC\" datetime=\"2018-01-22T18:43:15+00:00\" class=\"live-timestamp\">4 hours ago</time> by <a href=\"https://www.reddit.com/user/fsociety999\" class=\"author may-blank id-t2_kh6imh2\">fsociety999</a><span class=\"userattrs\"></span> to <a href=\"https://www.reddit.com/r/starterpacks/\" class=\"subreddit hover may-blank\">r/starterpacks</a></p><ul class=\"flat-list buttons\"><li class=\"first\"><a href=\"https://www.reddit.com/r/starterpacks/comments/7s7wj9/creepy_unexplained_sightings_found_footage/\" data-inbound-url=\"/r/starterpacks/comments/7s7wj9/creepy_unexplained_sightings_found_footage/?utm_content=comments&amp;utm_medium=hot&amp;utm_source=reddit&amp;utm_name=frontpage\" data-href-url=\"/r/starterpacks/comments/7s7wj9/creepy_unexplained_sightings_found_footage/\" data-event-action=\"comments\" class=\"bylink comments may-blank\" rel=\"nofollow\">172 comments</a></li><li class=\"share\"><a class=\"post-sharing-button\" href=\"javascript: void 0;\">share</a></li><li class=\"link-save-button save-button login-required\"><a href=\"#\">save</a></li><li><form action=\"/post/hide\" method=\"post\" class=\"state-button hide-button\"><input type=\"hidden\" name=\"executed\" value=\"hidden\" /><span><a href=\"javascript:void(0)\" class=\" \" data-event-action=\"hide\" onclick=\"change_state(this, 'hide', hide_thing);\">hide</a></span></form></li><li class=\"report-button login-required\"><a href=\"javascript:void(0)\" class=\"reportbtn access-required\" data-event-action=\"report\">report</a></li></ul><div class=\"reportform report-t3_7s7wj9\"></div></div><div class=\"expando expando-uninitialized\" style=\"display: none\" data-cachedhtml=\" &lt;div class=&quot;media-preview&quot; id=&quot;media-preview-7s7wj9&quot; style=&quot;max-width: 629px&quot;&gt; &lt;div class=&quot;media-preview-content&quot;&gt; &lt;a href=&quot;https://i.redd.it/nw63k81dznb01.jpg&quot; class=&quot;may-blank&quot;&gt; &lt;img class=&quot;preview&quot; src=&quot;https://i.redditmedia.com/H_KA-u3dS8mONn3IQGPJblKDPRuFlCqgVU3AKDg3e18.jpg?w=629&amp;amp;s=fa9ae5c4772ed1e1e297481d0ce1644b&quot; width=&quot;629&quot; height=&quot;447&quot;&gt; &lt;/a&gt; &lt;/div&gt; &lt;/div&gt; \" data-pin-condition=\"function() {return this.style.display != 'none';}\"><span class=\"error\">loading...</span></div></div><div class=\"child\"></div><div class=\"clearleft\"></div></div><div class=\"clearleft\"></div><div class=\" thing id-t3_7s73k1 even  link \" id=\"thing_t3_7s73k1\" onclick=\"click_thing(this)\" data-fullname=\"t3_7s73k1\" data-type=\"link\" data-whitelist-status=\"all_ads\" data-author=\"MrNewblez\" data-author-fullname=\"t2_c0l3q\" data-subreddit=\"fakehistoryporn\" data-subreddit-prefixed=\"r/fakehistoryporn\" data-subreddit-fullname=\"t5_3gyaj\" data-timestamp=\"1516640212000\" data-url=\"https://i.redd.it/c582527ignb01.jpg\" data-permalink=\"/r/fakehistoryporn/comments/7s73k1/us_government_shutdown_2018/\" data-domain=\"i.redd.it\" data-rank=\"16\" data-comments-count=\"81\" data-score=\"9578\" data-num-crossposts=\"1\" data-context=\"listing\"><p class=\"parent\"></p><span class=\"rank\">16</span><div class=\"midcol unvoted\"><div class=\"arrow up login-required access-required\" data-event-action=\"upvote\" role=\"button\" aria-label=\"upvote\" tabindex=\"0\"></div><div class=\"score dislikes\" title=\"9591\">9591</div><div class=\"score unvoted\" title=\"9592\">9592</div><div class=\"score likes\" title=\"9593\">9593</div><div class=\"arrow down login-required access-required\" data-event-action=\"downvote\" role=\"button\" aria-label=\"downvote\" tabindex=\"0\"></div></div><a class=\"thumbnail invisible-when-pinned may-blank \" data-event-action=\"thumbnail\" href=\"/r/fakehistoryporn/comments/7s73k1/us_government_shutdown_2018/\" data-href-url=\"/r/fakehistoryporn/comments/7s73k1/us_government_shutdown_2018/\" data-inbound-url=\"/r/fakehistoryporn/comments/7s73k1/us_government_shutdown_2018/?utm_content=thumbnail&amp;utm_medium=hot&amp;utm_source=reddit&amp;utm_name=frontpage\" rel=\"\"><img src=\"//b.thumbs.redditmedia.com/_ODumxb9S6zX4wylZs6LgFbrbFy_BZLAmpvV25yHNZI.jpg\" width=\"70\" height=\"60\" alt=\"\" /></a><div class=\"entry unvoted\"><div class=\"top-matter\"><p class=\"title\"><a class=\"title may-blank \" data-event-action=\"title\" href=\"/r/fakehistoryporn/comments/7s73k1/us_government_shutdown_2018/\" tabindex=\"1\" data-href-url=\"/r/fakehistoryporn/comments/7s73k1/us_government_shutdown_2018/\" data-inbound-url=\"/r/fakehistoryporn/comments/7s73k1/us_government_shutdown_2018/?utm_content=title&amp;utm_medium=hot&amp;utm_source=reddit&amp;utm_name=frontpage\" rel=\"\">U.S. Government Shutdown (2018)</a> <span class=\"domain\">(<a href=\"/domain/i.redd.it/\">i.redd.it</a>)</span></p><div class=\"expando-button collapsed hide-when-pinned video\"></div><p class=\"tagline \">submitted <time title=\"Mon Jan 22 16:56:52 2018 UTC\" datetime=\"2018-01-22T16:56:52+00:00\" class=\"live-timestamp\">6 hours ago</time> by <a href=\"https://www.reddit.com/user/MrNewblez\" class=\"author may-blank id-t2_c0l3q\">MrNewblez</a><span class=\"userattrs\"></span> to <a href=\"https://www.reddit.com/r/fakehistoryporn/\" class=\"subreddit hover may-blank\">r/fakehistoryporn</a></p><ul class=\"flat-list buttons\"><li class=\"first\"><a href=\"https://www.reddit.com/r/fakehistoryporn/comments/7s73k1/us_government_shutdown_2018/\" data-inbound-url=\"/r/fakehistoryporn/comments/7s73k1/us_government_shutdown_2018/?utm_content=comments&amp;utm_medium=hot&amp;utm_source=reddit&amp;utm_name=frontpage\" data-href-url=\"/r/fakehistoryporn/comments/7s73k1/us_government_shutdown_2018/\" data-event-action=\"comments\" class=\"bylink comments may-blank\" rel=\"nofollow\">81 comments</a></li><li class=\"share\"><a class=\"post-sharing-button\" href=\"javascript: void 0;\">share</a></li><li class=\"link-save-button save-button login-required\"><a href=\"#\">save</a></li><li><form action=\"/post/hide\" method=\"post\" class=\"state-button hide-button\"><input type=\"hidden\" name=\"executed\" value=\"hidden\" /><span><a href=\"javascript:void(0)\" class=\" \" data-event-action=\"hide\" onclick=\"change_state(this, 'hide', hide_thing);\">hide</a></span></form></li><li class=\"report-button login-required\"><a href=\"javascript:void(0)\" class=\"reportbtn access-required\" data-event-action=\"report\">report</a></li></ul><div class=\"reportform report-t3_7s73k1\"></div></div><div class=\"expando expando-uninitialized\" style=\"display: none\" data-cachedhtml=\" &lt;div class=&quot;media-preview&quot; id=&quot;media-preview-7s73k1&quot; style=&quot;max-width: 575px&quot;&gt; &lt;div class=&quot;media-preview-content&quot;&gt; &lt;a href=&quot;https://i.redd.it/c582527ignb01.jpg&quot; class=&quot;may-blank&quot;&gt; &lt;img class=&quot;preview&quot; src=&quot;https://i.redditmedia.com/4tLXn8QZcO4-7joUVfEziDwW6lCc3UuoQIUjjB3gvUQ.jpg?w=575&amp;amp;s=88ae12e952a9783fcf658023aa3f6a32&quot; width=&quot;575&quot; height=&quot;500&quot;&gt; &lt;/a&gt; &lt;/div&gt; &lt;/div&gt; \" data-pin-condition=\"function() {return this.style.display != 'none';}\"><span class=\"error\">loading...</span></div></div><div class=\"child\"></div><div class=\"clearleft\"></div></div><div class=\"clearleft\"></div><div class=\" thing id-t3_7s6i6r odd  link \" id=\"thing_t3_7s6i6r\" onclick=\"click_thing(this)\" data-fullname=\"t3_7s6i6r\" data-type=\"link\" data-whitelist-status=\"all_ads\" data-author=\"sizeable_interest\" data-author-fullname=\"t2_tgmoh\" data-subreddit=\"evilbuildings\" data-subreddit-prefixed=\"r/evilbuildings\" data-subreddit-fullname=\"t5_3ckh2\" data-timestamp=\"1516635300000\" data-url=\"https://i.imgur.com/kT4STBN.jpg\" data-permalink=\"/r/evilbuildings/comments/7s6i6r/just_picking_up_some_supplies/\" data-domain=\"i.imgur.com\" data-rank=\"17\" data-comments-count=\"159\" data-score=\"21212\" data-num-crossposts=\"1\" data-context=\"listing\"><p class=\"parent\"></p><span class=\"rank\">17</span><div class=\"midcol unvoted\"><div class=\"arrow up login-required access-required\" data-event-action=\"upvote\" role=\"button\" aria-label=\"upvote\" tabindex=\"0\"></div><div class=\"score dislikes\" title=\"21212\">21.2k</div><div class=\"score unvoted\" title=\"21213\">21.2k</div><div class=\"score likes\" title=\"21214\">21.2k</div><div class=\"arrow down login-required access-required\" data-event-action=\"downvote\" role=\"button\" aria-label=\"downvote\" tabindex=\"0\"></div></div><a class=\"thumbnail invisible-when-pinned may-blank outbound\" data-event-action=\"thumbnail\" href=\"https://i.imgur.com/kT4STBN.jpg\" data-href-url=\"https://i.imgur.com/kT4STBN.jpg\" data-outbound-url=\"https://out.reddit.com/t3_7s6i6r?url=https%3A%2F%2Fi.imgur.com%2FkT4STBN.jpg&amp;token=AQAA9npmWiz4Fzdyu2v4ZCDNFSVXzV7_7R-J8hg8uxMQORtkKgUB&amp;app_name=reddit.com\" data-outbound-expiration=\"1516665590000\" rel=\"\"><img src=\"//b.thumbs.redditmedia.com/UNmIGsUqmMSCLHIvfpIkE9IPeNvQCW7o9p_VBUZHp6M.jpg\" width=\"70\" height=\"52\" alt=\"\" /></a><div class=\"entry unvoted\"><div class=\"top-matter\"><p class=\"title\"><a class=\"title may-blank outbound\" data-event-action=\"title\" href=\"https://i.imgur.com/kT4STBN.jpg\" tabindex=\"1\" data-href-url=\"https://i.imgur.com/kT4STBN.jpg\" data-outbound-url=\"https://out.reddit.com/t3_7s6i6r?url=https%3A%2F%2Fi.imgur.com%2FkT4STBN.jpg&amp;token=AQAA9npmWiz4Fzdyu2v4ZCDNFSVXzV7_7R-J8hg8uxMQORtkKgUB&amp;app_name=reddit.com\" data-outbound-expiration=\"1516665590000\" rel=\"\">Just picking up some supplies</a> <span class=\"domain\">(<a href=\"/domain/i.imgur.com/\">i.imgur.com</a>)</span></p><div class=\"expando-button collapsed hide-when-pinned video\"></div><p class=\"tagline \">submitted <time title=\"Mon Jan 22 15:35:00 2018 UTC\" datetime=\"2018-01-22T15:35:00+00:00\" class=\"live-timestamp\">7 hours ago</time> by <a href=\"https://www.reddit.com/user/sizeable_interest\" class=\"author may-blank id-t2_tgmoh\">sizeable_interest</a><span class=\"userattrs\"></span> to <a href=\"https://www.reddit.com/r/evilbuildings/\" class=\"subreddit hover may-blank\">r/evilbuildings</a></p><ul class=\"flat-list buttons\"><li class=\"first\"><a href=\"https://www.reddit.com/r/evilbuildings/comments/7s6i6r/just_picking_up_some_supplies/\" data-inbound-url=\"/r/evilbuildings/comments/7s6i6r/just_picking_up_some_supplies/?utm_content=comments&amp;utm_medium=hot&amp;utm_source=reddit&amp;utm_name=frontpage\" data-href-url=\"/r/evilbuildings/comments/7s6i6r/just_picking_up_some_supplies/\" data-event-action=\"comments\" class=\"bylink comments may-blank\" rel=\"nofollow\">159 comments</a></li><li class=\"share\"><a class=\"post-sharing-button\" href=\"javascript: void 0;\">share</a></li><li class=\"link-save-button save-button login-required\"><a href=\"#\">save</a></li><li><form action=\"/post/hide\" method=\"post\" class=\"state-button hide-button\"><input type=\"hidden\" name=\"executed\" value=\"hidden\" /><span><a href=\"javascript:void(0)\" class=\" \" data-event-action=\"hide\" onclick=\"change_state(this, 'hide', hide_thing);\">hide</a></span></form></li><li class=\"report-button login-required\"><a href=\"javascript:void(0)\" class=\"reportbtn access-required\" data-event-action=\"report\">report</a></li></ul><div class=\"reportform report-t3_7s6i6r\"></div></div><div class=\"expando expando-uninitialized\" style=\"display: none\" data-cachedhtml=\" &lt;div class=&quot;media-preview&quot; id=&quot;media-preview-7s6i6r&quot; style=&quot;max-width: 1024px&quot;&gt; &lt;div class=&quot;media-preview-content&quot;&gt; &lt;a href=&quot;https://i.imgur.com/kT4STBN.jpg&quot; class=&quot;may-blank&quot;&gt; &lt;img class=&quot;preview&quot; src=&quot;https://i.redditmedia.com/zh6QftphZ89YwdzP-WVEuUj1GzUgea_kcFzzGdbVxqQ.jpg?w=1024&amp;amp;s=887c36b658944231e957c6ccc8e2dbcc&quot; width=&quot;1024&quot; height=&quot;768&quot;&gt; &lt;/a&gt; &lt;/div&gt; &lt;/div&gt; \" data-pin-condition=\"function() {return this.style.display != 'none';}\"><span class=\"error\">loading...</span></div></div><div class=\"child\"></div><div class=\"clearleft\"></div></div><div class=\"clearleft\"></div><div class=\" thing id-t3_7s6a9z linkflair linkflair-psych linkflair-badpost even  link \" id=\"thing_t3_7s6a9z\" onclick=\"click_thing(this)\" data-fullname=\"t3_7s6a9z\" data-type=\"link\" data-whitelist-status=\"all_ads\" data-author=\"mvea\" data-author-fullname=\"t2_6hji\" data-subreddit=\"science\" data-subreddit-prefixed=\"r/science\" data-subreddit-fullname=\"t5_mouw\" data-timestamp=\"1516633319000\" data-url=\"https://www.york.ac.uk/news-and-events/news/2018/research/no-evidence-to-link-violence-and-video-games/\" data-permalink=\"/r/science/comments/7s6a9z/no_evidence_to_support_link_between_violent_video/\" data-domain=\"york.ac.uk\" data-rank=\"18\" data-comments-count=\"3325\" data-score=\"87585\" data-num-crossposts=\"12\" data-context=\"listing\"><p class=\"parent\"></p><span class=\"rank\">18</span><div class=\"midcol unvoted\"><div class=\"arrow up login-required access-required\" data-event-action=\"upvote\" role=\"button\" aria-label=\"upvote\" tabindex=\"0\"></div><div class=\"score dislikes\" title=\"87590\">87.6k</div><div class=\"score unvoted\" title=\"87591\">87.6k</div><div class=\"score likes\" title=\"87592\">87.6k</div><div class=\"arrow down login-required access-required\" data-event-action=\"downvote\" role=\"button\" aria-label=\"downvote\" tabindex=\"0\"></div></div><a class=\"thumbnail invisible-when-pinned may-blank outbound\" data-event-action=\"thumbnail\" href=\"https://www.york.ac.uk/news-and-events/news/2018/research/no-evidence-to-link-violence-and-video-games/\" data-href-url=\"https://www.york.ac.uk/news-and-events/news/2018/research/no-evidence-to-link-violence-and-video-games/\" data-outbound-url=\"https://out.reddit.com/t3_7s6a9z?url=https%3A%2F%2Fwww.york.ac.uk%2Fnews-and-events%2Fnews%2F2018%2Fresearch%2Fno-evidence-to-link-violence-and-video-games%2F&amp;token=AQAA9npmWhombVPjI_wD5ekMcOgbQgGChoUBOwl6NEsXa9xTuY4A&amp;app_name=reddit.com\" data-outbound-expiration=\"1516665590000\" rel=\"\"><img src=\"//b.thumbs.redditmedia.com/R4LGkdj5inYLIsjA_epFuNH7JWRqPQ-FBRHuWLPlfQk.jpg\" width=\"70\" height=\"46\" alt=\"\" /></a><div class=\"entry unvoted\"><div class=\"top-matter\"><p class=\"title\"><a class=\"title may-blank outbound\" data-event-action=\"title\" href=\"https://www.york.ac.uk/news-and-events/news/2018/research/no-evidence-to-link-violence-and-video-games/\" tabindex=\"1\" data-href-url=\"https://www.york.ac.uk/news-and-events/news/2018/research/no-evidence-to-link-violence-and-video-games/\" data-outbound-url=\"https://out.reddit.com/t3_7s6a9z?url=https%3A%2F%2Fwww.york.ac.uk%2Fnews-and-events%2Fnews%2F2018%2Fresearch%2Fno-evidence-to-link-violence-and-video-games%2F&amp;token=AQAA9npmWhombVPjI_wD5ekMcOgbQgGChoUBOwl6NEsXa9xTuY4A&amp;app_name=reddit.com\" data-outbound-expiration=\"1516665590000\" rel=\"\">No evidence to support link between violent video games and behaviour - Researchers at the University of York have found no evidence to support the theory that video games make players more violent.</a><span class=\"linkflairlabel\" title=\"Psychology\">Psychology</span> <span class=\"domain\">(<a href=\"/domain/york.ac.uk/\">york.ac.uk</a>)</span></p><p class=\"tagline \">submitted <time title=\"Mon Jan 22 15:01:59 2018 UTC\" datetime=\"2018-01-22T15:01:59+00:00\" class=\"live-timestamp\">7 hours ago</time> by <a href=\"https://www.reddit.com/user/mvea\" class=\"author may-blank id-t2_6hji\">mvea</a><span class=\"userattrs\"></span> to <a href=\"https://www.reddit.com/r/science/\" class=\"subreddit hover may-blank\">r/science</a></p><ul class=\"flat-list buttons\"><li class=\"first\"><a href=\"https://www.reddit.com/r/science/comments/7s6a9z/no_evidence_to_support_link_between_violent_video/\" data-inbound-url=\"/r/science/comments/7s6a9z/no_evidence_to_support_link_between_violent_video/?utm_content=comments&amp;utm_medium=hot&amp;utm_source=reddit&amp;utm_name=frontpage\" data-href-url=\"/r/science/comments/7s6a9z/no_evidence_to_support_link_between_violent_video/\" data-event-action=\"comments\" class=\"bylink comments may-blank\" rel=\"nofollow\">3325 comments</a></li><li class=\"share\"><a class=\"post-sharing-button\" href=\"javascript: void 0;\">share</a></li><li class=\"link-save-button save-button login-required\"><a href=\"#\">save</a></li><li><form action=\"/post/hide\" method=\"post\" class=\"state-button hide-button\"><input type=\"hidden\" name=\"executed\" value=\"hidden\" /><span><a href=\"javascript:void(0)\" class=\" \" data-event-action=\"hide\" onclick=\"change_state(this, 'hide', hide_thing);\">hide</a></span></form></li><li class=\"report-button login-required\"><a href=\"javascript:void(0)\" class=\"reportbtn access-required\" data-event-action=\"report\">report</a></li></ul><div class=\"reportform report-t3_7s6a9z\"></div></div></div><div class=\"child\"></div><div class=\"clearleft\"></div></div><div class=\"clearleft\"></div><div class=\" thing id-t3_7s67zn linkflair linkflair-2 odd  link \" id=\"thing_t3_7s67zn\" onclick=\"click_thing(this)\" data-fullname=\"t3_7s67zn\" data-type=\"link\" data-whitelist-status=\"all_ads\" data-author=\"captainhowdy27\" data-author-fullname=\"t2_3zzfm\" data-subreddit=\"reactiongifs\" data-subreddit-prefixed=\"r/reactiongifs\" data-subreddit-fullname=\"t5_2t5y3\" data-timestamp=\"1516632698000\" data-url=\"https://i.imgur.com/7wD9p9N.gifv\" data-permalink=\"/r/reactiongifs/comments/7s67zn/when_my_wife_and_i_come_home_from_a_date_night/\" data-domain=\"i.imgur.com\" data-rank=\"19\" data-comments-count=\"1143\" data-score=\"48403\" data-num-crossposts=\"2\" data-context=\"listing\"><p class=\"parent\"></p><span class=\"rank\">19</span><div class=\"midcol unvoted\"><div class=\"arrow up login-required access-required\" data-event-action=\"upvote\" role=\"button\" aria-label=\"upvote\" tabindex=\"0\"></div><div class=\"score dislikes\" title=\"48404\">48.4k</div><div class=\"score unvoted\" title=\"48405\">48.4k</div><div class=\"score likes\" title=\"48406\">48.4k</div><div class=\"arrow down login-required access-required\" data-event-action=\"downvote\" role=\"button\" aria-label=\"downvote\" tabindex=\"0\"></div></div><a class=\"thumbnail invisible-when-pinned may-blank outbound\" data-event-action=\"thumbnail\" href=\"https://i.imgur.com/7wD9p9N.gifv\" data-href-url=\"https://i.imgur.com/7wD9p9N.gifv\" data-outbound-url=\"https://out.reddit.com/t3_7s67zn?url=https%3A%2F%2Fi.imgur.com%2F7wD9p9N.gifv&amp;token=AQAA9npmWuVI5gjbWJEqSUhyulNmXcB3r_e8qHZQuGa4h2J7o_RN&amp;app_name=reddit.com\" data-outbound-expiration=\"1516665590000\" rel=\"\"><img src=\"//b.thumbs.redditmedia.com/7YUUO2hSKetzfVzynw448PSb6hgCp1D68QnOnR4M7JA.jpg\" width=\"70\" height=\"39\" alt=\"\" /></a><div class=\"entry unvoted\"><div class=\"top-matter\"><p class=\"title\"><a class=\"title may-blank outbound\" data-event-action=\"title\" href=\"https://i.imgur.com/7wD9p9N.gifv\" tabindex=\"1\" data-href-url=\"https://i.imgur.com/7wD9p9N.gifv\" data-outbound-url=\"https://out.reddit.com/t3_7s67zn?url=https%3A%2F%2Fi.imgur.com%2F7wD9p9N.gifv&amp;token=AQAA9npmWuVI5gjbWJEqSUhyulNmXcB3r_e8qHZQuGa4h2J7o_RN&amp;app_name=reddit.com\" data-outbound-expiration=\"1516665590000\" rel=\"\">When my wife and I come home from a date night high as fuck and discover our babysitter has also cleaned the entire house</a><span class=\"linkflairlabel\" title=\"/r/all\">/r/all</span> <span class=\"domain\">(<a href=\"/domain/i.imgur.com/\">i.imgur.com</a>)</span></p><div class=\"expando-button collapsed hide-when-pinned video\"></div><p class=\"tagline \">submitted <time title=\"Mon Jan 22 14:51:38 2018 UTC\" datetime=\"2018-01-22T14:51:38+00:00\" class=\"live-timestamp\">8 hours ago</time> by <a href=\"https://www.reddit.com/user/captainhowdy27\" class=\"author may-blank id-t2_3zzfm\">captainhowdy27</a><span class=\"userattrs\"></span> to <a href=\"https://www.reddit.com/r/reactiongifs/\" class=\"subreddit hover may-blank\">r/reactiongifs</a></p><ul class=\"flat-list buttons\"><li class=\"first\"><a href=\"https://www.reddit.com/r/reactiongifs/comments/7s67zn/when_my_wife_and_i_come_home_from_a_date_night/\" data-inbound-url=\"/r/reactiongifs/comments/7s67zn/when_my_wife_and_i_come_home_from_a_date_night/?utm_content=comments&amp;utm_medium=hot&amp;utm_source=reddit&amp;utm_name=frontpage\" data-href-url=\"/r/reactiongifs/comments/7s67zn/when_my_wife_and_i_come_home_from_a_date_night/\" data-event-action=\"comments\" class=\"bylink comments may-blank\" rel=\"nofollow\">1143 comments</a></li><li class=\"share\"><a class=\"post-sharing-button\" href=\"javascript: void 0;\">share</a></li><li class=\"link-save-button save-button login-required\"><a href=\"#\">save</a></li><li><form action=\"/post/hide\" method=\"post\" class=\"state-button hide-button\"><input type=\"hidden\" name=\"executed\" value=\"hidden\" /><span><a href=\"javascript:void(0)\" class=\" \" data-event-action=\"hide\" onclick=\"change_state(this, 'hide', hide_thing);\">hide</a></span></form></li><li class=\"report-button login-required\"><a href=\"javascript:void(0)\" class=\"reportbtn access-required\" data-event-action=\"report\">report</a></li></ul><div class=\"reportform report-t3_7s67zn\"></div></div><div class=\"expando expando-uninitialized\" style=\"display: none\" data-cachedhtml=\" &lt;div class=&quot;media-preview&quot; id=&quot;media-preview-7s67zn&quot; style=&quot;max-width: 728px&quot;&gt; &lt;div class=&quot;media-preview-content&quot;&gt; &lt;a href=&quot;https://i.imgur.com/7wD9p9N.gifv&quot; class=&quot;may-blank&quot;&gt; &lt;video class=&quot;preview&quot; preload=&quot;auto&quot; autoplay=&quot;autoplay&quot; muted=&quot;muted&quot; loop=&quot;loop&quot; webkit-playsinline=&quot;&quot; style=&quot;width: 728px; height: 408px;&quot;&gt; &lt;source src=&quot;https://g.redditmedia.com/sTsw0Az40J9Kz24_2PW2s5Jq5FuOmlY_CpNVrOG7Q6M.gif?w=728&amp;amp;fm=mp4&amp;amp;mp4-fragmented=false&amp;amp;s=804ea9f16316e87be94bdf0085768b7e&quot; type=&quot;video/mp4&quot;&gt; &lt;/video&gt; &lt;/a&gt; &lt;/div&gt; &lt;/div&gt; \" data-pin-condition=\"function() {return this.style.display != 'none';}\"><span class=\"error\">loading...</span></div></div><div class=\"child\"></div><div class=\"clearleft\"></div></div><div class=\"clearleft\"></div><div class=\" thing id-t3_7s6dfh linkflair linkflair-three even  link \" id=\"thing_t3_7s6dfh\" onclick=\"click_thing(this)\" data-fullname=\"t3_7s6dfh\" data-type=\"link\" data-whitelist-status=\"house_only\" data-author=\"Stricklander\" data-author-fullname=\"t2_riahh0h\" data-subreddit=\"Wellthatsucks\" data-subreddit-prefixed=\"r/Wellthatsucks\" data-subreddit-fullname=\"t5_2xcv7\" data-timestamp=\"1516634097000\" data-url=\"https://i.imgur.com/ARROYYB.gifv\" data-permalink=\"/r/Wellthatsucks/comments/7s6dfh/shit_happens/\" data-domain=\"i.imgur.com\" data-rank=\"20\" data-comments-count=\"776\" data-score=\"18123\" data-num-crossposts=\"0\" data-context=\"listing\"><p class=\"parent\"></p><span class=\"rank\">20</span><div class=\"midcol unvoted\"><div class=\"arrow up login-required access-required\" data-event-action=\"upvote\" role=\"button\" aria-label=\"upvote\" tabindex=\"0\"></div><div class=\"score dislikes\" title=\"18119\">18.1k</div><div class=\"score unvoted\" title=\"18120\">18.1k</div><div class=\"score likes\" title=\"18121\">18.1k</div><div class=\"arrow down login-required access-required\" data-event-action=\"downvote\" role=\"button\" aria-label=\"downvote\" tabindex=\"0\"></div></div><a class=\"thumbnail invisible-when-pinned may-blank outbound\" data-event-action=\"thumbnail\" href=\"https://i.imgur.com/ARROYYB.gifv\" data-href-url=\"https://i.imgur.com/ARROYYB.gifv\" data-outbound-url=\"https://out.reddit.com/t3_7s6dfh?url=https%3A%2F%2Fi.imgur.com%2FARROYYB.gifv&amp;token=AQAA9npmWpwfX_e3zB2VP7PDJ4zFEcuU4W3IL-KDip7rFdnNK59w&amp;app_name=reddit.com\" data-outbound-expiration=\"1516665590000\" rel=\"\"><img src=\"//b.thumbs.redditmedia.com/uD7OWUFc6agqUT8V26yMNXFK4bp6b0m12Az1z_gSHdQ.jpg\" width=\"70\" height=\"52\" alt=\"\" /></a><div class=\"entry unvoted\"><div class=\"top-matter\"><p class=\"title\"><a class=\"title may-blank outbound\" data-event-action=\"title\" href=\"https://i.imgur.com/ARROYYB.gifv\" tabindex=\"1\" data-href-url=\"https://i.imgur.com/ARROYYB.gifv\" data-outbound-url=\"https://out.reddit.com/t3_7s6dfh?url=https%3A%2F%2Fi.imgur.com%2FARROYYB.gifv&amp;token=AQAA9npmWpwfX_e3zB2VP7PDJ4zFEcuU4W3IL-KDip7rFdnNK59w&amp;app_name=reddit.com\" data-outbound-expiration=\"1516665590000\" rel=\"\">Shit happens</a><span class=\"linkflairlabel\" title=\"/r/all\">/r/all</span> <span class=\"domain\">(<a href=\"/domain/i.imgur.com/\">i.imgur.com</a>)</span></p><div class=\"expando-button collapsed hide-when-pinned video\"></div><p class=\"tagline \">submitted <time title=\"Mon Jan 22 15:14:57 2018 UTC\" datetime=\"2018-01-22T15:14:57+00:00\" class=\"live-timestamp\">7 hours ago</time> by <a href=\"https://www.reddit.com/user/Stricklander\" class=\"author may-blank id-t2_riahh0h\">Stricklander</a><span class=\"userattrs\"></span> to <a href=\"https://www.reddit.com/r/Wellthatsucks/\" class=\"subreddit hover may-blank\">r/Wellthatsucks</a></p><ul class=\"flat-list buttons\"><li class=\"first\"><a href=\"https://www.reddit.com/r/Wellthatsucks/comments/7s6dfh/shit_happens/\" data-inbound-url=\"/r/Wellthatsucks/comments/7s6dfh/shit_happens/?utm_content=comments&amp;utm_medium=hot&amp;utm_source=reddit&amp;utm_name=frontpage\" data-href-url=\"/r/Wellthatsucks/comments/7s6dfh/shit_happens/\" data-event-action=\"comments\" class=\"bylink comments may-blank\" rel=\"nofollow\">776 comments</a></li><li class=\"share\"><a class=\"post-sharing-button\" href=\"javascript: void 0;\">share</a></li><li class=\"link-save-button save-button login-required\"><a href=\"#\">save</a></li><li><form action=\"/post/hide\" method=\"post\" class=\"state-button hide-button\"><input type=\"hidden\" name=\"executed\" value=\"hidden\" /><span><a href=\"javascript:void(0)\" class=\" \" data-event-action=\"hide\" onclick=\"change_state(this, 'hide', hide_thing);\">hide</a></span></form></li><li class=\"report-button login-required\"><a href=\"javascript:void(0)\" class=\"reportbtn access-required\" data-event-action=\"report\">report</a></li></ul><div class=\"reportform report-t3_7s6dfh\"></div></div><div class=\"expando expando-uninitialized\" style=\"display: none\" data-cachedhtml=\" &lt;div class=&quot;media-preview&quot; id=&quot;media-preview-7s6dfh&quot; style=&quot;max-width: 728px&quot;&gt; &lt;div class=&quot;media-preview-content&quot;&gt; &lt;a href=&quot;https://i.imgur.com/ARROYYB.gifv&quot; class=&quot;may-blank&quot;&gt; &lt;video class=&quot;preview&quot; preload=&quot;auto&quot; autoplay=&quot;autoplay&quot; muted=&quot;muted&quot; loop=&quot;loop&quot; webkit-playsinline=&quot;&quot; style=&quot;width: 728px; height: 546px;&quot;&gt; &lt;source src=&quot;https://g.redditmedia.com/cCswTXAiJRd-PGUIwUZVs87TBNPhs1fkncgqWI_VAOY.gif?w=728&amp;amp;fm=mp4&amp;amp;mp4-fragmented=false&amp;amp;s=a5c1a09933d267b61caa31825b6fb4d5&quot; type=&quot;video/mp4&quot;&gt; &lt;/video&gt; &lt;/a&gt; &lt;/div&gt; &lt;/div&gt; \" data-pin-condition=\"function() {return this.style.display != 'none';}\"><span class=\"error\">loading...</span></div></div><div class=\"child\"></div><div class=\"clearleft\"></div></div><div class=\"clearleft\"></div><div class=\" thing id-t3_7s6fsk linkflair linkflair-repost odd  link \" id=\"thing_t3_7s6fsk\" onclick=\"click_thing(this)\" data-fullname=\"t3_7s6fsk\" data-type=\"link\" data-whitelist-status=\"all_ads\" data-author=\"wigzisonfire\" data-author-fullname=\"t2_5v3pi\" data-kind=\"gif\" data-subreddit=\"Whatcouldgowrong\" data-subreddit-prefixed=\"r/Whatcouldgowrong\" data-subreddit-fullname=\"t5_2x2oy\" data-timestamp=\"1516634706000\" data-url=\"https://v.redd.it/vzvup05hzmb01\" data-permalink=\"/r/Whatcouldgowrong/comments/7s6fsk/skating_down_this_steep_road_with_the_boys_wcgw/\" data-domain=\"v.redd.it\" data-rank=\"21\" data-comments-count=\"501\" data-score=\"16901\" data-num-crossposts=\"2\" data-context=\"listing\"><p class=\"parent\"></p><span class=\"rank\">21</span><div class=\"midcol unvoted\"><div class=\"arrow up login-required access-required\" data-event-action=\"upvote\" role=\"button\" aria-label=\"upvote\" tabindex=\"0\"></div><div class=\"score dislikes\" title=\"19146\">19.1k</div><div class=\"score unvoted\" title=\"19147\">19.1k</div><div class=\"score likes\" title=\"19148\">19.1k</div><div class=\"arrow down login-required access-required\" data-event-action=\"downvote\" role=\"button\" aria-label=\"downvote\" tabindex=\"0\"></div></div><a class=\"thumbnail invisible-when-pinned may-blank \" data-event-action=\"thumbnail\" href=\"/r/Whatcouldgowrong/comments/7s6fsk/skating_down_this_steep_road_with_the_boys_wcgw/\" data-href-url=\"/r/Whatcouldgowrong/comments/7s6fsk/skating_down_this_steep_road_with_the_boys_wcgw/\" data-inbound-url=\"/r/Whatcouldgowrong/comments/7s6fsk/skating_down_this_steep_road_with_the_boys_wcgw/?utm_content=thumbnail&amp;utm_medium=hot&amp;utm_source=reddit&amp;utm_name=frontpage\" rel=\"\"><img src=\"//b.thumbs.redditmedia.com/4NnaSnnCk8PGG7oesgUt2s0bF9aE3s_U-3-1qj13Kho.jpg\" width=\"70\" height=\"39\" alt=\"\" /><div class=\"duration-overlay\">0:29</div></a><div class=\"entry unvoted\"><div class=\"top-matter\"><p class=\"title\"><a class=\"title may-blank \" data-event-action=\"title\" href=\"/r/Whatcouldgowrong/comments/7s6fsk/skating_down_this_steep_road_with_the_boys_wcgw/\" tabindex=\"1\" data-href-url=\"/r/Whatcouldgowrong/comments/7s6fsk/skating_down_this_steep_road_with_the_boys_wcgw/\" data-inbound-url=\"/r/Whatcouldgowrong/comments/7s6fsk/skating_down_this_steep_road_with_the_boys_wcgw/?utm_content=title&amp;utm_medium=hot&amp;utm_source=reddit&amp;utm_name=frontpage\" rel=\"\">Skating down this steep road with the boys... WCGW?</a><span class=\"linkflairlabel\" title=\"Repost\">Repost</span> <span class=\"domain\">(<a href=\"/domain/v.redd.it/\">v.redd.it</a>)</span></p><div class=\"expando-button collapsed hide-when-pinned video\"></div><p class=\"tagline \">submitted <time title=\"Mon Jan 22 15:25:06 2018 UTC\" datetime=\"2018-01-22T15:25:06+00:00\" class=\"live-timestamp\">6 hours ago</time> by <a href=\"https://www.reddit.com/user/wigzisonfire\" class=\"author may-blank id-t2_5v3pi\">wigzisonfire</a><span class=\"userattrs\"></span> to <a href=\"https://www.reddit.com/r/Whatcouldgowrong/\" class=\"subreddit hover may-blank\">r/Whatcouldgowrong</a></p><ul class=\"flat-list buttons\"><li class=\"first\"><a href=\"https://www.reddit.com/r/Whatcouldgowrong/comments/7s6fsk/skating_down_this_steep_road_with_the_boys_wcgw/\" data-inbound-url=\"/r/Whatcouldgowrong/comments/7s6fsk/skating_down_this_steep_road_with_the_boys_wcgw/?utm_content=comments&amp;utm_medium=hot&amp;utm_source=reddit&amp;utm_name=frontpage\" data-href-url=\"/r/Whatcouldgowrong/comments/7s6fsk/skating_down_this_steep_road_with_the_boys_wcgw/\" data-event-action=\"comments\" class=\"bylink comments may-blank\" rel=\"nofollow\">561 comments</a></li><li class=\"share\"><a class=\"post-sharing-button\" href=\"javascript: void 0;\">share</a></li><li class=\"link-save-button save-button login-required\"><a href=\"#\">save</a></li><li><form action=\"/post/hide\" method=\"post\" class=\"state-button hide-button\"><input type=\"hidden\" name=\"executed\" value=\"hidden\" /><span><a href=\"javascript:void(0)\" class=\" \" data-event-action=\"hide\" onclick=\"change_state(this, 'hide', hide_thing);\">hide</a></span></form></li><li class=\"report-button login-required\"><a href=\"javascript:void(0)\" class=\"reportbtn access-required\" data-event-action=\"report\">report</a></li></ul><div class=\"reportform report-t3_7s6fsk\"></div></div><div class=\"expando expando-uninitialized\" style=\"display: none\" data-cachedhtml=\" &lt;div class=&quot;media-preview no-constraints-when-pinned&quot; id=&quot;media-preview-7s6fsk&quot; style=&quot;max-width: 864.0px; min-width: 486px; max-height: 486px; min-height: 273px; overflow: hidden;&quot; &gt; &lt;div class=&quot;media-preview-content video-player&quot;&gt; &lt;div class=&quot;no-constraints-when-pinned&quot; style=&quot;max-width: 864.0px; min-width: 486px; max-height: 486px; min-height: 273px&quot; &gt; &lt;div id=&quot;video-7s6fsk&quot; class=&quot;landscape&quot; data-hls-url=&quot;https://v.redd.it/vzvup05hzmb01/HLSPlaylist.m3u8&quot; data-id-36=&quot;7s6fsk&quot; data-link-url=&quot;/r/Whatcouldgowrong/comments/7s6fsk/skating_down_this_steep_road_with_the_boys_wcgw/&quot; data-mpd-url=&quot;https://v.redd.it/vzvup05hzmb01/DASHPlaylist.mpd&quot; data-obfuscated-poster-url=&quot;&quot; data-orientation=&quot;landscape&quot; data-seek-preview-url=&quot;https://v.redd.it/vzvup05hzmb01/DASH_600_K&quot; data-video-height=&quot;486&quot; data-video-width=&quot;864.0&quot; data-pinned-height=&quot;135&quot; data-pinned-width=&quot;240.0&quot; data-max-pinned-width=&quot;240&quot; &gt;&lt;/div&gt; &lt;script type=&quot;text/javascript&quot;&gt; (function() { var thing = {&quot;obfuscatedPosterUrl&quot;: null, &quot;context&quot;: &quot;listing&quot;, &quot;isGif&quot;: true}; var autoplay = true; if (thing.obfuscatedPosterUrl){ autoplay = false; } if (thing.context === &quot;comments&quot; &amp;&amp; r.config.pref_no_video_autoplay){ autoplay = false; } var play_pause_click_action = autoplay ? &quot;pause&quot; : &quot;play&quot;; var play_pause_click_toggle_action = autoplay ? &quot;play&quot; : &quot;pause&quot;; var play_pause_vector_from = autoplay ? &quot;M3,3 L18,10.5 18,25.5 3,33 3,3 M18,10.5 L33,18 33,18 18,25.5 18,10.5&quot; : &quot;M3,3 L15,3 15,33 3,33 3,3 M21,3 L33,3 33,33 21,33 21,3&quot;; var play_pause_vector_to = autoplay ? &quot;M3,3 L15,3 15,33 3,33 3,3 M21,3 L33,3 33,33 21,33 21,3&quot; : &quot;M3,3 L18,10.5 18,25.5 3,33 3,3 M18,10.5 L33,18 33,18 18,25.5 18,10.5&quot;; var videoPlayerElement = $(&quot;#video-7s6fsk&quot;); var isMobile = /Mobi/i.test(navigator.userAgent); var canPlayDash = (typeof (window.MediaSource || window.WebKitMediaSource) === &quot;function&quot;); var videoOptions = { id: videoPlayerElement.data(&quot;id36&quot;), linkUrl: videoPlayerElement.data(&quot;linkUrl&quot;), src: canPlayDash ? videoPlayerElement.data(&quot;mpdUrl&quot;) : videoPlayerElement.data(&quot;hlsUrl&quot;), type: canPlayDash ? RedditVideoPlayer.Types.MPD : RedditVideoPlayer.Types.HLS, autoplay: autoplay, poster: null, loop: true, orientation: videoPlayerElement.data(&quot;orientation&quot;), }; if (isMobile) { videoOptions.controls = true; } var redditVideoPlayer = new RedditVideoPlayer(videoPlayerElement, videoOptions); videoPlayerElement.data(&quot;video-player-object&quot;, redditVideoPlayer); redditVideoPlayer.setAspectRatio(videoPlayerElement.data(&quot;videoHeight&quot;) / videoPlayerElement.data(&quot;videoWidth&quot;)); if (!isMobile) { var bufferingControlsTree = $.parseHTML( '&lt;div class=&quot;buffering-controls&quot;&gt;' + '&lt;div class=&quot;centered horizontal&quot;&gt;' + '&lt;div class=&quot;buffering-indicator active&quot;&gt;' + '&lt;div class=&quot;spinner-layer&quot;&gt;' + '&lt;div class=&quot;circle-clipper left&quot;&gt;' + '&lt;div class=&quot;circle&quot;&gt;&lt;/div&gt;' + '&lt;/div&gt;' + '&lt;div class=&quot;gap-patch&quot;&gt;' + '&lt;div class=&quot;circle&quot;&gt;&lt;/div&gt;' + '&lt;/div&gt;' + '&lt;div class=&quot;circle-clipper right&quot;&gt;' + '&lt;div class=&quot;circle&quot;&gt;&lt;/div&gt;' + '&lt;/div&gt;' + '&lt;/div&gt;' + '&lt;/div&gt;' + '&lt;/div&gt;' + '&lt;/div&gt;' ); var bufferingControlsOptions = { behavior: RedditVideoController.Behaviors.BUFFERING, startVisible: false, fadeInDuration: 0, fadeOutDuration: 0, }; var bufferingControls = new RedditVideoController(bufferingControlsTree, bufferingControlsOptions); redditVideoPlayer.addUiController(bufferingControls); var playbackControlsTree = $.parseHTML( '&lt;div class=&quot;playback-controls right bottom left hide-when-pinned&quot;&gt;' + '&lt;a class=&quot;permalink&quot; ' + 'data-control-type=&quot;click&quot; ' + 'href=&quot;/r/Whatcouldgowrong/comments/7s6fsk/skating_down_this_steep_road_with_the_boys_wcgw/&quot;&gt;' + '&lt;img src=&quot;//www.redditstatic.com/video-snoo.svg&quot; /&gt;' + '&lt;/a&gt;' + '&lt;button ' + 'class=&quot;play-pause&quot; ' + 'data-control-type=&quot;click&quot; ' + 'data-action=&quot;' + play_pause_click_action + '&quot; ' + 'data-toggle-action=&quot;' + play_pause_click_toggle_action + '&quot;&gt;' + '&lt;svg class=&quot;play-pause&quot; viewbox=&quot;0 0 36 36&quot;&gt;' + '&lt;path d=&quot;' + play_pause_vector_to + '&quot;&gt;' + '&lt;animate ' + 'begin=&quot;indefinite&quot; ' + 'attributeType=&quot;XML&quot; ' + 'attributeName=&quot;d&quot; ' + 'fill=&quot;freeze&quot; ' + 'to=&quot;' + play_pause_vector_to + '&quot; ' + 'from=&quot;' + play_pause_vector_from + '&quot; ' + 'dur=&quot;0.1s&quot; ' + 'keySplines=&quot;.4 0 1 1&quot; ' + 'repeat=&quot;1&quot;&gt;' + '&lt;/animate&gt;' + '&lt;/path&gt;' + '&lt;/svg&gt;' + '&lt;/button&gt;' + '&lt;span class=&quot;time-label&quot; ' + 'data-control-type=&quot;text&quot; ' + 'data-action=&quot;elapsedTime&quot;&gt;' + '0:00' + '&lt;/span&gt;' + '&lt;div data-control-type=&quot;seekBar&quot; ' + 'data-preview-video-src=&quot;' + videoPlayerElement.data('seekPreviewUrl') + '&quot;&gt;' + '&lt;/div&gt;' + '&lt;span class=&quot;time-label&quot; ' + 'data-control-type=&quot;text&quot; ' + 'data-action=&quot;totalTime&quot;&gt;' + '0:00' + '&lt;/span&gt;' + '&lt;div class=&quot;settings-container&quot;&gt;' + '&lt;label class=&quot;settings has-submenu&quot; data-control-type=&quot;click&quot;&gt;' + '&lt;input class=&quot;settings&quot; type=&quot;checkbox&quot;&gt;' + '&lt;img class=&quot;settings-open&quot; src=&quot;//www.redditstatic.com/video-settings.svg&quot;&gt;' + '&lt;img class=&quot;settings-close&quot; src=&quot;//www.redditstatic.com/video-settings-open.svg&quot;&gt;' + '&lt;span class=&quot;submenu&quot;&gt;' + '&lt;div data-control-type=&quot;settingsMenu&quot;&gt;&lt;/div&gt;' + '&lt;/span&gt;' + '&lt;/label&gt;' + '&lt;/div&gt;' + '&lt;button class=&quot;fullscreen&quot; ' + 'data-control-type=&quot;click&quot; ' + 'data-action=&quot;fullscreenRequest&quot; ' + 'data-toggle-action=&quot;fullscreenCancel&quot;&gt;' + '&lt;img class=&quot;expand&quot; src=&quot;//www.redditstatic.com/video-expand.svg&quot;&gt;' + '&lt;img class=&quot;collapse&quot; src=&quot;//www.redditstatic.com/video-collapse.svg&quot;&gt;' + '&lt;/button&gt;' + '&lt;/div&gt;' ); var playbackControlsOptions = { behavior: RedditVideoController.Behaviors.MOUSE_MOVE, }; var playbackControls = new RedditVideoController(playbackControlsTree, playbackControlsOptions); redditVideoPlayer.addUiController(playbackControls); if(r.config.pref_no_video_autoplay &amp;&amp; thing.context === &quot;comments&quot;) { var interstitialControlsTree = $.parseHTML( '&lt;div class=&quot;interstitial-controls hide-when-pinned&quot;&gt;' + '&lt;div class=&quot;centered vertical&quot;&gt;' + '&lt;button data-control-type=&quot;click&quot; data-action=&quot;play&quot;&gt;' + '&lt;svg class=&quot;play-pause&quot; viewbox=&quot;0 0 36 36&quot;&gt;' + '&lt;path d=&quot;M3,3 L18,10.5 18,25.5 3,33 3,3 M18,10.5 L33,18 33,18 18,25.5 18,10.5&quot;&gt;&lt;/path&gt;' + '&lt;/svg&gt;' + '&lt;/button&gt;' + '&lt;/div&gt;' + '&lt;/div&gt;' ); var interstitialControlsOptions = { behavior: RedditVideoController.Behaviors.INTERSTITIAL, startVisible: true, fadeInDuration: 0, fadeOutDuration: 400, }; var interstitialControls = new RedditVideoController(interstitialControlsTree, interstitialControlsOptions); redditVideoPlayer.addUiController(interstitialControls); } $(playbackControlsTree).find('input.settings').change(function() { if ($(this).is(':checked')) { firePlayerEvent.call(redditVideoPlayer, null, null, {verb: 'click', noun: 'settings'}); redditVideoPlayer.setClickAction(RedditVideoPlayer.ClickActions.NONE); } else { redditVideoPlayer.setClickAction(RedditVideoPlayer.ClickActions.PLAY_PAUSE); } }); } var playPauseButtons = $(videoPlayerElement).find(&quot;button.play-pause&quot;); var isPlaying = autoplay; redditVideoPlayer.addActionCompletedCallback(function(action, value) { if ((action == RedditVideoPlayer.Actions.PLAY &amp;&amp; !isPlaying) || (action == RedditVideoPlayer.Actions.PAUSE &amp;&amp; isPlaying)) { playPauseButtons.each(function() { var animation = $(this).find('animate').first(); var to = animation.attr('to'); var from = animation.attr('from'); animation.attr({ &quot;from&quot;: to, &quot;to&quot;: from }); if ('beginElement' in animation[0]) { animation.get(0) .beginElement(); } else { var path = $(this).find('path'); path.attr({&quot;d&quot;: from}); } }); isPlaying = !isPlaying; } var settings = $(playbackControlsTree).find(&quot;input.settings&quot;); if (settings.prop(&quot;checked&quot;)) { settings.prop(&quot;checked&quot;, false); redditVideoPlayer.setClickAction(RedditVideoPlayer.ClickActions.PLAY_PAUSE); } }); function firePlayerEvent(action, value, extras) { extras = (typeof extras === 'object') ? extras : {}; var verb = extras.verb || ''; var noun = extras.noun || ''; var source = extras.source || 'videoplayer'; var maxTimestamp = this.maxPlayed * 1000; var durationMs = this.duration * 1000; var timeMs = this.currentTime * 1000; var pinnableElement = $(this.root).closest('.pinnable-content'); var targetElement = $(this.root).closest('.thing.link'); var targetData = targetElement.data(); var videoState = { maxTimestampServed: parseInt(maxTimestamp), percentServed: maxTimestamp / durationMs, duration: parseInt(durationMs), time: parseInt(timeMs), isNsfw: targetElement.hasClass('over18'), isSpoiler: targetElement.hasClass('spoiler'), isPinned: pinnableElement.hasClass('pinned'), isVertical: this.orientation === RedditVideoPlayer.Orientations.PORTRAIT, }; r.analytics.videoPlayerEvent(source, verb, noun, targetData, videoState); } redditVideoPlayer.addActionCompletedCallback(firePlayerEvent); $(playbackControlsTree).find('a.permalink').click(function() { firePlayerEvent.call(redditVideoPlayer, null, null, {verb: 'click', noun: 'snoo'}); }); })(); &lt;/script&gt; &lt;/div&gt; &lt;/div&gt; &lt;/div&gt; \" data-pin-condition=\"function() {return this.style.display != 'none';}\"><span class=\"error\">loading...</span></div></div><div class=\"child\"></div><div class=\"clearleft\"></div></div><div class=\"clearleft\"></div><div class=\" thing id-t3_7s6br0 linkflair linkflair-discussion even  link \" id=\"thing_t3_7s6br0\" onclick=\"click_thing(this)\" data-fullname=\"t3_7s6br0\" data-type=\"link\" data-whitelist-status=\"all_ads\" data-author=\"Bwuhbwuh\" data-author-fullname=\"t2_exb5u\" data-subreddit=\"Music\" data-subreddit-prefixed=\"r/Music\" data-subreddit-fullname=\"t5_2qh1u\" data-timestamp=\"1516633683000\" data-url=\"https://www.facebook.com/slayer/videos/10155906076635390\" data-permalink=\"/r/Music/comments/7s6br0/metal_giants_slayer_are_calling_it_quits_after/\" data-domain=\"facebook.com\" data-rank=\"22\" data-comments-count=\"1460\" data-score=\"20346\" data-num-crossposts=\"0\" data-context=\"listing\"><p class=\"parent\"></p><span class=\"rank\">22</span><div class=\"midcol unvoted\"><div class=\"arrow up login-required access-required\" data-event-action=\"upvote\" role=\"button\" aria-label=\"upvote\" tabindex=\"0\"></div><div class=\"score dislikes\" title=\"20342\">20.3k</div><div class=\"score unvoted\" title=\"20343\">20.3k</div><div class=\"score likes\" title=\"20344\">20.3k</div><div class=\"arrow down login-required access-required\" data-event-action=\"downvote\" role=\"button\" aria-label=\"downvote\" tabindex=\"0\"></div></div><a class=\"thumbnail invisible-when-pinned default may-blank outbound\" data-event-action=\"thumbnail\" href=\"https://www.facebook.com/slayer/videos/10155906076635390\" data-href-url=\"https://www.facebook.com/slayer/videos/10155906076635390\" data-outbound-url=\"https://out.reddit.com/t3_7s6br0?url=https%3A%2F%2Fwww.facebook.com%2Fslayer%2Fvideos%2F10155906076635390&amp;token=AQAA9npmWnbYRnzJpu-bndSdvNkMAUVGINKboWcJ0IERp-x5S9dE&amp;app_name=reddit.com\" data-outbound-expiration=\"1516665590000\" rel=\"\"></a><div class=\"entry unvoted\"><div class=\"top-matter\"><p class=\"title\"><a class=\"title may-blank outbound\" data-event-action=\"title\" href=\"https://www.facebook.com/slayer/videos/10155906076635390\" tabindex=\"1\" data-href-url=\"https://www.facebook.com/slayer/videos/10155906076635390\" data-outbound-url=\"https://out.reddit.com/t3_7s6br0?url=https%3A%2F%2Fwww.facebook.com%2Fslayer%2Fvideos%2F10155906076635390&amp;token=AQAA9npmWnbYRnzJpu-bndSdvNkMAUVGINKboWcJ0IERp-x5S9dE&amp;app_name=reddit.com\" data-outbound-expiration=\"1516665590000\" rel=\"\">Metal giants Slayer are calling it quits after one more world tour</a><span class=\"linkflairlabel\" title=\"discussion\">discussion</span> <span class=\"domain\">(<a href=\"/domain/facebook.com/\">facebook.com</a>)</span></p><p class=\"tagline \">submitted <time title=\"Mon Jan 22 15:08:03 2018 UTC\" datetime=\"2018-01-22T15:08:03+00:00\" class=\"live-timestamp\">7 hours ago</time> by <a href=\"https://www.reddit.com/user/Bwuhbwuh\" class=\"author cakeday may-blank id-t2_exb5u\">Bwuhbwuh</a><span class=\"userattrs\">[<a class=\"cakeday\" title=\"Bwuhbwuh just celebrated a reddit birthday!\" href=\"/user/Bwuhbwuh\">🍰</a>]</span> to <a href=\"https://www.reddit.com/r/Music/\" class=\"subreddit hover may-blank\">r/Music</a></p><ul class=\"flat-list buttons\"><li class=\"first\"><a href=\"https://www.reddit.com/r/Music/comments/7s6br0/metal_giants_slayer_are_calling_it_quits_after/\" data-inbound-url=\"/r/Music/comments/7s6br0/metal_giants_slayer_are_calling_it_quits_after/?utm_content=comments&amp;utm_medium=hot&amp;utm_source=reddit&amp;utm_name=frontpage\" data-href-url=\"/r/Music/comments/7s6br0/metal_giants_slayer_are_calling_it_quits_after/\" data-event-action=\"comments\" class=\"bylink comments may-blank\" rel=\"nofollow\">1460 comments</a></li><li class=\"share\"><a class=\"post-sharing-button\" href=\"javascript: void 0;\">share</a></li><li class=\"link-save-button save-button login-required\"><a href=\"#\">save</a></li><li><form action=\"/post/hide\" method=\"post\" class=\"state-button hide-button\"><input type=\"hidden\" name=\"executed\" value=\"hidden\" /><span><a href=\"javascript:void(0)\" class=\" \" data-event-action=\"hide\" onclick=\"change_state(this, 'hide', hide_thing);\">hide</a></span></form></li><li class=\"report-button login-required\"><a href=\"javascript:void(0)\" class=\"reportbtn access-required\" data-event-action=\"report\">report</a></li></ul><div class=\"reportform report-t3_7s6br0\"></div></div></div><div class=\"child\"></div><div class=\"clearleft\"></div></div><div class=\"clearleft\"></div><div class=\" thing id-t3_7s6jdd odd  link \" id=\"thing_t3_7s6jdd\" onclick=\"click_thing(this)\" data-fullname=\"t3_7s6jdd\" data-type=\"link\" data-whitelist-status=\"all_ads\" data-author=\"Khaleeasi24\" data-author-fullname=\"t2_dquveq6\" data-subreddit=\"todayilearned\" data-subreddit-prefixed=\"r/todayilearned\" data-subreddit-fullname=\"t5_2qqjc\" data-timestamp=\"1516635581000\" data-url=\"https://en.wikipedia.org/wiki/Jason_Segel\" data-permalink=\"/r/todayilearned/comments/7s6jdd/til_jason_segel_how_i_met_your_mother_forgetting/\" data-domain=\"en.wikipedia.org\" data-rank=\"23\" data-comments-count=\"581\" data-score=\"31516\" data-num-crossposts=\"0\" data-context=\"listing\"><p class=\"parent\"></p><span class=\"rank\">23</span><div class=\"midcol unvoted\"><div class=\"arrow up login-required access-required\" data-event-action=\"upvote\" role=\"button\" aria-label=\"upvote\" tabindex=\"0\"></div><div class=\"score dislikes\" title=\"31518\">31.5k</div><div class=\"score unvoted\" title=\"31519\">31.5k</div><div class=\"score likes\" title=\"31520\">31.5k</div><div class=\"arrow down login-required access-required\" data-event-action=\"downvote\" role=\"button\" aria-label=\"downvote\" tabindex=\"0\"></div></div><a class=\"thumbnail invisible-when-pinned may-blank outbound\" data-event-action=\"thumbnail\" href=\"https://en.wikipedia.org/wiki/Jason_Segel\" data-href-url=\"https://en.wikipedia.org/wiki/Jason_Segel\" data-outbound-url=\"https://out.reddit.com/t3_7s6jdd?url=https%3A%2F%2Fen.wikipedia.org%2Fwiki%2FJason_Segel&amp;token=AQAA9npmWg-aiVlEPYiSRbTqmwCM7Wk-1CoK5ok4o3PoSqcIn585&amp;app_name=reddit.com\" data-outbound-expiration=\"1516665590000\" rel=\"\"><img src=\"//b.thumbs.redditmedia.com/p6myMWeQmQg_oezb0JLW8M7KTHhL0qT7CJeWvZktDGg.jpg\" width=\"70\" height=\"70\" alt=\"\" /></a><div class=\"entry unvoted\"><div class=\"top-matter\"><p class=\"title\"><a class=\"title may-blank outbound\" data-event-action=\"title\" href=\"https://en.wikipedia.org/wiki/Jason_Segel\" tabindex=\"1\" data-href-url=\"https://en.wikipedia.org/wiki/Jason_Segel\" data-outbound-url=\"https://out.reddit.com/t3_7s6jdd?url=https%3A%2F%2Fen.wikipedia.org%2Fwiki%2FJason_Segel&amp;token=AQAA9npmWg-aiVlEPYiSRbTqmwCM7Wk-1CoK5ok4o3PoSqcIn585&amp;app_name=reddit.com\" data-outbound-expiration=\"1516665590000\" rel=\"\">TIL Jason Segel (How I Met Your Mother, Forgetting Sarah Marshall, I Love You, Man, etc) wore a Superman cape underneath his clothing until he was 13, \"just in case there was trouble.\"</a> <span class=\"domain\">(<a href=\"/domain/en.wikipedia.org/\">en.wikipedia.org</a>)</span></p><p class=\"tagline \">submitted <time title=\"Mon Jan 22 15:39:41 2018 UTC\" datetime=\"2018-01-22T15:39:41+00:00\" class=\"live-timestamp\">7 hours ago</time> by <a href=\"https://www.reddit.com/user/Khaleeasi24\" class=\"author may-blank id-t2_dquveq6\">Khaleeasi24</a><span class=\"userattrs\"></span> to <a href=\"https://www.reddit.com/r/todayilearned/\" class=\"subreddit hover may-blank\">r/todayilearned</a></p><ul class=\"flat-list buttons\"><li class=\"first\"><a href=\"https://www.reddit.com/r/todayilearned/comments/7s6jdd/til_jason_segel_how_i_met_your_mother_forgetting/\" data-inbound-url=\"/r/todayilearned/comments/7s6jdd/til_jason_segel_how_i_met_your_mother_forgetting/?utm_content=comments&amp;utm_medium=hot&amp;utm_source=reddit&amp;utm_name=frontpage\" data-href-url=\"/r/todayilearned/comments/7s6jdd/til_jason_segel_how_i_met_your_mother_forgetting/\" data-event-action=\"comments\" class=\"bylink comments may-blank\" rel=\"nofollow\">581 comments</a></li><li class=\"share\"><a class=\"post-sharing-button\" href=\"javascript: void 0;\">share</a></li><li class=\"link-save-button save-button login-required\"><a href=\"#\">save</a></li><li><form action=\"/post/hide\" method=\"post\" class=\"state-button hide-button\"><input type=\"hidden\" name=\"executed\" value=\"hidden\" /><span><a href=\"javascript:void(0)\" class=\" \" data-event-action=\"hide\" onclick=\"change_state(this, 'hide', hide_thing);\">hide</a></span></form></li><li class=\"report-button login-required\"><a href=\"javascript:void(0)\" class=\"reportbtn access-required\" data-event-action=\"report\">report</a></li></ul><div class=\"reportform report-t3_7s6jdd\"></div></div></div><div class=\"child\"></div><div class=\"clearleft\"></div></div><div class=\"clearleft\"></div><div class=\" thing id-t3_7s6cfr even  link \" id=\"thing_t3_7s6cfr\" onclick=\"click_thing(this)\" data-fullname=\"t3_7s6cfr\" data-type=\"link\" data-whitelist-status=\"all_ads\" data-author=\"LimyMonkey\" data-author-fullname=\"t2_8aier\" data-subreddit=\"blackmagicfuckery\" data-subreddit-prefixed=\"r/blackmagicfuckery\" data-subreddit-fullname=\"t5_3fn31\" data-timestamp=\"1516633847000\" data-url=\"https://i.imgur.com/q6Nu8pO.gifv\" data-permalink=\"/r/blackmagicfuckery/comments/7s6cfr/this_lego_sculptures_shadow/\" data-domain=\"i.imgur.com\" data-rank=\"24\" data-comments-count=\"154\" data-score=\"16511\" data-num-crossposts=\"0\" data-context=\"listing\"><p class=\"parent\"></p><span class=\"rank\">24</span><div class=\"midcol unvoted\"><div class=\"arrow up login-required access-required\" data-event-action=\"upvote\" role=\"button\" aria-label=\"upvote\" tabindex=\"0\"></div><div class=\"score dislikes\" title=\"16513\">16.5k</div><div class=\"score unvoted\" title=\"16514\">16.5k</div><div class=\"score likes\" title=\"16515\">16.5k</div><div class=\"arrow down login-required access-required\" data-event-action=\"downvote\" role=\"button\" aria-label=\"downvote\" tabindex=\"0\"></div></div><a class=\"thumbnail invisible-when-pinned may-blank outbound\" data-event-action=\"thumbnail\" href=\"https://i.imgur.com/q6Nu8pO.gifv\" data-href-url=\"https://i.imgur.com/q6Nu8pO.gifv\" data-outbound-url=\"https://out.reddit.com/t3_7s6cfr?url=https%3A%2F%2Fi.imgur.com%2Fq6Nu8pO.gifv&amp;token=AQAA9npmWhkKHYB8XVnVpybs0CowCVD761j2OnPCch4J-T5JkufM&amp;app_name=reddit.com\" data-outbound-expiration=\"1516665590000\" rel=\"\"><img src=\"//b.thumbs.redditmedia.com/wc0urtCpqrMyd4AGoWDzU6kWW4WhFZJ_VeAWjkUsRZc.jpg\" width=\"70\" height=\"39\" alt=\"\" /></a><div class=\"entry unvoted\"><div class=\"top-matter\"><p class=\"title\"><a class=\"title may-blank outbound\" data-event-action=\"title\" href=\"https://i.imgur.com/q6Nu8pO.gifv\" tabindex=\"1\" data-href-url=\"https://i.imgur.com/q6Nu8pO.gifv\" data-outbound-url=\"https://out.reddit.com/t3_7s6cfr?url=https%3A%2F%2Fi.imgur.com%2Fq6Nu8pO.gifv&amp;token=AQAA9npmWhkKHYB8XVnVpybs0CowCVD761j2OnPCch4J-T5JkufM&amp;app_name=reddit.com\" data-outbound-expiration=\"1516665590000\" rel=\"\">This Lego Sculpture's Shadow</a> <span class=\"domain\">(<a href=\"/domain/i.imgur.com/\">i.imgur.com</a>)</span></p><div class=\"expando-button collapsed hide-when-pinned video\"></div><p class=\"tagline \">submitted <time title=\"Mon Jan 22 15:10:47 2018 UTC\" datetime=\"2018-01-22T15:10:47+00:00\" class=\"live-timestamp\">7 hours ago</time> by <a href=\"https://www.reddit.com/user/LimyMonkey\" class=\"author may-blank id-t2_8aier\">LimyMonkey</a><span class=\"userattrs\"></span> to <a href=\"https://www.reddit.com/r/blackmagicfuckery/\" class=\"subreddit hover may-blank\">r/blackmagicfuckery</a></p><ul class=\"flat-list buttons\"><li class=\"first\"><a href=\"https://www.reddit.com/r/blackmagicfuckery/comments/7s6cfr/this_lego_sculptures_shadow/\" data-inbound-url=\"/r/blackmagicfuckery/comments/7s6cfr/this_lego_sculptures_shadow/?utm_content=comments&amp;utm_medium=hot&amp;utm_source=reddit&amp;utm_name=frontpage\" data-href-url=\"/r/blackmagicfuckery/comments/7s6cfr/this_lego_sculptures_shadow/\" data-event-action=\"comments\" class=\"bylink comments may-blank\" rel=\"nofollow\">154 comments</a></li><li class=\"share\"><a class=\"post-sharing-button\" href=\"javascript: void 0;\">share</a></li><li class=\"link-save-button save-button login-required\"><a href=\"#\">save</a></li><li><form action=\"/post/hide\" method=\"post\" class=\"state-button hide-button\"><input type=\"hidden\" name=\"executed\" value=\"hidden\" /><span><a href=\"javascript:void(0)\" class=\" \" data-event-action=\"hide\" onclick=\"change_state(this, 'hide', hide_thing);\">hide</a></span></form></li><li class=\"report-button login-required\"><a href=\"javascript:void(0)\" class=\"reportbtn access-required\" data-event-action=\"report\">report</a></li></ul><div class=\"reportform report-t3_7s6cfr\"></div></div><div class=\"expando expando-uninitialized\" style=\"display: none\" data-cachedhtml=\" &lt;div class=&quot;media-preview&quot; id=&quot;media-preview-7s6cfr&quot; style=&quot;max-width: 480px&quot;&gt; &lt;div class=&quot;media-preview-content&quot;&gt; &lt;a href=&quot;https://i.imgur.com/q6Nu8pO.gifv&quot; class=&quot;may-blank&quot;&gt; &lt;video class=&quot;preview&quot; preload=&quot;auto&quot; autoplay=&quot;autoplay&quot; muted=&quot;muted&quot; loop=&quot;loop&quot; webkit-playsinline=&quot;&quot; style=&quot;width: 480px; height: 270px;&quot;&gt; &lt;source src=&quot;https://g.redditmedia.com/IUlCpcGsE7MrT7H8WiU26lRCju2JpE2yMpIfPXM9RfA.gif?w=480&amp;amp;fm=mp4&amp;amp;mp4-fragmented=false&amp;amp;s=a3d1870b305065025247805b444de89f&quot; type=&quot;video/mp4&quot;&gt; &lt;/video&gt; &lt;/a&gt; &lt;/div&gt; &lt;/div&gt; \" data-pin-condition=\"function() {return this.style.display != 'none';}\"><span class=\"error\">loading...</span></div></div><div class=\"child\"></div><div class=\"clearleft\"></div></div><div class=\"clearleft\"></div><div class=\" thing id-t3_7s6k5t linkflair linkflair-trump odd  link \" id=\"thing_t3_7s6k5t\" onclick=\"click_thing(this)\" data-fullname=\"t3_7s6k5t\" data-type=\"link\" data-whitelist-status=\"all_ads\" data-author=\"maxwellhill\" data-author-fullname=\"t2_2yqt\" data-subreddit=\"worldnews\" data-subreddit-prefixed=\"r/worldnews\" data-subreddit-fullname=\"t5_2qh13\" data-timestamp=\"1516635768000\" data-url=\"http://thehill.com/homenews/administration/370076-trump-known-to-use-indian-accent-to-imitate-indias-prime-minister\" data-permalink=\"/r/worldnews/comments/7s6k5t/trump_used_accent_to_imitate_indias_prime/\" data-domain=\"thehill.com\" data-rank=\"25\" data-comments-count=\"2229\" data-score=\"15269\" data-num-crossposts=\"2\" data-context=\"listing\"><p class=\"parent\"></p><span class=\"rank\">25</span><div class=\"midcol unvoted\"><div class=\"arrow up login-required access-required\" data-event-action=\"upvote\" role=\"button\" aria-label=\"upvote\" tabindex=\"0\"></div><div class=\"score dislikes\" title=\"15273\">15.3k</div><div class=\"score unvoted\" title=\"15274\">15.3k</div><div class=\"score likes\" title=\"15275\">15.3k</div><div class=\"arrow down login-required access-required\" data-event-action=\"downvote\" role=\"button\" aria-label=\"downvote\" tabindex=\"0\"></div></div><a class=\"thumbnail invisible-when-pinned default may-blank outbound\" data-event-action=\"thumbnail\" href=\"http://thehill.com/homenews/administration/370076-trump-known-to-use-indian-accent-to-imitate-indias-prime-minister\" data-href-url=\"http://thehill.com/homenews/administration/370076-trump-known-to-use-indian-accent-to-imitate-indias-prime-minister\" data-outbound-url=\"https://out.reddit.com/t3_7s6k5t?url=http%3A%2F%2Fthehill.com%2Fhomenews%2Fadministration%2F370076-trump-known-to-use-indian-accent-to-imitate-indias-prime-minister&amp;token=AQAA9npmWq-UDzHkhvIvk8Js1zYKbFamZE-c-E0Ew6AzrMFVCq1w&amp;app_name=reddit.com\" data-outbound-expiration=\"1516665590000\" rel=\"\"></a><div class=\"entry unvoted\"><div class=\"top-matter\"><p class=\"title\"><a class=\"title may-blank outbound\" data-event-action=\"title\" href=\"http://thehill.com/homenews/administration/370076-trump-known-to-use-indian-accent-to-imitate-indias-prime-minister\" tabindex=\"1\" data-href-url=\"http://thehill.com/homenews/administration/370076-trump-known-to-use-indian-accent-to-imitate-indias-prime-minister\" data-outbound-url=\"https://out.reddit.com/t3_7s6k5t?url=http%3A%2F%2Fthehill.com%2Fhomenews%2Fadministration%2F370076-trump-known-to-use-indian-accent-to-imitate-indias-prime-minister&amp;token=AQAA9npmWq-UDzHkhvIvk8Js1zYKbFamZE-c-E0Ew6AzrMFVCq1w&amp;app_name=reddit.com\" data-outbound-expiration=\"1516665590000\" rel=\"\">Trump used accent to imitate India's prime minister Narendra Modi</a><span class=\"linkflairlabel\" title=\"Trump\">Trump</span> <span class=\"domain\">(<a href=\"/domain/thehill.com/\">thehill.com</a>)</span></p><p class=\"tagline \">submitted <time title=\"Mon Jan 22 15:42:48 2018 UTC\" datetime=\"2018-01-22T15:42:48+00:00\" class=\"live-timestamp\">7 hours ago</time> by <a href=\"https://www.reddit.com/user/maxwellhill\" class=\"author may-blank id-t2_2yqt\">maxwellhill</a><span class=\"userattrs\"></span> to <a href=\"https://www.reddit.com/r/worldnews/\" class=\"subreddit hover may-blank\">r/worldnews</a></p><ul class=\"flat-list buttons\"><li class=\"first\"><a href=\"https://www.reddit.com/r/worldnews/comments/7s6k5t/trump_used_accent_to_imitate_indias_prime/\" data-inbound-url=\"/r/worldnews/comments/7s6k5t/trump_used_accent_to_imitate_indias_prime/?utm_content=comments&amp;utm_medium=hot&amp;utm_source=reddit&amp;utm_name=frontpage\" data-href-url=\"/r/worldnews/comments/7s6k5t/trump_used_accent_to_imitate_indias_prime/\" data-event-action=\"comments\" class=\"bylink comments may-blank\" rel=\"nofollow\">2229 comments</a></li><li class=\"share\"><a class=\"post-sharing-button\" href=\"javascript: void 0;\">share</a></li><li class=\"link-save-button save-button login-required\"><a href=\"#\">save</a></li><li><form action=\"/post/hide\" method=\"post\" class=\"state-button hide-button\"><input type=\"hidden\" name=\"executed\" value=\"hidden\" /><span><a href=\"javascript:void(0)\" class=\" \" data-event-action=\"hide\" onclick=\"change_state(this, 'hide', hide_thing);\">hide</a></span></form></li><li class=\"report-button login-required\"><a href=\"javascript:void(0)\" class=\"reportbtn access-required\" data-event-action=\"report\">report</a></li></ul><div class=\"reportform report-t3_7s6k5t\"></div></div></div><div class=\"child\"></div><div class=\"clearleft\"></div></div><div class=\"clearleft\"></div><div class=\"nav-buttons\"><span class=\"nextprev\">view more: <span class=\"next-button\"><a href=\"https://www.reddit.com/?count=25&amp;after=t3_7s6k5t\" rel=\"nofollow next\">next ›</a></span></span></div></div></div><script id=\"archived-popup\" type=\"text/template\">&lt;div class=\"interstitial\"&gt;&lt;img class=\"interstitial-image\" src=\"//www.redditstatic.com/interstitial-image-archived.png\" alt=\"archived\" height=\"150\" width=\"150\"&gt;&lt;div class=\"interstitial-message md-container\"&gt;&lt;div class=\"md\"&gt;&lt;h3&gt;This is an archived post. You won't be able to vote or comment.&lt;/h3&gt;&lt;p&gt;Posts&amp;#32;are&amp;#32;automatically&amp;#32;archived&amp;#32;after&amp;#32;6&amp;#32;months.&lt;/p&gt;&lt;/div&gt;&lt;/div&gt;&lt;div class=\"buttons\"&gt;&lt;a href=\"/\" class=\"c-btn c-btn-primary\"&gt;Got It&lt;/a&gt;&lt;/div&gt;&lt;/div&gt;</script></div><div class=\"footer-parent\"><div by-zero=\"\" class=\"footer rounded\"><div class=\"col\"><ul class=\"flat-vert hover\"><li class=\"flat-vert title\">about</li><li><a href=\"https://www.reddit.com/blog/\" class=\"choice\">blog</a></li><li><span class=\"separator\"></span><a href=\"https://about.reddit.com/\" class=\"choice\">about</a></li><li><span class=\"separator\"></span><a href=\"https://www.reddit.com/advertising/\" class=\"choice\">advertise</a></li><li><span class=\"separator\"></span><a href=\"https://about.reddit.com/careers/\" class=\"choice\">careers</a></li></ul></div><div class=\"col\"><ul class=\"flat-vert hover\"><li class=\"flat-vert title\">help</li><li><a href=\"https://www.reddit.com/rules/\" class=\"choice\">site rules</a></li><li><span class=\"separator\"></span><a href=\"https://www.reddithelp.com\" class=\"choice\">help center</a></li><li><span class=\"separator\"></span><a href=\"https://www.reddit.com/wiki/\" class=\"choice\">wiki</a></li><li><span class=\"separator\"></span><a href=\"https://www.reddit.com/wiki/reddiquette/\" class=\"choice\">reddiquette</a></li><li><span class=\"separator\"></span><a href=\"https://www.reddit.com/help/healthycommunities/\" class=\"choice\">mod guidelines</a></li><li><span class=\"separator\"></span><a href=\"https://www.reddit.com/contact/\" class=\"choice\">contact us</a></li></ul></div><div class=\"col\"><ul class=\"flat-vert hover\"><li class=\"flat-vert title\">apps &amp; tools</li><li><a href=\"https://itunes.apple.com/us/app/reddit-the-official-app/id1064216828?mt=8\" class=\"choice\">Reddit for iPhone</a></li><li><span class=\"separator\"></span><a href=\"https://play.google.com/store/apps/details?id=com.reddit.frontpage\" class=\"choice\">Reddit for Android</a></li><li><span class=\"separator\"></span><a href=\"#\" class=\"mweb-redirect-btn choice\">mobile website</a></li><li><span class=\"separator\"></span><a href=\"https://www.reddit.com/buttons/\" class=\"choice\">buttons</a></li></ul></div><div class=\"col\"><ul class=\"flat-vert hover\"><li class=\"flat-vert title\">&lt;3</li><li><a href=\"https://www.reddit.com/gold/about/\" class=\"buygold choice\">reddit gold</a></li><li><span class=\"separator\"></span><a href=\"http://redditgifts.com\" class=\"choice\">redditgifts</a></li></ul></div></div><p class=\"bottommenu\">Use of this site constitutes acceptance of our <a href=\"https://www.reddit.com/help/useragreement\">User Agreement</a> and <a href=\"https://www.reddit.com/help/privacypolicy\">Privacy Policy</a>. © 2018 reddit inc. All rights reserved.</p><p class=\"bottommenu\">REDDIT and the ALIEN Logo are registered trademarks of reddit inc.</p></div><script>var BETA_HOST = 'beta.reddit.com'; if (location.host === BETA_HOST) { r.config.https_endpoint = 'https://' + BETA_HOST; }</script><script id=\"login-popup\" type=\"text/template\">&lt;!-- Login form function --&gt;&lt;div id=\"desktop-onboarding-browse\" class=\"c-step-sign-up\"&gt;&lt;div class=\"desktop-onboarding-step desktop-onboarding-step_sign-up\"&gt;&lt;div class=\"desktop-onboarding__col desktop-onboarding__col_sign-up_form\"&gt;&lt;div class=\"reddit-logo\"&gt;&lt;img width='200px' src=\"//www.redditstatic.com/logo.svg\" /&gt;&lt;/div&gt;&lt;h2 class=\"desktop-onboarding__title\"&gt;Sign up to get your own personalized Reddit experience!&lt;/h2&gt;&lt;p class=\"desktop-onboarding__description\"&gt;By having a Reddit account, you can subscribe, vote, and comment on all your favorite Reddit content. Sign up in just seconds.&lt;/p&gt;&lt;div class=\"desktop-onboarding-sign-up__form-container c-is-create\"&gt;&lt;div class=\"desktop-onboarding-sign-up__form desktop-onboarding-sign-up__form_create\"&gt;&lt;h3 class=\"desktop-onboarding-sign-up__form-title\"&gt;Create Account&lt;/h3&gt;&lt;form class=\"sign-up-form\" id=\"desktop-onboarding-sign-up-form\" autocomplete=\"off\"&gt;&lt;div class=\"c-form-group \"&gt;&lt;label for=\"email\" class=\"screenreader-only\"&gt;email:&lt;/label&gt;&lt;input name=\"email\" id=\"desktop-onboarding-email\" class=\"c-form-control\" type=\"text\" autofocus placeholder=\"email address\" data-validate-url=\"/api/check_email.json\" data-validate-on=\"keyup change blur\" /&gt;&lt;div class=\"c-form-control-feedback-wrapper \"&gt;&lt;span class=\"c-form-control-feedback c-form-control-feedback-throbber\"&gt;&lt;/span&gt;&lt;span class=\"c-form-control-feedback c-form-control-feedback-error\" title=\"\"&gt;&lt;/span&gt;&lt;span class=\"c-form-control-feedback c-form-control-feedback-success\"&gt;&lt;/span&gt;&lt;/div&gt;&lt;/div&gt;&lt;button type=\"submit\" class=\"c-btn c-btn-primary c-pull-righ next-button\"&gt;Next&lt;/button&gt;&lt;p class=\"desktop-onboarding-sign-up__form-note\"&gt;&lt;span&gt;Already have an account?&lt;/span&gt;&lt;a href=\".\" class=\"desktop-onboarding-sign-up__form-toggler\" data-form=\"login\"&gt;Log In&lt;/a&gt;&lt;a href=\"javascript: void 0;\" class=\"skip-for-now\"&gt;Skip for now&lt;/a&gt;&lt;/p&gt;&lt;/form&gt;&lt;/div&gt;&lt;div class=\"desktop-onboarding-sign-up__form desktop-onboarding-sign-up__form_login\"&gt;&lt;h3 class=\"desktop-onboarding-sign-up__form-title\"&gt;Log In&lt;/h3&gt;&lt;form id=\"login-form\" method=\"post\" action=\"https://www.reddit.com/post/login\" class=\"form-v2 onboarding-login\"&gt;&lt;input type=\"hidden\" name=\"op\" value=\"login\"&gt;&lt;div class=\"c-form-group \"&gt;&lt;label for=\"user_login\" class=\"screenreader-only\"&gt;username&lt;/label&gt;&lt;input value=\"\" name=\"user\" id=\"user_login\" autofocus class=\"c-form-control\" type=\"text\" maxlength=\"20\" tabindex=\"3\" placeholder=\"username\" &gt;&lt;div class=\"c-form-control-feedback-wrapper \"&gt;&lt;span class=\"c-form-control-feedback c-form-control-feedback-throbber\"&gt;&lt;/span&gt;&lt;span class=\"c-form-control-feedback c-form-control-feedback-error\" title=\"\"&gt;&lt;/span&gt;&lt;span class=\"c-form-control-feedback c-form-control-feedback-success\"&gt;&lt;/span&gt;&lt;/div&gt;&lt;/div&gt;&lt;div class=\"c-form-group \"&gt;&lt;label for=\"passwd_login\" class=\"screenreader-only\"&gt;password&lt;/label&gt;&lt;input id=\"passwd_login\" class=\"c-form-control\" name=\"passwd\" type=\"password\" tabindex=\"3\" placeholder=\"password\" &gt;&lt;div class=\"c-form-control-feedback-wrapper \"&gt;&lt;span class=\"c-form-control-feedback c-form-control-feedback-throbber\"&gt;&lt;/span&gt;&lt;span class=\"c-form-control-feedback c-form-control-feedback-error\" title=\"\"&gt;&lt;/span&gt;&lt;span class=\"c-form-control-feedback c-form-control-feedback-success\"&gt;&lt;/span&gt;&lt;/div&gt;&lt;/div&gt;&lt;div class=\"desktop-onboarding-sign-up__form-note\"&gt;&lt;span&gt;Don't have an account?&lt;/span&gt;&lt;a href=\".\" class=\"desktop-onboarding-sign-up__form-toggler\" data-form=\"create\"&gt;Sign up&lt;/a&gt;&amp;nbsp|&lt;a href=\"/password\"&gt;Reset password&lt;/a&gt;&lt;/div&gt;&lt;input type=\"hidden\" value=\"yes\" name=\"rem\"/&gt;&lt;div class=\"spacer\"&gt;&lt;div class=\"c-form-group g-recaptcha\" data-sitekey=\"6LeTnxkTAAAAAN9QEuDZRpn90WwKk_R1TRW_g-JC\"&gt;&lt;/div&gt;&lt;span class=\"error BAD_CAPTCHA field-captcha\" style=\"display:none\"&gt;&lt;/span&gt;&lt;/div&gt;&lt;div class=\"c-clearfix c-submit-group\"&gt;&lt;span class=\"c-form-throbber\"&gt;&lt;/span&gt;&lt;button type=\"submit\" class=\"c-btn c-btn-primary c-pull-right\" tabindex=\"3\"&gt;log in&lt;/button&gt;&lt;/div&gt;&lt;div&gt;&lt;div class=\"c-alert c-alert-danger\"&gt;&lt;/div&gt;&lt;span class=\"status\"&gt;&lt;/span&gt;&lt;/div&gt;&lt;/form&gt;&lt;/div&gt;&lt;/div&gt;&lt;footer&gt;By signing up, you agree to our&amp;#32;&lt;a href=\"https://www.reddit.com/help/useragreement/\" &gt;Terms&lt;/a&gt;&amp;#32;and that you have read our&amp;#32;&lt;a href=\"https://www.reddit.com/help/privacypolicy/\" &gt;Privacy Policy&lt;/a&gt;&amp;#32;and&amp;#32;&lt;a href=\"https://www.reddit.com/help/contentpolicy/\" &gt;Content Policy&lt;/a&gt;.&lt;/footer&gt;&lt;/div&gt;&lt;div class=\"desktop-onboarding__col desktop-onboarding__col_sign-up_image\"&gt;&lt;/div&gt;&lt;/div&gt;&lt;div class=\"desktop-onboarding-step desktop-onboarding-step_subreddit-picker\"&gt;&lt;div class=\"subreddit-picker-header\"&gt;&lt;h2 class=\"desktop-onboarding__title\"&gt;Find the good stuff&lt;/h2&gt;&lt;p class=\"desktop-onboarding__description\"&gt;Reddit is filled with interest based communities, offering something for everyone. Check out some communities and we recommend you subscribe to at least 5.&lt;/p&gt;&lt;/div&gt;&lt;div class=\"subreddit-picker\"&gt;&lt;ul class=\"subreddit-picker__categories\"&gt;&lt;/ul&gt;&lt;ul class=\"subreddit-picker__subreddits\"&gt;&lt;/ul&gt;&lt;div class=\"subreddit-picker__fail\"&gt;&lt;span&gt;Something went wrong.&lt;/span&gt;&lt;a href=\".\"&gt;Try Again?&lt;/a&gt;&lt;/div&gt;&lt;div class=\"subreddit-picker__category-fail\"&gt;&lt;span&gt;Something went wrong.&lt;/span&gt;&lt;a href=\".\"&gt;Try Again?&lt;/a&gt;&lt;/div&gt;&lt;/div&gt;&lt;footer&gt;&lt;div class=\"subreddit-picker-progress\"&gt;&lt;div class=\"subreddit-picker-progress__track\"&gt;&lt;div class=\"subreddit-picker-progress__bar\"&gt;&lt;/div&gt;&lt;/div&gt;&lt;span class=\"subreddit-picker-progress__num\"&gt;0&lt;/span&gt;&lt;span&gt;/&lt;/span&gt;&lt;span class=\"subreddit-picker-progress__denom\"&gt;5&lt;/span&gt;&lt;span&gt;&amp;nbsp;&lt;span class=\"subreddit-subscription-count\"&gt;recommended subscriptions&lt;/span&gt;&lt;/span&gt;&lt;/div&gt;&lt;span class=\"desktop-onboarding__step-number\"&gt;Step 2 of 3&lt;/span&gt;&lt;div class=\"desktop-onboarding__buttons\"&gt;&lt;button class=\"desktop-onboarding__back-button\"&gt;Back&lt;/button&gt;&lt;button class=\"desktop-onboarding__next-button\"&gt;Next&lt;/button&gt;&lt;/div&gt;&lt;/footer&gt;&lt;/div&gt;&lt;div class=\"desktop-onboarding-step desktop-onboarding-step_username\"&gt;&lt;div class=\"desktop-onboarding__col desktop-onboarding__col_username_form\"&gt;&lt;h2 class=\"desktop-onboarding__title\"&gt;Choose your username&lt;/h2&gt;&lt;p class=\"desktop-onboarding__description\"&gt;Your username is how other community members will see you. This name will be used to credit you for things you share on Reddit. What should we call you?&lt;/p&gt;&lt;div class=desktop-onboarding-username-form&gt;&lt;form id=\"register-form\" method=\"post\" action=\"https://www.reddit.com/post/reg\" autocomplete=\"off\" class=\"form-v2 onboarding-login\"&gt;&lt;input type=\"hidden\" name=\"op\" value=\"reg\"&gt;&lt;input type=\"hidden\" id=\"desktop-onboarding-register-email\" name=\"email\" value=\"\"&gt;&lt;input type=\"hidden\" id=\"desktop-onboarding-subreddits\" name=\"sr\" value=\"\"&gt;&lt;div class=\"c-form-group \"&gt;&lt;label class=\"desktop-onboarding-sign-up__form-title\" for=\"user_reg\"&gt;Choose username&lt;/label&gt;&lt;input value=\"\" name=\"user\" id=\"user_reg\" autofocus class=\"c-form-control\" type=\"text\" maxlength=\"20\" tabindex=\"2\" placeholder=\"username\" data-validate-url=\"/api/check_username.json\" data-validate-min=\"3\" autocomplete=\"new-username\" &gt;&lt;div class=\"c-form-control-feedback-wrapper \"&gt;&lt;span class=\"c-form-control-feedback c-form-control-feedback-throbber\"&gt;&lt;/span&gt;&lt;span class=\"c-form-control-feedback c-form-control-feedback-error\" title=\"\"&gt;&lt;/span&gt;&lt;span class=\"c-form-control-feedback c-form-control-feedback-success\"&gt;&lt;/span&gt;&lt;/div&gt;&lt;/div&gt;&lt;div class=\"c-form-group \"&gt;&lt;label for=\"passwd_reg\" class=\"desktop-onboarding-sign-up__form-title\"&gt;Set password&lt;/label&gt;&lt;input id=\"passwd_reg\" class=\"c-form-control\" name=\"passwd\" type=\"password\" tabindex=\"2\" placeholder=\"password\" data-validate-url='/api/check_password.json' autocomplete='new-password'&gt;&lt;div class=\"c-form-control-feedback-wrapper \"&gt;&lt;span class=\"c-form-control-feedback c-form-control-feedback-throbber\"&gt;&lt;/span&gt;&lt;span class=\"c-form-control-feedback c-form-control-feedback-error\" title=\"\"&gt;&lt;/span&gt;&lt;span class=\"c-form-control-feedback c-form-control-feedback-success\"&gt;&lt;/span&gt;&lt;/div&gt;&lt;/div&gt;&lt;input type=\"hidden\" name=\"passwd2\" id=\"passwd2_reg\" class=\"c-form-control\"&gt;&lt;input type=\"hidden\" value=\"yes\" name=\"rem\"/&gt;&lt;div class=\"spacer\"&gt;&lt;div class=\"c-form-group g-recaptcha\" data-sitekey=\"6LeTnxkTAAAAAN9QEuDZRpn90WwKk_R1TRW_g-JC\"&gt;&lt;/div&gt;&lt;span class=\"error BAD_CAPTCHA field-captcha\" style=\"display:none\"&gt;&lt;/span&gt;&lt;/div&gt;&lt;div&gt;&lt;div class=\"c-alert c-alert-danger\"&gt;&lt;/div&gt;&lt;span class=\"status\"&gt;&lt;/span&gt;&lt;span class=\"error RATELIMIT field-ratelimit\" style=\"display:none\"&gt;&lt;/span&gt;&lt;span class=\"error RATELIMIT field-vdelay\" style=\"display:none\"&gt;&lt;/span&gt;&lt;/div&gt;&lt;/form&gt;&lt;/div&gt;&lt;/div&gt;&lt;div class=\"desktop-onboarding__col desktop-onboarding__col_username_picker\"&gt;&lt;div class=\"username-generator\"&gt;&lt;p class=\"desktop-onboarding__description\"&gt;Having a hard time picking a name?&lt;br /&gt;Here are some available suggestions.&lt;/p&gt;&lt;div class=\"username-generator__suggestions\"&gt;&lt;/div&gt;&lt;a href=\"javascript: void 0;\" class=\"username-generator__refresh-button\"&gt;Refresh suggestions&lt;/a&gt;&lt;/div&gt;&lt;footer&gt;&lt;span class=\"desktop-onboarding__step-number\"&gt;Step 3 of 3&lt;/span&gt;&lt;div class=\"desktop-onboarding__buttons\"&gt;&lt;button class=\"desktop-onboarding__back-button\"&gt;Back&lt;/button&gt;&lt;button class=\"desktop-onboarding__next-button\"&gt;Submit&lt;/button&gt;&lt;/div&gt;&lt;/footer&gt;&lt;/div&gt;&lt;/div&gt;&lt;/div&gt;</script><script id=\"lang-popup\" type=\"text/template\">&lt;form action=\"https://www.reddit.com/post/unlogged_options\" method=\"post\" class=\"pretty-form short-text\"&gt;&lt;input type=\"hidden\" name=\"uh\" value=\"\" /&gt;&lt;table class=\"content preftable\"&gt;&lt;tr&gt;&lt;th&gt;interface language&lt;/th&gt;&lt;td class=\"prefright\"&gt;&lt;select id=\"lang\" name=\"lang\"&gt;&lt;option selected='selected' value=\"en\"&gt;English [en]&lt;/option&gt;&lt;option value=\"af\"&gt;Afrikaans [af] (*)&lt;/option&gt;&lt;option value=\"ar\"&gt;العربية [ar] (*)&lt;/option&gt;&lt;option value=\"be\"&gt;Беларуская мова [be] (*)&lt;/option&gt;&lt;option value=\"bg\"&gt;български език [bg]&lt;/option&gt;&lt;option value=\"bn-IN\"&gt;বাংলা [bn-IN] (*)&lt;/option&gt;&lt;option value=\"bn-bd\"&gt;বাংলা [bn-bd] (*)&lt;/option&gt;&lt;option value=\"bs\"&gt;Bosanski [bs] (*)&lt;/option&gt;&lt;option value=\"ca\"&gt;català [ca]&lt;/option&gt;&lt;option value=\"cs\"&gt;česky [cs]&lt;/option&gt;&lt;option value=\"cy\"&gt;Cymraeg [cy] (*)&lt;/option&gt;&lt;option value=\"da\"&gt;dansk [da]&lt;/option&gt;&lt;option value=\"de\"&gt;Deutsch [de]&lt;/option&gt;&lt;option value=\"el\"&gt;Ελληνικά [el]&lt;/option&gt;&lt;option value=\"en-au\"&gt;English (Australia) [en-au]&lt;/option&gt;&lt;option value=\"en-ca\"&gt;English (Canadian) [en-ca]&lt;/option&gt;&lt;option value=\"en-gb\"&gt;English (Great Britain) [en-gb]&lt;/option&gt;&lt;option value=\"en-us\"&gt;English [en-us]&lt;/option&gt;&lt;option value=\"eo\"&gt;Esperanto [eo] (*)&lt;/option&gt;&lt;option value=\"es\"&gt;español [es]&lt;/option&gt;&lt;option value=\"es-ar\"&gt;español [es-ar]&lt;/option&gt;&lt;option value=\"es-cl\"&gt;español [es-cl]&lt;/option&gt;&lt;option value=\"es-mx\"&gt;Español [es-mx]&lt;/option&gt;&lt;option value=\"et\"&gt;eesti keel [et] (*)&lt;/option&gt;&lt;option value=\"eu\"&gt;Euskara [eu]&lt;/option&gt;&lt;option value=\"fa\"&gt;فارسی [fa]&lt;/option&gt;&lt;option value=\"fi\"&gt;suomi [fi]&lt;/option&gt;&lt;option value=\"fil\"&gt;Filipino [fil] (*)&lt;/option&gt;&lt;option value=\"fr\"&gt;français [fr]&lt;/option&gt;&lt;option value=\"fr-ca\"&gt;Français [fr-ca]&lt;/option&gt;&lt;option value=\"fy-NL\"&gt;Frysk [fy-NL] (*)&lt;/option&gt;&lt;option value=\"ga-ie\"&gt;Gaeilge [ga-ie] (*)&lt;/option&gt;&lt;option value=\"gd\"&gt;Gàidhlig [gd]&lt;/option&gt;&lt;option value=\"gl\"&gt;Galego [gl] (*)&lt;/option&gt;&lt;option value=\"he\"&gt;עברית [he] (*)&lt;/option&gt;&lt;option value=\"hi\"&gt;मानक हिन्दी [hi] (*)&lt;/option&gt;&lt;option value=\"hr\"&gt;hrvatski [hr]&lt;/option&gt;&lt;option value=\"hu\"&gt;Magyar [hu]&lt;/option&gt;&lt;option value=\"hy\"&gt;Հայերեն լեզու [hy]&lt;/option&gt;&lt;option value=\"id\"&gt;Bahasa Indonesia [id] (*)&lt;/option&gt;&lt;option value=\"is\"&gt;íslenska [is]&lt;/option&gt;&lt;option value=\"it\"&gt;italiano (Italy) [it]&lt;/option&gt;&lt;option value=\"ja\"&gt;日本語 [ja]&lt;/option&gt;&lt;option value=\"kn_IN\"&gt;ಕನ್ನಡ [kn_IN]&lt;/option&gt;&lt;option value=\"ko\"&gt;한국어 [ko]&lt;/option&gt;&lt;option value=\"la\"&gt;Latin [la] (*)&lt;/option&gt;&lt;option value=\"leet\"&gt;1337 [leet]&lt;/option&gt;&lt;option value=\"lol\"&gt;LOL [lol]&lt;/option&gt;&lt;option value=\"lt\"&gt;lietuvių kalba [lt] (*)&lt;/option&gt;&lt;option value=\"lv\"&gt;latviešu valoda [lv]&lt;/option&gt;&lt;option value=\"ms\"&gt;Bahasa Melayu [ms] (*)&lt;/option&gt;&lt;option value=\"mt-MT\"&gt;Malti [mt-MT]&lt;/option&gt;&lt;option value=\"nl\"&gt;Nederlands [nl]&lt;/option&gt;&lt;option value=\"nn\"&gt;Nynorsk [nn]&lt;/option&gt;&lt;option value=\"no\"&gt;Norsk [no]&lt;/option&gt;&lt;option value=\"pir\"&gt;Arrrrrrrr! [pir] (*)&lt;/option&gt;&lt;option value=\"pl\"&gt;polski [pl]&lt;/option&gt;&lt;option value=\"pt\"&gt;português [pt] (*)&lt;/option&gt;&lt;option value=\"pt-pt\"&gt;português [pt-pt]&lt;/option&gt;&lt;option value=\"pt_BR\"&gt;português brasileiro [pt_BR]&lt;/option&gt;&lt;option value=\"ro\"&gt;română [ro]&lt;/option&gt;&lt;option value=\"ru\"&gt;русский [ru]&lt;/option&gt;&lt;option value=\"sk\"&gt;slovenčina [sk]&lt;/option&gt;&lt;option value=\"sl\"&gt;slovenščina [sl] (*)&lt;/option&gt;&lt;option value=\"sr\"&gt;српски језик [sr]&lt;/option&gt;&lt;option value=\"sr-la\"&gt;Srpski [sr-la]&lt;/option&gt;&lt;option value=\"sv\"&gt;Svenska [sv]&lt;/option&gt;&lt;option value=\"ta\"&gt;தமிழ் [ta]&lt;/option&gt;&lt;option value=\"th\"&gt;ภาษาไทย [th]&lt;/option&gt;&lt;option value=\"tr\"&gt;Türkçe [tr]&lt;/option&gt;&lt;option value=\"uk\"&gt;українська мова [uk]&lt;/option&gt;&lt;option value=\"vi\"&gt;Tiếng Việt [vi]&lt;/option&gt;&lt;option value=\"zh\"&gt;中文 [zh]&lt;/option&gt;&lt;option value=\"zh-cn\"&gt;简化字 [zh-cn]&lt;/option&gt;&lt;/select&gt;&amp;#32;&lt;span class=\"details hover\"&gt;(*) incomplete &amp;#32;&lt;a href=\"https://www.reddit.com/r/i18n/wiki/getting_started\"&gt;volunteer to translate&lt;/a&gt;&lt;/span&gt;&lt;/td&gt;&lt;/tr&gt;&lt;tr&gt;&lt;td&gt;&lt;input type=\"submit\" class=\"btn\" value=\"save options\"/&gt;&lt;/td&gt;&lt;/tr&gt;&lt;/table&gt;&lt;/form&gt;</script><img id=\"hsts_pixel\" src=\"//reddit.com/static/pixel.png\" /><p class=\"debuginfo\"><span class=\"icon\">π</span> <span class=\"content\">Rendered by PID 20161 on  app-292  at 2018-01-22 22:59:50.088435+00:00 running 3553c79 country code: US.</span></p><script type=\"text/javascript\" src=\"//www.redditstatic.com/reddit.en.yJ_lF1qeFJ8.js\"></script><script>var ethnioParam = window.localStorage.getItem('ethnio_param'); function onEthnioLoad() { window.localStorage.removeItem('ethnio_param'); }; if (ethnioParam) { var ethnioScript = document.createElement('script'); var url = 'https://ethn.io/45530.js?action=' + ethnioParam; ethnioScript.async = 'async'; ethnioScript.charset = 'utf-8'; ethnioScript.language = 'javascript'; ethnioScript.type = 'text/javascript'; ethnioScript.src = url; ethnioScript.onload = onEthnioLoad; document.getElementsByTagName('body')[0].appendChild(ethnioScript); }</script><script>(function() { var ads = window.__adslots = window.__adslots || []; window.googletag = window.googletag || {}; googletag.cmd = googletag.cmd || []; function indexGoogleTagSlots(googSlots) { return googSlots.reduce(function(o, slot) { var slotID = slot.getSlotElementId(); o[slotID] = slot; return o; }, {}); } var gads = document.createElement('script'); gads.async = true; gads.type = 'text/javascript'; var useSSL = 'https:' == document.location.protocol; gads.src = (useSSL ? 'https:' : 'http:') + '//www.googletagservices.com/tag/js/gpt.js'; var node = document.getElementsByTagName('script')[0]; node.parentNode.insertBefore(gads, node); googletag.cmd.push(function() { googletag.pubads().disableInitialLoad(); googletag.pubads().setSafeFrameConfig({ allowOverlayExpansion: false, allowPushExpansion: false, sandbox: !(r.utils.testAcceptableAds() &amp;&amp; /firefox/i.test(navigator.userAgent)), }); googletag.enableServices(); }); var percentage = 0.05; var usePrebid = window._usePrebid = Math.random()&lt;= percentage || /.*prebid=1.*/.test(location.search || ''); if (usePrebid) { /* prebid */ window.pbjs = window.pbjs || {}; pbjs.que = pbjs.que || []; pbjs.que.push(function() { pbjs.setConfig({ priceGranularity: { buckets: [{ min: 0, max: 3, increment: 0.01, }, { min: 3, max: 8, increment: 0.05, }, { min: 8, max: 20, increment: 0.5, }, { min: 20, max: 35, increment: 1, }], }, }); }); var pb = document.createElement('script'); pb.type = 'text/javascript'; pb.async = true; pb.src = \"//www.redditstatic.com/js/prebid.js\"; var s = document.getElementsByTagName('script')[0]; s.parentNode.insertBefore(pb, s); } else { /* amazon a9 ads */ !function(a9,a,p,s,t,A,g){if(a[a9])return;function q(c,r){a[a9]._Q.push([c,r])}a[a9]={init:function(){q('i',arguments)},fetchBids:function(){q('f',arguments)},_Q:[]};A=p.createElement(s);A.async=!0;A.src=t;g=p.getElementsByTagName(s)[0];g.parentNode.insertBefore(A,g)}('apstag',window,document,'script','//c.amazon-adsystem.com/aax2/apstag.js'); } r.hooks.get('reddit').register(function() { var category = \"\"; if (!usePrebid) { apstag.init({ pubID: r.utils.testAcceptableAds() ? '3570' : '3379', adServer: 'googletag', bidTimeout: 2e3, params: { position: 'sidebar', section: category, sis_sitesection: ['reddit.com', category].filter(function(x) { return x; }).join(':'), subreddit: r.config.post_site, }, }); } googletag.cmd.push(function() { var adSlots = googletag.pubads().getSlots(); var headerBidCallback = function() { var callbacks = _.pluck(ads, 'callback'); _.invoke(callbacks, 'call'); }; if (usePrebid) { var bidsBackHandler = function() { if (pbjs.adserverRequestSent) return; pbjs.adserverRequestSent = true; headerBidCallback(); }; pbjs.que.push(function() { pbjs.addAdUnits(ads.map(function(ad) { return { code: ad.slotID, sizes: ad.sizes, bids: [{ bidder: 'appnexus', params: { placementId: '11905719', }, }], }; })); pbjs.requestBids({ bidsBackHandler: bidsBackHandler, }); }); setTimeout(bidsBackHandler, 700); } else { apstag.fetchBids({ slots: _.map(ads, function(ad) { return _.pick(ad, ['slotID', 'sizes']); }), timeout: 2e3, }, function(bids) { googletag.cmd.push(function() { var slotsById = indexGoogleTagSlots(adSlots); bids.forEach(function(bid) { var slot = slotsById[bid.slotID]; if (slot) { apstag.targetingKeys().forEach(function(key) { slot.setTargeting(key, bid[key]) }); } }); }); headerBidCallback(); }); } }); }); })();</script><iframe src=\"//s.amazon-adsystem.com/iu3?cm3ppd=1&amp;d=dtb-pub&amp;csif=t&amp;dl=rbd_ox_pm_an\" style=\"display: none;\"></iframe><iframe id=\"google_osd_static_frame_8519253657305\" name=\"google_osd_static_frame\" style=\"display: none; width: 0px; height: 0px;\"></iframe></body></html>\n"
     ]
    }
   ],
   "source": [
    "print html"
   ]
  },
  {
   "cell_type": "code",
   "execution_count": 174,
   "metadata": {},
   "outputs": [],
   "source": [
    "# Using BeautifulSoup parser, why do we need lxml?\n",
    "\n",
    "soup = BeautifulSoup(html, 'lxml')"
   ]
  },
  {
   "cell_type": "code",
   "execution_count": 175,
   "metadata": {
    "collapsed": true
   },
   "outputs": [],
   "source": [
    "driver.close()"
   ]
  },
  {
   "cell_type": "code",
   "execution_count": 81,
   "metadata": {},
   "outputs": [
    {
     "data": {
      "text/plain": [
       "u\"TV's most-anticipated psychological thriller, The Alienist, is giving you an exclusive look before the premiere. Catch a sneak peek of what\\u2019s to come before the show premieres tonight on TNT.\""
      ]
     },
     "execution_count": 81,
     "metadata": {},
     "output_type": "execute_result"
    }
   ],
   "source": [
    "# List comprehension for reddit titles\n",
    "\n",
    "rtitle = [x.text for x in soup.find_all('a', {'data-event-action':'title'})]\n",
    "rtitle.pop(0)"
   ]
  },
  {
   "cell_type": "code",
   "execution_count": 82,
   "metadata": {
    "collapsed": true
   },
   "outputs": [],
   "source": [
    "# List comprehension for reddit titles\n",
    "\n",
    "rtitle = [x.text for x in soup.find_all('a', {'data-event-action':'title'})]\n",
    "rtitle.pop(0)\n",
    "\n",
    "# List comprehension for subreddits of reddit posts\n",
    "\n",
    "subreddit = [x.text for x in soup.find_all('a', {'class':'subreddit hover may-blank'})]\n",
    "\n",
    "# List comprehension for reddit post timestamps\n",
    "\n",
    "rtime = [x.text for x in soup.find_all('time', {'class':'live-timestamp'})]\n",
    "\n",
    "# List comprehension for reddit total comments of post\n",
    "\n",
    "comments = [x.text for x in soup.find_all('a', {'class':'bylink comments may-blank'})]"
   ]
  },
  {
   "cell_type": "code",
   "execution_count": 83,
   "metadata": {},
   "outputs": [],
   "source": [
    "# List comprehension for reddit post timestamps\n",
    "\n",
    "rtime = [x.text for x in soup.find_all('time', {'class':'live-timestamp'})]\n",
    "\n"
   ]
  },
  {
   "cell_type": "code",
   "execution_count": 84,
   "metadata": {
    "collapsed": true
   },
   "outputs": [],
   "source": [
    "# List comprehension for reddit total comments of post\n",
    "\n",
    "comments = [x.text for x in soup.find_all('a', {'class':'bylink comments may-blank'})]"
   ]
  },
  {
   "cell_type": "code",
   "execution_count": 16,
   "metadata": {},
   "outputs": [
    {
     "ename": "SyntaxError",
     "evalue": "invalid syntax (<ipython-input-16-c11b9ece0634>, line 1)",
     "output_type": "error",
     "traceback": [
      "\u001b[0;36m  File \u001b[0;32m\"<ipython-input-16-c11b9ece0634>\"\u001b[0;36m, line \u001b[0;32m1\u001b[0m\n\u001b[0;31m    span([@class='next-button']/a)\u001b[0m\n\u001b[0m          ^\u001b[0m\n\u001b[0;31mSyntaxError\u001b[0m\u001b[0;31m:\u001b[0m invalid syntax\n"
     ]
    }
   ],
   "source": [
    "# /span[@class='next-button']/a"
   ]
  },
  {
   "cell_type": "code",
   "execution_count": 47,
   "metadata": {},
   "outputs": [
    {
     "data": {
      "text/plain": [
       "u\"Hey Reddit, we've created a special space full of fun, weird and unique items that you probably didn't even know existed on Amazon! Shop our endless finds today!\""
      ]
     },
     "execution_count": 47,
     "metadata": {},
     "output_type": "execute_result"
    }
   ],
   "source": [
    "rtitle[0]"
   ]
  },
  {
   "cell_type": "code",
   "execution_count": 86,
   "metadata": {},
   "outputs": [
    {
     "data": {
      "text/plain": [
       "25"
      ]
     },
     "execution_count": 86,
     "metadata": {},
     "output_type": "execute_result"
    }
   ],
   "source": [
    "len(rtitle)"
   ]
  },
  {
   "cell_type": "code",
   "execution_count": 87,
   "metadata": {},
   "outputs": [
    {
     "data": {
      "text/plain": [
       "25"
      ]
     },
     "execution_count": 87,
     "metadata": {},
     "output_type": "execute_result"
    }
   ],
   "source": [
    "len(subreddit)"
   ]
  },
  {
   "cell_type": "code",
   "execution_count": 88,
   "metadata": {},
   "outputs": [
    {
     "data": {
      "text/plain": [
       "25"
      ]
     },
     "execution_count": 88,
     "metadata": {},
     "output_type": "execute_result"
    }
   ],
   "source": [
    "len(rtime)"
   ]
  },
  {
   "cell_type": "code",
   "execution_count": 89,
   "metadata": {},
   "outputs": [
    {
     "data": {
      "text/plain": [
       "25"
      ]
     },
     "execution_count": 89,
     "metadata": {},
     "output_type": "execute_result"
    }
   ],
   "source": [
    "len(comments)"
   ]
  },
  {
   "cell_type": "code",
   "execution_count": 90,
   "metadata": {},
   "outputs": [
    {
     "name": "stdout",
     "output_type": "stream",
     "text": [
      "Vermont has officially legalized cannabis\n",
      "___\n",
      "Twitch streamer suggests a game should have random scripted events to make the game more interesting, experiences a random scripted event.\n",
      "___\n",
      "I was wondering why my grenade didn't kill him...well here is why\n",
      "___\n",
      "NASA cancels and postpones all of their public events and activities until further notice due to government shutdown.\n",
      "___\n",
      "Finnish ski jumping team\n",
      "___\n",
      "Messing with the new guy.\n",
      "___\n",
      "Super excited about motherhood\n",
      "___\n",
      "This Pool in Germany\n",
      "___\n",
      "YEAH! Lets go outs... no.\n",
      "___\n",
      "New Bill Would Stop States From Banning Broadband Competition\n",
      "___\n",
      "Help identify this piece of bumper from a hit-and-run with a cyclist now in critical condition.\n",
      "___\n",
      "I made a [homemade] cake that looks like my dog. Needless to say, he was fascinated.\n",
      "___\n",
      "Guess you can't even start a casual conversation about being ill anymore\n",
      "___\n",
      "Germans make the best faces when confused\n",
      "___\n",
      "\"Creepy unexplained sightings found footage\" starter pack\n",
      "___\n",
      "U.S. Government Shutdown (2018)\n",
      "___\n",
      "Just picking up some supplies\n",
      "___\n",
      "No evidence to support link between violent video games and behaviour - Researchers at the University of York have found no evidence to support the theory that video games make players more violent.\n",
      "___\n",
      "When my wife and I come home from a date night high as fuck and discover our babysitter has also cleaned the entire house\n",
      "___\n",
      "Shit happens\n",
      "___\n",
      "Skating down this steep road with the boys... WCGW?\n",
      "___\n",
      "Metal giants Slayer are calling it quits after one more world tour\n",
      "___\n",
      "TIL Jason Segel (How I Met Your Mother, Forgetting Sarah Marshall, I Love You, Man, etc) wore a Superman cape underneath his clothing until he was 13, \"just in case there was trouble.\"\n",
      "___\n",
      "This Lego Sculpture's Shadow\n",
      "___\n",
      "Trump used accent to imitate India's prime minister Narendra Modi\n",
      "___\n"
     ]
    }
   ],
   "source": [
    "for x in rtitle:\n",
    "    print x\n",
    "    print '___'"
   ]
  },
  {
   "cell_type": "markdown",
   "metadata": {},
   "source": [
    "While this has some more verbose elements removed, we can see that there is some structure to the above:\n",
    "- The thread title is within an `<a>` tag with the attribute `data-event-action=\"title\"`.\n",
    "- The time since the thread was created is within a `<time>` tag with attribute `class=\"live-timestamp\"`.\n",
    "- The subreddit is within an `<a>` tag with the attribute `class=\"subreddit hover may-blank\"`.\n",
    "- The number of comments is within an `<a>` tag with the attribute data-event-action=\"comments\"`."
   ]
  },
  {
   "cell_type": "markdown",
   "metadata": {},
   "source": [
    "## Write 4 functions to extract these items (one function for each): title, time, subreddit, and number of comments.¶\n",
    "Example\n",
    "```python\n",
    "def extract_title_from_result(result):\n",
    "    return result.find ...\n",
    "```\n",
    "\n",
    "##### - Make sure these functions are robust and can handle cases where the data/field may not be available.\n",
    ">- Remember to check if a field is empty or None for attempting to call methods on it\n",
    ">- Remember to use try/except if you anticipate errors.\n",
    "\n",
    "- **Test** the functions on the results above and simple examples"
   ]
  },
  {
   "cell_type": "code",
   "execution_count": null,
   "metadata": {
    "collapsed": true
   },
   "outputs": [],
   "source": [
    "## YOUR CODE HERE"
   ]
  },
  {
   "cell_type": "code",
   "execution_count": 51,
   "metadata": {
    "collapsed": true
   },
   "outputs": [],
   "source": [
    "def extract_title_from_result(result):\n",
    "    rtitle = [x.text for x in result.find_all('a', {'data-event-action':'title'})]\n",
    "    rtitle.pop(0)\n",
    "    return rtitle"
   ]
  },
  {
   "cell_type": "code",
   "execution_count": 52,
   "metadata": {
    "collapsed": true
   },
   "outputs": [],
   "source": [
    "def extract_subreddit_from_result(result):\n",
    "    subreddit = [x.text for x in result.find_all('a', {'class':'subreddit hover may-blank'})]\n",
    "    return subreddit"
   ]
  },
  {
   "cell_type": "code",
   "execution_count": 53,
   "metadata": {
    "collapsed": true
   },
   "outputs": [],
   "source": [
    "def extract_time_from_result(result):\n",
    "    rtime = [x.text for x in result.find_all('time', {'class':'live-timestamp'})]\n",
    "    return rtime\n"
   ]
  },
  {
   "cell_type": "code",
   "execution_count": 54,
   "metadata": {
    "collapsed": true
   },
   "outputs": [],
   "source": [
    "def extract_ncomments_from_result(result):\n",
    "    comments = [x.text for x in result.find_all('a', {'class':'bylink comments may-blank'})]\n",
    "    return comments"
   ]
  },
  {
   "cell_type": "markdown",
   "metadata": {
    "focus": true,
    "id": "7203e0c9-e437-4802-a6ad-7dc464f94436"
   },
   "source": [
    "Now, to scale up our scraping, we need to accumulate more results.\n",
    "\n",
    "First, look at the source of a Reddit.com page: (https://www.reddit.com/).\n",
    "Try manually changing the page by clicking the 'next' button on the bottom. Look at how the url changes.\n",
    "\n",
    "After leaving the Reddit homepage, the URLs should look something like this:\n",
    "```\n",
    "https://www.reddit.com/?count=25&after=t3_787ptc\n",
    "```\n",
    "\n",
    "The URL here has two query parameters\n",
    "- count is the result number that the page starts with\n",
    "- after is the unique id of the last result on the _previous_ page\n",
    "\n",
    "In order to scrape lots of pages from Reddit, we'll have to change these parameters every time we make a new request so that we're not just scraping the same page over and over again. Incrementing the count by 25 every time will be easy, but the bizarre code after `after` is a bit trickier."
   ]
  },
  {
   "cell_type": "markdown",
   "metadata": {},
   "source": [
    "To start off, let's look at a block of HTML from a Reddit page to see how we might solve this problem:\n",
    "```html\n",
    "<div class=\" thing id-t3_788tye odd gilded link \" data-author=\"LordSneaux\" data-author-fullname=\"t2_j3pty\" data-comments-count=\"1548\" data-context=\"listing\" data-domain=\"v.redd.it\" data-fullname=\"t3_788tye\" data-kind=\"video\" data-num-crossposts=\"0\" data-permalink=\"/r/funny/comments/788tye/not_all_heroes_wear_capes/\" data-rank=\"25\" data-score=\"51468\" data-subreddit=\"funny\" data-subreddit-fullname=\"t5_2qh33\" data-timestamp=\"1508775581000\" data-type=\"link\" data-url=\"https://v.redd.it/ush0rh2tultz\" data-whitelist-status=\"all_ads\" id=\"thing_t3_788tye\" onclick=\"click_thing(this)\">\n",
    "      <p class=\"parent\">\n",
    "      </p>\n",
    "      <span class=\"rank\">\n",
    "       25\n",
    "      </span>\n",
    "      <div class=\"midcol unvoted\">\n",
    "       <div aria-label=\"upvote\" class=\"arrow up login-required access-required\" data-event-action=\"upvote\" role=\"button\" tabindex=\"0\">\n",
    "       </div>\n",
    "       <div class=\"score dislikes\" title=\"53288\">\n",
    "        53.3k\n",
    "       </div>\n",
    "       <div class=\"score unvoted\" title=\"53289\">\n",
    "        53.3k\n",
    "       </div>\n",
    "       <div class=\"score likes\" title=\"53290\">\n",
    "        53.3k\n",
    "       </div>\n",
    "       <div aria-label=\"downvote\" class=\"arrow down login-required access-required\" data-event-action=\"downvote\" role=\"button\" tabindex=\"0\">\n",
    "       </div>\n",
    "      </div>\n",
    "```\n",
    "\n",
    "Notice that within the `div` tag there is an attribute called `id` and it is set to `\"thing_t3_788tye\"`. By finding the last ID on your scraped page, you can tell your _next_ request where to start (pass everything after \"thing_\").\n",
    "\n",
    "For more info on this, you can take a look at the [Reddit API docs](https://github.com/reddit/reddit/wiki/JSON)"
   ]
  },
  {
   "cell_type": "markdown",
   "metadata": {},
   "source": [
    "## Write one more function that finds the last `id` on the page, and stores it."
   ]
  },
  {
   "cell_type": "code",
   "execution_count": 57,
   "metadata": {},
   "outputs": [
    {
     "data": {
      "text/plain": [
       "[]"
      ]
     },
     "execution_count": 57,
     "metadata": {},
     "output_type": "execute_result"
    }
   ],
   "source": [
    "## YOUR CODE HERE\n",
    "[x.text for x in html.find_all('a', {'class':'next '})]"
   ]
  },
  {
   "cell_type": "code",
   "execution_count": 164,
   "metadata": {},
   "outputs": [
    {
     "ename": "TypeError",
     "evalue": "list indices must be integers, not str",
     "output_type": "error",
     "traceback": [
      "\u001b[0;31m---------------------------------------------------------------------------\u001b[0m",
      "\u001b[0;31mTypeError\u001b[0m                                 Traceback (most recent call last)",
      "\u001b[0;32m<ipython-input-164-93bc9d9c7cc5>\u001b[0m in \u001b[0;36m<module>\u001b[0;34m()\u001b[0m\n\u001b[0;32m----> 1\u001b[0;31m \u001b[0msoup\u001b[0m\u001b[0;34m.\u001b[0m\u001b[0mfind_all\u001b[0m\u001b[0;34m(\u001b[0m\u001b[0;34m'div'\u001b[0m\u001b[0;34m,\u001b[0m \u001b[0;34m{\u001b[0m\u001b[0;34m'class'\u001b[0m\u001b[0;34m:\u001b[0m \u001b[0;34m'thing'\u001b[0m\u001b[0;34m}\u001b[0m\u001b[0;34m)\u001b[0m\u001b[0;34m[\u001b[0m\u001b[0;34m'data-fullname'\u001b[0m\u001b[0;34m]\u001b[0m\u001b[0;34m\u001b[0m\u001b[0m\n\u001b[0m",
      "\u001b[0;31mTypeError\u001b[0m: list indices must be integers, not str"
     ]
    }
   ],
   "source": [
    "soup.find_all('div', {'class': 'thing'})['data-fullname']"
   ]
  },
  {
   "cell_type": "code",
   "execution_count": 95,
   "metadata": {},
   "outputs": [
    {
     "data": {
      "text/plain": [
       "<span class=\"next-button\"><a href=\"https://www.reddit.com/?count=25&amp;after=t3_7s6k5t\" rel=\"nofollow next\">next \\u203a</a></span>"
      ]
     },
     "execution_count": 95,
     "metadata": {},
     "output_type": "execute_result"
    }
   ],
   "source": [
    "soup.find_all('span', {'class':'next-button'})[0]"
   ]
  },
  {
   "cell_type": "code",
   "execution_count": 66,
   "metadata": {
    "collapsed": true
   },
   "outputs": [],
   "source": [
    "import re"
   ]
  },
  {
   "cell_type": "code",
   "execution_count": 110,
   "metadata": {
    "collapsed": true
   },
   "outputs": [],
   "source": [
    "def getlastid(my_soup):\n",
    "    return my_soup.find(id=re.compile(\"thing\"))['id'][6:]"
   ]
  },
  {
   "cell_type": "code",
   "execution_count": 111,
   "metadata": {},
   "outputs": [
    {
     "data": {
      "text/plain": [
       "'t3_7rd2ya'"
      ]
     },
     "execution_count": 111,
     "metadata": {},
     "output_type": "execute_result"
    }
   ],
   "source": [
    "getlastid(soup)"
   ]
  },
  {
   "cell_type": "code",
   "execution_count": 156,
   "metadata": {
    "collapsed": true
   },
   "outputs": [],
   "source": [
    "def last_id(result):\n",
    "    ids=[]\n",
    "    data = result.findAll('div', {'class': 'thing'})\n",
    "    for el in data:\n",
    "        ids.append(el['data-fullname'])\n",
    "    return ids[-1]"
   ]
  },
  {
   "cell_type": "code",
   "execution_count": 183,
   "metadata": {},
   "outputs": [],
   "source": [
    "ids=[]\n",
    "for x in soup.findAll('div', {'class': 'thing'}):\n",
    "    ids.append(x['data-fullname'])"
   ]
  },
  {
   "cell_type": "code",
   "execution_count": 185,
   "metadata": {},
   "outputs": [
    {
     "data": {
      "text/plain": [
       "'t3_7s67zn'"
      ]
     },
     "execution_count": 185,
     "metadata": {},
     "output_type": "execute_result"
    }
   ],
   "source": [
    "ids[-1]"
   ]
  },
  {
   "cell_type": "code",
   "execution_count": null,
   "metadata": {
    "collapsed": true
   },
   "outputs": [],
   "source": []
  },
  {
   "cell_type": "code",
   "execution_count": 157,
   "metadata": {},
   "outputs": [
    {
     "data": {
      "text/plain": [
       "'t3_7s6k5t'"
      ]
     },
     "execution_count": 157,
     "metadata": {},
     "output_type": "execute_result"
    }
   ],
   "source": [
    "last_id(soup)"
   ]
  },
  {
   "cell_type": "markdown",
   "metadata": {},
   "source": [
    "## (Optional) Collect more information\n",
    "\n",
    "While we only require you to collect four features, there may be other info that you can find on the results page that might be useful. Feel free to write more functions so that you have more interesting and useful data."
   ]
  },
  {
   "cell_type": "code",
   "execution_count": null,
   "metadata": {
    "collapsed": true
   },
   "outputs": [],
   "source": [
    "def upvotes(result):\n",
    "    upvotes = [x.text for x in soup.find_all('div', {'class':'score unvoted'})]"
   ]
  },
  {
   "cell_type": "markdown",
   "metadata": {},
   "source": [
    "## Now, let's put it all together.\n",
    "\n",
    "Use the functions you wrote above to parse out the 4 fields - title, time, subreddit, and number of comments. Create a dataframe from the results with those 4 columns."
   ]
  },
  {
   "cell_type": "code",
   "execution_count": 423,
   "metadata": {
    "collapsed": true
   },
   "outputs": [],
   "source": [
    "from bs4 import BeautifulSoup\n",
    "from selenium import webdriver\n",
    "from time import sleep\n",
    "\n",
    "# The code loops over 3 pages of reddit and grabs only titles. Doesn't implement try/except so no error \n",
    "# handling built in. Also grabs sponsored titles, which should be excluded. Just proof of concept to show how\n",
    "# to jump over pages.\n",
    "\n",
    "#just testing how it works on three pages. You can try more!\n",
    "pages = range(1,4)\n",
    "titles = []\n",
    "# starting url \n",
    "url = 'https://www.reddit.com/'    \n",
    "\n",
    "\n",
    "for page in pages: \n",
    "    # Instantiate a new driver every loop\n",
    "    driver = webdriver.Chrome(executable_path=\"./chromedriver\")\n",
    "    driver.get(url)\n",
    "    html = driver.page_source\n",
    "    # Put the page HTML in a soup object\n",
    "    soup = BeautifulSoup(html, 'lxml')\n",
    "    # Loop below grabs the titles on each page and appends them to titles, above. \n",
    "    for element in soup.find_all('p', {'class':'title'}):\n",
    "        titles.append(element.a.text)\n",
    "    # overwrite the url with the url that the \"Next\" link points to.\n",
    "    url = soup.find('span', {'class':'next-button'}).a['href']\n",
    "    # Close out the driver\n",
    "    driver.close()\n",
    "    # Sleeping \n",
    "    sleep(2)"
   ]
  },
  {
   "cell_type": "code",
   "execution_count": null,
   "metadata": {
    "collapsed": true
   },
   "outputs": [],
   "source": []
  },
  {
   "cell_type": "code",
   "execution_count": 303,
   "metadata": {},
   "outputs": [],
   "source": [
    "def reddit_scraper(website):\n",
    "    \n",
    "    driver = webdriver.Chrome(executable_path=\"./chromedriver\")\n",
    "    driver.get(website)\n",
    "    \n",
    "    time.sleep(1)\n",
    "    \n",
    "    html = driver.page_source\n",
    "    soup = BeautifulSoup(html, 'lxml')\n",
    "        \n",
    "    titles = [x. text for x in soup.find_all('a', {'data-event-action':'title'})]\n",
    "    titles.pop(0)    \n",
    "    \n",
    "    upvotes = [x.text for x in soup.find_all('div', {'class':'score unvoted'})]\n",
    "    upvotes.pop(0)\n",
    "    \n",
    "    subreddit = [x.text for x in soup.find_all('a', {'class':'subreddit hover may-blank'})]\n",
    "    \n",
    "    rtime = [x.text for x in soup.find_all('time', {'class':'live-timestamp'})]\n",
    "    \n",
    "    comments = [x.text for x in soup.find_all('a', {'class':'bylink comments may-blank'})]\n",
    "    \n",
    "    dataframe = pd.DataFrame(\n",
    "    {'titles': titles,\n",
    "     'upvotes': upvotes,\n",
    "     'subreddit': subreddit,\n",
    "     'time_stamp': rtime,\n",
    "     'num_comments': comments\n",
    "    })\n",
    "    \n",
    "    ids=[]\n",
    "        \n",
    "    for x in soup.findAll('div', {'class': 'thing'}):\n",
    "        ids.append(x['data-fullname'])\n",
    "            \n",
    "    max_results = 20001\n",
    "    \n",
    "    for i in range(25, max_results, 25):\n",
    "        \n",
    "        url_template = \"http://www.reddit.com/?count={}&after={}\".format(i, ids[-1])\n",
    "        driver.get(url_template)\n",
    "        \n",
    "        time.sleep(1)\n",
    "        \n",
    "        html = driver.page_source\n",
    "        soup = BeautifulSoup(html, 'lxml')\n",
    "        \n",
    "        # Additional titles added onto titles varaible \n",
    "        \n",
    "        titles_2 = []\n",
    "        \n",
    "        for x in soup.find_all('a', {'data-event-action':'title'}):\n",
    "            titles_2.append(x.text)\n",
    "            \n",
    "        titles_2.pop(0)\n",
    "        titles += titles_2\n",
    "        \n",
    "        # Additional upvote numbers added onto upvote varaible \n",
    "        \n",
    "        upvotes_2 = []\n",
    "        \n",
    "        for x in soup.find_all('div', {'class':'score unvoted'}):\n",
    "            upvotes_2.append(x.text)\n",
    "            \n",
    "        upvotes_2.pop(0)\n",
    "        upvotes += upvotes_2\n",
    "        \n",
    "        # Additional subreddit groups added onto subreddit varaible \n",
    "        \n",
    "        subreddit_2 = []\n",
    "        \n",
    "        for x in soup.find_all('a', {'class':'subreddit hover may-blank'}):\n",
    "            subreddit_2.append(x.text)\n",
    "    \n",
    "        subreddit += subreddit_2\n",
    "        \n",
    "        # Additional time stamps added onto rtime varaible \n",
    "        \n",
    "        rtime_2 = []\n",
    "        \n",
    "        for x in soup.find_all('time', {'class':'live-timestamp'}):\n",
    "            rtime_2.append(x.text)\n",
    "    \n",
    "        rtime += rtime_2\n",
    "                                     \n",
    "        # Additional comment numbers added onto comments varaible \n",
    "        \n",
    "        comments_2 = []\n",
    "        \n",
    "        for x in soup.find_all('a', {'class':'bylink comments may-blank'}):\n",
    "            comments_2.append(x.text)\n",
    "        \n",
    "        comments += comments_2                             \n",
    "          \n",
    "    \n",
    "        # Adding additional ids to id's variable allowing us to see the next page id\n",
    "        \n",
    "        for x in soup.findAll('div', {'class': 'thing'}):\n",
    "            ids.append(x['data-fullname'])\n",
    "    \n",
    "        try:\n",
    "            dataframe_1 = pd.DataFrame({'titles': titles_2,\n",
    "                                  'upvotes': upvotes_2,\n",
    "                                  'subreddit': subreddit_2,\n",
    "                                  'time_stamp': rtime_2,\n",
    "                                  'num_comments': comments_2\n",
    "                                 })\n",
    "            dataframe = pd.concat([dataframe, dataframe_1])\n",
    "            \n",
    "        except:\n",
    "            pass       \n",
    "               \n",
    "        time.sleep(1)\n",
    "    \n",
    "    dataframe.reset_index(inplace = True)\n",
    "    driver.close()\n",
    "    return dataframe"
   ]
  },
  {
   "cell_type": "code",
   "execution_count": 304,
   "metadata": {
    "collapsed": true
   },
   "outputs": [],
   "source": [
    "# hashed out to prevent rerunning\n",
    "# reddit_info = reddit_scraper('http://www.reddit.com')"
   ]
  },
  {
   "cell_type": "code",
   "execution_count": 305,
   "metadata": {},
   "outputs": [
    {
     "data": {
      "text/plain": [
       "Index([u'index', u'num_comments', u'subreddit', u'time_stamp', u'titles',\n",
       "       u'upvotes'],\n",
       "      dtype='object')"
      ]
     },
     "execution_count": 305,
     "metadata": {},
     "output_type": "execute_result"
    }
   ],
   "source": [
    "reddit_info.columns"
   ]
  },
  {
   "cell_type": "code",
   "execution_count": 308,
   "metadata": {},
   "outputs": [],
   "source": [
    "reddit_info = reddit_info.drop('index', axis = 1)"
   ]
  },
  {
   "cell_type": "code",
   "execution_count": 385,
   "metadata": {},
   "outputs": [],
   "source": [
    "reddit_info.titles.drop_duplicates(inplace = True)"
   ]
  },
  {
   "cell_type": "code",
   "execution_count": 390,
   "metadata": {},
   "outputs": [
    {
     "data": {
      "text/plain": [
       "0        False\n",
       "1        False\n",
       "2        False\n",
       "3        False\n",
       "4        False\n",
       "5        False\n",
       "6        False\n",
       "7        False\n",
       "8        False\n",
       "9        False\n",
       "10       False\n",
       "11       False\n",
       "12       False\n",
       "13       False\n",
       "14       False\n",
       "15       False\n",
       "16       False\n",
       "17       False\n",
       "18       False\n",
       "19       False\n",
       "20       False\n",
       "21       False\n",
       "22       False\n",
       "23       False\n",
       "24       False\n",
       "25       False\n",
       "26       False\n",
       "27       False\n",
       "28       False\n",
       "29       False\n",
       "         ...  \n",
       "6444     False\n",
       "7087     False\n",
       "7518     False\n",
       "7984     False\n",
       "7985     False\n",
       "9741     False\n",
       "10161    False\n",
       "11046    False\n",
       "11051    False\n",
       "11060    False\n",
       "11430    False\n",
       "11713    False\n",
       "11912    False\n",
       "12849    False\n",
       "12851    False\n",
       "13703    False\n",
       "13730    False\n",
       "13731    False\n",
       "14131    False\n",
       "14150    False\n",
       "15397    False\n",
       "16309    False\n",
       "16327    False\n",
       "16755    False\n",
       "17181    False\n",
       "17184    False\n",
       "17534    False\n",
       "17589    False\n",
       "17607    False\n",
       "17627    False\n",
       "Name: titles, Length: 516, dtype: bool"
      ]
     },
     "execution_count": 390,
     "metadata": {},
     "output_type": "execute_result"
    }
   ],
   "source": [
    "reddit_info.titles.duplicated()"
   ]
  },
  {
   "cell_type": "code",
   "execution_count": 388,
   "metadata": {},
   "outputs": [
    {
     "data": {
      "text/plain": [
       "(17885, 5)"
      ]
     },
     "execution_count": 388,
     "metadata": {},
     "output_type": "execute_result"
    }
   ],
   "source": [
    "reddit_info.shape"
   ]
  },
  {
   "cell_type": "markdown",
   "metadata": {
    "focus": false,
    "id": "43e71edd-210e-42b1-9336-70a931f048af"
   },
   "source": [
    "### Save your results as a CSV\n",
    "You may do this regularly while scraping data as well, so that if your scraper stops of your computer crashes, you don't lose all your data."
   ]
  },
  {
   "cell_type": "code",
   "execution_count": null,
   "metadata": {
    "collapsed": true,
    "focus": false,
    "id": "783fd153-28ac-47ab-bfca-27e7c1de95b4"
   },
   "outputs": [],
   "source": [
    "# Export to csv\n",
    "reddit_info.to_csv('reddit_data_2.csv', encoding = 'utf-8', index = False)"
   ]
  },
  {
   "cell_type": "markdown",
   "metadata": {
    "focus": false,
    "id": "04563b69-f7b6-466f-9d65-fc62c9ddee6a"
   },
   "source": [
    "## Predicting comments using Random Forests + Another Classifier"
   ]
  },
  {
   "cell_type": "markdown",
   "metadata": {
    "focus": false,
    "id": "243e949e-2742-40af-872e-fec475fd306c"
   },
   "source": [
    "#### Load in the the data of scraped results"
   ]
  },
  {
   "cell_type": "code",
   "execution_count": 410,
   "metadata": {
    "collapsed": true
   },
   "outputs": [],
   "source": [
    "df = pd.read_csv('./reddit_data_2.csv')"
   ]
  },
  {
   "cell_type": "code",
   "execution_count": 425,
   "metadata": {
    "collapsed": true
   },
   "outputs": [],
   "source": [
    "df_2 = pd.read_csv('./scraping_results.csv')"
   ]
  },
  {
   "cell_type": "code",
   "execution_count": 411,
   "metadata": {
    "scrolled": true
   },
   "outputs": [
    {
     "data": {
      "text/plain": [
       "(17885, 5)"
      ]
     },
     "execution_count": 411,
     "metadata": {},
     "output_type": "execute_result"
    }
   ],
   "source": [
    "df.shape"
   ]
  },
  {
   "cell_type": "code",
   "execution_count": 430,
   "metadata": {},
   "outputs": [
    {
     "data": {
      "text/html": [
       "<div>\n",
       "<style>\n",
       "    .dataframe thead tr:only-child th {\n",
       "        text-align: right;\n",
       "    }\n",
       "\n",
       "    .dataframe thead th {\n",
       "        text-align: left;\n",
       "    }\n",
       "\n",
       "    .dataframe tbody tr th {\n",
       "        vertical-align: top;\n",
       "    }\n",
       "</style>\n",
       "<table border=\"1\" class=\"dataframe\">\n",
       "  <thead>\n",
       "    <tr style=\"text-align: right;\">\n",
       "      <th></th>\n",
       "      <th>Unnamed: 0</th>\n",
       "      <th>created_at</th>\n",
       "      <th>id</th>\n",
       "      <th>num_comments</th>\n",
       "      <th>subreddit</th>\n",
       "      <th>time_delta</th>\n",
       "      <th>time_now</th>\n",
       "      <th>title</th>\n",
       "      <th>upvotes</th>\n",
       "    </tr>\n",
       "  </thead>\n",
       "  <tbody>\n",
       "    <tr>\n",
       "      <th>0</th>\n",
       "      <td>0</td>\n",
       "      <td>2018-01-22 16:36:35</td>\n",
       "      <td>470616764</td>\n",
       "      <td>1153</td>\n",
       "      <td>gifs</td>\n",
       "      <td>0 days 04:24:57.883078000</td>\n",
       "      <td>2018-01-22 21:01:32.883070</td>\n",
       "      <td>Finnish ski jumping team</td>\n",
       "      <td>86005</td>\n",
       "    </tr>\n",
       "    <tr>\n",
       "      <th>1</th>\n",
       "      <td>1</td>\n",
       "      <td>2018-01-22 16:37:28</td>\n",
       "      <td>470617063</td>\n",
       "      <td>238</td>\n",
       "      <td>pics</td>\n",
       "      <td>0 days 04:24:04.883093000</td>\n",
       "      <td>2018-01-22 21:01:32.883092</td>\n",
       "      <td>Super excited about motherhood</td>\n",
       "      <td>20336</td>\n",
       "    </tr>\n",
       "    <tr>\n",
       "      <th>2</th>\n",
       "      <td>2</td>\n",
       "      <td>2018-01-22 16:50:12</td>\n",
       "      <td>470621440</td>\n",
       "      <td>844</td>\n",
       "      <td>funny</td>\n",
       "      <td>0 days 04:11:20.883101000</td>\n",
       "      <td>2018-01-22 21:01:32.883100</td>\n",
       "      <td>Messing with the new guy.</td>\n",
       "      <td>17611</td>\n",
       "    </tr>\n",
       "    <tr>\n",
       "      <th>3</th>\n",
       "      <td>3</td>\n",
       "      <td>2018-01-22 17:25:20</td>\n",
       "      <td>470633617</td>\n",
       "      <td>380</td>\n",
       "      <td>space</td>\n",
       "      <td>0 days 03:36:12.883109000</td>\n",
       "      <td>2018-01-22 21:01:32.883108</td>\n",
       "      <td>NASA cancels and postpones all of their public...</td>\n",
       "      <td>11178</td>\n",
       "    </tr>\n",
       "    <tr>\n",
       "      <th>4</th>\n",
       "      <td>4</td>\n",
       "      <td>2018-01-22 15:41:56</td>\n",
       "      <td>470598246</td>\n",
       "      <td>430</td>\n",
       "      <td>technology</td>\n",
       "      <td>0 days 05:19:36.883120000</td>\n",
       "      <td>2018-01-22 21:01:32.883118</td>\n",
       "      <td>New Bill Would Stop States From Banning Broadb...</td>\n",
       "      <td>13467</td>\n",
       "    </tr>\n",
       "  </tbody>\n",
       "</table>\n",
       "</div>"
      ],
      "text/plain": [
       "   Unnamed: 0           created_at         id  num_comments   subreddit  \\\n",
       "0           0  2018-01-22 16:36:35  470616764          1153        gifs   \n",
       "1           1  2018-01-22 16:37:28  470617063           238        pics   \n",
       "2           2  2018-01-22 16:50:12  470621440           844       funny   \n",
       "3           3  2018-01-22 17:25:20  470633617           380       space   \n",
       "4           4  2018-01-22 15:41:56  470598246           430  technology   \n",
       "\n",
       "                  time_delta                    time_now  \\\n",
       "0  0 days 04:24:57.883078000  2018-01-22 21:01:32.883070   \n",
       "1  0 days 04:24:04.883093000  2018-01-22 21:01:32.883092   \n",
       "2  0 days 04:11:20.883101000  2018-01-22 21:01:32.883100   \n",
       "3  0 days 03:36:12.883109000  2018-01-22 21:01:32.883108   \n",
       "4  0 days 05:19:36.883120000  2018-01-22 21:01:32.883118   \n",
       "\n",
       "                                               title  upvotes  \n",
       "0                           Finnish ski jumping team    86005  \n",
       "1                     Super excited about motherhood    20336  \n",
       "2                          Messing with the new guy.    17611  \n",
       "3  NASA cancels and postpones all of their public...    11178  \n",
       "4  New Bill Would Stop States From Banning Broadb...    13467  "
      ]
     },
     "execution_count": 430,
     "metadata": {},
     "output_type": "execute_result"
    }
   ],
   "source": [
    "df_2.head()"
   ]
  },
  {
   "cell_type": "code",
   "execution_count": 432,
   "metadata": {},
   "outputs": [],
   "source": [
    "df_2.drop_duplicates('title', inplace = True)"
   ]
  },
  {
   "cell_type": "code",
   "execution_count": null,
   "metadata": {
    "collapsed": true
   },
   "outputs": [],
   "source": [
    "index_list = []\n",
    "for x,y in zip(df_2.index, df_2.title):\n",
    "    if y not in index_list:\n",
    "        "
   ]
  },
  {
   "cell_type": "code",
   "execution_count": 433,
   "metadata": {},
   "outputs": [
    {
     "data": {
      "text/plain": [
       "(17885,)"
      ]
     },
     "execution_count": 433,
     "metadata": {},
     "output_type": "execute_result"
    }
   ],
   "source": [
    "df.titles.shape"
   ]
  },
  {
   "cell_type": "code",
   "execution_count": 434,
   "metadata": {},
   "outputs": [
    {
     "data": {
      "text/plain": [
       "(5405, 9)"
      ]
     },
     "execution_count": 434,
     "metadata": {},
     "output_type": "execute_result"
    }
   ],
   "source": [
    "df_2.shape"
   ]
  },
  {
   "cell_type": "code",
   "execution_count": 427,
   "metadata": {},
   "outputs": [
    {
     "data": {
      "text/plain": [
       "5405"
      ]
     },
     "execution_count": 427,
     "metadata": {},
     "output_type": "execute_result"
    }
   ],
   "source": [
    "len(set(df_2.title))"
   ]
  },
  {
   "cell_type": "code",
   "execution_count": 417,
   "metadata": {
    "collapsed": true
   },
   "outputs": [],
   "source": [
    "unique_titles = []\n",
    "for title in df.titles:\n",
    "    if title not in unique_titles:\n",
    "        unique_titles.append(title)\n",
    "    else:\n",
    "        pass"
   ]
  },
  {
   "cell_type": "code",
   "execution_count": 418,
   "metadata": {},
   "outputs": [
    {
     "data": {
      "text/plain": [
       "516"
      ]
     },
     "execution_count": 418,
     "metadata": {},
     "output_type": "execute_result"
    }
   ],
   "source": [
    "len(unique_titles)"
   ]
  },
  {
   "cell_type": "code",
   "execution_count": 426,
   "metadata": {},
   "outputs": [
    {
     "ename": "AttributeError",
     "evalue": "'DataFrame' object has no attribute 'titles'",
     "output_type": "error",
     "traceback": [
      "\u001b[0;31m---------------------------------------------------------------------------\u001b[0m",
      "\u001b[0;31mAttributeError\u001b[0m                            Traceback (most recent call last)",
      "\u001b[0;32m<ipython-input-426-c22ce12cab5d>\u001b[0m in \u001b[0;36m<module>\u001b[0;34m()\u001b[0m\n\u001b[1;32m      1\u001b[0m \u001b[0;32mfrom\u001b[0m \u001b[0mcollections\u001b[0m \u001b[0;32mimport\u001b[0m \u001b[0mCounter\u001b[0m\u001b[0;34m\u001b[0m\u001b[0m\n\u001b[0;32m----> 2\u001b[0;31m \u001b[0mCounter\u001b[0m\u001b[0;34m(\u001b[0m\u001b[0mdf_2\u001b[0m\u001b[0;34m.\u001b[0m\u001b[0mtitles\u001b[0m\u001b[0;34m)\u001b[0m\u001b[0;34m\u001b[0m\u001b[0m\n\u001b[0m",
      "\u001b[0;32m/Users/jack/anaconda2/lib/python2.7/site-packages/pandas/core/generic.pyc\u001b[0m in \u001b[0;36m__getattr__\u001b[0;34m(self, name)\u001b[0m\n\u001b[1;32m   3079\u001b[0m             \u001b[0;32mif\u001b[0m \u001b[0mname\u001b[0m \u001b[0;32min\u001b[0m \u001b[0mself\u001b[0m\u001b[0;34m.\u001b[0m\u001b[0m_info_axis\u001b[0m\u001b[0;34m:\u001b[0m\u001b[0;34m\u001b[0m\u001b[0m\n\u001b[1;32m   3080\u001b[0m                 \u001b[0;32mreturn\u001b[0m \u001b[0mself\u001b[0m\u001b[0;34m[\u001b[0m\u001b[0mname\u001b[0m\u001b[0;34m]\u001b[0m\u001b[0;34m\u001b[0m\u001b[0m\n\u001b[0;32m-> 3081\u001b[0;31m             \u001b[0;32mreturn\u001b[0m \u001b[0mobject\u001b[0m\u001b[0;34m.\u001b[0m\u001b[0m__getattribute__\u001b[0m\u001b[0;34m(\u001b[0m\u001b[0mself\u001b[0m\u001b[0;34m,\u001b[0m \u001b[0mname\u001b[0m\u001b[0;34m)\u001b[0m\u001b[0;34m\u001b[0m\u001b[0m\n\u001b[0m\u001b[1;32m   3082\u001b[0m \u001b[0;34m\u001b[0m\u001b[0m\n\u001b[1;32m   3083\u001b[0m     \u001b[0;32mdef\u001b[0m \u001b[0m__setattr__\u001b[0m\u001b[0;34m(\u001b[0m\u001b[0mself\u001b[0m\u001b[0;34m,\u001b[0m \u001b[0mname\u001b[0m\u001b[0;34m,\u001b[0m \u001b[0mvalue\u001b[0m\u001b[0;34m)\u001b[0m\u001b[0;34m:\u001b[0m\u001b[0;34m\u001b[0m\u001b[0m\n",
      "\u001b[0;31mAttributeError\u001b[0m: 'DataFrame' object has no attribute 'titles'"
     ]
    }
   ],
   "source": [
    "from collections import Counter\n",
    "Counter(df_2.titles)"
   ]
  },
  {
   "cell_type": "code",
   "execution_count": 336,
   "metadata": {
    "collapsed": true
   },
   "outputs": [],
   "source": [
    "# removed string word comments\n",
    "df.num_comments = df.num_comments.apply(lambda x: x.replace(' comments', ''))"
   ]
  },
  {
   "cell_type": "code",
   "execution_count": 337,
   "metadata": {
    "collapsed": true
   },
   "outputs": [],
   "source": [
    "# removed string word comment\n",
    "df.num_comments = df.num_comments.apply(lambda x: x.replace(' comment', ''))"
   ]
  },
  {
   "cell_type": "code",
   "execution_count": 339,
   "metadata": {
    "focus": false,
    "id": "588f9845-6143-4bcc-bfd1-85d45b79303d"
   },
   "outputs": [],
   "source": [
    "# convert column into int type \n",
    "df.num_comments = df.num_comments.astype(int)"
   ]
  },
  {
   "cell_type": "code",
   "execution_count": 341,
   "metadata": {},
   "outputs": [
    {
     "data": {
      "text/plain": [
       "num_comments     int64\n",
       "subreddit       object\n",
       "time_stamp      object\n",
       "titles          object\n",
       "upvotes         object\n",
       "dtype: object"
      ]
     },
     "execution_count": 341,
     "metadata": {},
     "output_type": "execute_result"
    }
   ],
   "source": [
    "df.dtypes"
   ]
  },
  {
   "cell_type": "code",
   "execution_count": 344,
   "metadata": {},
   "outputs": [
    {
     "data": {
      "text/plain": [
       "74.0"
      ]
     },
     "execution_count": 344,
     "metadata": {},
     "output_type": "execute_result"
    }
   ],
   "source": [
    "df.num_comments.median()"
   ]
  },
  {
   "cell_type": "code",
   "execution_count": 346,
   "metadata": {},
   "outputs": [
    {
     "data": {
      "text/plain": [
       "32452"
      ]
     },
     "execution_count": 346,
     "metadata": {},
     "output_type": "execute_result"
    }
   ],
   "source": [
    "df.num_comments.max()"
   ]
  },
  {
   "cell_type": "code",
   "execution_count": 347,
   "metadata": {},
   "outputs": [
    {
     "data": {
      "text/plain": [
       "1"
      ]
     },
     "execution_count": 347,
     "metadata": {},
     "output_type": "execute_result"
    }
   ],
   "source": [
    "df.num_comments.min()"
   ]
  },
  {
   "cell_type": "code",
   "execution_count": 349,
   "metadata": {},
   "outputs": [],
   "source": [
    "# 74 comments or less is encoded as 0, 75 comments or higher is encoded as 1\n",
    "df.num_comments= df.num_comments.apply(lambda x:0 if x <= 74 else 1)"
   ]
  },
  {
   "cell_type": "code",
   "execution_count": 350,
   "metadata": {
    "collapsed": true
   },
   "outputs": [],
   "source": [
    "X = df.drop('num_comments', axis = 1)"
   ]
  },
  {
   "cell_type": "code",
   "execution_count": 351,
   "metadata": {
    "collapsed": true
   },
   "outputs": [],
   "source": [
    "y = df.num_comments"
   ]
  },
  {
   "cell_type": "code",
   "execution_count": null,
   "metadata": {
    "collapsed": true
   },
   "outputs": [],
   "source": []
  },
  {
   "cell_type": "code",
   "execution_count": null,
   "metadata": {
    "collapsed": true
   },
   "outputs": [],
   "source": []
  },
  {
   "cell_type": "code",
   "execution_count": null,
   "metadata": {
    "collapsed": true
   },
   "outputs": [],
   "source": []
  },
  {
   "cell_type": "markdown",
   "metadata": {
    "focus": false,
    "id": "c7631f51-07f2-4c79-a093-3e9bc7849a48"
   },
   "source": [
    "#### We want to predict a binary variable - whether the number of comments was low or high. Compute the median number of comments and create a new binary variable that is true when the number of comments is high (above the median)\n",
    "\n",
    "We could also perform Linear Regression (or any regression) to predict the number of comments here. Instead, we are going to convert this into a _binary_ classification problem, by predicting two classes, HIGH vs LOW number of comments.\n",
    "\n",
    "While performing regression may be better, performing classification may help remove some of the noise of the extremely popular threads. We don't _have_ to choose the `median` as the splitting point - we could also split on the 75th percentile or any other reasonable breaking point.\n",
    "\n",
    "In fact, the ideal scenario may be to predict many levels of comment numbers. "
   ]
  },
  {
   "cell_type": "markdown",
   "metadata": {
    "focus": false,
    "id": "a7afb2c0-d41e-4779-8216-91cd8dd4473f"
   },
   "source": [
    "#### What is the baseline accuracy for this model?"
   ]
  },
  {
   "cell_type": "code",
   "execution_count": 355,
   "metadata": {
    "focus": false,
    "id": "87a17d3d-b7f4-4747-9f75-f9af1d18a174"
   },
   "outputs": [
    {
     "data": {
      "text/plain": [
       "0    8970\n",
       "1    8915\n",
       "Name: num_comments, dtype: int64"
      ]
     },
     "execution_count": 355,
     "metadata": {},
     "output_type": "execute_result"
    }
   ],
   "source": [
    "y.value_counts()"
   ]
  },
  {
   "cell_type": "code",
   "execution_count": 436,
   "metadata": {},
   "outputs": [
    {
     "data": {
      "text/plain": [
       "0.50153760134190661"
      ]
     },
     "execution_count": 436,
     "metadata": {},
     "output_type": "execute_result"
    }
   ],
   "source": [
    "y.value_counts().values[0]/float(len(y))"
   ]
  },
  {
   "cell_type": "markdown",
   "metadata": {
    "focus": false,
    "id": "4fb29de2-5b98-474c-a4ad-5170b72b9aea"
   },
   "source": [
    "#### Create a Random Forest model to predict High/Low number of comments using Sklearn. Start by ONLY using the subreddit as a feature. "
   ]
  },
  {
   "cell_type": "code",
   "execution_count": 358,
   "metadata": {
    "focus": false,
    "id": "ddbc6159-6854-4ca7-857f-bfecdaf6d9c2"
   },
   "outputs": [],
   "source": [
    "## YOUR CODE HERE\n",
    "Xs = pd.get_dummies(df.subreddit, drop_first = True)"
   ]
  },
  {
   "cell_type": "code",
   "execution_count": 359,
   "metadata": {
    "collapsed": true
   },
   "outputs": [],
   "source": [
    "from sklearn.ensemble import RandomForestClassifier\n",
    "from sklearn.model_selection import cross_val_score, StratifiedKFold"
   ]
  },
  {
   "cell_type": "code",
   "execution_count": 360,
   "metadata": {
    "collapsed": true
   },
   "outputs": [],
   "source": [
    "cv = StratifiedKFold(n_splits = 10, random_state = 100)"
   ]
  },
  {
   "cell_type": "code",
   "execution_count": 361,
   "metadata": {
    "collapsed": true
   },
   "outputs": [],
   "source": [
    "rf = RandomForestClassifier(class_weight='balanced', n_jobs=-1, n_estimators=50)"
   ]
  },
  {
   "cell_type": "code",
   "execution_count": 363,
   "metadata": {},
   "outputs": [
    {
     "name": "stderr",
     "output_type": "stream",
     "text": [
      "[Parallel(n_jobs=1)]: Done  10 out of  10 | elapsed:   16.4s finished\n"
     ]
    }
   ],
   "source": [
    "score = cross_val_score(rf, Xs, y, cv = cv, verbose = 1)"
   ]
  },
  {
   "cell_type": "code",
   "execution_count": 373,
   "metadata": {},
   "outputs": [
    {
     "name": "stdout",
     "output_type": "stream",
     "text": [
      "Mean 0.892313579256 STD +/- 0.00934743485959\n"
     ]
    }
   ],
   "source": [
    "print 'Mean {} STD +/- {}'.format(np.mean(score),np.std(score))"
   ]
  },
  {
   "cell_type": "markdown",
   "metadata": {
    "focus": false,
    "id": "0ef04f32-419c-4bf2-baf7-48201f03df89"
   },
   "source": [
    "#### Create a few new variables in your dataframe to represent interesting features of a thread title.\n",
    "- For example, create a feature that represents whether 'cat' is in the title or whether 'funny' is in the title. \n",
    "- Then build a new Random Forest with these features. Do they add any value?\n",
    "- After creating these variables, use count-vectorizer to create features based on the words in the thread titles.\n",
    "- Build a new random forest model with subreddit and these new features included."
   ]
  },
  {
   "cell_type": "code",
   "execution_count": null,
   "metadata": {
    "collapsed": true
   },
   "outputs": [],
   "source": [
    "## YOUR CODE HERE"
   ]
  },
  {
   "cell_type": "markdown",
   "metadata": {},
   "source": [
    "#### Repeat the model-building process with a non-tree-based method."
   ]
  },
  {
   "cell_type": "code",
   "execution_count": 406,
   "metadata": {
    "collapsed": true
   },
   "outputs": [],
   "source": [
    "from sklearn.linear_model import LogisticRegression "
   ]
  },
  {
   "cell_type": "code",
   "execution_count": null,
   "metadata": {
    "collapsed": true
   },
   "outputs": [],
   "source": [
    "lr = LogisticRegression()"
   ]
  },
  {
   "cell_type": "code",
   "execution_count": null,
   "metadata": {
    "collapsed": true
   },
   "outputs": [],
   "source": [
    "## YOUR CODE HERE\n",
    "cross_val_score()"
   ]
  },
  {
   "cell_type": "markdown",
   "metadata": {
    "focus": false,
    "id": "db045898-1d2d-4af2-8e79-437c4c7546b4"
   },
   "source": [
    "#### Use Count Vectorizer from scikit-learn to create features from the thread titles. \n",
    "- Examine using count or binary features in the model\n",
    "- Re-evaluate your models using these. Does this improve the model performance? \n",
    "- What text features are the most valuable? "
   ]
  },
  {
   "cell_type": "code",
   "execution_count": 403,
   "metadata": {
    "collapsed": true
   },
   "outputs": [],
   "source": [
    "from sklearn.feature_extraction.text import CountVectorizer"
   ]
  },
  {
   "cell_type": "code",
   "execution_count": 404,
   "metadata": {
    "collapsed": true
   },
   "outputs": [],
   "source": [
    "cvec = CountVectorizer(ngram_range = (1,2), lowercase = True, stop_words = 'english', max_features = 5000)"
   ]
  },
  {
   "cell_type": "code",
   "execution_count": 437,
   "metadata": {},
   "outputs": [
    {
     "ename": "AttributeError",
     "evalue": "'Series' object has no attribute 'title'",
     "output_type": "error",
     "traceback": [
      "\u001b[0;31m---------------------------------------------------------------------------\u001b[0m",
      "\u001b[0;31mAttributeError\u001b[0m                            Traceback (most recent call last)",
      "\u001b[0;32m<ipython-input-437-b998e2334385>\u001b[0m in \u001b[0;36m<module>\u001b[0;34m()\u001b[0m\n\u001b[0;32m----> 1\u001b[0;31m \u001b[0mX_train_dtm\u001b[0m \u001b[0;34m=\u001b[0m \u001b[0mpd\u001b[0m\u001b[0;34m.\u001b[0m\u001b[0mDataFrame\u001b[0m\u001b[0;34m(\u001b[0m\u001b[0mcvec\u001b[0m\u001b[0;34m.\u001b[0m\u001b[0mfit_transform\u001b[0m\u001b[0;34m(\u001b[0m\u001b[0mX_train\u001b[0m\u001b[0;34m.\u001b[0m\u001b[0mtitle\u001b[0m\u001b[0;34m)\u001b[0m\u001b[0;34m.\u001b[0m\u001b[0mtodense\u001b[0m\u001b[0;34m(\u001b[0m\u001b[0;34m)\u001b[0m\u001b[0;34m,\u001b[0m \u001b[0mcolumns\u001b[0m\u001b[0;34m=\u001b[0m\u001b[0mcvec\u001b[0m\u001b[0;34m.\u001b[0m\u001b[0mget_feature_names\u001b[0m\u001b[0;34m(\u001b[0m\u001b[0;34m)\u001b[0m\u001b[0;34m)\u001b[0m\u001b[0;34m\u001b[0m\u001b[0m\n\u001b[0m",
      "\u001b[0;32m/Users/jack/anaconda2/lib/python2.7/site-packages/pandas/core/generic.pyc\u001b[0m in \u001b[0;36m__getattr__\u001b[0;34m(self, name)\u001b[0m\n\u001b[1;32m   3079\u001b[0m             \u001b[0;32mif\u001b[0m \u001b[0mname\u001b[0m \u001b[0;32min\u001b[0m \u001b[0mself\u001b[0m\u001b[0;34m.\u001b[0m\u001b[0m_info_axis\u001b[0m\u001b[0;34m:\u001b[0m\u001b[0;34m\u001b[0m\u001b[0m\n\u001b[1;32m   3080\u001b[0m                 \u001b[0;32mreturn\u001b[0m \u001b[0mself\u001b[0m\u001b[0;34m[\u001b[0m\u001b[0mname\u001b[0m\u001b[0;34m]\u001b[0m\u001b[0;34m\u001b[0m\u001b[0m\n\u001b[0;32m-> 3081\u001b[0;31m             \u001b[0;32mreturn\u001b[0m \u001b[0mobject\u001b[0m\u001b[0;34m.\u001b[0m\u001b[0m__getattribute__\u001b[0m\u001b[0;34m(\u001b[0m\u001b[0mself\u001b[0m\u001b[0;34m,\u001b[0m \u001b[0mname\u001b[0m\u001b[0;34m)\u001b[0m\u001b[0;34m\u001b[0m\u001b[0m\n\u001b[0m\u001b[1;32m   3082\u001b[0m \u001b[0;34m\u001b[0m\u001b[0m\n\u001b[1;32m   3083\u001b[0m     \u001b[0;32mdef\u001b[0m \u001b[0m__setattr__\u001b[0m\u001b[0;34m(\u001b[0m\u001b[0mself\u001b[0m\u001b[0;34m,\u001b[0m \u001b[0mname\u001b[0m\u001b[0;34m,\u001b[0m \u001b[0mvalue\u001b[0m\u001b[0;34m)\u001b[0m\u001b[0;34m:\u001b[0m\u001b[0;34m\u001b[0m\u001b[0m\n",
      "\u001b[0;31mAttributeError\u001b[0m: 'Series' object has no attribute 'title'"
     ]
    }
   ],
   "source": [
    "X_train_dtm = pd.DataFrame(cvec.fit_transform(X_train.title).todense(), columns=cvec.get_feature_names())"
   ]
  },
  {
   "cell_type": "code",
   "execution_count": 422,
   "metadata": {
    "scrolled": true
   },
   "outputs": [
    {
     "data": {
      "text/plain": [
       "[(u'new', 664),\n",
       " (u'people', 505),\n",
       " (u'just', 421),\n",
       " (u'like', 388),\n",
       " (u'got', 380),\n",
       " (u'old', 375),\n",
       " (u'time', 372),\n",
       " (u'oc', 290),\n",
       " (u'world', 285),\n",
       " (u'000', 275),\n",
       " (u'upvote', 274),\n",
       " (u'left', 264),\n",
       " (u'post', 252),\n",
       " (u'console', 240),\n",
       " (u'don', 236),\n",
       " (u'old console', 235),\n",
       " (u'yes', 229),\n",
       " (u'bank', 210),\n",
       " (u'burn', 205),\n",
       " (u'years', 203)]"
      ]
     },
     "execution_count": 422,
     "metadata": {},
     "output_type": "execute_result"
    }
   ],
   "source": [
    "summaries = \"\".join(df.titles)\n",
    "ngrams_summaries = cvec.build_analyzer()(summaries)\n",
    "\n",
    "Counter(ngrams_summaries).most_common(20)"
   ]
  },
  {
   "cell_type": "code",
   "execution_count": 408,
   "metadata": {
    "collapsed": true
   },
   "outputs": [],
   "source": [
    "from sklearn.model_selection import train_test_split"
   ]
  },
  {
   "cell_type": "code",
   "execution_count": 407,
   "metadata": {
    "collapsed": true
   },
   "outputs": [],
   "source": [
    "from sklearn.naive_bayes import MultinomialNB"
   ]
  },
  {
   "cell_type": "code",
   "execution_count": 409,
   "metadata": {
    "collapsed": true
   },
   "outputs": [],
   "source": [
    "X_train, X_test, y_train, y_test = train_test_split(X.titles, y, test_size=0.33, random_state=100)"
   ]
  },
  {
   "cell_type": "code",
   "execution_count": null,
   "metadata": {
    "collapsed": true
   },
   "outputs": [],
   "source": [
    "X_train"
   ]
  },
  {
   "cell_type": "code",
   "execution_count": null,
   "metadata": {
    "collapsed": true
   },
   "outputs": [],
   "source": [
    "mnnb = MultinomialNB()\n",
    "mnnb.fit(X_train_dtm, y_train)"
   ]
  },
  {
   "cell_type": "code",
   "execution_count": null,
   "metadata": {
    "collapsed": true
   },
   "outputs": [],
   "source": []
  },
  {
   "cell_type": "code",
   "execution_count": null,
   "metadata": {
    "collapsed": true
   },
   "outputs": [],
   "source": []
  },
  {
   "cell_type": "code",
   "execution_count": null,
   "metadata": {
    "collapsed": true
   },
   "outputs": [],
   "source": [
    "\n",
    "## YOUR CODE HERE"
   ]
  },
  {
   "cell_type": "markdown",
   "metadata": {},
   "source": [
    "# Executive Summary\n",
    "---\n",
    "Put your executive summary in a Markdown cell below."
   ]
  },
  {
   "cell_type": "markdown",
   "metadata": {},
   "source": []
  },
  {
   "cell_type": "markdown",
   "metadata": {
    "focus": false,
    "id": "3be94357-e551-4094-b784-2df039216d33"
   },
   "source": [
    "### BONUS\n",
    "Refer to the README for the bonus parts"
   ]
  },
  {
   "cell_type": "code",
   "execution_count": null,
   "metadata": {
    "collapsed": true,
    "focus": false,
    "id": "4239e458-28bd-4675-8db3-c1d9c02b9854"
   },
   "outputs": [],
   "source": [
    "## YOUR CODE HERE"
   ]
  }
 ],
 "metadata": {
  "anaconda-cloud": {},
  "kernelspec": {
   "display_name": "Python 2",
   "language": "python",
   "name": "python2"
  },
  "language_info": {
   "codemirror_mode": {
    "name": "ipython",
    "version": 2
   },
   "file_extension": ".py",
   "mimetype": "text/x-python",
   "name": "python",
   "nbconvert_exporter": "python",
   "pygments_lexer": "ipython2",
   "version": "2.7.14"
  },
  "varInspector": {
   "cols": {
    "lenName": 16,
    "lenType": 16,
    "lenVar": 40
   },
   "kernels_config": {
    "python": {
     "delete_cmd_postfix": "",
     "delete_cmd_prefix": "del ",
     "library": "var_list.py",
     "varRefreshCmd": "print(var_dic_list())"
    },
    "r": {
     "delete_cmd_postfix": ") ",
     "delete_cmd_prefix": "rm(",
     "library": "var_list.r",
     "varRefreshCmd": "cat(var_dic_list()) "
    }
   },
   "types_to_exclude": [
    "module",
    "function",
    "builtin_function_or_method",
    "instance",
    "_Feature"
   ],
   "window_display": false
  }
 },
 "nbformat": 4,
 "nbformat_minor": 1
}
